{
  "nbformat": 4,
  "nbformat_minor": 0,
  "metadata": {
    "colab": {
      "provenance": []
    },
    "kernelspec": {
      "name": "python3",
      "display_name": "Python 3"
    },
    "language_info": {
      "name": "python"
    }
  },
  "cells": [
    {
      "cell_type": "markdown",
      "source": [
        "# 1. ユーザー定義関数"
      ],
      "metadata": {
        "id": "9nw60xkOfVBJ"
      }
    },
    {
      "cell_type": "markdown",
      "source": [
        "Pythonにもともと用意されている関数としていくつかの組み込み関数を紹介したが、プログラマ自身が関数を作成することできる。\n",
        "\n",
        "そのような関数のことユーザー定義関数や自作関数と呼ぶ。\n",
        "\n",
        "また、単に関数と言う場合はこちらを指すことが多い。"
      ],
      "metadata": {
        "id": "7jNsVVnzhKH1"
      }
    },
    {
      "cell_type": "markdown",
      "source": [
        "## 1-1.基本的な関数の作成"
      ],
      "metadata": {
        "id": "ZLlJuRjGhRL2"
      }
    },
    {
      "cell_type": "markdown",
      "source": [
        "関数を作る際は、def文を用いて下記のように記述する。"
      ],
      "metadata": {
        "id": "h1Qn8nOVhZyg"
      }
    },
    {
      "cell_type": "markdown",
      "source": [
        "![image.png](data:image/png;base64,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)"
      ],
      "metadata": {
        "id": "xeq8FIdThimG"
      }
    },
    {
      "cell_type": "markdown",
      "source": [
        "関数作成時の引数のこと仮引数と呼び、関数実行時の引数のことを実引数と呼ぶ。\n",
        "\n",
        "作成した関数は、組み込み関数を使用する時と同じように使用できる。\n",
        "\n",
        "下記に関数の作成と実行の例を示す。"
      ],
      "metadata": {
        "id": "dDa8oXn4hmoW"
      }
    },
    {
      "cell_type": "code",
      "source": [
        "# 2つの値の和を返す関数\n",
        "def add(x, y):\n",
        "  z = x + y\n",
        "  return z\n",
        "\n",
        "a = add(10, 5)\n",
        "b = add(3, 8)\n",
        "c = add(100, 123)\n",
        "\n",
        "print(a)\n",
        "print(b)\n",
        "print(c)"
      ],
      "metadata": {
        "colab": {
          "base_uri": "https://localhost:8080/"
        },
        "id": "UHzR7yOqhJZ1",
        "outputId": "402065a0-e251-4ff6-cf89-2148228403d8"
      },
      "execution_count": null,
      "outputs": [
        {
          "output_type": "stream",
          "name": "stdout",
          "text": [
            "15\n",
            "11\n",
            "223\n"
          ]
        }
      ]
    },
    {
      "cell_type": "markdown",
      "source": [
        "なお、返却値のないreturnの記述やreturn自体を記述しないことも可能。\n",
        "\n",
        "returnが実行されない場合はブロックを抜けると終了する。"
      ],
      "metadata": {
        "id": "LniK1hgQiFjI"
      }
    },
    {
      "cell_type": "code",
      "source": [
        "def test(x):\n",
        "  if x > 0:\n",
        "    return \"x is plus\"\n",
        "  elif x < 0:\n",
        "    return \"x is minus\"\n",
        "  return #省略しても同じ\n",
        "\n",
        "print(test(5))\n",
        "print(test(-5))\n",
        "print(test(0))"
      ],
      "metadata": {
        "colab": {
          "base_uri": "https://localhost:8080/"
        },
        "id": "33z7euTBh_GH",
        "outputId": "2a03b7c6-274b-4fe4-e6b6-8e6563b81de9"
      },
      "execution_count": null,
      "outputs": [
        {
          "output_type": "stream",
          "name": "stdout",
          "text": [
            "x is plus\n",
            "x is minus\n",
            "None\n"
          ]
        }
      ]
    },
    {
      "cell_type": "markdown",
      "source": [
        "( None は値が存在しないことを意味する特別な値。)"
      ],
      "metadata": {
        "id": "h6H_-rh0iW3E"
      }
    },
    {
      "cell_type": "markdown",
      "source": [
        "特定の処理を関数化することによって、コードの再利用性が高まる。"
      ],
      "metadata": {
        "id": "AOrHBFL-iYZe"
      }
    },
    {
      "cell_type": "code",
      "source": [
        "def add(a, b):\n",
        "  return a + b\n",
        "\n",
        "def add3(a, b, c):\n",
        "  return add(a, b) + c\n",
        "\n",
        "def add4(a, b, c, d):\n",
        "  return add(a, b) + add(c, d)\n",
        "\n",
        "x = add4(10, 5, 15, 20)\n",
        "print(x)"
      ],
      "metadata": {
        "colab": {
          "base_uri": "https://localhost:8080/"
        },
        "id": "nOaMwMMuiXqs",
        "outputId": "6df21988-189c-4424-e16a-1f836e51a86d"
      },
      "execution_count": null,
      "outputs": [
        {
          "output_type": "stream",
          "name": "stdout",
          "text": [
            "50\n"
          ]
        }
      ]
    },
    {
      "cell_type": "markdown",
      "source": [
        "## 1-2. デフォルト引数"
      ],
      "metadata": {
        "id": "tOfug0WVikE9"
      }
    },
    {
      "cell_type": "markdown",
      "source": [
        "引数にはデフォルト値を持たせることが可能。\n",
        "\n",
        "下記に例を示す。"
      ],
      "metadata": {
        "id": "28Eh2qFkinut"
      }
    },
    {
      "cell_type": "code",
      "source": [
        "def mult(x = 2, y = 3):\n",
        "  z = x * y\n",
        "  return z\n",
        "\n",
        "a = mult(3, 4)\n",
        "b = mult()\n",
        "c = mult(5) # xに5が渡される\n",
        "d = mult(y = 5) #yに5が渡される\n",
        "\n",
        "print(a)\n",
        "print(b)\n",
        "print(c)\n",
        "print(d)"
      ],
      "metadata": {
        "colab": {
          "base_uri": "https://localhost:8080/"
        },
        "id": "FMZSbxXFimzC",
        "outputId": "62cbfbf8-049c-45a5-eab9-f708c170a452"
      },
      "execution_count": null,
      "outputs": [
        {
          "output_type": "stream",
          "name": "stdout",
          "text": [
            "12\n",
            "6\n",
            "15\n",
            "10\n"
          ]
        }
      ]
    },
    {
      "cell_type": "markdown",
      "source": [
        "7行目にあるように、引数は左から渡される。\n",
        "\n",
        "デフォルト値を持つ引数をスキップして他の引数に値を渡したい場合は8行目のように仮引数名を指定して渡す。"
      ],
      "metadata": {
        "id": "ObDQS6PYi3qb"
      }
    },
    {
      "cell_type": "markdown",
      "source": [
        "## 1-3. 変数のスコープ"
      ],
      "metadata": {
        "id": "R13v2FYoi8na"
      }
    },
    {
      "cell_type": "markdown",
      "source": [
        "関数内で利用されている変数はその関数内でのみ有効。\n",
        "\n",
        "関数外で利用されている変数も関数内で利用することはできないが、global文によって関数外の変数を利用できる。\n",
        "\n",
        "ただし、globalが多いとプログラムの見通しが悪くなることが多い。"
      ],
      "metadata": {
        "id": "cWKXMixtjGRj"
      }
    },
    {
      "cell_type": "code",
      "source": [
        "x = 100\n",
        "def func1():\n",
        "  x = 50\n",
        "  return x\n",
        "def func2():\n",
        "  global x\n",
        "  x = 150\n",
        "\n",
        "print(func1())\n",
        "print(x)\n",
        "\n",
        "func2()\n",
        "print(x)"
      ],
      "metadata": {
        "colab": {
          "base_uri": "https://localhost:8080/"
        },
        "id": "vAsbxq8pi1aM",
        "outputId": "3a5574db-0cd1-48f9-c894-6717695453bf"
      },
      "execution_count": null,
      "outputs": [
        {
          "output_type": "stream",
          "name": "stdout",
          "text": [
            "50\n",
            "100\n",
            "150\n"
          ]
        }
      ]
    },
    {
      "cell_type": "markdown",
      "source": [
        "## 練習問題"
      ],
      "metadata": {
        "id": "7WZcGc3QjUCu"
      }
    },
    {
      "cell_type": "markdown",
      "source": [
        "### 1-1."
      ],
      "metadata": {
        "id": "zfifx862jsob"
      }
    },
    {
      "cell_type": "markdown",
      "source": [
        "台形の上辺、下辺、高さを引数として与え、その台形の面積を返す関数 trapezoid を作成せよ。"
      ],
      "metadata": {
        "id": "LGjs8ai-jdXl"
      }
    },
    {
      "cell_type": "code",
      "source": [
        "# trapezoid関数をここに作成\n",
        "\n",
        "\n",
        "# 下記のように使うことを想定\n",
        "x = trapezoid(7, 10, 5)\n",
        "print(x) # 42.5"
      ],
      "metadata": {
        "id": "elm4s1z7jSbh"
      },
      "execution_count": null,
      "outputs": []
    },
    {
      "cell_type": "markdown",
      "source": [
        "### 1-2."
      ],
      "metadata": {
        "id": "vi1KrZqMj0oh"
      }
    },
    {
      "cell_type": "markdown",
      "source": [
        "自然数を引数として与え、その自然数が奇数かどうか判定し結果を返す関数 is_odd を作成せよ。\n",
        "\n",
        "奇数だった場合 True を返し、そうでなかった場合 False を返すものとする。"
      ],
      "metadata": {
        "id": "Etm2hd3XjmYO"
      }
    },
    {
      "cell_type": "code",
      "source": [
        "# is_odd関数をここに作成\n",
        "\n",
        "\n",
        "# 下記のように使うことを想定\n",
        "if is_odd(5):\n",
        "  print(\"奇数\")\n",
        "else:\n",
        "  print(\"偶数\")"
      ],
      "metadata": {
        "id": "T-09raI2jl3e"
      },
      "execution_count": null,
      "outputs": []
    },
    {
      "cell_type": "markdown",
      "source": [
        "### 1-3."
      ],
      "metadata": {
        "id": "vJnaRQnjkD7i"
      }
    },
    {
      "cell_type": "markdown",
      "source": [
        "整数を要素とするリストを2つ引数として与え、その2つのリストが共通で持つ要素のリストを返す関数 intersection を作成せよ。"
      ],
      "metadata": {
        "id": "4tRM_lCOkHsc"
      }
    },
    {
      "cell_type": "code",
      "source": [
        "# intersection関数をここに作成\n",
        "\n",
        "\n",
        "# 下記のように使うことを想定\n",
        "a = [1, 2, 4, 5, 6, 8, 9]\n",
        "b = [2, 3, 5, 7, 8]\n",
        "x = intersection(a, b)\n",
        "print(x) # [2, 5, 8]"
      ],
      "metadata": {
        "id": "3rw_PrpRkGst"
      },
      "execution_count": null,
      "outputs": []
    },
    {
      "cell_type": "markdown",
      "source": [
        "# 2. 標準モジュール"
      ],
      "metadata": {
        "id": "9if3dCdTkSJB"
      }
    },
    {
      "cell_type": "markdown",
      "source": [
        "関数などをまとめた外部のPythonファイルのことをモジュールと呼び、他のPythonプログラムから読み込み利用することができる。\n",
        "\n",
        "本章では、Pythonにあらかじめ用意されている一部のモジュールについて紹介する。"
      ],
      "metadata": {
        "id": "68fuTUArkYLt"
      }
    },
    {
      "cell_type": "markdown",
      "source": [
        "## 2-1. モジュールの読み込み"
      ],
      "metadata": {
        "id": "u7i56y8Ikb0c"
      }
    },
    {
      "cell_type": "markdown",
      "source": [
        "外部のPythonファイルに記述された関数を呼びだす際の基本的な記述方法は、下記のようにimport文でファイルを読み込み、 ファイル名.関数名() の形式で関数\n",
        "を実行する。"
      ],
      "metadata": {
        "id": "sQVZt-qykfdq"
      }
    },
    {
      "cell_type": "markdown",
      "source": [
        "![image.png](data:image/png;base64,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)"
      ],
      "metadata": {
        "id": "YU8b4-CokoZ_"
      }
    },
    {
      "cell_type": "markdown",
      "source": [
        "ファイル名をそのままの名前で利用したくない場合、下記のように記述する。"
      ],
      "metadata": {
        "id": "U4OlpyGskrkA"
      }
    },
    {
      "cell_type": "markdown",
      "source": [
        "![image.png](data:image/png;base64,iVBORw0KGgoAAAANSUhEUgAAAH4AAAAxCAYAAAAcLR0xAAAIXUlEQVR4Ae1b+U8USRT2r3N/Wo2GGIkmayRq1l2VVVQElYCiiC4uyuEFiNzieiMoNwgIyOFyLMshCgIC6nAPx8x+m++ZnvQM09LjjjHpqZf0VFd1dXW999V7ryb5ah2UBKQF1gWk1kppKOADdBEo4BXwAWqBAFVbebwCPkAtAKCjowNjY2M+G8DhcCA9PR2lpaXo6urC4OCgz2OYeeH169fIyMiQb+Xl5cFms8lrz58/x/DwsGsIX+bjk8d3pz4Gr28hnzoGsfD+s0JG4xOgsLAwhIaGuq4DBw4gJyfH6JU12znmnj170N3d7da3oaEBPT09KCgoQEVFhdszrdLc3Ix9+/YhOTkZhw8fxt69ezE9Pa099ltZXFwsOnJxnj17FlVVVSgsLERqaira2tpc3/FlPqaBX7LN4UP7AGYG38uHVhYWsTBuw9zwpLQtfprB8pwdS9PzsP09BPvkZwP863Riun8Utp5hOB1OsM6+i7ZZfOp6C+eKQ8ZpOpqGoaImGY9t3mRhYQFv3rwRz6J38UpLS0NCQoKrO70vJSUFiYmJuHDhghiK9bm5OVcf7YaGIujt7e1ak6u8evWqeDI9mob3FL67e/duHD9+HLW1tdi/fz/6+vo8u7nVabMPbf2f9XY45ZljcVnsSts6llbc+msVfp8L7Pz58zJf1i9fvuwGvK/zMQ38SEU7ancl4q/f/5T5DD1uROX2eJRvOYPnP19G+5l8DBTUoHRTDNpi81ATchHzox/RlfwIjUfS0Bh2Ha/iCwXwqp8uoH5/qlz/pD9FX3YFnv4Yhfp9KehIuCsLQ1P6S6XT6URsbCxKSkpc3cbHx2VxtLa2orKyEpcuXQLDI/tqMjs7K0bbuHGjLA6tXV/SsNXV1RJeNeCXl5fBa35+XjxucnJSyq1bt66KGPqxtPux6g50/HEPdXuT0Jl4Hw77EprC09EeV4Cea8Wwf/AeLbjAqcODBw/Q39+Ply9fugH/NfMxDTwnP1zcLBPn/ZsHDejNLENzRAbePWtFS1QWBgqqXamA4L8takRD6BVRiEo1HLgiwFPx2aEJuUarXoldWmNyMdHYo9nIVFlfXy/h9ePHj6v6E7SDBw8KMMx9mtAztm/fjuvXr4tHMzJ4CsE9efIkOjs7XcDb7XbEx8ejpqZGuvf29iImJgbr168XL2T62bVrl4DjOZ5WZ6R7facWbady0fDbVdDbm45liO0YEb8kXHw7d+6Ub3AReHq8r/P5X8AP5FehOfImGA004OnBDOesj5S3o/7XFNgnpiScU1mGeJae+ZzAv693z7NGhlhaWhJAt23b5pbj9P2zsrJQVlamb5L7xcVFzMzMyD1DtDfgmfeZsxkZGOq5sYqIiMCtW7fARcSFxlx79+5dnD59GpwPpby8HHfu3JF7zx+mr8bDNyQq0oEYASlsH6vpAKPgeIN3/flNzpP7kMzMTPmGHvivmY9p4HtvlqIsKBbFP0SiK+mheLw34Cu3ncPLk7dkVa/M29F9pUhSRO2eS+jPqTAEntGiIjgOr87dloXiaTitTuNu2rRJcuvQ0JDW7FbW1dUhPDwcU1NTbu2eFW/A8x2Crm3ocnNzERISAkYKT+Fm69ChQ7IIuQgYEW7fvu3ZTeoEmE5S90syaAvNCRjmW6KzBXhb91uv7zKVcb/C77FkuGdUIvj6zZ0v8zENvNcZeTRKqE95vCpXLU3NycbPo/uqKkMhIwEjhpEw5Goe660PvYOLY3R01NtjtzbmTv4l0svKygr490m/J9A/19/zbxVTxrNnzyRtcKfN/Gsk3Nxy08tSE9pm9u2E5HutTV9yPgzz9GpuXPPz80EbEHz+m+A+QxNf5uNX4Jmvh0uMFdcmqMrvbwG/Av/91VEzMGsBBbxZS1msnwLeYoCaVUcBb9ZSFuungLcYoGbVUcCbtZTF+ingLQaoWXUU8GYtZbF+CniLAWpWHQW8WUtZrJ8C3mKAmlVHAW/WUhbrp4C3GKBm1VHAm7WUxfop4C0GqFl1TAP/LbjdnOT9+/eFxkTSJAkH2dnZiIuLw6lTp/DixQshRDQ1NQmNqqioSAiQZNi0tLSs0pEkjLV47mSukK1L0d+vGsziDaaBJyjkr/uT203bkgV74sQJHDt2TNgsJDDyIlGSi4JsE1Kdo6OjERkZKcBevHgRjx49Eg6ansdOetSXeO5cGDdu3MCTJ08EVjJwOK6exWJxvF3q+QS8v7ndnEVSUpKLA09QSF7kQQGCT+DpneScbd68GRs2bJCIQDYrAduxY4eLy26GV84oQW46PV0TLuhr165p1YApTQP/LbjdtDJBpvF5MIJ0aXLK6JFktJJHPjExIVRn9nv48KHcBwUFCc+N0YJillfO/kwfeiGXjREn0MQ08DQMAfInt5tjaidWeNqFEYXhnARG0pQJPA9IkE3K7zIdkGbMRUGP5/EmTdbilZO0GBUVJYcttHdYMvwzugSamAaeBvIHt5tHmbhR1ITAk52qHQ8if505nOATeApDNA8sMC2QxcqjSsHBwXK2jc/N8MrJmiXAnsecyInnIgo0MQ28v7jd3Jlv2bLFtaEi8ASWx514/uzo0aMCOjdvGvA8icpdPs+5MSUcOXJE+rHvyMiIC7O1eOWMFNw36IVn8ZTH6y2iu/cnt5tj6Xnx9+7dk79oBIW7az4fGBiQ8M7zb4wQPBXDv3A8EszIwKNN9GCeGiW/XJO1eOXv3r2TdMF9A4VRjHsH8vADTUx7vFUMw+PPPJhA4YaVewkugECTgAM+0AA20lcBb2QZi7cr4C0OsJF6Cngjy1i8XQFvcYCN1FPAG1nG4u0KeIsDbKSeAt7IMhZvV8BbHGAj9RTwRpaxePt/lZJoCTLZw88AAAAASUVORK5CYII=)"
      ],
      "metadata": {
        "id": "K6cDJiFLkwlp"
      }
    },
    {
      "cell_type": "markdown",
      "source": [
        "また、下記の記述で関数のみを読み込むことも可能。\n",
        "\n",
        "この場合、関数実行時にファイル名が省略できる。"
      ],
      "metadata": {
        "id": "4uh_tUz5kzgQ"
      }
    },
    {
      "cell_type": "markdown",
      "source": [
        "![image.png](data:image/png;base64,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)"
      ],
      "metadata": {
        "id": "WbX_WxV8k4NL"
      }
    },
    {
      "cell_type": "markdown",
      "source": [
        "## 2-2. math"
      ],
      "metadata": {
        "id": "JqKdxUF3k7o7"
      }
    },
    {
      "cell_type": "markdown",
      "source": [
        "mathモジュールは平方根や三角関数など、数学関連の関数が用意されている。"
      ],
      "metadata": {
        "id": "ox4jCeB5k9S8"
      }
    },
    {
      "cell_type": "code",
      "source": [
        "import math\n",
        "\n",
        "x = math.ceil(1.5) # 天井関数\n",
        "print(x)\n",
        "\n",
        "x = math.floor(1.5) # 床関数\n",
        "print(x)\n",
        "\n",
        "x = math.sqrt(5) # 平方根関数\n",
        "print(x)\n",
        "\n",
        "x = math.log2(16) # 底が2の対数関数\n",
        "print(x)\n",
        "\n",
        "x = math.sin(2) # ラジアンの正弦関数\n",
        "print(x)\n",
        "\n",
        "x = math.pi # 円周率(定数)\n",
        "print(x)"
      ],
      "metadata": {
        "colab": {
          "base_uri": "https://localhost:8080/"
        },
        "id": "dg00A_UKkUU4",
        "outputId": "41536846-97a2-4342-88e7-f321efbbf2c3"
      },
      "execution_count": null,
      "outputs": [
        {
          "output_type": "stream",
          "name": "stdout",
          "text": [
            "2\n",
            "1\n",
            "2.23606797749979\n",
            "4.0\n",
            "0.9092974268256817\n",
            "3.141592653589793\n"
          ]
        }
      ]
    },
    {
      "cell_type": "markdown",
      "source": [
        "参考文献: https://docs.python.org/ja/3/library/math.html"
      ],
      "metadata": {
        "id": "nqTO7t_clNML"
      }
    },
    {
      "cell_type": "markdown",
      "source": [
        "## 2-3. statistics"
      ],
      "metadata": {
        "id": "JY-bsJUxlRsX"
      }
    },
    {
      "cell_type": "markdown",
      "source": [
        "statisticsモジュールは統計関連の関数が用意されている。"
      ],
      "metadata": {
        "id": "P9W0tc9IlTaD"
      }
    },
    {
      "cell_type": "code",
      "source": [
        "import statistics\n",
        "\n",
        "data = [10, 3.14, 7, 5.0, 12.5, 2.7]\n",
        "\n",
        "x = statistics.mean(data) # 算術平均\n",
        "print(x)\n",
        "\n",
        "x = statistics.median(data) # 中央値\n",
        "print(x)\n",
        "\n",
        "x = statistics.stdev(data) # 標本標準偏差\n",
        "print(x)\n",
        "\n",
        "x = statistics.variance(data) # 標本分散\n",
        "print(x)"
      ],
      "metadata": {
        "colab": {
          "base_uri": "https://localhost:8080/"
        },
        "id": "UeJPkw7FlPmK",
        "outputId": "5475c2b4-a61e-430a-b5ab-452910436040"
      },
      "execution_count": null,
      "outputs": [
        {
          "output_type": "stream",
          "name": "stdout",
          "text": [
            "6.723333333333334\n",
            "6.0\n",
            "3.9033404497515543\n",
            "15.236066666666666\n"
          ]
        }
      ]
    },
    {
      "cell_type": "markdown",
      "source": [
        "参考文献: https://docs.python.org/ja/3/library/statistics.html"
      ],
      "metadata": {
        "id": "vplHBPNLldef"
      }
    },
    {
      "cell_type": "markdown",
      "source": [
        "## 2-4. random"
      ],
      "metadata": {
        "id": "Uh9qWIfulg97"
      }
    },
    {
      "cell_type": "markdown",
      "source": [
        "ramdomモジュールは擬似乱数関連の関数が用意されている。"
      ],
      "metadata": {
        "id": "IRRf1siQlj5E"
      }
    },
    {
      "cell_type": "code",
      "source": [
        "import random\n",
        "\n",
        "# シード値の設定。固定の擬似乱数列を精製したい場合などに使う。\n",
        "# 省略すれば実行するたびにランダムな結果となる。\n",
        "random.seed(123)\n",
        "\n",
        "x = random.randint(1, 100) # 1以上100以下のランダムな整数を返す\n",
        "print(x)\n",
        "\n",
        "x = random.random() # 0.0以上1.0未満のランダムな小数を返す\n",
        "print(x)\n",
        "\n",
        "x = random.uniform(1, 10) # 1以上10以下のランダムな小数を返す\n",
        "print(x)\n",
        "\n",
        "mu = 60\n",
        "sigma = 20\n",
        "x = random.gauss(mu, sigma) # 平均mu、標準偏差sigmaのガウス分布(正規分布)による乱数を返す\n",
        "print(x)\n",
        "\n",
        "x = [1, 2, 3, 4, 5]\n",
        "random.shuffle(x) # リストなどをシャッフルする\n",
        "print(x)\n",
        "\n",
        "data = [1, 2, 3, 4, 5, 6, 7, 8, 9, 10]\n",
        "num = 5\n",
        "x = random.sample(data, num) # dataからnum個のランダムな要素を取得してリストを返す\n",
        "print(x)"
      ],
      "metadata": {
        "colab": {
          "base_uri": "https://localhost:8080/"
        },
        "id": "h7BujmO_lak6",
        "outputId": "8851ee28-416d-4b3b-da7c-bd1c623cbb95"
      },
      "execution_count": null,
      "outputs": [
        {
          "output_type": "stream",
          "name": "stdout",
          "text": [
            "7\n",
            "0.2676771662174662\n",
            "7.920607497283637\n",
            "56.03479830070002\n",
            "[5, 2, 3, 4, 1]\n",
            "[6, 1, 3, 2, 8]\n"
          ]
        }
      ]
    },
    {
      "cell_type": "markdown",
      "source": [
        "参考文献: https://docs.python.org/ja/3/library/random.html"
      ],
      "metadata": {
        "id": "QTYnjRvrlxOE"
      }
    },
    {
      "cell_type": "markdown",
      "source": [
        "## 練習問題"
      ],
      "metadata": {
        "id": "vM0f5jeol0Di"
      }
    },
    {
      "cell_type": "markdown",
      "source": [
        "### 2-1."
      ],
      "metadata": {
        "id": "mYuR7SDEl4Kj"
      }
    },
    {
      "cell_type": "markdown",
      "source": [
        "プログラムが出題する計算問題に答えるプログラムを作成せよ。\n",
        "\n",
        "計算問題は、1〜99までのランダムな2つの整数の和とする。正解時に「正解です。」を、不正解時に「不正解です。正解は〇〇です。」と出力せよ。"
      ],
      "metadata": {
        "id": "vIKMO7m6l7op"
      }
    },
    {
      "cell_type": "markdown",
      "source": [
        "![image.png](data:image/png;base64,iVBORw0KGgoAAAANSUhEUgAAAJMAAAA2CAYAAADDNKtIAAAM5klEQVR4Ae3dia8URRAGcP44o1GJoImCCkQ0inKoCIIiooiIB7cnhyCnoHiAN6eKiCeXCsglt4CigoqiYJtfJ70Ok13Yx3tmd0l3Mm92Znp6qqu//qqmugY6hVyyBjpIA506qJ3cTNZA6HTo0KHw9ddfh927d//v2++//x7++OOPvLW4DmrNmwqY9u3bF/7v7cSJExlILQ4kZFCrRDBt3bq11vV8Pmugbg1kMNWtqlzxXBrIYDqXhvL1ujWQwVS3qnLFc2kgg+lcGsrX69ZABlNBVf/880/YuHFjOH78eDwrXPL9998Xavz389SpU/8dFH6dPHkyvrGmU3/99VdsT9vlog31L5TSMDCdPn06/PTTT2H79u1xT6FCB46FKP7+++826dhg7dy5Mxw7diwO0HfffRfb0t5vv/0W2/JMcbVVq1aFhQsXhk8//bTybBWOHj0aevToEcaMGRNeeumlMHTo0HD//feHKVOmhNmzZwf3p3p33XVXeOSRR8Jnn30Wz6U/2n711VfTYfCm/Pzzz4cimIDok08+Cdq44447wlNPPRXlqtzUoj/qBpOBXrduXfjoo4/O2DZv3nxeXT9y5EgcKIM1bNiw2MacOXPiAA4aNCg+q9zwr7/+WpMpxD+6dOkSvvzyy3D48OEIiPvuuy9cfPHF4f33349NrVmzJgwZMiQ+99Zbbw1PPvlkuPfeewNZBFTHjh0b3n777XDnnXeGxYsXx0FesGBBmDx5cti2bVsFENgGSFasWBGZrCjnhAkTIsAOHDgQJ4U6ngFkwKqQ75ZbbgmbNm2KrPXggw+GWbNmFZtpyd91g2nXrl3hyiuvDH369Kls3bp1izPrfHq+f//+OHA//vhjuPnmmwPl9+3bNxw8eDAsWbIkPPvssxUmSO2L1M+bNy8dVvYYA9NccsklEUxYwICbAECDpZiru+++O7LVO++8E9kC+7nPs5gb9dzjGQb4gQceiBNny5YtlWeRd/r06eGZZ56JgAXOZAq1N3DgwKDOW2+9FR5++OEIzOuvvz688cYb4ZdffontYKaff/45gtM5YNPnVi91g4kJueKKK87oL1ai1PYUJgU7UfBzzz0Xqb9fv34VUGj7zz//DC+88EJU+g033BAZgzlLBQCxkMHDTKmQ75577onAMrjTpk2LlzASxlAwjsFkCoEGiG666aZoqrBFr1694rkPP/wwml7+lHsxzYABA8Ljjz9e8bGw22233Rb7kmT45ptvArZKJjKdtweoUaNGxevF/hTrtNLvdoFJR7HAV199FX0Ks7qtBdXfeOONsQ3+w2uvvRZBwU9JA2DGYyUs8tBDD4X169dHgKVnARq2GD58eGQEJg84H3vssfDxxx/HanygN998MzCVzFhiE2YbmJm6+fPnR5DwcfgxQAeA6riW/DiA4k9deumlYenSpRU5ncdMK1eujAzLLwJIcpGnXIBSOxdKaReYDMyyZcvC3Llzw3XXXRemTp0aWaAe5ZixZjfWMTsNGofU8YYNG+KgpMFL7bnnxRdfTIeVvcECkMsvvzzcfvvtYe/evREcwIktFG1iKUxCXmZtz549cTANqkkBvOPGjYsg4r+lDVsxm8oPP/wQAY1tAJXMWM39ngVMngHcfC1se9lll8U9JioWrAioF0ppF5gwAJZgQrwFcVrLAKilKAPJJwEkAOCcPvroo5El+DbeiBIzpTYAIL22p3NpbzA50MnMeVN74oknKoyAGfglgGRQZ86cGZ9rMqTieeThMy1fvryykQ+YvH3ykcaPHx/7aTLpN+BgI3UwzaJFi+LboP4wvU8//XTsz44dO9Kj4p7prOYDnlGphQ7aBSYsQsHffvttWL16dd1Aoh8D515OL4dVMcM5+pzzxAT16hKYxIUS2DAIX8r5VPy2AbyQgbeqovkhE2ecqcWaacM0+sqMv/7665VQg3vVYZKBSbviVMIP6jLNGJFM2rYViwmkrxdKaReYKEqsJZesARqoG0z8EI6yWE7aOnfuHE1VVmXWQJvAlBxW5qG4MSXnU9Ib19nuTWYp1Skfp/N53xwaqJuZOlpczvrLL79c0zcSd/HanV7h+VAi2O+99170Rzpantxe+zXQMDB5ExIOEI2u5mx77e7evXtcctBNjq03rUmTJsV4Ufu7nlvoaA00DEw6wnSKTdVaSuDcC2oqgogffPBBfHMUV8ql+TTQUDBRh3CAQGF59d21Ipgsl4i089Gst+XSfBpoOJjEekaPHh3KAb0ymEaMGBF9Js6/Ffdcmk8DDQWTTAHrZ4Ke1UqRmayrCSgyie1dXK72rHyu/RpoGJi8pVnusN7mlb9amThxYrzummix5ZKRI0fGqHm1+vlcYzXQMDBJWJPyUQtI1MKfqvam11iV5afX0kDDwGQd62xAqiVwPt+8GmgYmJpXJVmy89VAw8DEZxKwFNEub84zgVbfreBLR3nllVeCfGx7m9V7Ka9W4jnxktDc494ZM2bEvCcJbcWsgLKSysszjj///POqb5blex0LpIriF+XzWwqKbAJFFoS0FTEy2apSYCTfkS3lMknMW7t2beURZJYCU042PFtfKjeXfpT76LLwSluzPErNVj1sGJikXlC8tzNb7969Y1KZXGlAEVOSokLhBkLekVxqCf/8LUsrfKovvvgipt1yzLUnn0k+lHYEN/lcBgXwhB/cZ0A5/5LXPENSmzr2zgGDtkXpz5afJX2GLOTzvGuvvTb+dg7QAF1QVsBVTpRzskXlOJkY6SMCeU2yOtUHGOuWku5MJs8nl7qDBw8O6iqS7iT/qUdXUmSkutCrmB0deoGxaiCcon9p82EIgMvr0kfB444oDQNTUXh5P4AipaWc80O5OpwUXMyVdk7KLYUaSNmPNswkfGC5xqz39YvYlFxvmZA+PJCDZHbKgTJIrknWk+wm79uxgZAtUauY9QbIQMrJku1ZLGJoV199dRAjszQEWJ4hmVAQ1qBqA7hNEhMDqCwZyRoVf6MTcgKgzEz58cCV7icf/QCXrA5f9ujvRRddFO8XUjGR9CV9ugVIvtrRR3333I4oDQUTRVou0XmJ+JRohhucVDAHM0YhQCMJTW41k2bWMmsGS264jQmRbitGhYmAUVgBCCmeQs1cA6ldYJJIxwQxqZRrDyRmbBncSS578quLiYAJu8rwxH5ATD7RffJhTqEN8snMlOnpHu1jQ/dhCjE3TNO/f//YR7rQHhBiXR8xmESAyxTqC1n1j678NqHoACOZVNjds8gEtEAthdk92j8f81nUQ/rdMDAxP3KvmSTKM4j8C7PR7NR5g2WfOg5MBoKimBaDZU+xlGymmXVmp69YDFJRUUwMtqJwZsZicqJ4vo/Z7T5y1Vt8nMkEk/Oaa66JLOMcE6joCzYBDn1j7nzSlUwx+QCOz8S0KnTDRAO5grkxHOYx8ciMqQCSbt59991Yzx/f82FffaQb/iXmUkwY9T0PuOmvI0vDwIRaKYQjTqHAxCygcM4pH8F5gwQkZhEw2ReLNBUAQvuuS/6XV60918zWVMxYTAKkFFlkQOzis6uuXbtGcKR7zrUHbAxBzrKZcy/fDBsCDyDIB8eIWDgBCOD0kTmTX850+0aR/GRUlw+k71gO01g9wGoAg4VTIQu90p0Ni6WCoclBTxcUmAym2aNQisFHwwolmH2Jmc4GJl+rmJlMGjAAIvbCAHKm0uzWLkX37NkzRtXN1qIJM2g+juAvpUyFKEwI8ctc7JPyy9N5+3OByUBrF9sxc0DBHPvYABBMHmaHmfc5FrYBFD4khuVfMVUmArOF5YAQy/kuECjck0ry09wHfIl503VtAKvJSr+p6D+X4Ww+Yqpba98wZioKZFCZAW8vxWIA0L0sAYzDibY3GBTCX6BoyudLGSzgoTAMUC4ATGHMBYc9mRX1AJkJ0F55APgsBtDzUnEvJx4bYcYkH0eXfIDt30wgk0ElDzOreHslbyrCCBgTiwIZEJGTHCYc4GNb7AuASsq/9+aZJmVqj1nEPldddVUMdaTz9liQS5BMX7pGZ9rGhudbmgZMXpuLZkeHdNhMM9DlDfDMaucpnT/g8ymsZqCTz1JNMRimDFwOfmKK8j0GmbI9LxUTgGkry1U81h/HfCD9Y2YUz3ZvKkxRAgT50+90Pe2LTJLO1dp7Nhei2sSoxj7qcf6LTF6r7VrnmwJMtYTL51tLAxlMrTVeTS1tBlNTD09rCZfB1Frj1dTSRjDVynRsasmzcE2ngQymphuS1hWok1fXasn8rdulLHmjNNBJDMWamAVP+diitZY65PXkLeugGgZqgbWT6KwIssVWa0MioFaWbULyecs6KGOgJphEdUVmhf454tjJ2pSIbd6yDqphoCaYal3I57MG2qqB/D9htlVjuX5NDWQw1VRNvtBWDWQwtVVjuX5NDfwL6A1CMBWXAJUAAAAASUVORK5CYII=)"
      ],
      "metadata": {
        "id": "EP2y-m5CmDi4"
      }
    },
    {
      "cell_type": "markdown",
      "source": [
        "# 3. ファイル入出力"
      ],
      "metadata": {
        "id": "a3xr5t3kmHit"
      }
    },
    {
      "cell_type": "markdown",
      "source": [
        "今までの入出力はキーボードによる入力とコンソールへの文字の出力だったが、\n",
        "\n",
        "この章ではファイルによる入力と出力について記述する。"
      ],
      "metadata": {
        "id": "PLfoUBtJmKdQ"
      }
    },
    {
      "cell_type": "markdown",
      "source": [
        "## 3-1. 準備"
      ],
      "metadata": {
        "id": "O-31rXLEmQlC"
      }
    },
    {
      "cell_type": "markdown",
      "source": [
        "ファイルによる入出力を行うため、事前に入力ファイルを準備する必要がある。\n",
        "\n",
        "Google Colabの場合、ファイルをアップロードするか、Colab上でファイルを作成する。"
      ],
      "metadata": {
        "id": "W6by0O81mTy1"
      }
    },
    {
      "cell_type": "markdown",
      "source": [
        "![image.png](data:image/png;base64,iVBORw0KGgoAAAANSUhEUgAAAOAAAAEdCAYAAAAVVmuSAAAgAElEQVR4Ae2dadAVxbnHTSpV+ZpP92MqVUnlQyqV9V7r3irrVpkbYyVRiYrEKKCiISyiLMouqCCKiKwCiiyygywCIjuIICLILouKIogLIoK87PDSt35N+mXeYd5zZub0Oe85Z/5d1TXnzEz39Py7//083dPP09eYQNj5pTGVHAOvop9CoCIQuKYiSqlCCoEqRaAeAV999VUzbdo0RWGgNhCjDbzzzjsFdwv1CNinT5/IDM+uftbUDPnd5Tj8f8yl86cj7zPH9xiz9P+uxKPbo+8zxpzfvcjUDP3Py3m+8L/mwidrG7xXF0qDwPDhw03fvn0jH7Z3717TpEkT89VXX0Vez+LJhrBKgkU9Avbv3z8y7bn3Jl0h4NDfm9rjhyLvM8f3XiEfRPzsjcj7Ll26ZM5tmnglz5duNBe+2BF5r06WDoHPP//cHDhwIPKBx44dM7t37zbUncJlBB5//PGCoYhFwPP7118hy5DfmbPvvGguXbxw9cPPHjVmxU1XSLillzHnjl91X+25U+bUlH/U5Xnylaam9oR61quA0omyRqBkBKw9ddTUjL+5jjBnZjU1lz551ZgzR4ypPWfM+ZPGHHnXmEOLjdnev46AFxffZs6++bSpPXbQXDp30qquFw/vMaeX9DE1Q35/Jb/l/c2lS7VlDbYKJwTCCJSMgJdqa825LdNMzfD/Nqdf+ZOpXXazMUtvMGbDg8Zse9KYzT2MWXWrMavvuKx2rrrd1C5tYk6Ovd6S7OTE283p1zqa0wu6mJPjrhDZjitHX28uHtkXfjf9FwJlj0DJCAgSly6eN+ffG2MurWxqLgUnWsK/t/c3tfsXmlOTQkRzkzjB44s3mPP7Vkv6lX1TUwGjECgpAW0BLpwy5uDrxqxuasyyP9WpmnUznytuMeb958yl09+Y83uXmJMTmpiaYf9Vp2rWzaQOu9acnHSHOf/B8uixZNTb6pwQKDMESk9AB0DNfmMOzDNmx0BjNnUxZuvjxnz4sjHfbHZ32GPtiS/N2S3TzOlFPcypWQ+YU7PuN2eW9jXnts4wtae+rXev/giBSkOg8QgIUkxHXzxrzPkTxlw4bUwDkyhMW/Pd8NKZ7y7HC2fLfiqbMtfWJp8UIt0333xjTp06Zb777jvD1H0wnj9/3raxb7/91jDlf+HCBbN//35z7ty51G2PPA4dOmTzCmdy8eJFQ+RdXHT/w/c29J+yffHFFzb92bNnzcmTJ83XX39ty3306NG6ZJSDe4lpsKvLqBF+UN4zZ84kbpeNS8BGAMr3IyHLkSNH6rJ97733DPHDDz808+bNqzsf9weN+8UXXzRbt261K0mGDBlihg4dauPIkSNto6URDx482LDoYerUqaZly5b2yPN27Ij3LRSCv/vuu2bNmjVm8eLF5qGHHjJvvPGGefPNN82qVasMBCfMnz/fdOnSxTzyyCPm0UcftZHfpI0bIN/zzz9vdu3aZQYOHGieeOIJ06tXLzN27FizZ8+eumx4VqdOnezz9u1LN6kGicHHRTosOrW44fDhw5ZIue6vqakxn332Wb18aQfUE7gmCZkkIJW0fv16s3bt2npx+/btiSTJiRMnTI8ePSxRyJPAMjyW49FAaWxJAr3ohAkTzFNPPWWefPJJM2PGDMPKEghJfPrpp235aLh//OMfzZgxYywR7777bvPSSy/Z/x9//HGsRyKFli5dass7fvx4S+Jx48ZZIvNc16nQqxOdZOJ4+vTp2DjxTpT33nvvNQsWLLDv9Nxzz5mOHTuamTNnWoIfP375Oy+dDzh2797dvPXWW7HeI3zTokWLTJs2berilClTbJ68w2OPPWY2bdrUoHQFk9atW5u5c+ea999/33zyySdXaQWUkffp2bOncdoIZdi2bZttCxA/ScgkAQGJBvvCCy/URRr6XXfdZVdxuF7UNT4aHMC7QI9KT0dDeuaZZ2yDdNcmTpxoFi5caFjj9+yzz7rTsY8QiHJAxGHDhplRo0bZRgspaByUbc6cOaZ9+/ZWwr7yyivmX//6l23INBzU1jiBd1i3bp19hwEDBpjbbrvNEp93ogPhnemQwIVy0Ltzn/uNBD548GDeR/EcJCsSFkxee+01M2LECCtJkXhIW3B2AcI2b97cdgTuXNwjai2aw8aNG+vili1b7NI3yAJunTt3rutceBYE/fTTT600QxsAe96R96PTQHq7QLshDzSCL7/8sp4EpL6oI+on+D4ubUPHTBIwCoyPPvrINnDUC6QX5ETCvPzyy6Zfv35m5cqVdYCznAp17G9/+5utvGB+qFqocW+//bZt3FyjZyXffIHKo+dv0aKFefjhhy2xWNpHYyCigpIPEgNVjTJCchrN6NGj7XUaRpyAigcReEfK3LRpU3vkP6RfvXq1YXy2c+dO+xtMUHVRIyENxzjvRFkYq/bu3dvQWSDdeKd27drZZyOVgoHy//Of/7QqarDTC97T0G+Ih8rO+7hIXkgrl1dQQjFMuOeeeyxBUYXvu+8+iyFqKGWmY3NjVMpF53TttddepeZDOOoLTCEsBKYu4wQR0Bgrzejd6d3osWlYLBiePn26QS0DXP4zLkINpGLo1ZFCwXWPpKV3RB1BvaUREJAoNL58gUqDvBAe4tNIW7VqZVUbGi3qLmoRlYxkosyocqiglIv/qHmuseV6HhKcyRveg2fwnoMGDbIdDWR3RGYBNfkyxnnwwQdtw6IsTmrkegbXeCfyheBoB2DmysxYMLgYGXLwbDohOoG479JQGcgPLFFLg4F6osNFKqMFIB0nTZpk352Op0OHDvYaqiZtASmJNERrQoIGx63kBfF5D3AnLzpGxuNI2Hwh8wRkHEePBYDBATRg0vCQLPSUBEhIQ2XGkEAFBtUwBuau16QR0RtDUHphGnKcQP4QF7IhNVAN77zzTtsAkECoqNxDmZF+NOw///nP9jcSjUbueu1cz4Ng5EHnwqQKjYXn3n///baB0bA4B9FRFckTAhJo0JAqDtG5H20AIjDu7tq1q52EAScketB6ZsWKFfY6zwW3Bx54wL5vrvdo6Bp5vP766/b9qGMXkFa8D+NEOkYX6ChIQ+Cdr7vuOkssZqAnT55sMYHQ1EmwLklHp8F4GszoqPiNVoIkzRcyS8APPvjA9sSoIPRwTC4AoAv0kDQOKs+d5+gi9wUlIMBDSCQf9zCegBxt27Y1PMvl4fKPOtKgkS6UB4lJo0V9oqEy2wnhUHOQXFQy5eMcZEWVmz17tm2wNIp8AQJSVmZskUg0VsZndDpIXyQchKExMrZC5aTREmjENLq4M650UuTLuBLVDqLxTvwGNxo2ZUd7cJ0beKH2gh8EjoMfZWPyhPdAUoEf+ZOWZ0B+xtF0jJAjmCfaDRh069bNdsZ0tlwPRtoI9eEkIDigslPPaCuUlaGBm2SiHPlCZglIo6KB0QjCPTn/aWDLly+v6xWjgIQspCdAVCYZXF5UMA3NVWRU+vA50lK59MykJT8meWicTLDwPCQRBOUcDZvGibqD9OUc5An2+OFnBP9TRojLBAvvitQhLc/iPxM6qGBMbNBQuM8FrtEA4wQaPNLZBfKjQ3EBKUNDhvTBgESijpBYTjoFr0f9Bhtmn0kXHKOCLVoJOEXlhVRDC0IlD6YLPgP1kg7JfSIhHzQSOmvaAWNzOj9Iy7twPl/ILAHzARO3ceXLJ+l1Ko+e1hGZSs8VuC+OxMuVR6mv8U6NhW+p3zXf80TAfAjpuhAoIgIiYBHBVdZCIB8CImA+hHRdCBQRAe8E5NsOYxJFYaA2kL8NeCcgU+OsI1QUBmoD+duAdwLy7UVBCAiBeAh4JyDfqhSEgBCIh4AIGA8n3SUEioKACFgUWJWpEIiHgAgYDyfdJQSKgoAIWBRYlakQiIeACBgPJ90lBIqCgAhYFFiVqRCIh4AIGA8n3SUEioKACFgUWJWpEIiHgAgYDyfdJQRyIoAfIIyow7aZGO3idQCnXlFBBIxCReeEQEIEcEGCSxKOzpga8uG2A587+ECNCiJgABW3ej9wqu4nYDpg607qhxD4NwK0DdxgQDZ8y9CW8JaGbxr8xDbk2aAkBMQZDwUg4m4hKtLAkwRe2OUZPPLiuHVIGng+PlVwPRcM+FjB7wcOXsPXgvfptxCgDaGG4lwKR704y5o1a5Z1CNUQOiUhIPsA4MyVwuAxKhxxj4fnsCQBBzu45wtHHPLgOzNJgLQ4IcJ9IE53gwH3eTgRovx4xFIQArkQQDDgxhAnv3isQzjkCiUhIP74cSaLJzK8UoUjruiCPjlzFdhdw5MWeQYj+dx4442WMHijRv/m2XgXg7AMhHHp5wKSEu9e7LvQrFkzK+nC0hMgcXVHz4ZPSAUh0BACSMANGzZY7994kMML+JIlS3KSsCQERAVFyhQ7QC4c2UJKXPbhLZqNTgADb8U333yzdX9HOSAa0g4Jh19HHKlC2mCgzOxTgBs6CBh0o45XrzBZg2n1O1sIQD5mQlE/mXBB8uHlnIkZtKeG5g9KQkB6AqQPYyznsz94xGek8z6dttrw5ciAF7+QEIPISxN5Po5gAQe/mpzDdcb1119v/VUyvsMLc1gK49cRl+Q4bV22bFmdF2ecvfIsOhYFIQACbsIFr+HMcRBoZ2hf7CPCxExUKAkB+Q6CVEJFhGjhiIRpyBlqVKGD5yAaxMFhKq7bw/nQM91xxx12QIzq64iJ5T5SjZ6KSRZcsgcJSDq8U7NNGL9RJXDcyv1MzAAc5xWEAAjgIBmHxo58DhXaCPtNNOQluyQEROr4dsQKkTZv3mzc3nb0MnihDgekGO7Gc6nAdABsUBIkIK7Yb7/99jrJzCaWqKsQEhfnUc8KP1v/hUA+BEpCQMZhfKDE5Xp4BpT/aWZB6VnYb4DNRSAHkzLhgLtwNhShB8oVICB7RLgxIHkzZmQ2yxGXSRw2SUH6oYIqCAEfCJSEgIyx2AwEQtDYwxEVMKw65ns5JCAbbuRSA/m0wY616OK5AuRls5PglDF5B/+jWiQtY65n6poQAIGSELCxoIakuQjaWOXSc4WAQ6CqCeheUkchUK4IiIDlWjMqVyYQEAEzUc16yXJFQAQs15pRuTKBgAiYiWrWS5YrAiJgudaMypUJBETATFSzXrJcERABy7VmVK5MICACZqKa9ZLlioAIWK41o3JlAoGqJiBL0VjPiSVGOLpF1pVYy7xXqYycKxGfSipzVRMQqwUsMXArEY44WMIdRSUGOhN84eD4RwvEK7EGr5S5qgno7PwwAMZRk4ujRo2yFvBjxoypZwN4BZbkv9auXWtdYGBp7yIGmr7tICkZ1h24P8A+EfMo/N7gAIjnOiPj5G+gFI2BQFUTEGNcJF/YShm3FZzHCJcG7OwAC6kAHDaFpWzr1q2tXeGMGTNMMEJMHwa9eHHDkh9pSJ4Qsm3btmbs2LH1nsezFyxYEGkzWcg7K23hCGSagBCGBgwJCw1Y3UPCIUOG5I1Y1OPuotBA2d07IM0hWZs2bax7RdRTOhrK5e5pyC9JoeVQ+vQIZJKAn376qXWigyMdyBf0dpYWSho6XrDiBIyE8QJQaHAEhGA4lULyzZkzx/rH2bt3r7WFxBkW17hn6tSphT5S6T0jkDkCYpmPjxoX8HZWagIyZsNVXaEhSEAIRoSEvB/+cpigYba3f//+ImChYBcpfWYIyNQ9kzK8MOqaG/eVgoCQAPcYeAZnPMYEyqRJkwySuJAQRcAOHTpYEjL+3b59u80eMrZr104SsBCwi5Q2MwQ8cOCAdU3oJAXqGCQsBQEhAu75GaMRkbj4FUVNLCSECcheBKjBnTp1sqo1m4UwO4u/G3yjSgUtBO3ipM0MAd999107KYFzXmYNkYKHDx8uCQF5FkTAP826deusN7dBgwZ5l4DOixvqLSR070hHAxlFwOKQqJBcS0ZAGh/f4ZzvTVRCvs/hfYzfxQjBzxA8n29yzFSyEYvzau1TAvINjk8ewYj6ietF3pVAGY4fP269bQe9rqV5/7AExA06DpCRghAdl41MMvE8PIOLgGlQLm6akhCQxs/EA42fcRgBAtBj81G8WCtSggR0MM6fP7/eDki+CEhD57ucU3HdEY/dTIzQ+CEcH9Fx08i+Fbi8LyTw8T1MQvyg4qQYlZNPEpQDH6fMvOKbVaG8ECg6ASEfO8YwE8duRUEfnRCPJWGohCdOnPAuCZnkoEGyQgRX9FGRxsrmLYUG3oXNYcI+Txl7Uo7BgwdbIkBUXNyzZwDYFBIgMFpF+JnB/zwHtRsJWCjhCymr0kYjUHQComLy4ZmVGlGB/SLoremdfauiSBxmHNkwo6HIng+obcUOSPydO3fazghCFkq+JOVlbw5IiLQv5XOTlDGr9xadgJAKEiB9UEODEpAeGRUNVZQG6puAWa3U8HtDOqQz3wWFcRidxv1fdALyejQASMj0O+MyAoSbOHGinSTQiv7GbQR6euMhUBIC8nr0vOwNEbQOQBWrZLu8xqs2PblaECgZAasFML2HEPCJgAjoE03lJQQSIlCRBGQih9UdisKgUtpAQ0OtiiQgL8N3N0VhUCltoKFVTxVJwIRSXrcLgbJFQAQs26pRwbKAgAiYhVrWO5YtAiJg2VaNCpYFBETALNSy3rFsERABy7ZqVLAsICACZqGW9Y5li0BmCMjHe+wR33rrLRuxk8NSXEEINCYCmSEgC7/xGo3VOhGv1biK2LVrV7348ccfN2Z96NkZQyAzBMQDmXMTwdG5awie4zd+VY4dO5axZqDXbSwEMkdApB9u4dmbATcRYQJyHee9CkKgFAhkioBuMxb8zxBwRQEAQRKKgKVodnqGQ6AoBKw9ccLUDB5svnv88dTx1LRproxejqig7B6Er0wcGRHwFfrMM8/U8ywWRUAs+iEri8C//vrrekbFXgqnTDKLQFEIeOHAAfP5D39otvz4x2bTT3+aOO7+j/8wh3/7W6+V4saAjP1wUkTAVXxQ+vE7ioDMoOLajw0/SePcangtoDLLJALFI+APfmB2LFxotm7dmjju6d7dHP7Vr7xWiCMgOwW9+OKLhq268M0Zh4C403DOjIK/vRZQmWUSgaIS8MK/nfAmRbZm5EjvBMQNPU6hOnbsaD1G4zU6HLnGltZyEpW0xnR/WgRKQkDGThgkuuikSUOFLgYBGccxfsNRbq4o57UN1YrOFwOBohMQx7z4/cQjNJFtuZgEyUXCYhCwGOApTyFQKAJFJyDeoBl3sQqFPerat29vVUH2hBg9enRdZL8ER0oRsNBqVfpKQaDoBGQShr0QmPJnn7yoOHPmTDNixAi7qxDAiYCV0nxUzkIRKAkBWXOZa2KDhdGsSmFbL4IIWGi1Kn2lICACJqwpvgniVj8cnPocPq//QiAXApkhIMR5//337caVbF6JSoxLu6SBTU7YUi0Y2HSU74oNuZ4L3qvfQiCIQEkIOHDgQPsJgIYaFdnRNakKisRpyNlp8AXdb8yRmATCDInIsrQhQ4bYfdr5SO8i90UF1GO+JbLDE9up8XysJo4ePWqJ/Pbbb1s120lHju43dod8ApGUjEI22+eKTkD2/8PEhz3Rn3/++cjYp08fa6HgCBVnDEhjhgwuTb5qdCthwitfwv/5OB821OUbIlKPa+y9zhFpx+60PXr0sNKUcS77sDOhxP1z5syx5/fs2WO6detmOnfubNi7XSTMV1PZul50AtLgWEMJERuKLHQO7hUfl4ADBgwwCxYsiKX6xSVg1FpQzJNatmxp34MJI3bVRSI2bdrUmjUh3ZCufMTv0KGDfc+ePXsayMfaU9KwPRufY8BCQQg4BIpOQPegJMe4BGTraRo+KixjvFyhEALiyoIdZpG2jCNRQSEg0hPTpiNHjthy0Ikg6ekUAJYFB3//+9/tmlP2c6fDEAFz1VL2rlU8AVEJkS6ofblCIQSENHfffbfdi33x4sVWnWyIgCtXrrT3ch+qLB0EqjKfYfgmqomaXLWUvWsVTcBhw4aZzZs35yUf1VoIASE3YzvGfv3797fbakMkFm4zqcRkDGNASIk6yj1IRtTv3bt32zFg165dDeTMJ6mz1wSz/cZFJeDRO+80x1q3Thy/vu66vNYQNO4PPvggdoMuhICuiUC6NJMokC7uZJF7lo7ZQKAoBDx9+LBZdd11Zs1vfpM6bmjVKmcNQIQkZMAHTO/eva0UY1Y2KjoJl2vVTs5C6aIQSIhAUQhIb8/3tH379qWOvh0joUZCQj6kMzkSFbmmSZKELUi3F4RAUQhYUImUWAhkCAERMEOVrVctPwREwPKrE5UoQwiIgBmqbL1q+SEgAjZinTCLe+bMmUSzuRSXzyH6rNGIFefx0ZkhIN/i+CjOukwiq1PSmCN5xN5aS2CRkfSzx6JFi+zC76iyQGhnhRF1XefKC4GKJSDSI4kUwBPagw8+aM2QMEVikTQracKfSg4ePBhZQzwL06N6i8ZrauxnC8jNZw5Wv5w8edKuDeV+/rNKhrK66yzYJnKOeykH93DdmTZFFsAYez8rbfDuzXpTAitxWIvK81iJM23aNBv5TZ4shyPyW6H8EKhoAuLhOi4J466E4WN8lDkSG7r069fPLj/j+ueff24/7HOOZWqQhwXX2D6ycBvJxlI1LCc2btxoSUcHwAJySIelhCMgaZFqWFBw/2effXZVS+G7KH5NuadFixaWgFiR4FqfMuBsmG+bWHNg70jHwnMx9aKSV69efVWeOtH4CFQ0AfFsTcONs8A5LgGjzJGQejR61p3SkGnoeHvjP97ckKguf4x2Iectt9xiFyPghAqbQQjE5jB86CcPiIPqCRmxtsC2kCNkfvLJJ+tJLKQlLh2RfEg2iI4EZC9D1Glc5UNu0k+ZMsW6gUTicQ3rjTfeeMOaSTV+c1MJwghUNAGRJrg5ZNfbfIucHUHCBrjh/1EEJO958+ZZ6QU5IBmWDTwfQ91//OMfdpNPSARBUCmRpJANMkIOjtgKojIiuTiH5IOAa9euNX/5y1+s2RILuZFmwU4FAnLeSbGxY8daArK5KCZOEyZMsLaGuNmYPn26VUGp6IULF9o8hw8fbi00wpWv/42PQMUTEHfySKF8Y5xCCMiYbdy4cVY1RepiaoSqOX/+fLu0DQIiaYIEpFxhAmLShCSEzFhPOBUUyYV0ZJzKeA71FNK5wG8cGpOGcSVqJRIQtZgOwNkjIvFmz55txo8fb5Nihb9hwwaDu4y77rrLZadjGSFQ0QQcOnSonc3MRz7wLoSASCMcCWNSBAFp8FhiMF5jTEZDZ4YVKcW9kAT3G4wVmTTBSBcJeNNNN1ljXhaCM0ZjthJVFILj1AnbRhaMQ0BicGMbpC5jSp6Fn1WkPiooUpgy9OrVy5KN98RgGNUXicl4lEqmQ4g7Xi6j9ln1RaloAtJI86mergYLIaDLI6gWcs7NfrrruY4QCBUUcjZEBM6TJ8R87bXXrGqJekl0z6IMQelI5xPOj3tcp8S14P25yqhrpUegogmYpGGh+iEposyQgucY40ES34E8UQ8ZI+YLvFc45kuj65WJQMUSMCncSARIGP7uF/yPSod6qSAESoVAZghYKkD1HCGQBAERMAlaulcIeEZABPQMqLITAkkQEAGToKV7hYBnBERAz4AqOyGQBAERMAlaulcIeEZABPQMqLITAkkQEAGToKV7hYBnBERAz4AqOyGQBAERMAlaulcIeEZABPQMqLITAkkQEAGToKV7hYBnBERAz4AqOyGQBAERMIBW2ARI/682i8oqJoFm4vVnpgkYbEyYKykKg1xtwLUXnwzMPAEBHCNZ/LdgC6goDKLaAE6c8UoACX2GzBMQlw2Ai+8W3A8qCoOoNnDo0CHbNuiwfZIw0wQETMDGPSCOkRSEQEMI4DEdL3a+fexkloD0YhCQvRSQfiJgQ01P50GAHZ+dQy1JQA9twhEQD2R4LBMBPYBaxVlAQIYqkoCeKlkE9ARkRrIRAT1XtAjoGdAqz04E9FzBIqBnQKs8OxHQcwWLgJ4BrfLsREDPFVwIAUnLR1lcwLvIx3wiM6txA/mwZwT7+JFf2oDDYbexKFue4WCYyQIFfwiIgP6wtDkVQkBIxz58bKTC5ihsEcaefY888ohZtmxZZEl5HntZsOeDi+ySxK5H7HHIbCwbrqxcubJehEz5Ars0UR4CO+SOHDnS7taUL52ux0dABIyPVaw7CyEgUo5dbNnwhcgWYOzxx/ZjbNxJcPnzG2mEhNu2bZvdUoxtxYhsusnGn0gv9g1s1qyZ3faMnZWI7GjEXoH5AluVsXknJGaLsk2bNtXbXzBfel3Pj4AImB+jRHc4ghT6HfCrr74yzZs3txuFzpkzx6qgrJiAVGw5BllXrVpld68NF5D1p+3atbMfeCEgvzm6sGLFCkssygqp1qxZUy+uW7fOfpuCgBCZVRUsmVLwj4AI6BlTXwRERWSfQPbyc+M49q4fMWKE3TyT7azZcQn1MxgYL3IPaihlyUfAGTNmGPZDDMbRo0fb3XYhIBuIQlK2y+b5Cn4REAH94lmnIhYiAZFujLkgUTCwvhRCMiHCttFswsmSN4gGSfnN2I/t0ng+AQJCHlbi85vI2BCS5QuMASdPnmxv279/v7XsyJdG15MhIAImwyvv3T4k4Ny5c+3e7OyEGw4Qja2h2dGWtaYECDts2DDDPvQvvPBCvX0IIVyTJk1M27Zt7f7x7CHPttKM7fIFOgDGlArFQ0AE9IytDwIuX77cbgUdVTTGgGxNzVbWPIvAkb3kqUxmUoMBcrrJGKQiESsNxon5wvr16w3jRYXiISACesbWBwFzFYn89S0uF0KVdU0E9FxfxSag5+Iqu0ZGQAT0XAEioGdAqzw7EdBzBYuAngGt8uxEQM8VLAJ6BrTKsxMBPVewCOgZ0CrPTgT0XMEioGdAqzw7EdBzBYuAngGt8uxEQM8VLAJ6BrTKsxMBPVewCOgZ0CrPTgT0XMGFEF3yc0MAAA5WSURBVJAVLix6xhaQpWbBiNWDW/uJq0MsFFhmRsACYvv27fWWp3l+LWVXJAREQM/AFkJArB2wfMfKgfWerVq1Mr169bK/hwwZYg1vWYjdrVs306lTJ7vw+rnnnrPW8yyaxpiX5ytUDgIioOe6KoSAFAUp2LdvX7u4Gns/TIdYaI0lO5YN2AnipgKbP8yFICgGuridCNoOen4tZVckBERAz8D6IOAtt9xiBg8ebM2G+vTpY39jfoQL8yVLlpinnnrKmh5NmDDBWsxjs3fHHXeY1atXa6G25/osdnYioGeECyUg4zns+l599VVLrrFjxxrsA5GKEBDHSzhpuvXWW62TJO5FMmI9r1B5CIiAnuusUAJicDtr1izTo0cP8/DDD1t7PKzfmYRBPcWWD7UTKTl9+nRLRp4pAnquyBJlJwJ6BrpQAlIcDGixXIdUW7ZssZu84JAJY1pcVWD1/tJLL9nfeDcTAT1XYgmzEwE9g10IAbFmnzlzpp3VxCESTpCY3WTSBRUU6/QDBw5YaYizJMaDSEekJmqp+yzh+ZWUXREREAE9g1sIASkKnyLII1dwzwjeJyv5XIiV7zUR0HPdOHKgLmp/QM/gVmF2IqDnShUBPQNa5dmJgJ4rWAT0DGiVZycCeq5gEdAzoFWenQjouYJFQM+AVnl2IqDnCo4iIJ8HiHwucNHnOZdX8BnunHsex2o4596hWt5VBCwyAdkoEzMiZkT5Tfziiy/s/+A5NsPkf9Q5dkpyad19wXP8Jl3UOe53ad19wXPumVHnKKdL6+5z54LvEHXOpQve5865d9C7fmXNz7777ju7yonO21dgR6tCwzXBDPr37x/8W7a/wxIQ6wV6OUVhENUGsP8UAT3SWQQU0aKI1tA5EdAj+chKBBQBGyJb1HkRUASUetyIQwQRsAwJyH7sbD/teswPP/zQWr/jB2bXrl3W8t1dK+URy3x25g0+kwb00UcfXXU+eI9+N6wViIBlREAmbLB+YEfbNm3a2E03MUkiYoKEaRLmSE8//XQ9EtDA2dcdFxVUKP854qKCPCHN2rVrrfUEFhQukiYuObZt22ZNpJYuXVqXBptFrDF69+5tNm7cWHc+bp6673I9aRLGIwkLGQPu27fPvPnmmwY3FI899pg1zGVnW7ddNVIRNxRRBGRrapw5BQlIPpANCTp8+HDTpUuXugjJ2Sk3DgkgMGTr169fPUmHNT4ExBSKY5y8dE99aSgJ6JF8ZFUIAXfv3m1GjRplt5O+//77DZ7QmjdvboYOHWpuuukmu2c8BricDzfkl19+2UrMIAGRiB06dLDuCjkfjNgbPvTQQ9YFIm4v8EGD46eBAwfa/ePpDHjGhg0bbB74nNmxY0fdc5Gs9913n5XKENsR0O3UGy6f/tcnnsNDBCwzAuLtrGXLlqZZs2bWHeEDDzxgCYQkpNJGjx5tPaK5CoQI+A9FMo4cOdIa67pxGirrvffea90Zuvs5koYPtRAPouFRDbJCvo4dO5rx48fbPLG6pywQnuPOnTvrCIh7RKz2cZWBwyhU0DVr1hg8ubnnB5/pfgc7AXcuy0cRsIwICDEgzZ133mmdLk2cONFKKSrJERDSIKlotJyfMWOG/T9v3jxrSY/q6sZjkAM11Ekn0qCOQlTURiZ0XONfuXKlQepyDQIh7fA/ip9S7oHIjoA8lzLQGUB+fJRCPiTqnDlz6vJ0ebsj6XhH/nPkv7uW1SMYaAzokYSFqKB4xB4wYICVThABp7s0cirJEXD58uV2ggbvaEhLiEHjZ4a0RYsWVhpBCho06SAhjR3iMYZj7Id7CyZVXKPnOmNE3GE41ZO0zG5y5L577rnHkpLfuD/kv/PGTRkYDyIpSePyDR7Jh+egZrM0j/Jo9lSTMB6pdzmrQggIcVAHcUnoxnSoejRciEMjRjrhNQ2iQlI+WdDQOQ8Rg8QKEoDGzviSWUxHMned2dD27dtbQrlz4SNjSScBKSPOgCkPeVFWxpThfIN5cC9lQMJPmTLFOhzmP5FrwXuz9Jt3lwT0SMNCCOgaHmQiUjkuBhuqO8fRpcl3dGmi7uNZwfyj7gmmj/qdryxc5xlIatTin//851Z95hzSMF/6qDJVwzneWwQsMwJWQ8MKv0OYgN/73vcsCXG979TRLJJQBPRIPrLyIQHDjbca/ocJeM011xjiL37xC6tyIwnzSeFqwCH8DiKgCBhbjQ03niT/wwREAn7/+983P/rRj8wNN9xgx7JxVOEkz6yEe0VAEbDkBORTyU9+8hPzy1/+0n5uWbx4sf10wmQTs7Y0ykogj48yioAiYEkae1ACsmyONa/En/3sZ3YRAJ9VmNFlJlgELLxRyiL+3455cbtw/Phxc+zYMfv9i29g33zzjf0f9xw74pKOyOYspIs6x7XwfcFzpCFt8Bz/iZTJpY1z7siRI3XvwG/S5novno1LCj5lIOlYo4rr/T/84Q/2EwiSj+vkAWbBdw2Wl9/hd4h6L3cu6XvxXPf+7r2SvivpHZZRmLh3oIySgIV3NvVyCE/CALLC5ckp3OfTmPleSMODjKyc4UM+5/EmDn5ZCqix+gzhscZFwGgwHS7sfcFOT2fOnDE4Z2Lx9ubNm+2mM5wTAaPxS3pWKqj2hriqzTgSOteCEA61E2mI2oaEFAGvgi3VCRFQBIxsOBAsGCEdEb+lWSMfAEkFjWwm6U/SiOjhtTtSPAyDZIyXorruEgE916cPAh46dMguz3JFY9zEjCGOdWtqauwsprtWqiPvxf71UYHz7hqbjPI5gVlAhfwIiID5MUp0RyEERBXjo7RzHTF16lRr9YAZEW4pmJ7Hbg9D2XBg51xIivQlUA6mu51req5j/xeMbIWdL+DZGn80TJhEOUfmOZgxUSbGclhyYNAbJ+98z87CdRHQcy0XSkDWQzr3ENjdYTiLLxiMalm0vHDhQmsjGC42xB0zZkwdASEi9nkY1iJBJ0+ebK0QsEQgYvmODV8wQFhsEnkHFyAVA3omS3AOFQ6o2q1atbJ2iE888YQ16sUsSiEeAiJgPJxi31UIAZmeR5ogAXH3gEU8JOGITxZsA+fOnWtXkIQLxEoSSObIw3H9+vWmV69eloAQ0klDjvh66dmzp0FlhNgY1yK9cCnBp4FTp07ZR3ANCYxa3LVrV3uONBCPiE0iBr6s46T8eHNDVVaIh4AIGA+n2HcVQkDGd9OnT7crQ5AqqHJIKiSYkz4Y46KOugCZuI5kJC1T+04NZRyGoW14MQBpsICfPXu2JRFuJ1B3//rXv1rLe4xrkYYE7PeQyBAQFxUEvttxP9IVgiOhKd+zzz5rPbOhSivEQ0AEjIdT7LsKISDEYJwH+fALg1qJlCJPR0B8vyARCZzHjSFrK5n4GDZsmPXVwriNgIQaNGiQVR/tCWMsWSExUuvEiRP2NBINp044V0KNJV8XGP9hs4cK2r17d7usDiLidwaikZaAlfyvf/1rWx6XVsf8CIiA+TFKdEchBIQwuB1E4iBhxo0bZ63GgwRk+RZkRApBpHbt2tlxGwRBXcVJLvkQSIdUhSjMUpI3aiSSys1SQiAIjetD1mdyD+mIPINnIUGRgOSPf1A6AfKkw2Cyhf+ozUhSp7omAi3DN4uAniufhosKCAmQZmH1L9fjUB8ZcyFNGNPhO4UKorHTwF3eK1assIRB8jG7SYAMWBKwpjIqQEDGiHjLdlKL+3gmkyYQFce+qKWOgEg58iRwHQ9sjBUpD4F3hMw4j6LcCskREAGTY5YzhSNJGgK6jCETJKGhOzKQH78J7hnuv0uX6+jyibrHXeOZPNvl6867Z7rzLg/+U0Y6nPA1d4+OuREQAXPjk/gqDTGtBEz8MCWoeAREQM9VKAJ6BrTKsxMBPVewCOgZ0CrPTgT0XMEioGdAqzw7EdBzBYuAngGt8uxEQM8VLAJ6BrTKsxMBPVewCOgZ0CrPTgT0XMEioGdAqzw7EdBzBYuAngGt8uxEQM8V7AjIEi+WomHIyqJnRWEQ1QZEwCISEJMeAMbIljWVisIg2AZwUIzlilswT+ftK2TWKxoAAiTrKgEWz8hIQawVsChQFAa0BYiHhoTXdLSl4BpcHyTMPAEBFAsEzHMgYpT6oXPZVUtpE3gQwJi6GAvaM09ANxaEiACsKAyi2gDtoxjWJJkmoFMhIKGiMIjTBlyb8XUUAX0hqXyEQAoERMAUoCmJEPCFgAjoC0nlIwRSICACpgBNSYSALwREQF9IKh8hkAIBETAFaEoiBHwhIAL6QlL5CIEUCIiAKUBTEiHgCwER0BeSykcIpEBABEwBmpIIAV8IiIC+kFQ+QiAFAiJgCtCURAj4QkAE9IWk8hECKRAQAVOApiRCwBcCIqAvJJWPEEiBgAiYAjQlEQK+EBABfSGpfIRACgREwBSgKYkQ8IWACOgLSeUjBFIgIAKmAE1JhIAvBERAX0gqHyGQAgERMAVoSiIEfCEgAvpCUvkIgRQIiIApQFMSIeALARHQF5LKRwikQEAETAGakggBXwiIgL6QVD5CIAUCImAK0JRECPhCQAT0haTyEQIpEBABU4CmJELAFwIioC8klY8QSIGACJgCNCURAr4QEAF9Ial8hEAKBETAFKApiRDwhYAI6AtJ5SMEUiAgAqYATUmEgC8EREBfSCofIZACAREwBWhKIgR8ISAC+kJS+QiBFAiIgClAUxIh4AsBEdAXkspHCKRAQARMAZqSCAFfCIiAvpBUPkIgBQIiYArQlEQI+EJABPSFpPIRAikQEAFTgKYkQsAXAiKgLySVjxBIgYAImAI0JRECvhAQAX0hqXyEQAoERMAUoCmJEPCFgHcC9unTx1fZlI8QqHoE+vbtW/A7XhPMoVevXqZLly7m0UcfVRQGagM52kDnzp3NzJkzg/RJ9fv/Aaawdy1GWSbkAAAAAElFTkSuQmCC)"
      ],
      "metadata": {
        "id": "V1FVR-Vnmaie"
      }
    },
    {
      "cell_type": "markdown",
      "source": [
        "ただし、Colab上のファイルは一定の時間で削除されるため注意が必要。\n",
        "\n",
        "永続的なファイルを保存したい場合はGoogle Driveと連携する必要がある。\n",
        "\n",
        "以下は、Colab直下に下記の test.txt があるものとして記述する。"
      ],
      "metadata": {
        "id": "DFu8ZeEdmdxm"
      }
    },
    {
      "cell_type": "markdown",
      "source": [
        "![image.png](data:image/png;base64,iVBORw0KGgoAAAANSUhEUgAAAFIAAAAvCAYAAABwkJ2EAAAFeElEQVRoBe2aZ0stOxSGz88S/4CIn44I6gcL6Acb9oIFG/beOyqIBcVybIhdLIiKithAUSwoir1X1uUNdzbb0cl2xlw8chMQZyaZleTJSnbelflFMgkh8EuIFWmEJEhBTiBBSpCCCAgyIz3yp4AsLy8X1NS/28x/7pESpCAH4IGcnp4mHx8fCgwMpLm5OVZjWVkZ1dbWfqr2x8dHamtro5ubmw/Lr6ysUG9vrynv9vaWfH19aW1tzfRM1IVhj7y7u6Ph4WHa29vjtoUHsrm5maqrq03vLy0tUWRkJE1OTrJny8vL1NLSwp4tLi7S2dkZpaenU0REBK2vr1NBQQFZWVlRUFAQjY2NmewoF2hfXl6ecktNTU2UmJhIh4eHhEFob2+nlJQUKiwsNNUXHx9PDQ0Npnc+e2EI5MnJCeXm5lJYWBiNj49z67IE0s7OjkJDQ2l1dZVeXl6otbWVKioqmE103M/Pj+bn5yk7O5s6OjooNjaW7u/v6fX1lU5PT8nf358ODg7o+fn5XTvUIAEvOjqaMGDX19fk4uJCs7OzrH7cY2bAi1FGbzIEUqkE0/CrIM09EnY7OzvfgKyvr1eqYwBramrIycmJsCyg88HBwcxTTYXMLtQgkYWBUECGhISwwUhKSmJe+vv3b+ahcBK96a8CiUFBZ2xsbGhwcJBNRXOQU1NTFBcXR25ubjQ0NMQ8GNManjQxMfGu7wBpa2tLAQEB1N3dTaWlpWRtbU1eXl5sEMxBwqNhG7bMl4N3RjUefCtIjTZpPsbUxzS+uroylcEzrHmY7iIS1uGLiwvdpgyBvLy8pMzMTLbGeHt7U39/v2bFvDVS86UfmGEIpJ5+SpB6aHHKSpAcOHqyJEg9tDhlJUgOHD1ZEqQeWpyyPJAbGxtM7kHZQFGISj09PW+kp2L3z58/hDqVJFJ7G/rVhjybmZkhQMImGns5rcQDmZCQ8CaocH5+Tvn5+ZSRkUFHR0dMDyOAAdBQI8fHx0x5KHoZ6gbqCvp8d3eXqRRocWzqS0pK3jUpLS2NsKlXkkjtbQgkRhKqYWtriwADAQStxAOJiI+DgwOhg9gEFxUVsSAFghlQF9DWgAqN/PDwwCCOjIww+MnJyZSVlcUCF42NjVRVVcXe6erqInieotfN26UGKVJ7GwKpNA6eCF3Km5Y8kLADG8XFxQwCgiDQzoAHCQhvA0wlIR+DhzAYAgsAjwHt6+tjsyMmJoa1BYGPj+pVg4RdUdr7SyDRCUwhjKxW+qhDStm6ujpCwMDT05PBQOzQ1dWV4G2I+CB05ujoyDTwwsICwVM9PDxY+YGBgXcgocvd3d3J3t7+Q48ENGdnZ7YUYABFam/DILE2YvohAsNLPJCYrljbzHUyrrE+Yh1GwiBhbVTuobOxtGgl5Ctltcroef5Z7W0IJIK5GHlEShBkNY9CqxvJA6ku+5PvDYHU02EJUg8tTlkJkgNHT5YEqYcWp6wEyYGjJ0uC1EOLU1YLJLYo2HDj/AR/lZWVbF83Ojr6xhrKWDrn1tLWf/25NvZ22PJAkeDQyajWBjFsoqF5kXC+HB4eTlFRUbS/v8/0Ne+cG8exPG0NwWB+kCVSW78ZbSJj30c+PT3R9vY2k2s4UN/c3FTbNd1reaRSwBykWjtjgHjn3IDE09ZqkCK1tdJ+5b/hfSQUCEJSOTk5hA8GtJIekGrtDJu8c25L2loNEvZEaWt1fw2DhBdCq6amptLOzo7arun+KyAtnXNb0tYA+SPOtUELHzF9p0T8Lm1t8pR/Lwx5JM618UuKICw+QsIBvVay5JFa7/2054ZAopOIiuDPUqRFghTkEhKkBKmLgOGprauW/0FhCVLQIEuQEqQgAoLMSI8UBPIfxiLmp8HZ2q8AAAAASUVORK5CYII=)"
      ],
      "metadata": {
        "id": "CoKa_ZLZml2o"
      }
    },
    {
      "cell_type": "markdown",
      "source": [
        "## 3-2. ファイル入力"
      ],
      "metadata": {
        "id": "MCIXzIaImqBi"
      }
    },
    {
      "cell_type": "markdown",
      "source": [
        "### .read\n",
        "\n",
        "ファイル入力の基本的な記述方法として、.readメソッドを使ってtest.txtの中身を表示するプログラム下記に示す。"
      ],
      "metadata": {
        "id": "T__MbVjOmrrn"
      }
    },
    {
      "cell_type": "code",
      "source": [
        "f = open(\"test.txt\")\n",
        "\n",
        "x = f.read()\n",
        "\n",
        "f.close()\n",
        "\n",
        "print(x)"
      ],
      "metadata": {
        "id": "b-fVDgK2ltZq"
      },
      "execution_count": null,
      "outputs": []
    },
    {
      "cell_type": "markdown",
      "source": [
        "![image.png](data:image/png;base64,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)"
      ],
      "metadata": {
        "id": "Z_ta0BqdnBfi"
      }
    },
    {
      "cell_type": "markdown",
      "source": [
        "1行目に組み込み関数 open で指定したファイルを開き、ファイルデータを返している。\n",
        "\n",
        "そのファイルデータの中身を3行目の .read メソッドで文字列として返している。\n",
        "\n",
        "最後に .close メソッドでファイルを閉じている。\n",
        "\n",
        "1行ごとに読み込みたい場合、他のメソッドで行うことが多い。"
      ],
      "metadata": {
        "id": "N_2v_vzqnExP"
      }
    },
    {
      "cell_type": "markdown",
      "source": [
        "### .readline\n",
        "\n",
        ".readlineメソッドは、実行されるたびにファイルを1行ずつ読み込み、終端に達していると空の文字列を返す。\n",
        "\n",
        "下記のように、while文を使って書くことが多い。"
      ],
      "metadata": {
        "id": "riPYvu3vnLpi"
      }
    },
    {
      "cell_type": "code",
      "source": [
        "# 1行ずつファイルを読み込んで出力するプログラム\n",
        "f = open(\"test.txt\")\n",
        "\n",
        "x = f.readline()\n",
        "\n",
        "while x != \"\":\n",
        "  print(x)\n",
        "  x = f.readline()\n",
        "\n",
        "f.close()"
      ],
      "metadata": {
        "id": "GLRYp-YxnCQi"
      },
      "execution_count": null,
      "outputs": []
    },
    {
      "cell_type": "markdown",
      "source": [
        "![image.png](data:image/png;base64,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)"
      ],
      "metadata": {
        "id": "g8I8cIvPnf2M"
      }
    },
    {
      "cell_type": "markdown",
      "source": [
        "結果を見ると、改行が入っていることがわかる。\n",
        "\n",
        "これは、.readlineメソッドが改行も含めて読み込んでいるため発生する。\n",
        "\n",
        "\n",
        "改行を含めて処理をすることは稀であるため、多くの場合下記のように.stripメソッド(文字列の前後の空白や改行文字を削除するメソッド)を使うことが多い。"
      ],
      "metadata": {
        "id": "_EhiMWEqnjPY"
      }
    },
    {
      "cell_type": "code",
      "source": [
        "f = open(\"test.txt\")\n",
        "\n",
        "x = f.readline()\n",
        "\n",
        "while x != \"\":\n",
        "  x = x.rstrip()\n",
        "  print(x)\n",
        "  x = f.readline()\n",
        "\n",
        "f.close()"
      ],
      "metadata": {
        "id": "aUxrtl9AngtD"
      },
      "execution_count": null,
      "outputs": []
    },
    {
      "cell_type": "markdown",
      "source": [
        "### .readlines\n",
        "\n",
        ".readlinesメソッドは、1行を1要素としたリスト形式でファイルの中身を返す。\n",
        "\n",
        "先ほどと同様のプログラムを下記に示す。こちらも改行文字が含まれるため注意が必要。"
      ],
      "metadata": {
        "id": "AH5mExlBn_rh"
      }
    },
    {
      "cell_type": "code",
      "source": [
        "# 1行ずつファイルを読み込んで出力するプログラム\n",
        "f = open(\"test.txt\")\n",
        "\n",
        "lines = f.readlines()\n",
        "\n",
        "print(lines)\n",
        "  for x in lines:\n",
        "  x = x.strip()\n",
        "  print(x)\n",
        "\n",
        "f.close()"
      ],
      "metadata": {
        "id": "t9cGBA5joFkE"
      },
      "execution_count": null,
      "outputs": []
    },
    {
      "cell_type": "markdown",
      "source": [
        "![image.png](data:image/png;base64,iVBORw0KGgoAAAANSUhEUgAAAM8AAADSCAYAAADtyZQaAAAgAElEQVR4Ae2dh3MVR/LH76+6Kv/qQp1tfGffcRiDAQfAxthgm2gyNphksI2JJucgEDknkUQSIouoHJBQQDnrnPtXn+ZGt3qWnp5W4QV6qrY2zc7M9vR3umemp+cPIiK//fab/Prrr3r88ssv4o6ff/5Z7DAaPO88AEZaC3/gIcBxgPnpp5+E48cff2w+fvjhB7HDaPC88kBrwOGZggfg0LoAGgjU1NQkjY2N0tDQ0HzU19eLHUaD55EH2gUPwPnPf/4jpaWlUlJSIsXFxS2OoqIi6aqjpqbGgGiNUdTwQFDwOODA1Pn5+fL48eNuPerq6hSogNUOo0Gk80BQ8NC/QRw/ffq0W0HjQGngMcBEOmC85QsKHiIidfLy8iQ3N7fbAWTgMfB4mTPSr9sFT1VVlWRmZkpOTo6Bx9RJU6c9PNAueCorKyUtLc3A4yFapLeIVr6ekeBBwcPQdEfBc+fOHTl79qwcOnRITpw4IdeuXQsZeKa29UylG7i6hs5dBp6MjAzZvHmzDB8+XPr06SMvvviivPrqq/Luu+/KggUL5NatW9p3coMDrZ0jETw0IN6jpxnPmzfXPZ2/5dc20LoEPA8ePJAZM2YoYABNa8egQYPk4sWLQftNrYEHhmFitqcrkYlg+nk1xSWSs/+Q5B4+KmUPHmk5HEOHWqbW4gcDgjc++eafOS+PT56Whvp6KSsrUzCHmrfFa5v5O0ubLgHPokWL5JVXXmkGzcsvv9x87QXSp59+Kqh1rUkdngWCh8nXyZMny7Jly6S2trbHAARwDh8+LAcOHJDCy0lyf9EyuT5pulQ9ztcyPEm8KIVXroZUnqaGBnm0Zr3UV1Y2x68teSpp6zY33wdWYvqWOKkuKBDi3Zg6Q+7MWSBFV64qDVasWCGpqaltfhuYlt1HMHhQx/75z3+2AAsM/9Zbb7V4BogA1ZYtW0IGz7lz5+TLL79U6wa/0qehvk5b7KbGxjZb7Pq6WpVuxIHZYM45c+boHFdldo5UZGRKZU6uvqsrLZVbM+Y8A0RVVVAmbmxo0G/P9R0oT++kPDNvamiQgnOJcnHIcKnKzZWGmhrRsmH2VFMjVXmPJXHQUHmSeEHBU5GWIeWPUgUQUrZ79+7JvHnz2vwXA0v3gSWQtp2WPFu3bv0dSDZs2CDJyckyffr0FhIJAI0ePTok8ND6E/dPf/qT7N+/v1l1u337tsycOVPTJv24uLgWjPTgZqLsWjVV9m+cLXmZ9+XmxUOyfek4iVs2Xq4k7JS62mq5dGK7xK+cKoe3LpDK8qdyNG6hHNw0V+JXTZXriQfk0KGDsmvXrlaBUXrvvlx46z1JGjlagZG1a69cHv6JXJ8wVSrS0qXkxi25PnGq3PpitpQ9fCTZew/I8f97UVLXbVSQNFRXy4OlK+TkS69J7sEjkhW/R/ITzkj2/kOSd+yE5B09ISf++ne5+83iVvNHpaNBycrKavV9YAXbffeBqdPgYTDAq5pxvXHjRgXIw4cP5bvvvpN//OMfzXFef/31kMADkxw5ckS/R51zfQTmneiLZGdn64Fq597VVFcoULJTb8r1C4fkwKa5knx2t5zctVTKnxZK/Mop8ujORVk1e7BcOrldNi/8VK4l7pd9676Uc4c3KNj2rJshmzaul2PHjrXJnA+Wr5LcI8ek7GGqnPlXPwVG0qfjJOWrb+XRmg2SumaDPL2dItX5BdJYVyeXhgyX+vLy5vTKU9Pk6ugJel+Vl6/AuzVzrtQUFumzKyNGS1VOTnP8QAAsX75crly50ub7wPh23z0A6nbwfPvtty3A07dv35DAQ4WfPHlS+zveyr969aqMGjVKRowYoceaNWuawVPyJEe2LRmj0iU/+6FsWzpewZN0Ol4aGxtk9+rpcuXUTtm08GO5k3RCbl06Itmpt+Tg5nmSl3lPSovzZf+G2XLs6GHZtm1bm8zpwEM/5OzrAyT34GGVMAVnz0tFZqakrt0gSZ+MkcKLl9sFT2NtrdyY8oVKmsb6+nbBg/qKWoyRrpcudt09AAlG106DByZ76aWXmiULkge1LSkpSaZOnSq9evVq8W7MmDGdAg9SBgbyHk7y0L/ZveZzuXX5iJw9uFYS9q5Q8Kz7apjsWz9LEvatFAC2dclYyXhwXc4f3iDp95Pl0OavpCDnUTN4sjLTZdasWdrXao14D1eulbSNm6UyK1suDh2ugwqZcfGqgqVt3CL5p88qgOj4A4gL77wv5WnpUvW4QCpz8qQiI0tVvdqSEim8dEXuL1kud79ZJKX/Hc27/OGnUnzj5u/AwX/SD1y1alVzg9Fa+exZzwCp0+ChDxI4YDBp0iRhaDpQnevogAGd4zNnzvyOiYIxR1F+lpzctUwSj26SyrISBU/yub1SUpir0gfQZdxPluM7F8vV07uEwYLbl49JWUmBVFWUys1LR/RZSkqK9rUcML15lqbck1tfzJLasjJ5mnJX+zepazdKTVGxlD1KlbtfL5KHy1dJdcETLXv65u2SvnW7qnf3vl2s0ujBspWSe/S4PE44q2Cif1SQeFHjZ8XvVfXPmyfXjDju2LFDl4AEvrP7ngGMl86dBg9DzEuXLm0xMNDWUDUDADBlqEPVMDoDB94Ch3KNitbU9GzkLDcjRR5nPWiZhkov4jybdGRUjGuOZ98+u6Z/5eJ489V49fXN3zAS5o0XOLLHPRKovrJK6isqtCz6rKFBWuT933918b15ck0eAMibV2Acu+85EHUJeJgkZQQsUNJ47xm6vnTpUpvAaW2exxih5xjBaN1xWncJeGB8hk63b98uI0eOFEbUAA7mOYMHDxYGDZA4LG1oS+oYeDpeecbw4aVZl4HHgYJ+SmJiog71JiQkyI0bN8ww1CyyW6rNMUKPLgePA5Gfc6B5jrWs4W1Zjf7B6W/giZFW0Bg9OKN3B30MPAaemFSpugMsgWkaeAw8Bh6fPGDg8Um4wFbI7ntebQo3zQ08Bh6TPD55wMDjk3DhbvUs//BLOgOPgcckj08eMPD4JJy1/OFv+cNdBwYeA49JHp88YODxSbhwt3qWf/gln4HHwGOSxycPGHj+SzjWDbF+KFJadMqDpXpFRYWUe/wfREr5rBz/aQs7z3aGY9FVR93t+jEIdd94DUNh5K+//lpXkn7//fdtLonuikpkqcSbb76pbrE6mx7LL3DuOH78eLUsZ+Wnn8VruPRasmSJpKenq8dVnB12tmz2fdeqem2hR7dVDDd4pk2bpuC5f/++sKqzurpapYMfZgzGOMePH1eguhaePYnIi3xCzYt4AP6LL76Q06dPy9ChQ3U5BszPNi00DKFKNv6VdAoKCvSbo0ePqoutYP9g77oWGKHQM+LBg8P4Dz/8UPbs2aOORt5++23hQFqtX79e3njjDb2ntb98+bJ8/PHH6h+bxXeOAOwt9Pnnn8vEiRP1wOsm6hDvcV31wQcfyF//+lc5f/68PsNR/WuvvSYDBw6Uu3fv6mK+/v37qyNHdozApRZLyidMmKB+Dkhr7NixuggQP3MOPJs2bVI3xN9884307t1b+vXrJ1OmTFE1DD8PpIknINQz/N8NGzZM8KqKhyAkmCs/KhzPAaF7ZueeB0sgzaMCPDiPBzwwOLvUIZFgtj//+c/qPZP348aNE5h18eLFCiIA434WKQIIcPXLgTRAuvAeibF3715ZuXJls78EBx6AgoOTF154QZn5nXfeUQnFFpPsAIHPOpaX4ykISfHkyRMZMGBAC/DwHO+jABf1ECf4u3fvVp8P+H5gtS0rcPknyoF3HECMqurKTxkBJ//untnZwNNiWXZgnweGQvI48OCvDKahVeb429/+pv6kDx48KKg2AAYPojAaDOoYDKaFgZE+HOvWrdO+nHuPT+q1a9c2xwc8uM3iPVIA11rkQTwYmzLRp8GrKLtA4NcaV1XE96ptgJn7hQsXSnx8vEoOpA0Af++99wR1kXKy2hZw45MbdQ8JiuN8Vz58tCGpQlX73Hd27l6ARZXkwb0uDAFwYDrUHHyY0YKvXr1aDzroeCxFKjjmcf0RmI+Dew733oGHTjkt/6lTpxRkvEc9RE0EKPiIxvUvzM+B586//OUv6rkUMOzcuVMliVdtAzw4wkdyonYBHiQVrrnwiEqDwHJ1wA0IUQfxBgqYKQsDNgwcADBXXjt3LyhCpW9EgwfViMGCffv2qQMRPIjyY/hIwFcCDtlx58u+QIWFhSp58CCKCkZnO1QikBYShr4MaheqHQDie8CG6ka/BfXKufslD/KCsQEiDA+IATPqHuC+fv26ej29cOGClh/JShqACGAAcKQPAAEcABLJiUoJkImLignI/LjgCvX/LZ4/MEYseJx04BwoLbzv3LVjgMB79zzY2X1DPs4vGs+837g47pm75xueuXt39pbZPePc2vPANF16bu7J5eHi2dkfs3c13SIWPF39o5ZeZDBcLNWDgcenaUYsMYH9i7+GxcBj4GmhnhqQQgeSgcfAY+DxyQMGHp+EsxY69BY6Vmll4DHwmOTxyQMGHp+Ei9XW1P4rdIlq4DHwmOTxyQMGHp+EsxY69BY6Vmll4DHwmOTxyQMGHp+Ei9XW1P4rdIlq4DHwmOTxyQMGHp+EsxY69BY6Vmll4DHwmOTxyQMGHp+Ei9XW1P4rdIkas+Bxa2hghtLSUnWywTO/zMGaGnwU+P3evgudKaOFVlENnrMH10pVxe+dYjQ01MuR7d9KXW21rtpk2TYrNUeMGCHXrl1TJx6sCO1IJbG6k2XXrArtDAg7kqfFjWzARSx4YNDqyjKpKCvWo76+TpqaGqWspECqK8ulvq5W8jLvK0DKigsURMTneU7abVkzZ6hkp93W5dRbtmzRFZy4mMIl1c2bN6W4uFiXbiNNWAYNo+Jlh+XcuJIif5ZN43wDf27c470GXwPEMcaObMbuifqJaPBcOLZZ1s8fLnHLJ0ji0c0KjIUTXpP4VdMkN+Ou7Ph+khTkpMqiyf+W/RvnyPZln0le5j25d+2MfP/FQLl77Yw6C3E+3ADPpUuXZPDgwTJ//nzp1auXvP/++zJy5Ej1GfDZZ5+pVxu89Tx48EB9I+AvDV9w+HdjWTR+CswZhwEHcLYVwu4xlJYe8CSd3iVVlWWyY/lEKS3OlxVfvi35OY+ksaG+GTyrZr0rJU9y5PzhDZJy9aSCbNuScVJdWaEgwbEHP+sFDxIEzzVIHnyp4Rrq5ZdfVrDhSBEPPAAMx4pnzpxp9laK6oazj55o2SyPyAZpxIPnRuJBVdN2rpgs5U8LZeuSsVJb86y/4iQPwKKfcyVhp9y+cqwZPPR5AAHedgLBQz8Idc65g8LrzZAhQ7RPc+zYMZUueO7Bmw0eS/GrRr8H/9l4xzHGjmzG7on6iXjwrF/woexcOVnuJJ2Quroa2bZ0nPZzII4DD8BqbGxoBg9AWj//Q8lNT9H+CVIGL59eyYMjwm3btjWDB9UO/2z4SxszZoz2lfC5xj2qG+588cfGvfM22hMVZHlELkgjGjwXj2+Ru8kJUln+VJrUYWGD3L95TqUMTPXwVqIOFDy8dUEHBB5nP5Si/EyVCvR7Mh9e12v8p+GXDV9sODHEVxqjbkgW+jE4G8TlFDsTbNiwQaUPo3H4hcN3GpKIe3c2ho5chu7Juolo8DzJS9fRtZ4kiOVlwAiVByIWPKH+gMUzZg8XDxh4zDzHBj988oCBxyfhwtXaWb6RI2kNPAYekzw+ecDA45NwJgEiRwKEqy4MPAYekzw+ecDA45Nw4WrtLN/IkXgGHgOPSR6fPGDg8Uk4kwCRIwHCVRcGHgOPSR6fPGDg8Um4cLV2lm/kSDwDj4HHJI9PHjDw+CScSYDIkQDhqgsDj4HHJI9PHjDw+CRcuFo7yzdyJF5Egwc/BvUVDXpw3VnGqaluksbGttNhYRyL3vCaw+K4zuZn30cOo3dHXUQ0eKoy6uT28MeSvbZEGmsbO83M69Y0yePHbYOHlaN4yjl37pw6BOkOgluasQOoiAUPkiZ/b5k8mPZEavLqpbGmUQBTVVqdAqnuaYNUptZK5aNaaWr4HyDwVYBPNnytZWdntwDcrRv4XmuShw+aJC21SdLTmqTB860DDw4+cPjBmQP/Bs53W25urty7d0/9uVFGfLmxnBtfbnfu3JHZs2erh1IDSeyApK26jFzwNDRJ6twiuT4wV0ouVEnezjK5/dFjPXK3lUrRqUq50itLbg7Jk8bq/0mls2fPqm81fA/s2LGjBXgmjW+Sa8lN8sqLjfLFtEYZMbxRbt74H/AceHbt2iVz586VYcOGycCBA1UaffXVV+qyd9CgQeoQBAkFkGbMmCEzZ85UN1aZmZly4MABVf3aIrg9jx1QRS54mpqkMKFCMleWqGS5PjBHym5VS8WDWrk+IEcKDpdLyqf5Ul/e2ML9La6kpk6dKp988olKIC+zOvAM6NcoOdlNEr+jUbZubhs8OEc8cuSI+nbr37+/AqVfv34ya9YseeWVV9RRCL7f8Pl2+fLlFuXw5mvXsQMYb11GLHgoZNHpSsla/VTBc61fjlQ+rJGqzDq59kaOFBwsl7T5RS0kC9/Q4Z8yZYqCp6ysrMV7B56xoxqlrKxJDuxrks0b2wbPqFGj5Pbt2+p+F/BMnDhRvvzyS/XphscdVDo87uzZs0e9jiYlJak7K+e+10tou449AEUFeGC8rFVPJeWTfEkZnS8ZS0tUbUv7urgFOIgXito2fkyjlJe3Dx78t9GPwXc14MHNbu/evdWT6LvvvqvuqwDY999/r44RExIS5LvvvlPXvQaW2ANLYJ1GNHhqCup1UIBC11c0SklilRSfq1RVrSa/Xsrv/X44GWmQl5enHXmkhveH6d+UFDfJjes4cW+SnJwmyUj/n+RhUCA5OVkHGhgwwLcb25Pg5JDdERjCBkD4b0tPT9d7+kn4gSN+Vwyne8tr15ENwIgGjzFPZDPP814/Bh6zMGghnZ93QHTk/w08Bh4Dj08eMPD4JFxHWiiLG5vqp4EnADwMCjBwEMjwDD+zc1zgc7WEyM9XK4SMjAybIA2gZyC9YunewBNQ2di1sYFVYCUfOnRIbd4Cn7PR7zfffKM7zmFdsHnzZt2xITCe3cee9Ik68GBLxjAxLT7Dw04awMQ5OTlqd4btGfZm3slKhq/ZXgRrad67PXYYimaP0qysLLVImDRpkjCHQ9qkwfaKDEfzDZKFM1uWMCFK+rxjBznS41iyZIlKIQNL7IElsE6jDjwAAAZnPga7Mgce1K39+/frtojs+sZkJczufvjRo0fCZlUnTpxQ2zcHnkWLFsn06dPVegCgYEHg9iRlUyv2LV29erUsXrxYrQfYv7Rv3766dylSZuvWrZqmy+fgwYNqceDu7Ry7IIo68CBxsCL44x//KG6vURgUMLBZ7+7du/XAZKagoKAZPHyHJQA2aV6JxA5xAO38+fMKxL179wrPSA+gMCHKOh9UOXaSw+qAXeKQVG+99ZYCiz1LHUgw29m5c2fzvXtu59gDUVSCZ9++ffLSSy+pCuWYEmZHlaLfwYEEYLNe9x7wsJ/ov//9bzWfQc3jYMc4tkscO3asqm+AB8lFeuPGjVMrA9IAeIAHcxzSp28EkLBiQHq59FauXKlS0eVr59gDjavTqAMPywAmTJig/YrPP/+8hRRxP9Xamb4Kah5Mj6RhyQKSavTo0Wolzaa99H2QalhOo8KNHz9e+zek58CDtTYSh/jYvSGVWK7At0ggwMOz1spgz2ILSFEHnqKiouYBAwDhVcGCMScL41goR9+IwQD6MTA7z7BbQwXkHX0oVDj6VsRjQIF06T+RBv0m+lvkizTjYB0PNm9YWDOgEawc9i52ABR14Akn8wEUQBa41CGcZbK8wwdGA0/API8xY/iYMdpob+Ax8Jia6ZMHDDw+CRdtraSVt+slasyBp7a6UmqqK1pdmFZdVSF1tc/s09zAAIMEXsbCSoFBBO8zu+56xosFmsYceNLvXZVHdy61Cp7LJ+Mk/X6yAuPkyZM64hY4rIzpz5w5c2zUzCRyuw1o1IGntqZaMh5ck4wH1+Vx1n1paKiXgpxHkp/9UApyUqUwP0MKH2fos7zMewKYKsqKpSg/S7YtHScn4pdI8ZM8+eyzz9R6mmFmpA2W1G7ZNhOlTLLGQuto/9B9UjPqwFNSmCur5wyR4zsXy+7V0yUv674c27FI1n71viSd3iXJ5/bJ1TO75dCW+QqWk7uXydG4hVL+tFD2rJshF45tkds3r6t0gbGwSpg3b56a1MTFxSlgMPxcunSpgcekT1AeiErwxK+YomrZ9QsH5cqpHXIs7ju5d+20/ujNi4cVPAe3fCV3ryVITXWlxC3/TPs6p/evktSUyzpXA2AAD3M3WAgMHTq02c8b4MHkxlrt7mu1Y4G2UQmerYvHSHFBtpw5sEbuJp+SE7uWSsZ/+zIOPMfjF0vmw+sKmrjlE5rBQ3+IQQJMfLASwEkift6wWWPZApWKdTZHLFSw/UP3NQBRCZ71X3+kqtj5wxukurJcUM3oB8EoDjwndi2RrEc3WoDn4oltcmDTHB2NY2nC+vXr1SiUNThYQ69Zs0ZNcBgwwN+1MV73MV4s0DbqwPO06LEc2rJA6utqpbGhXhm85EmuVFc9WzpdXlok5U+fSPGTHH2GtfOT3DS1eiZObnqKfstQNTZt2KthL8ciOUxvGECwoWoDTSjgjjrwAJrCx5kmFawzH3YeiDrwhNIiWByTHD3BAwYea8HD3oL3BKN3Rx4GHgOPgccnDxh4fBKuO1oySzO61E0Dj4HHJI9PHjDw+CScSYnokhLdUV8GHgOPSR6fPGDg8Um47mjJLM3okmYGHgOPSR6fPGDg8Uk4kxLRJSW6o74MPAYekzw+ecDA45Nw3dGSWZrRJc0MPAYekzw+ecDA45NwJiWiS0p0R30ZeAw8Jnl88kBEg4dtPnCenpKS0upWhbxnpwL8EHS0ZeEbthdhARzn1vYh7WiaFv/5kkYRDR52QRg2bJjutBbonBBGxeF6nz59WgVWe4zMxlfseFBYWKjbiqxYsUJ9G7T3nb1/vgASrL4jFjwsn8b90/vvv98sXZAW7BOKXzWAVVJS0gwe9u1hV7grV67o/ji8O3r0qO7ixhJrQMJucQkJCQoS/LKxSRZpIsHYs4c9eYIRy94ZcLw8EPHgYRMp9skBTPgaYOOpZcuW6ZaHbCiF5GEHOOKxK/UHH3yge4SyGRUupZAuxGMXt1mzZqkkY4c3dn9zTg4B0MaNG9UZiJc4dm1gCcYDEQseCo1LXIDifgAGZ8Nd7tmgl74Q4EHCjBgxQp+zhyi7t7EvKBv1ApTLly/LCy+8IOwkx/aJgIgtFvHPRlqAB0867Brn8rKzAac9Hoga8KBaoa6xQzWeb9idDckBeNgKke3f8cPGDtXslg0QeA/YUP9effVVVcuQQgAM11MAC4mG7zbAhJ/q9ghm7w1UjgeiBjxIEXahHjhwoHr3fPvtt3UrQ8DDwAG+pwcMGKDbvF+7dk3BQH9p0KBBCqS5c+fqt4MHD1YQ4pdt5syZun0iPtu2bNmifR9HGDsbSNrjgYgGT0VFhQ4K8BNbt27VfUGROjhm58wOB1yjdiE98MEGkLhndI4RNe6RLkgu9hllz1DuicM936SmptomvD7nOtpjsFh+H9HgiWXC279Fv2Qz8FiLa/08nzxg4PFJOJMc0S85OluHBh4Dj0kenzxg4PFJuM62WvZ99EsuA4+BxySPTx4w8PgknEmO6Jccna1DA4+BxySPTx4IGTxMNjIx2Z3HDz/8ID///LMdRoOo4IGQwQNjWzAKGAXap8AfiIIJC8aWaWlpYuBpn2gWwygABQw8xgdGAZ8UMPD4JJx9ZhQw8BgPGAV8UiDs4GEMnhWirPZkARtrdDoTfvvtN+HoivDjjz8KyyWCpYc3niNHjuhSB2+e9CPxpcASimgLjIQy6hrsv6uqqgT/ECwJ8YaffvpJdu3apaO13ueRcJ2YmKgLJVlUefz4caF+OxPCDh4qiaXVFy5ckE2bNulqUM4speZghWhpaakcOnRIfv3116D/SjxcWHnjUckwN5XqAgwNAb3P3DvvmUEUloQDhLZCXl6e+lUIBAn3LNLD7wLlwtfC9u3b9bqttPw+h8lxeILzExdY18TiP2/ZYfTTp0+3+9+sg2K5euA/ubQ542eC/2NKwxv4loWINISuDjmz8hf3X+fPn28GJXFpOL315U0LZy/e+Lw7cOCAUKfewGrhQBB737vrRYsWqfMY6IK3psB0XLxQzx0GD6NxuG/C0Yb3WLx4seC9pqOBlnvlypVKUHyzwYxDhgzRkT9G/1gyDZHxufbLL7/ovADMEtgqAgQYaMGCBS0ICfOyktQ7ighjkRctD2m2lh7/QaVSuV5pyDNaZvcNlQajBJYHiXrjxg0Fi2scqGQaAxb3dTSQPvmSv8vbpcEznKLgccgFJOaMGTNaAAA6smSd//b+g/vGnUmfxgXGdYE8oLHLm39AW+DeG0gXz0bkRf3xv/Hx8ZKfny9JSUmyfPny5n+gTqCtS5t0XHqcSZ/47hnvp0yZog2SN0/oTHncP3nfea/5dwd2luP3OHggCn4EaEXxH8BBy84yaKRIR4MDD9/x8/wQ4IEpOSAwrSfgpCVatWqVLFy4UAkIcefPn6++CmjdYRaWbwM0F1oDD3FZsXrmzBlZvXq1tpC0aACJJeB44qHCARmV4ny9kWZWVpbmz3LvtWvXKkPxXWCgwmE2/g9PP5Qd2rHqlf9ESuD1B6bnmneoO4AfRyZ8j4ssnJgg/aALatKGDRu0vNCdfGlFKS+tfXvgAVCkBX34J+i1Y8cOTQda0shAFyQO5aFRc8zGcnbKC72pA94H+29HD/IBNASAgmOWOXPmaDlobAEHq36pU6Qzq35Z8Tt16lT9r1DAQx3SgJEG5UPKUXeAl3rCtwX082oaYRiLuXUAAAxnSURBVAVPZmamo48WipYcRoFJaElCDV7w8A2VBSPQwnDQ8gOijz76SJmjf//+curUKaEyJ0+eLJQDRx8QhspxLZvLvzXwwMC0iDQAqB6oIKNGjdKWjkYAP2+4uIIxCTAz6g4BTz69e/fWpeIwAsvDgwVAgO85GBVg8D1Mg9RGNYK5JkyYoMCBqUhv3rx5mj4SC3dcMAeMxb/BVIDt448/ViCOHz9e6YJfh/bAA83wEUFj9+abb2o6o0ePVrrRIPLf3OMwhUBL7dRl6vXvf/+7Aho1jPoOJQSCh8aNf4TelBdHLwDm9ddf17wAJSCGZtAhFPBAA7SON954Q4HHPyI1abTi4uIUQICFRsuFiAEPDALTZ2RkKCPAxK21Sq7g3nNr4BkyZIhO2tLngJi0Ig48EJb8UD3oJ9EaUkHc+wEPxCXA3OvWrVMw0RojVZBCBFpi8kAVg/lpzQArUoP7YIFy8R9IMBiCf4Mp33nnHXVGAqNShtmzZ6sLLtKCJkgHGgf+lfgTJ05URkLiELinA4xkgilocTsCHqQKjZyTAkOHDlUpBKBhRAJlXrNmjdYt4MFbEf+D5KFBCSUEgod+B/lCQySSAw8NCM+RjjQs8I9T86CBC62pbQ48jhY0NEhxgIoUwunL/v37tewunYgBD4yE2oN4HDlypCI+1P5Pa+ChIr2BSnTggUkIqIjOEygMgAQCPEuWLGkh+ZA8tJSAG/WPyvdKHiddACXShdYetY7RGNJzAQYmLmBxDIBDRQceaODtnLvvaGVhDPKnLIAGX3QwDcxOWahcAIRkgm4wMJ1rpB99QN6TJ60w+j0BRkYtobw4Nxk3btzvwEMLjEpEuVB/vZIH9QymhIkBC/TF+yotNqB0AdURV2CABxrB4EhCBx7oSaPSVggEj5MkSBUveCgrgYYA6Qq9UZ1dfJc+/43qzD+5fB14qA/KR55IV2gD/aElI5/eBj1iwOMkAcyB/g0je1sL9+OtnQEBrT5MQkBFg4m8AULhJhdCOEkB4QAPLTCVCfOSP8RF1XEBINCCwxwQk5E81B5aJMBC55bAc76H6DAilQawXaBSYWLi4+6XSqJyqUgCaVGWwABz0bAAFlQiHDySFgxPfBiS8gIaKp1ntJpUNHnRClPRMDatJ4Ah8M/8Gyor/xyoQiItYUj330gawAMwYVpUX+oIEEF7+n/8N31L1FgX+E9oDmihEfc0Ik7KUSakZluBfweABBoN4pMvEpfnNLj8G+VyAQ2GOps2bVpzfPeOhpJGhbp0gINulI/6oHzkCWAYecVVGd8AfseT0BA6h23AwNvnoVVDhUI9gRCukO6Hg51RyahYKo/At4EtuHsGQ5GXN8CcLj/OvIc5XYCYSC7y4QB0PCMegOMgcM9zl4b73p15DrPC5MR18Vxrhkp26dIlF/13Z8oQ+F/k7b7nA5em+9jdu3Lxry6++w/iOrq4dzzjG6fy8t/kzTO+I19HN/6F71xenAMDjQiM5v6bbx2NGWhw0jDwO+69ccmHe4LL11su7/fEJQ9XTvfO+0/QlMA/EddbPkeLQBoTHykEz5FWZ0KHh6rJkM4lagQdbg76B3TW/Iy2dabw9q1RIJwU6DB4aAlQK+gsew/EMC2cBaPA80KBDoMn0giDKmLBKBAOCoQdPHQOX3vtNe0E0hGk80ffgk5qa/q3IxKgYcIwUFVklIzDG+iLBNPLvXHt2igQKgXCDh5GYBhqZHyfg9E2OoCMrNEBRE0EKACJs7tmCJZJMGcK4n6Y0RwObyAunV46mHzvOsiBaXq/sWujQHsUiAjwMK/D3AIH/SbsoJgMY2j0vffe04lQpBHPGArH7orRrb59+6qZB6BzoTXwsIcPcxUYA/I9s9sM8bohUYaRmSB1I0guLTsbBYJRICLAg2kG8xYcAMGBh7F/BiWQGjA6JjXMLyCVYHTG6hka94Zg4Bk+fLhO7jGxydg/8yekgfo3ZMgQNRPxpmXXRoFgFIgI8DAZ5g0OPEzguf4L8yvMfrODHM9R6ToKHnaSY6idCUrAw8w/5ieYwjDLHth/8pbJro0CgRSIaPAw/M2MPAEGxyKYmXGsDQABlglMzgIkF5A8mPBgl8bBxK1T2wAPfSgHHoweUeNIg1lyAGrBKBAqBcIOHlp7+jDegGkJFgf0a5z5C4MIMDsmGFjh0tnHdJ3ZYi/T8wzTGiQUB3FR9RiYQIqh7gEogMUAAmY1gJT3FowCHaFA2MEDCDi8wT1zZ/eurXvv9y5OR88uDzsbBUKlQNjBE2pBLZ5RINIoYOCJtBqx8kQNBcIOHtQrLGsZfsZsPNDyuKsoSd+KCVhvYC2Ns6rmOdeY7XvVQG98uzYKeCkQdvAw2898DqNejHixStHL0N7CdubauzLUpYNlA5OvLjCQgJW4gcdRxM7BKBB28AAU/AiwQAnJwOgXw9AcOHVITk7WUTF+golSFnIxMYqZDfFZ0ch6ekbRkF6sQMRSgVE2AmdG89zwtZcYgeAhT4bEART5YhOH9x4AznoWRugYATRLBC8Vn9/rsIMHECB5ML2BWVHbaPkZPkYScfAeELASE5Mdlg6zGpT5HlYiIrWY5MRSAOchxGcClDkd3rHw6V//+pcyv7eqA8EDKFl5CCD79Omj6ZAnk7bkydp4VjgyWWvSyUvJ5/M67OBxZAcMqGxYDdDy490FhsWdEBYIrHln+S9gY04G/wLYpCEF6CvB5MzvYH0AAHmHJTUAI3BGcnhDMPCwPJq5JUyCWNZLeQAPTiZQAU36eCn5fF6HHTw4xmD5ASoYTI/9GaoXFtPM/AMMJkxhXPojSBPWvhOHdewYkuIDAEmDcScGn8QBTKhYOP8gXRyDBIKHNfsMEKCWcTjJg6U2+fEMMx78GlAuBhjIm6XHvLPwfFMg7ODBtAYmdhbTSBn6F5jZAABMcFDHcErBeh9afhw/IKlQx1Cz8GEGwwMurAgceLA8oK+DgwyMTwPBgzRBDSNNVD0veEjbgQcLBZadUzYO+lSmtj3fwOHvww4emBDpgUMRBgQwmeEZAwkwM6ABDDxjNIz+h4vDc/pCrNdBneM9pj1cIyVgfqQO0oX7wGXi5ImXFQ7s3cgTDzrEY2ibPPkWgKPCkTcW3iZ1DDgRAR6rBqNAtFIg7JInWgln5TYKGHiMB4wCPikQdvDQr8FLpTtYYsAIHPM29DkI9G2Y6KQv01qgL8IImDcwF+Ndnk2fBT/PbaXh/daujQKhUCDs4HFWAoy4sdiNkS3nNhdGB0AOPHTUOXjmgMUZqwNGx7yB+RmvV1MveALT8H5n10aBUCkQdvC4gjIPgzkOgRE2THZYzIalAZKIoWQkDDsYMJnKKBhzQICECdT2wIPpDUPefAdIcXHFhCrD2Yyscc/cTmf9F7v/sXPsUyBiwdOrVy911M1MPyqY2yUBjzk4eGdYGtMbnHlwhvm9IVDyABJ2cEAakQYWClgdMAHKPBDfY+rDPE53GKZ6y2bXsUGBiAUPXv9hYqQFDO7Ag8UAqhoShIlV4jBp2RHwYI2AeQ1mN0gfNsyiz4UzEA6klAWjQHsUiFjwIA0ACSqWFzxufx4mMgEBPg4YZGgNPEx+0tdhkpPJUyd5kEoEfCJgGgRQGXDAaoHtQ0zytMc29h4KRAx4MK2B2QkYhmIOA3iQDkgWrKuxQKDvQ+AdfSQYnwPHIN7A99jHYbrDe0besFPDIsH1j1AH8cbDPi4AkU2VWJJA2haMAu1RIGLAg4RwlsqMsjnVCamBJMAkh/eY23gDI2eMxvG9N/A90sYdpEkaxHdp8B0HgTxM4ngpaNftUSBiwNNeQe29USDSKGDgibQasfJEDQUMPFFTVVbQSKOAgof+AvMm+BGgj2HBKGAUaJ8CLcCDswsDT/tEsxhGASjQAjwMBRt4jDGMAqFRQMEDYLDpYsLRwBMa4SxWbFHAO7fHtfe+rT9tBg+2X0wgYvaCASY2YKhx9IPsMBrEOg+wu4b7R66990HBw0Qh5i74AmCWH79l7Itz9OhRdfeEGYsdRoPnlQeCgoeZe0bcMP3Hvgupg4slXDphtWyH0SAaeQBPshyhlD1Y3KDgwWQF0xTMVgAQHmJY4YkK196Biod6Z4fRoCt5wKlQgeeO5OG+DeUbF9edvd8EBQ92Xw5ASCDswlDjWOXZ3gHQ8BFth9EgVnkgKHjaemnPjQJGgbYpoKNtbb+2N0YBo0BbFDDwtEUZe24UaIcCBp52CGSvjQJtUeD/AUwYlG3NGM3PAAAAAElFTkSuQmCC)"
      ],
      "metadata": {
        "id": "WyzTA5ZqoTX_"
      }
    },
    {
      "cell_type": "markdown",
      "source": [
        "## 3-3. ファイル出力"
      ],
      "metadata": {
        "id": "IYelHvSsoVr5"
      }
    },
    {
      "cell_type": "markdown",
      "source": [
        "### .write\n",
        "\n",
        "ファイル出力プログラムの流れは、ファイル入力プログラムの流れと似ている。\n",
        "\n",
        "下記に.writeメソッドも用いて文字列を output.txt ファイルに書き込むプログラムを示す。"
      ],
      "metadata": {
        "id": "_-I1DUq4oYPm"
      }
    },
    {
      "cell_type": "code",
      "source": [
        "f = open(\"output.txt\", \"w\")\n",
        "\n",
        "x = \"First Line\\nSecond Line\\nThird Line\"\n",
        "\n",
        "f.write(x)\n",
        "\n",
        "f.close()"
      ],
      "metadata": {
        "id": "lV9-E1fcoUMB"
      },
      "execution_count": null,
      "outputs": []
    },
    {
      "cell_type": "markdown",
      "source": [
        "入力と違い、open関数の第2引数に \"w\" を渡している。これは、ファイルを新規作成で書き込むことを意味する。\n",
        "\n",
        "この他にも、 \"x\" (ファイルがない場合のみ新規作成で書き込み)や \"a\" (末尾に追記)が存在する。"
      ],
      "metadata": {
        "id": "ETIMDmQOonGu"
      }
    },
    {
      "cell_type": "markdown",
      "source": [
        "### .writelines\n",
        "\n",
        ".writelinesメソッドは、文字列を要素とするリストをファイルに書き込む。\n",
        "\n",
        "下記に先ほどと同等の処理を行うプログラムを示す。"
      ],
      "metadata": {
        "id": "kLIYNisfow50"
      }
    },
    {
      "cell_type": "code",
      "source": [
        "f = open(\"output.txt\", \"w\")\n",
        "\n",
        "x = [\"First Line\\n\", \"Second Line\\n\", \"Third Line\"]\n",
        "\n",
        "f.writelines(x)\n",
        "\n",
        "f.close()"
      ],
      "metadata": {
        "id": "Pi74FWHuoptS"
      },
      "execution_count": null,
      "outputs": []
    },
    {
      "cell_type": "markdown",
      "source": [
        "### .joinを用いた複数行書き込み\n",
        "\n",
        "複数行の書き込みを行う際、改行文字の挿入が必要になるが、文字列の.joinメソッドを用いて簡潔に記述することができる。\n",
        "\n",
        "下記にその例を示す。"
      ],
      "metadata": {
        "id": "WSm4WzbOo69C"
      }
    },
    {
      "cell_type": "code",
      "source": [
        "f = open(\"output.txt\", \"w\")\n",
        "\n",
        "x = [\"First Line\", \"Second Line\", \"Third Line\"]\n",
        "\n",
        "x = \"\\n\".join(x)\n",
        "\n",
        "f.write(x)\n",
        "\n",
        "f.close()"
      ],
      "metadata": {
        "id": "g-pVEszvpAwu"
      },
      "execution_count": null,
      "outputs": []
    },
    {
      "cell_type": "markdown",
      "source": [
        "## 3-4. with構文による記述"
      ],
      "metadata": {
        "id": "fT5ncTSOpUnk"
      }
    },
    {
      "cell_type": "markdown",
      "source": [
        "with構文は事前に定義されている終了時の処理をブロックを抜ける際に実行する。\n",
        "\n",
        "open関数の場合は.closeメソッドがそれにあたる。\n",
        "\n",
        "下記にwith構文を用いたファイル入出力の例を示す。"
      ],
      "metadata": {
        "id": "FHuqlLdWpZVj"
      }
    },
    {
      "cell_type": "code",
      "source": [
        "# test.txtの中身をoutput.txtに書き込むプログラム\n",
        "with open(\"test.txt\") as f:\n",
        "  x = f.read()\n",
        "\n",
        "with open(\"output.txt\", \"w\") as f:\n",
        "  f.write(x)"
      ],
      "metadata": {
        "id": "cnCOw7sNpXDZ"
      },
      "execution_count": null,
      "outputs": []
    },
    {
      "cell_type": "markdown",
      "source": [
        "## 練習問題"
      ],
      "metadata": {
        "id": "8Sc89d7RpjOv"
      }
    },
    {
      "cell_type": "markdown",
      "source": [
        "### 3-1."
      ],
      "metadata": {
        "id": "nDKlclXGpp9N"
      }
    },
    {
      "cell_type": "markdown",
      "source": [
        "1行に1つの数値が書かれたファイル numbers.txt の中で、最も大きい数値を標準出力するプログラムを作成せよ。"
      ],
      "metadata": {
        "id": "f09alCtap2-8"
      }
    },
    {
      "cell_type": "markdown",
      "source": [
        "**numbers.txt**\n",
        "\n",
        "5\n",
        "\n",
        "2\n",
        "\n",
        "8\n",
        "\n",
        "9\n",
        "\n",
        "1"
      ],
      "metadata": {
        "id": "SneRbld7p75c"
      }
    },
    {
      "cell_type": "markdown",
      "source": [
        "### 3-2."
      ],
      "metadata": {
        "id": "13H0-J-vqE7D"
      }
    },
    {
      "cell_type": "markdown",
      "source": [
        "1行に1つの自然数が書かれたファイル receipt.txt の中身の合計値を求め、 sum.txt に結果を書き込むプログラムを作成せよ。"
      ],
      "metadata": {
        "id": "R9E4Jwx9qIOB"
      }
    },
    {
      "cell_type": "markdown",
      "source": [
        "**receipt.txt**\n",
        "\n",
        "100\n",
        "\n",
        "20\n",
        "\n",
        "10\n",
        "\n",
        "30\n",
        "\n",
        "50"
      ],
      "metadata": {
        "id": "pe80Ek2FqNtU"
      }
    },
    {
      "cell_type": "markdown",
      "source": [
        "**sum.txt**\n",
        "\n",
        "210"
      ],
      "metadata": {
        "id": "gY-pCUCPqVc3"
      }
    },
    {
      "cell_type": "markdown",
      "source": [
        "### 3-3."
      ],
      "metadata": {
        "id": "kmE0YbLIqpHu"
      }
    },
    {
      "cell_type": "markdown",
      "source": [
        "1行に1つ単語がかかれたファイル words.txt の中で、最も文字数が多い単語を max_words.txt に書き込むプログラムを作成せよ。\n",
        "\n",
        "最も文字数が多い単語が複数存在する場合は1行ずつ書き込むものとし、各行別の単語があるものとする。"
      ],
      "metadata": {
        "id": "7ypbTy5KqwI9"
      }
    },
    {
      "cell_type": "markdown",
      "source": [
        "**words.txt**\n",
        "\n",
        "apple\n",
        "\n",
        "banana\n",
        "\n",
        "orange\n",
        "\n",
        "hello\n",
        "\n",
        "world"
      ],
      "metadata": {
        "id": "-pwYxne0q1ig"
      }
    },
    {
      "cell_type": "markdown",
      "source": [
        "**max_words.txt**\n",
        "\n",
        "banana\n",
        "\n",
        "orange"
      ],
      "metadata": {
        "id": "LAamCHc_q6ho"
      }
    },
    {
      "cell_type": "markdown",
      "source": [
        "# 4. 課題"
      ],
      "metadata": {
        "id": "H0WBErq5rF-k"
      }
    },
    {
      "cell_type": "markdown",
      "source": [
        "## 課題1.\n",
        "数値を要素とする2次元のリストを引数として与え、行と列を入れ替えた2次元のリストを返す関数 transpose を作成せよ。"
      ],
      "metadata": {
        "id": "deQx857xrJkn"
      }
    },
    {
      "cell_type": "code",
      "source": [
        "# transpose関数をここに作成\n",
        "\n",
        "\n",
        "\n",
        "# 下記のように使うことを想定\n",
        "x = [\n",
        "  [1, 2, 3, 4],\n",
        "  [5, 6, 7, 8],\n",
        "  [9, 10, 11, 12]\n",
        "]\n",
        "y = transpose(x)\n",
        "print(y)\n",
        "# [\n",
        "  # [1, 5, 9],\n",
        "  # [2, 6, 10],\n",
        "  # [3, 7, 11],\n",
        "  # [4, 8, 12]\n",
        "# ]"
      ],
      "metadata": {
        "id": "uIoGflWCpltt"
      },
      "execution_count": null,
      "outputs": []
    },
    {
      "cell_type": "markdown",
      "source": [
        "## 課題2.\n",
        "\n",
        "プログラムと勝負を行うじゃんけんプログラムを作成せよ。\n",
        "\n",
        "プログラムが選択する手はランダムとし、勝負がつくまで継続するものとする。"
      ],
      "metadata": {
        "id": "qIlrsstArd-f"
      }
    },
    {
      "cell_type": "markdown",
      "source": [
        "![image.png](data:image/png;base64,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)"
      ],
      "metadata": {
        "id": "Ggx3qPi5rqms"
      }
    },
    {
      "cell_type": "markdown",
      "source": [
        "## 課題3.\n",
        "標準入力で入力ファイル名、検索英単語、出力ファイル名の入力し、入力ファイル内にある検索単語の個数を指定した名前のファイルに出力するプログラムを作成せよ。\n",
        "\n",
        "単語の大文字小文字は区別しないものとする。\n",
        "\n",
        "また、入力ファイルには各行に英文があるものとし、 . と ? 記号が含まれているものとする。"
      ],
      "metadata": {
        "id": "HZ_dHd6qrteC"
      }
    },
    {
      "cell_type": "markdown",
      "source": [
        "![image.png](data:image/png;base64,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)"
      ],
      "metadata": {
        "id": "HHH1geeWr9PT"
      }
    }
  ]
}