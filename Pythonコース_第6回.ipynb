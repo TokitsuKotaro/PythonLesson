{
  "nbformat": 4,
  "nbformat_minor": 0,
  "metadata": {
    "colab": {
      "provenance": []
    },
    "kernelspec": {
      "name": "python3",
      "display_name": "Python 3"
    },
    "language_info": {
      "name": "python"
    }
  },
  "cells": [
    {
      "cell_type": "markdown",
      "source": [
        "# 前書き\n",
        "\n",
        "今回は、データ分析に関するライブラリについて紹介し、\n",
        "\n",
        "基本的なデータビジュアライゼーションが⾏えるようになることを⽬標とする。"
      ],
      "metadata": {
        "id": "0QSY9T8_J4zT"
      }
    },
    {
      "cell_type": "markdown",
      "source": [
        "# 1. NumPy\n",
        "\n",
        "NumPyは効率的な数値計算を⾏える外部モジュールである。\n",
        "\n",
        "特に数値配列の処理に関して優れており、他の科学計算モジュールではNumPyを基盤とした計算を⾏っていることが多い。\n",
        "\n",
        "\n",
        "Python標準にもリスト（配列）があるが、最⼤の違いは処理速度にある。\n",
        "\n",
        "効率的な計算が⾏える設計に加え、NumPy⾃体はC⾔語で記述されており、\n",
        "\n",
        "同じ処理をリストで記述した場合に⽐べ10〜100倍程度⾼速に処理できる。"
      ],
      "metadata": {
        "id": "rlGN__D7J-UC"
      }
    },
    {
      "cell_type": "markdown",
      "source": [
        "## 1-1. 配列の作成\n",
        "\n",
        "NumPyにおける配列の作成⽅法はいくつかあり、⽤途に応じて使い分ける。\n",
        "\n",
        "なお、NumPy配列の型は ndarray である。（N-dimensional array）"
      ],
      "metadata": {
        "id": "408A01VeKKnN"
      }
    },
    {
      "cell_type": "markdown",
      "source": [
        "### array（リストから作成）"
      ],
      "metadata": {
        "id": "5Iqco2BZKSJ4"
      }
    },
    {
      "cell_type": "code",
      "execution_count": null,
      "metadata": {
        "colab": {
          "base_uri": "https://localhost:8080/"
        },
        "id": "Qik2UVcSI2Et",
        "outputId": "5de1dc4d-c07a-476c-dc8d-b9f1edfd7331"
      },
      "outputs": [
        {
          "output_type": "stream",
          "name": "stdout",
          "text": [
            "[1 2 3 4 5 6 7 8 9]\n",
            "[[1 2 3]\n",
            " [4 5 6]\n",
            " [7 8 9]]\n"
          ]
        }
      ],
      "source": [
        "import numpy as np # 慣例的にnpとする\n",
        "\n",
        "# 標準のリストをndarrayに変換\n",
        "data = np.array([1, 2, 3, 4, 5, 6, 7, 8, 9])\n",
        "print(data)\n",
        "\n",
        "data = np.array([\n",
        "  [1, 2, 3],\n",
        "  [4, 5, 6],\n",
        "  [7, 8, 9]\n",
        "])\n",
        "print(data)"
      ]
    },
    {
      "cell_type": "markdown",
      "source": [
        "### empty（未初期化配列の作成）"
      ],
      "metadata": {
        "id": "x0d1lEgIKePm"
      }
    },
    {
      "cell_type": "code",
      "source": [
        "import numpy as np\n",
        "\n",
        "# 要素数10の未初期化ndarrayを作成\n",
        "data = np.empty(10)\n",
        "print(data)\n",
        "\n",
        "# 2×3の未初期化ndarrayを作成\n",
        "data = np.empty((2, 3)) # np.empty([2, 3])\n",
        "print(data)"
      ],
      "metadata": {
        "id": "MutzK3pUKhnU",
        "colab": {
          "base_uri": "https://localhost:8080/"
        },
        "outputId": "9fc84285-eb3b-40bf-c91e-33b402fd972f"
      },
      "execution_count": null,
      "outputs": [
        {
          "output_type": "stream",
          "name": "stdout",
          "text": [
            "[4.98070223e-310 0.00000000e+000 0.00000000e+000 0.00000000e+000\n",
            " 6.71675328e-310 3.11940403e-033 4.99028871e+174 5.20365103e-090\n",
            " 1.43563989e-051 6.71683552e-310]\n",
            "[[4.98070263e-310 0.00000000e+000 1.96871742e-153]\n",
            " [6.01334653e-154 3.71505553e-027 6.32215442e-310]]\n"
          ]
        }
      ]
    },
    {
      "cell_type": "markdown",
      "source": [
        "### zeros, ones, full（特定の値で初期化された配列の作成）\n"
      ],
      "metadata": {
        "id": "Pk5cwsK2kAcL"
      }
    },
    {
      "cell_type": "code",
      "source": [
        "import numpy as np\n",
        "\n",
        "# 要素数10の0で初期化されたndarrayを作成\n",
        "data = np.zeros(10)\n",
        "print(data)\n",
        "\n",
        "# 2×3の0で初期化されたndarrayを作成\n",
        "data = np.zeros((2, 3)) # np.zeros([2, 3])\n",
        "print(data)\n",
        "\n",
        "# 要素数10の1で初期化されたndarrayを作成\n",
        "data = np.ones(10)\n",
        "print(data)\n",
        "\n",
        "# 2×3の1で初期化されたndarrayを作成\n",
        "data = np.ones((2, 3)) # np.ones([2, 3])\n",
        "print(data)\n",
        "\n",
        "# 要素数10の5で初期化されたndarrayを作成\n",
        "data = np.full(10, 5)\n",
        "print(data)\n",
        "\n",
        "# 2×3の5で初期化されたndarrayを作成\n",
        "data = np.full((2, 3), 5)\n",
        "print(data)"
      ],
      "metadata": {
        "colab": {
          "base_uri": "https://localhost:8080/"
        },
        "id": "rEMtC_3vj_Sr",
        "outputId": "eda05681-1979-4846-c4c3-43367e0838e9"
      },
      "execution_count": null,
      "outputs": [
        {
          "output_type": "stream",
          "name": "stdout",
          "text": [
            "[0. 0. 0. 0. 0. 0. 0. 0. 0. 0.]\n",
            "[[0. 0. 0.]\n",
            " [0. 0. 0.]]\n",
            "[1. 1. 1. 1. 1. 1. 1. 1. 1. 1.]\n",
            "[[1. 1. 1.]\n",
            " [1. 1. 1.]]\n",
            "[5 5 5 5 5 5 5 5 5 5]\n",
            "[[5 5 5]\n",
            " [5 5 5]]\n"
          ]
        }
      ]
    },
    {
      "cell_type": "markdown",
      "source": [
        "### arange（等差数列による作成）"
      ],
      "metadata": {
        "id": "wCMiBWQnlu2l"
      }
    },
    {
      "cell_type": "code",
      "source": [
        "import numpy as np\n",
        "\n",
        "# 0〜9のndarrayを作成\n",
        "data = np.arange(10)\n",
        "print(data)\n",
        "\n",
        "# 1〜10のndarrayを作成\n",
        "data = np.arange(1, 11)\n",
        "print(data)\n",
        "\n",
        "# 1〜10まで2刻みのndarrayを作成\n",
        "data = np.arange(1, 10, 2)\n",
        "print(data)\n",
        "\n",
        "# 10〜1まで降順のndarrayを作成\n",
        "data = np.arange(10, 0, -1)\n",
        "print(data)"
      ],
      "metadata": {
        "colab": {
          "base_uri": "https://localhost:8080/"
        },
        "id": "ZDq2G7EKlslr",
        "outputId": "62206089-e559-4283-dd67-ced09cfc2b6a"
      },
      "execution_count": null,
      "outputs": [
        {
          "output_type": "stream",
          "name": "stdout",
          "text": [
            "[0 1 2 3 4 5 6 7 8 9]\n",
            "[ 1  2  3  4  5  6  7  8  9 10]\n",
            "[1 3 5 7 9]\n",
            "[10  9  8  7  6  5  4  3  2  1]\n"
          ]
        }
      ]
    },
    {
      "cell_type": "markdown",
      "source": [
        "### linspace（等間隔数列による作成）"
      ],
      "metadata": {
        "id": "96zjQRg3mERh"
      }
    },
    {
      "cell_type": "code",
      "source": [
        "import numpy as np\n",
        "\n",
        "# np.linspace(最初の数値, 最後の数値, 要素数)\n",
        "\n",
        "# 0～10まで5個の要素を等間隔配置でndarrayを作成\n",
        "data = np.linspace(0, 10, 5)\n",
        "print(data)\n",
        "\n",
        "# 20～10まで3個の要素を等間隔配置でndarrayを作成\n",
        "data = np.linspace(20, 10, 3)\n",
        "print(data)"
      ],
      "metadata": {
        "colab": {
          "base_uri": "https://localhost:8080/"
        },
        "id": "w26_djCBmBwc",
        "outputId": "1588f803-3759-4524-a716-4c6689a8a474"
      },
      "execution_count": null,
      "outputs": [
        {
          "output_type": "stream",
          "name": "stdout",
          "text": [
            "[ 0.   2.5  5.   7.5 10. ]\n",
            "[20. 15. 10.]\n"
          ]
        }
      ]
    },
    {
      "cell_type": "markdown",
      "source": [
        "### 乱数による作成\n"
      ],
      "metadata": {
        "id": "_HbftaPymz7N"
      }
    },
    {
      "cell_type": "code",
      "source": [
        "import numpy as np\n",
        "\n",
        "# シード値の設定（固定乱数列にしたい場合のみ）\n",
        "np.random.seed(123)\n",
        "\n",
        "# [0.0, 1.0)の一様分布に従う要素数10のndarrayを作成\n",
        "data = np.random.rand(10)\n",
        "print(data)\n",
        "\n",
        "# [0.0, 1.0)の一様分布に従う2×3のndarrayを作成\n",
        "data = np.random.rand(2, 3)\n",
        "print(data)\n",
        "\n",
        "# [0.0, 1.0)の一様分布に従う2×3のndarrayを作成\n",
        "data = np.random.random_sample((2, 3))\n",
        "print(data)\n",
        "\n",
        "# [0, 10)の一様分布に従う2×3のndarrayを作成\n",
        "data = np.random.randint(0, 10, (2, 3))\n",
        "print(data)\n",
        "\n",
        "# 平均60、標準偏差20の正規分布に従う要素数10のndarrayを作成\n",
        "data = np.random.normal(60, 20, 10)\n",
        "print(data)\n",
        "\n",
        "# 平均60、標準偏差20の正規分布に従う2×3のndarrayを作成\n",
        "data = np.random.normal(60, 20, (2, 3))\n",
        "print(data)"
      ],
      "metadata": {
        "colab": {
          "base_uri": "https://localhost:8080/"
        },
        "id": "jCSpmDTOm2KW",
        "outputId": "99c771cd-10f6-4405-8b81-4881f6cfe564"
      },
      "execution_count": null,
      "outputs": [
        {
          "output_type": "stream",
          "name": "stdout",
          "text": [
            "[0.69646919 0.28613933 0.22685145 0.55131477 0.71946897 0.42310646\n",
            " 0.9807642  0.68482974 0.4809319  0.39211752]\n",
            "[[0.34317802 0.72904971 0.43857224]\n",
            " [0.0596779  0.39804426 0.73799541]]\n",
            "[[0.18249173 0.17545176 0.53155137]\n",
            " [0.53182759 0.63440096 0.84943179]]\n",
            "[[9 3 4]\n",
            " [6 1 5]]\n",
            "[34.92238665 47.24496995 78.14210392 31.426386   57.1986256  42.76490208\n",
            " 54.88761259  4.02821789 24.56933791 46.00245531]\n",
            "[[78.54924864 56.52728634 60.05691832]\n",
            " [73.76445422 42.40927314 65.67254648]]\n"
          ]
        }
      ]
    },
    {
      "cell_type": "markdown",
      "source": [
        "その他、ガンマ分布やカイ⼆乗分布などもある。"
      ],
      "metadata": {
        "id": "GBgUHM8unATw"
      }
    },
    {
      "cell_type": "markdown",
      "source": [
        "## 1-2. 演算\n",
        "\n",
        "通常のリストであれば for in ⽂が必要な処理であっても、\n",
        "\n",
        "ndarrayにおける算術演算は全ての要素に対して処理が適⽤されるため簡潔に記述できる。\n"
      ],
      "metadata": {
        "id": "EcTaVlkSnN4h"
      }
    },
    {
      "cell_type": "code",
      "source": [
        "import numpy as np\n",
        "\n",
        "x = np.array([2, 4, 6, 8, 10])\n",
        "y = np.array([1, 3, 5, 7, 9])\n",
        "\n",
        "# ndarray同士の演算は、shapeが同一であれば対応する要素ごとに適用される\n",
        "print(x + y)\n",
        "print(x - y)\n",
        "print(x * y)\n",
        "print(x / y)\n",
        "print(x ** y)\n",
        "print(x // y)\n",
        "\n",
        "# ndarrayと単一の値の演算は、全ての要素に対して適用される\n",
        "print(x + 10)\n",
        "print(x - 1)\n",
        "print(x * 2)\n",
        "print(x / 2)\n",
        "print(x < 3)\n",
        "print(x >= 3)"
      ],
      "metadata": {
        "colab": {
          "base_uri": "https://localhost:8080/"
        },
        "id": "S4d-tg6Em-Pj",
        "outputId": "0d2f8a28-4637-42ac-9357-78df7d2961ee"
      },
      "execution_count": null,
      "outputs": [
        {
          "output_type": "stream",
          "name": "stdout",
          "text": [
            "[ 3  7 11 15 19]\n",
            "[1 1 1 1 1]\n",
            "[ 2 12 30 56 90]\n",
            "[2.         1.33333333 1.2        1.14285714 1.11111111]\n",
            "[         2         64       7776    2097152 1000000000]\n",
            "[2 1 1 1 1]\n",
            "[12 14 16 18 20]\n",
            "[1 3 5 7 9]\n",
            "[ 4  8 12 16 20]\n",
            "[1. 2. 3. 4. 5.]\n",
            "[ True False False False False]\n",
            "[False  True  True  True  True]\n"
          ]
        }
      ]
    },
    {
      "cell_type": "markdown",
      "source": [
        "なお、上記の x + 10 などは、\n",
        "\n",
        "内部的には x + np.array([10, 10, 10, 10, 10]) のように⾃動で要素数を合わせてくれるため\n",
        "\n",
        "計算が可能となっている。\n",
        "\n",
        "この機能をブロードキャストと呼ぶ。"
      ],
      "metadata": {
        "id": "78mg12ftncO2"
      }
    },
    {
      "cell_type": "markdown",
      "source": [
        "## 1-3. 要素の参照\n",
        "\n",
        "標準のリスト同様、ndarrayオブジェクトは x[1][2] のようにアクセスが可能。\n",
        "\n",
        "また、スライスを利⽤することができ、かつ値の更新の際にも利⽤できる。\n"
      ],
      "metadata": {
        "id": "d41uWAdenjmh"
      }
    },
    {
      "cell_type": "code",
      "source": [
        "import numpy as np\n",
        "\n",
        "\n",
        "x = np.array([0, 1, 2, 3, 4, 5])\n",
        "x[0] = 10\n",
        "print(x)\n",
        "\n",
        "print(x[2:5])\n",
        "\n",
        "x[0:3] = 20\n",
        "print(x)\n"
      ],
      "metadata": {
        "colab": {
          "base_uri": "https://localhost:8080/"
        },
        "id": "EkDkVcBCnagq",
        "outputId": "13ab9baa-dc40-4c6b-9573-c626312ec57a"
      },
      "execution_count": null,
      "outputs": [
        {
          "output_type": "stream",
          "name": "stdout",
          "text": [
            "[10  1  2  3  4  5]\n",
            "[2 3 4]\n",
            "[20 20 20  3  4  5]\n"
          ]
        }
      ]
    },
    {
      "cell_type": "markdown",
      "source": [
        "また、ブールインデックス参照という機能がある。\n",
        "\n",
        "真偽値の配列を⽤いて、Trueの要素を抽出することができる。"
      ],
      "metadata": {
        "id": "VBD52GXKnuj6"
      }
    },
    {
      "cell_type": "code",
      "source": [
        "import numpy as np\n",
        "\n",
        "x = np.array([3, 1, 4, 0, 2, 5])\n",
        "print(x < 3)\n",
        "\n",
        "y = x[x < 3]\n",
        "print(y)\n"
      ],
      "metadata": {
        "colab": {
          "base_uri": "https://localhost:8080/"
        },
        "id": "yqg-yUxKnscK",
        "outputId": "0cdbd6ea-2d42-4173-dfd6-b4c2f254b3bc"
      },
      "execution_count": null,
      "outputs": [
        {
          "output_type": "stream",
          "name": "stdout",
          "text": [
            "[False  True False  True  True False]\n",
            "[1 0 2]\n"
          ]
        }
      ]
    },
    {
      "cell_type": "markdown",
      "source": [
        "## 1-4. インスタンス変数\n",
        "\n",
        "ndarrayオブジェクトが持つ変数がいくつかあるので、ここで紹介する。"
      ],
      "metadata": {
        "id": "X4aeT4G6n1jy"
      }
    },
    {
      "cell_type": "markdown",
      "source": [
        "### .size（要素数）"
      ],
      "metadata": {
        "id": "6bFLjXaAn8Ml"
      }
    },
    {
      "cell_type": "code",
      "source": [
        "import numpy as np\n",
        "\n",
        "data = np.array([1, 2, 3, 4, 5])\n",
        "print(data.size)\n",
        "\n",
        "data = np.array([\n",
        "  [1, 2, 3],\n",
        "  [4, 5, 6]\n",
        "])\n",
        "print(data.size)"
      ],
      "metadata": {
        "colab": {
          "base_uri": "https://localhost:8080/"
        },
        "id": "hJFfoYjCnz7N",
        "outputId": "6c10e680-5509-4737-cdc2-26e522acce3b"
      },
      "execution_count": null,
      "outputs": [
        {
          "output_type": "stream",
          "name": "stdout",
          "text": [
            "5\n",
            "6\n"
          ]
        }
      ]
    },
    {
      "cell_type": "markdown",
      "source": [
        "### .ndim（次元数）\n"
      ],
      "metadata": {
        "id": "MF74HPUuoFaf"
      }
    },
    {
      "cell_type": "code",
      "source": [
        "import numpy as np\n",
        "\n",
        "# 1次元\n",
        "data = np.array([1, 2, 3])\n",
        "print(data.ndim)\n",
        "\n",
        "# 2次元\n",
        "data = np.array([\n",
        "  [1, 2, 3],\n",
        "  [4, 5, 6]\n",
        "])\n",
        "print(data.ndim)\n",
        "\n",
        "# 3次元\n",
        "data = np.array([\n",
        "  [\n",
        "    [1, 2],\n",
        "    [3, 4]\n",
        "  ],\n",
        "  [\n",
        "    [5, 6],\n",
        "    [7, 8]\n",
        "  ]\n",
        "])\n",
        "print(data.ndim)"
      ],
      "metadata": {
        "colab": {
          "base_uri": "https://localhost:8080/"
        },
        "id": "mQBN4hyJoDvu",
        "outputId": "02db91df-28da-42e2-9ec7-eda2d55f7439"
      },
      "execution_count": null,
      "outputs": [
        {
          "output_type": "stream",
          "name": "stdout",
          "text": [
            "1\n",
            "2\n",
            "3\n"
          ]
        }
      ]
    },
    {
      "cell_type": "markdown",
      "source": [
        "### .shape（次元ごとの要素数）"
      ],
      "metadata": {
        "id": "991M_aGyoSoU"
      }
    },
    {
      "cell_type": "code",
      "source": [
        "import numpy as np\n",
        "\n",
        "data = np.array([1, 2, 3])\n",
        "print(data.shape)\n",
        "\n",
        "data = np.array([\n",
        "  [1, 2, 3],\n",
        "  [4, 5, 6]\n",
        "])\n",
        "print(data.shape)\n",
        "\n",
        "data = np.array([\n",
        "  [\n",
        "    [1, 2],\n",
        "    [3, 4]\n",
        "  ],\n",
        "  [\n",
        "    [5, 6],\n",
        "    [7, 8]\n",
        "  ]\n",
        "])\n",
        "print(data.shape)"
      ],
      "metadata": {
        "colab": {
          "base_uri": "https://localhost:8080/"
        },
        "id": "P2ifTTg7oQiE",
        "outputId": "be3b9423-42bd-421f-d68e-6f224f07bd01"
      },
      "execution_count": null,
      "outputs": [
        {
          "output_type": "stream",
          "name": "stdout",
          "text": [
            "(3,)\n",
            "(2, 3)\n",
            "(2, 2, 2)\n"
          ]
        }
      ]
    },
    {
      "cell_type": "markdown",
      "source": [
        "### .dtype（要素の型）"
      ],
      "metadata": {
        "id": "E5-qW1aqoelr"
      }
    },
    {
      "cell_type": "code",
      "source": [
        "import numpy as np\n",
        "\n",
        "data = np.array([1, 2, 3])\n",
        "print(data.dtype)"
      ],
      "metadata": {
        "colab": {
          "base_uri": "https://localhost:8080/"
        },
        "id": "RSDo2WySocoj",
        "outputId": "a713a7b4-e429-4e84-d5ba-14be308c3dee"
      },
      "execution_count": null,
      "outputs": [
        {
          "output_type": "stream",
          "name": "stdout",
          "text": [
            "int64\n"
          ]
        }
      ]
    },
    {
      "cell_type": "markdown",
      "source": [
        "NumPyにおける値の型は細かく⽤意されている。\n",
        "\n",
        "必要⼗分な精度の型を選択することによって、\n",
        "\n",
        "より⾼速かつメモリ効率の良いプログラムが記述できる。"
      ],
      "metadata": {
        "id": "kXTlIgPZolN_"
      }
    },
    {
      "cell_type": "code",
      "source": [
        "import numpy as np\n",
        "\n",
        "data = np.array([3, 5, 6, 1, 2, 8, 7, 0, 9, 4], dtype=\"int8\")\n",
        "print(data)\n",
        "print(data.dtype)"
      ],
      "metadata": {
        "colab": {
          "base_uri": "https://localhost:8080/"
        },
        "id": "jmUbFCi2ojKF",
        "outputId": "6555a465-f612-4e67-c96f-f07311067dff"
      },
      "execution_count": null,
      "outputs": [
        {
          "output_type": "stream",
          "name": "stdout",
          "text": [
            "[3 5 6 1 2 8 7 0 9 4]\n",
            "int8\n"
          ]
        }
      ]
    },
    {
      "cell_type": "markdown",
      "source": [
        "型の種類は、\n",
        "\n",
        "符合付き整数の int8, int16, int32, int64 、\n",
        "\n",
        "符合なし整数の uint8, uint16, uint32, uint64 、\n",
        "\n",
        "浮動⼩数点数型の float16, float32. float64,\n",
        " float128 、\n",
        "\n",
        "真偽値型の bool がある。\n",
        "\n",
        "型名についている数値はビット数。\n"
      ],
      "metadata": {
        "id": "9M77tGknosvM"
      }
    },
    {
      "cell_type": "markdown",
      "source": [
        "## 1-5. 関数・メソッド\n",
        "\n",
        "NumPyが持つ関数とndarrayオブジェクトが持つメソッドについて紹介する。\n",
        "\n",
        "ここでは、配列の作成で使っていない関数について説明する。\n"
      ],
      "metadata": {
        "id": "6xbioJ2mo4ba"
      }
    },
    {
      "cell_type": "markdown",
      "source": [
        "### copy（ディープコピー）\n",
        "\n",
        "ndarrayオブジェクトをディープコピーする際、単に代⼊をしてしまうと参照が発⽣するため、専⽤の関数 copy を使う。\n",
        "\n",
        "なお、参照が発⽣するコピーのことを\n",
        "シャローコピーと呼ぶ。"
      ],
      "metadata": {
        "id": "PIMB8jZWpEYb"
      }
    },
    {
      "cell_type": "code",
      "source": [
        "import numpy as np\n",
        "\n",
        "# 正しくないコピーの例\n",
        "x = np.array([1, 2, 3, 4, 5])\n",
        "y = x\n",
        "y[0] = 10\n",
        "print(x)\n",
        "print(y)\n",
        "\n",
        "# 正しいコピーの例\n",
        "x = np.array([1, 2, 3, 4, 5])\n",
        "y = np.copy(x)\n",
        "y[0] = 10\n",
        "print(x)\n",
        "print(y)"
      ],
      "metadata": {
        "colab": {
          "base_uri": "https://localhost:8080/"
        },
        "id": "3vva4Z_3oq8R",
        "outputId": "5cadc892-7178-4e46-8bcf-fa6058e5aa0d"
      },
      "execution_count": null,
      "outputs": [
        {
          "output_type": "stream",
          "name": "stdout",
          "text": [
            "[10  2  3  4  5]\n",
            "[10  2  3  4  5]\n",
            "[1 2 3 4 5]\n",
            "[10  2  3  4  5]\n"
          ]
        }
      ]
    },
    {
      "cell_type": "markdown",
      "source": [
        "### reshape（形状変形）\n",
        "\n",
        "reshape 関数は、ある次元の配列を別の次元に変形することができる。"
      ],
      "metadata": {
        "id": "PFO6YExPpeNA"
      }
    },
    {
      "cell_type": "code",
      "source": [
        "import numpy as np\n",
        "\n",
        "data = np.array([1, 2, 3, 4, 5, 6, 7, 8, 9])\n",
        "# 3×3に変形\n",
        "data = data.reshape(3, 3)\n",
        "print(data)\n",
        "\n",
        "# 2×2×2に変形\n",
        "data = np.arange(8).reshape((2, 2, 2)) # タプルで渡すことも可\n",
        "print(data)\n",
        "\n",
        "data = np.array([\n",
        "  [1, 2, 3],\n",
        "  [4, 5, 6],\n",
        "  [7, 8, 9]\n",
        "])\n",
        "\n",
        "# 1次元に変形\n",
        "data = data.reshape(data.size) # data.sizeは9\n",
        "print(data)"
      ],
      "metadata": {
        "colab": {
          "base_uri": "https://localhost:8080/"
        },
        "id": "qP00xqyipPYE",
        "outputId": "390b31ef-2cab-49be-e30f-a6673eedf77b"
      },
      "execution_count": null,
      "outputs": [
        {
          "output_type": "stream",
          "name": "stdout",
          "text": [
            "[[1 2 3]\n",
            " [4 5 6]\n",
            " [7 8 9]]\n",
            "[[[0 1]\n",
            "  [2 3]]\n",
            "\n",
            " [[4 5]\n",
            "  [6 7]]]\n",
            "[1 2 3 4 5 6 7 8 9]\n"
          ]
        }
      ]
    },
    {
      "cell_type": "markdown",
      "source": [
        "### unique（重複排除）\n",
        "\n",
        "unique 関数は重複する要素を排除した新たなndarrayを返す。"
      ],
      "metadata": {
        "id": "qcmIss4Vpth1"
      }
    },
    {
      "cell_type": "code",
      "source": [
        "import numpy as np\n",
        "\n",
        "data = np.array([1, 1, 1, 2, 2, 3, 3, 3, 4])\n",
        "data = np.unique(data)\n",
        "\n",
        "print(data)"
      ],
      "metadata": {
        "colab": {
          "base_uri": "https://localhost:8080/"
        },
        "id": "WboEI1hzpnex",
        "outputId": "10f64ca5-323e-4dfc-d03d-f86d2539d461"
      },
      "execution_count": null,
      "outputs": [
        {
          "output_type": "stream",
          "name": "stdout",
          "text": [
            "[1 2 3 4]\n"
          ]
        }
      ]
    },
    {
      "cell_type": "markdown",
      "source": [
        "### 数学関数\n",
        "\n",
        "max や sum といった数学関連の関数が⽤意されている。"
      ],
      "metadata": {
        "id": "yEaikPjMp5EA"
      }
    },
    {
      "cell_type": "code",
      "source": [
        "import numpy as np\n",
        "\n",
        "data = np.array([1, 2, 3, 4, 5])\n",
        "\n",
        "print(np.max(data))\n",
        "print(np.min(data))\n",
        "print(np.sum(data))\n",
        "print(np.sqrt(data))\n",
        "print(np.sin(data))\n",
        "\n",
        "# 多次元に対しては軸ごとの計算も可能\n",
        "data = np.array([\n",
        "  [1, 2, 3],\n",
        "  [4, 5, 6],\n",
        "  [7, 8, 9]\n",
        "])\n",
        "print(np.max(data))\n",
        "print(np.max(data, axis=0)) # 列ごとの最大値\n",
        "print(np.max(data, axis=1)) # 行ごとの最大値"
      ],
      "metadata": {
        "colab": {
          "base_uri": "https://localhost:8080/"
        },
        "id": "EwE4xPytp3Zx",
        "outputId": "9ce2b98b-0524-4cc9-b129-b8ba751b864b"
      },
      "execution_count": null,
      "outputs": [
        {
          "output_type": "stream",
          "name": "stdout",
          "text": [
            "5\n",
            "1\n",
            "15\n",
            "[1.         1.41421356 1.73205081 2.         2.23606798]\n",
            "[ 0.84147098  0.90929743  0.14112001 -0.7568025  -0.95892427]\n",
            "9\n",
            "[7 8 9]\n",
            "[3 6 9]\n"
          ]
        }
      ]
    },
    {
      "cell_type": "markdown",
      "source": [
        "### dot（⾏列の掛け算）\n",
        "\n",
        "dot 関数は⾏列の掛け算を⾏う。\n",
        "\n",
        "線形代数については触れないため、紹介に留める。"
      ],
      "metadata": {
        "id": "drxPKeN_qEcx"
      }
    },
    {
      "cell_type": "code",
      "source": [
        "import numpy as np\n",
        "\n",
        "np.random.seed(123)\n",
        "\n",
        "x = np.random.randint(0, 10, (3, 3))\n",
        "y = np.random.randint(0, 10, (3, 3))\n",
        "\n",
        "print(x)\n",
        "print(y)\n",
        "\n",
        "z = np.dot(x, y)\n",
        "print(z)"
      ],
      "metadata": {
        "colab": {
          "base_uri": "https://localhost:8080/"
        },
        "id": "93MwRnjKqA92",
        "outputId": "a130cad3-20ba-4e23-c48c-2a01697e3fe7"
      },
      "execution_count": null,
      "outputs": [
        {
          "output_type": "stream",
          "name": "stdout",
          "text": [
            "[[2 2 6]\n",
            " [1 3 9]\n",
            " [6 1 0]]\n",
            "[[1 9 0]\n",
            " [0 9 3]\n",
            " [4 0 0]]\n",
            "[[26 36  6]\n",
            " [37 36  9]\n",
            " [ 6 63  3]]\n"
          ]
        }
      ]
    },
    {
      "cell_type": "markdown",
      "source": [
        "### sort（並び替え）\n",
        "\n",
        "sort 関数は要素の並び替えを⾏う。\n",
        "\n",
        "組み込み関数 sorted にあるreverseの機能がないため、スライスなど使ってリバースする。"
      ],
      "metadata": {
        "id": "othaDymrqN4C"
      }
    },
    {
      "cell_type": "code",
      "source": [
        "import numpy as np\n",
        "\n",
        "data = np.array([2, 5, 1, 4, 7, 9, 0, 3, 8, 6])\n",
        "\n",
        "sorted_data = np.sort(data)\n",
        "print(sorted_data)\n",
        "print(sorted_data[::-1])\n"
      ],
      "metadata": {
        "colab": {
          "base_uri": "https://localhost:8080/"
        },
        "id": "Jk42DJckqM-E",
        "outputId": "3c33bd9e-ab76-4dbe-aad4-129b3dbfbb25"
      },
      "execution_count": null,
      "outputs": [
        {
          "output_type": "stream",
          "name": "stdout",
          "text": [
            "[0 1 2 3 4 5 6 7 8 9]\n",
            "[9 8 7 6 5 4 3 2 1 0]\n"
          ]
        }
      ]
    },
    {
      "cell_type": "markdown",
      "source": [
        "### choice（ランダム抽出）\n",
        "\n",
        "choice 関数は numpy.random に属する関数で、ndarrayの中からいくつかの要素を抽出して新たなndarrayを返す。\n",
        "\n",
        "復元抽出と⾮復元抽出がある。"
      ],
      "metadata": {
        "id": "6kjHZF_IqX0H"
      }
    },
    {
      "cell_type": "code",
      "source": [
        "import numpy as np\n",
        "\n",
        "np.random.seed(123)\n",
        "\n",
        "data = np.array([1, 2, 3, 4, 5, 6, 7, 8, 9])\n",
        "\n",
        "x = np.random.choice(data, 5)\n",
        "print(x)\n",
        "\n",
        "x = np.random.choice(data, 5, replace = False)\n",
        "print(x)"
      ],
      "metadata": {
        "colab": {
          "base_uri": "https://localhost:8080/"
        },
        "id": "__zxYHzKqXBZ",
        "outputId": "27364aff-1160-4f47-bbf3-35134efbe74b"
      },
      "execution_count": null,
      "outputs": [
        {
          "output_type": "stream",
          "name": "stdout",
          "text": [
            "[3 3 7 2 4]\n",
            "[5 4 3 9 6]\n"
          ]
        }
      ]
    },
    {
      "cell_type": "markdown",
      "source": [
        "### append（追加）\n",
        "\n",
        "append 関数は、指定したndarrayに要素やリストを追加する。\n"
      ],
      "metadata": {
        "id": "rJO7jFLqqojr"
      }
    },
    {
      "cell_type": "code",
      "source": [
        "import numpy as np\n",
        "\n",
        "data = np.array([1, 2, 3, 4, 5])\n",
        "data = np.append(data, 6)\n",
        "\n",
        "print(data)\n",
        "\n",
        "data = np.append(data, [7, 8, 9])\n",
        "print(data)"
      ],
      "metadata": {
        "colab": {
          "base_uri": "https://localhost:8080/"
        },
        "id": "RCLQT1mIqmqQ",
        "outputId": "3e145841-d7a8-44ed-9398-6bdb6be59a75"
      },
      "execution_count": null,
      "outputs": [
        {
          "output_type": "stream",
          "name": "stdout",
          "text": [
            "[1 2 3 4 5 6]\n",
            "[1 2 3 4 5 6 7 8 9]\n"
          ]
        }
      ]
    },
    {
      "cell_type": "markdown",
      "source": [
        "### concatenate（結合）\n",
        "\n",
        "concatenate 関数はndarrayを結合して新たなndarrayを返す。"
      ],
      "metadata": {
        "id": "pgJ8a_Tlqxa8"
      }
    },
    {
      "cell_type": "code",
      "source": [
        "import numpy as np\n",
        "\n",
        "x = np.array([\n",
        "  [1, 2, 3],\n",
        "  [4, 5, 6]\n",
        "])\n",
        "y = np.array([\n",
        "  [2, 4, 6],\n",
        "  [8, 10, 12]\n",
        "])\n",
        "\n",
        "z = np.concatenate([x, y], axis=0)\n",
        "print(z)\n",
        "\n",
        "z = np.concatenate([x, y], axis=1)\n",
        "print(z)"
      ],
      "metadata": {
        "colab": {
          "base_uri": "https://localhost:8080/"
        },
        "id": "c-E4G948qviF",
        "outputId": "14683014-9019-41f6-bb51-fda34c910148"
      },
      "execution_count": null,
      "outputs": [
        {
          "output_type": "stream",
          "name": "stdout",
          "text": [
            "[[ 1  2  3]\n",
            " [ 4  5  6]\n",
            " [ 2  4  6]\n",
            " [ 8 10 12]]\n",
            "[[ 1  2  3  2  4  6]\n",
            " [ 4  5  6  8 10 12]]\n"
          ]
        }
      ]
    },
    {
      "cell_type": "markdown",
      "source": [
        "## 練習問題"
      ],
      "metadata": {
        "id": "1_ov-GkCq7pP"
      }
    },
    {
      "cell_type": "markdown",
      "source": [
        "### 1-1.\n",
        "1から20までの連続した整数を要素として持つndarrayを作成し、\n",
        "\n",
        "その合計値を出⼒するプログラムを作成せよ。"
      ],
      "metadata": {
        "id": "WLzftbojrMog"
      }
    },
    {
      "cell_type": "markdown",
      "source": [
        "![image.png](data:image/png;base64,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)"
      ],
      "metadata": {
        "id": "AyBbW2knrYv3"
      }
    },
    {
      "cell_type": "markdown",
      "source": [
        "### 1-2.\n",
        "\n",
        "1から10までの整数の乱数20個で構成されるndarrayを作成し、\n",
        "\n",
        "後半10個の要素を30で置き換えて出⼒するプログラムを作成せよ。"
      ],
      "metadata": {
        "id": "9m-dj3xKraIW"
      }
    },
    {
      "cell_type": "markdown",
      "source": [
        "![image.png](data:image/png;base64,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)"
      ],
      "metadata": {
        "id": "Oj77sygVrlvg"
      }
    },
    {
      "cell_type": "markdown",
      "source": [
        "※シード値123の場合の出力結果"
      ],
      "metadata": {
        "id": "NbFB4jBprnXJ"
      }
    },
    {
      "cell_type": "markdown",
      "source": [
        "### 1-3.\n",
        "\n",
        " 平均100、標準偏差50の正規分布に従う乱数25個で構成されるndarrayを作成し、\n",
        "\n",
        " その中から75以下の値のみ抽出したndarrayを出⼒するプログラムを作成せよ。"
      ],
      "metadata": {
        "id": "2d2qA-lyrvxl"
      }
    },
    {
      "cell_type": "markdown",
      "source": [
        "![image.png](data:image/png;base64,iVBORw0KGgoAAAANSUhEUgAAAf8AAACPCAYAAAD0pNLLAAAAAXNSR0IArs4c6QAAAARnQU1BAACxjwv8YQUAAAAJcEhZcwAADsMAAA7DAcdvqGQAAKmcSURBVHhe7d0HuDVXVT7wg9gFKXbsiIoNewtiARWIikpAsaEfKhgwghpCQkjvEAIBEhVIhPshkqugQFCwYEHFLjZE7AV77/3857dz3++/M5mZU+65X77vnr2e5zz33DMze6+91rvetfaeM/vcYd7Jv/zLv8z+8z//c/ZP//RPs3/8x3+c3flOd56diPIO7/AOs7vd/W57/zVp0qRJkyZNpkTeHJK32vvbpEmTJk2aNNkSacm/SZMmTZo02TIZXPa/613uunf4xJK3f/u3n93lrnfZ+69JkyZNmjRpMiVjy/63Sf7/9m//NvuIj/iIvcNNmjRp0qRJk8Mmbdm/SZMmTZo02TJpyb9JkyZNmjTZMmnJv0mTJk2aNNkyacm/SZMmTZo02TJpyb9JkyZNmjTZMmnJv0mTJk2aNNkyacm/SZMmTZo02TJpyb9JkyZNmjTZMmnJv0mTJk2aNNkyORQ7/P3f//3f7M///M9nf/d3f7f3yWz2ju/4jrN73OMeo1sb1tKZoLze6q1uqYXyf19yfEzoMSR3uMMdyos4J+/zl/j8X//1X4u+b/3Wb7336f+Xvo6R//7v/y4+05Zr3+Zt3qZ8/l//9V+zf//3fy9bIr/t277trfoifM1G6Uvb0cF7x9LWMpKx66ffF8m4c0wf//Ef/1Fed77znQfHPCawqj3juuMd77j36S3iGHtozxgcj259YUt6/M///E+55p3e6Z1uZQ+vvmQM2mRf79m4xo622J8/6FgfE2v6u9Od7rSSfaNPbcPIqrZfJFN9kbH2jJu9javGaXxizOyb6/QxZPtaokvdHsyzvfNr2x+EGCv9//d//7f4s483so596Q/72vSKGBvsGFf6ig1qqfujGxuye423iL4c1yY719K3r/exr88SQwchQ+Mi9dhyTv3ZIqE/HguH1ddpa8j2bOgzvuyPWXuO+WwIb/qCxZpntTMk9bUZW7+94yUbS/5+E0ACdv2YvNu7vdvsvd7rvQaDfD/COS9+8Ytnb37zm0sfnPSe7/mes8/8zM8s/08JJ/32b//27Bd+4RdmX/zFX1wS0d/+7d/OXvayl+2dcYu83/u93+yzPuuzioOHBDh+6qd+avYHf/AHe5/cIu/7vu87u+9971tA8+u//uuzX/3VX5198id/8uxDP/RDi56c/9d//dezH//xH5/95V/+5ewud7nL7H73u9/sAz/wA/damJWE8YY3vKGA9tM+7dMKYI35d3/3d2e//Mu/XK4H3gc96EGzD//wD5/9zu/8zuz1r3/97C/+4i9Ke/T+oA/6oGJ3ftLXH//xH8/e7u3ebvYZn/EZsw/5kA8phdP3fu/3Fv+xyfu8z/vMPudzPmd297vffU+LYUHef/iHfzj7lV/5leLbj/7ojy42rOWP/uiPZj/5kz85++zP/uzZe7zHe5QA+fmf//nZz/7sz5b+2FZf7/7u7753xbCwMV/pS8Dd6173mn3iJ35i0RFhsq9XisAv+7Ivm73zO7/z7BWveEWxYS0f9mEfNvuET/iE2Q/+4A8Wu2v7rne9a2mPb37/939/9hM/8RN7Z98ijn/cx31csf0v/uIvzv7+7/++fM62n/RJn1Rs/cM//MPFLyFw43Kcf3Z3dwu2XE+vL/qiLyr2mBLX/dVf/dXsl37plwpe6Peu7/qu5RjbwxtssP3HfMzHlARbC9sbxwMf+MASC1NEw+//8A//UMbGXp/6qZ9a2q2FbcXK3e52t+JrGOIL+r3pTW8qOn3sx35s0cX4f+3Xfq1g0XX8e+qpp5Y22Zvtjc177Rkb/EbwkbFpky7ae8tb3lLagzlx8Cmf8imFr+oEugkRl2LkZ37mZ4ru/CCWxa5JRUSM0efe97737IM/+IMnuU2bbMUf9BfPbPLIRz6yjFF/2oIrfRibv2z4cz/3c3ut3CL0gGH2+c3f/M0S1/r2mWOSPLv+9E//dOGDf/7nfy7c9fjHP36vhVsmCK6FddzBvt7/yI/8SNFNnPIH28PrJoU9/+zP/mz26le/eu+TWwR+4Yct2Ra/0Vusvsu7vMveWePChq997Wtnf/M3f1MwIf7whLHANNuLCeMTe1/5lV9ZcMa+v/Ebv1HaqMcsp+Gp3/u93yv2gdH73Oc+pUDQnljBScZDR8f48vu///tLHxH9w6l2iXzL9nAgNvtF2fGQO17YCRBQnkKIaREJDwkD3HTTTbMf+IEfKAAeehHEOpZA1xW6S9Z0P+WUU0qQChrjWNSXQLv00ktL4nvoQx9aCJxDnvjEJ5aqUbAKfkDivLHgFmhAAkCSsYQi6Qh4gPnRH/3RArwbb7xxds973nP2kR/5kYWIAYXuglTSBHaAUzAAjDFJdk972tNmf/Inf1IKA8Bj7+/7vu8rYAccSVS75OjRoyWI6Q+czkHUruOfH/qhHyoJU18AKCkjfZ8bp/dIjy34a0okAiQusbEB8NdEwX7XX3/97Nu+7dtm97///QvxC6Rrrrlm74xZKUbo//Ef//GTycmYbr755kIaApb+EuEHfMAHlOTDHkjQGByXgPjrNa95TbEBvyCUnZ2dghG6CtIUrAoSyZTt2frHfuzHyjUSlHGyFWJApHxC6KLoUyzBHD+yn359Tg+250u6Bz9s5r1iYkqM2bhci8S1lfikb2wPJx/1UR91q8KL7Z/znOfMvv3bv72QoIJ4yr7GKoYVMPyvL+OK4AeJ4RnPeEYpRJC05B8M4BHEyi+OsQPf84k45Gd9iFFYER9sL0aQLx/Bt7aNB3avvvrq4jM+Qaauca5zFPviQKGssGHjTQmdYAFviVEcwCZiSEywI33wxrOe9azZ+7//+5ciWsyNiTZf+tKXloQnRoyBTSV5yerlL395wZjz4FkxBqOvfOUrZ9/1Xd9Vxgd7dFEwwxtbwAUs+fu6172uJCHFFNzDt6TFT64zESDa5qvLL7+84PTBD35wGRvcs7vz+UMxLWb1t0nRP7+yRWJMX+ytkCJ0N3Z+YIdFEzl4/47v+I6CR/xmHPgYduCP7dkktodXGOdXMcSninPXKUJwC1yzKfvirTe+8Y2FOxQObO+4sdCRz3C9tl/1qleVQtXYcAT/wYjjzpdjrrjiijJeyb8/YToesrEpuEBXhSKmunqPfPd3f3cJUoF0UMK4AmnZKooTBC/n9IXjv/7rv74kFpIltTGRcL7wC7+wVNDEDF9AAx7HIgqOF2i10AFZCtav/uqvnr3whS8sIEMAhG4KB4GLvElmD2x+5MiREixIBOicC3Qq2sxsr7322jLj0oe+nPeoRz1q9qIXvagEH1Lhtyc96UklMMxcFRsAvUgEEBuprvv2MTaJBCnVfpdAkL/+2PV5z3teCXQrL+/93u+9d9ZtRUFlbFZ0EJIiR/EmwUqO/G4WpQ32RmDG9pjHPKYUiMQKhABWiCBFNmdX+ihQJHX2UZzRjyjGJGDkYEbiOsfZEwGwL18Yy5d+6ZeW4/rlJ8mbb5DJN33TN5XVA/9LWoh+kdAbkekPWdbC9go+KwtDtlfM8eWyMecauivCFDG1wKOZvQJXAqoFXn32sIc9bPanf/qnBVfsiUTZ5YILLiiEiQCf+cxnFmxKXF/zNV9TbM9ObI+o9eOV4gvuE4NsyW5Wv8Qakn/2s59dfMYOktcmBaZhx4wTZvSFzKOj/vVdz/CmhP9uuOGG2RlnnDH7/M///IKRXGsWaWwKCMU4bDtfP0Rh97jHPe5YAsQ38Pbpn/7ps8/93M8tHCPWFWbalMS+8zu/s/TziEc8ovg1ftOm/iRWSTcFob+4G8bZEsfg7T7uNiFijM8SY/xMH7EG63TFwfSBoWXkt37rtwpu2ZddLrroojKxssKmYGMPxz7v8z7vmO0VpmIYZ3zrt35rGSsswh4b8LtVvYc//OGF02EArvkJr8Hul3/5l5cYgHuxrTD4xm/8xhJPxEqEc62ysn34iu2ncspBy8ZvNgAiI/ZfZh6cnZnPiSAqNYB79KMfvffJ/xeAk5AkL4AQaAmSIQFmySCzK0keiVqCE6hWFSRgRF63472ZEACaQSAA4PQ5kEhWCIddIwJFUQCcKkhVa24LABxdJHEBz95mV4jTbMrMCok//elPLxWtpXF9CQaJ9CUveUkJEqKQWiTOOe2004pv2agWwci+CMgqQkRCk5jZi37617exTIkA1Y5ELJEgQuSgKPBiWz79nu/5nmJH42UL5/GLZCnovuIrvqJcR1+JxTlJxqpwurGta5CqwGZDsyNFh360iTgkQ4ksS77Gxq5m3NqTqLSlD0nYzNWqh8IwheKUSOzI28yHXrVYQoQrRXXf9khLX5LksrMKBaDEjOxgpxb2VVgqsOC6FitiSBBuzF7hmX1gkV4KHiTHPkgdEfpcsc738AgrOMJ5Yk/iYV9FWkR7zldIsan2kK0Zar8g2a/oRwzBAN/DFd34Qb+wqnC2zM5Hy4iVCnbSpjgzO4QDAtcwxMbPf/7zS5/sSA/iWrg3S5W46QBT2mJfiYTNTDAkH4U7O5qxu84khw+JuDDjVLzAViR9WREwCcF/Ch9j3LTgG3iO/op6BR+8Wm2SXOmmEFg2QcIQDPMRPmRbGJOsxTd+dLy2fQo5eOJvuPR/OIWe8Ab3bI5DFLi4WT/+KujEmuQeTtOPsSmCcaBJhkma69neJMxE4faUjSf/Mfmqr/qqUtEypsFzdiqj20MEiypZUkV2tSB3CQtYELllU7PVzB6nhHM5W5Abr+rVmJFpgqsWAYxMJXRJXFJHptpRaeofASKGCGIAOrMOAQ/YAK3qlYQBzhLXC17wgpLs/I9I2Tv3rPMdiSw7AzyyCBF7T+9FIliAvS+SudmLxCQB1slEAUJnJOccY2AHfU6JYFIAGDeSVFQhOmNjE+1YCjcGbZtJGithA58hMzOB+IJPFUaKCSSHfDJuxyRwhJv72Dkm2ZhpIUpJXAJwTD8SgyXMYDzXwITE5x6ugm4ID31h2zHym7I98jZztfLULxrGhD5D58a2kqxVl/pWANGPAkOMKIYUVMhUIjKTMyOCRfYyFlgn7KuwMrtUjD3kIQ8puOdfxTDcazuCyJGwpVuFhqQmjtk1ft60GLsCXDJB7jAg+YorYoa5zL1oYhJhfGLPuCUly9SSEPtJeJJ2Yjbf+8EHVvGch1vwEVyGP8WN+FcIWX2hj3PZBKeINTGdWygwyyf4yXhqUaC61vlWjdh2GR5YV4xBvMCGcZpM6A+u4XsVgXuFBHvs7OyUYt2KiVUQ48bnsMb2Ch8rjmzE7nKSJM6ObAubErn2TADhzSoCftYOW2eFxAob3sEBOCnCh3xlcgDbONZY+f8BD3hAKR5uTzluyV9wq0I5FPgslaqgGOT2EJUwElbtWeIRlP6q8CVsyzaW2SQDAaBSBKJFok3AQgqIa4icI8aOXAQoIOhPMAAHGwl0YHOOZIJIkTAAAZ9ARbAqSOOgO/JWMatWVdKSFhD7HKDd07UEa7nN58ApkUm+yMZKwGMf+9iSVIFd3+uI5CwR8Dci147ixIqIoDn99NPLeFTXEoqkMJWkkogRkkAyQ5ck9OGYgGRP9zTZg20cQ9QEgSum3O7IKgRbIwVBz+eqc38jEovrJByz0ugnqC3lSQiCWIJFAgRZ+CxLu2YEKQLMBuDpzDPPLNcgn03PWIkkjIzYng3oy+5ebLWqsDmCQ6rwqFhSxLCNsbmXD49Hjhwp91DNGCUxeGJv8aNwYBd+Vgiyh7aQKqzF9vAA97ChwLWCgSfgXjtWxcSVzxQDsMwv8LtpwQnsqG8ThCyvm7VlzApoOqdQp/OYpMAVq5aKJV92FLdswT8KY/Fr/BIiXEvQ8PQN3/AN5bg4kKzYwwuXsYelaTNlftcXXbz/ki/5knKM3+htZUy/uEk7zvO5YplvJGH+cFtG/47B0EGIwh3vSsJio06eq4qx0hOfwgQOVtDCnL/GKT7ZHhbznRGxiE/4QBsw7BrxqrBnD/aVxGE6PIDj4Phrv/Zri935Ac4TYzhCPnDrCB/DC9uLJ/7Bi8bPvnx6vOW4Jf8EMMKQCASQ+8oMfnuJYDYLERQcJqkKOkGBkMxgBL2qW1U5FdgEEAAZiQnYJIQp0acEYblVwAkA5O1zKxCAmCUoiUxRIFCQECBK7paTVJ30Y1szJu0BuTECq+VqyUzyN/O1EgOUli4RgeAQGGa/gkEFLjCWKXjGJFW8REBnxYiXALP0TkdEZ/ma7eg4JkhOIvPXdb6Pwb4CiO9CWip99rACwpcCTtsqesSp8MiMG7mb8UvAiK6e0Sok2NoqAhJBBBFJH44VbAoXvoggL7jhF99hYHNjpqMiwizDSo9jAl7xcRCSbxXXtheD6xbbEq1xiVex4IXotKswgEV+UdTBrmTI7rAWLCrM2FzC5hezMJjO9zQibhnwI9vAPf/oy7lsl/bcRhNr4mQ/SWNMUvTQVxJQLEdgzf/0gkl+9t64xgSnIH14gkP3oekuCUm8CnxjUzBJJjDGBnBu1UvRA29sJS4lOokDlypO8VRW2NgFzt06gDlxbRxiOonRDD8685nVKNzH/vrHI/zODgdRpMKiPq2swYbkuh8Ro8bBbood/mFbtvMytnBAbC/G2RMf4iRx6Tg7siH+Dd4UnvoweWB7K1Bs67gJk74kexiHfasr/JLbQrhQu3SI7bVDB/8fbzluyR9ZWEoCcNWOYAVcn98eYvaIqDhUBa7SA0CkrSAAeFUvp5jdCFxBQQS7ilml7n0EOSkkrHAAVi1mokgY4PNeQkAGrst9zAAF8MzCJSUkB4QAbOnRUr2gdB3SkfSRPHBrQzDTFVnTU9uIQ9ALYv87N/fy6GRGIjnQLWSmDbOUKTEGYwH2vNcGgH/d131dCSb600tR4YWU2JZ+7GpZTbI2JiJ4zPg8mUAvInC0qx/YcR0bEUWDxI1IYAum+E8xo9DwP9JTyBk3MWYEapaJUCVm/+tPP3Tgd3/z7WPCtpZr/fW5c12n6GI31/jrc8HN1vR0PIUbO/EXIunjpC/Gm2vyPnbo297nXog9trf0yV617Z3P15JvTTr99tMeP4Uc+RJG4YmP2Z4v2RW+nKu/LBUjN77xudUzf/lav/6H59r27IFoFcL6UgQgZ2OCD/ql8E2M0kUbmxR+V5yxU2730FHMSYzi0goTHWFRIcgeKQSdu9vNQPmcLUkSDixqX2JXPEl68MhW4kTSYrNgXsEVXGkPltgEd5hdwhfb+Fy/2mEffMFG+hLP+uU7iVHxjPvckqOzGIBn1yu49Msf+sQD9Nq06IMN8G3/9kOwGNwHi7GlOJd85ZMUXHxg7BKylWaJmL0UwmyfYoA9TAzYlI20KS5gU1uxk3HTAbbYU1u41jEFQI17mE4Bym/GZOLAvokFOcYqDNvDjXjUjhig7/GW4/btO1WnJMuZKlXAknz79w+Pl6TfJAGBxPkIGbm7LcExwE8QXxIh4rIkB0QCl+OJMSEHAZ4KPOKxDkHsfhNSkJTdn5OQEJtvkWoLaAQiAIfQgBPIBakgd08PcIDUF8skGKDXHsC6tw3YrgNyXwpjf+Azg3E/OM/C8gn9zf594dD1QG0cSGJR8nff1fIXXdgS2WgTuJEyEUD6poPCCAYsfSNNQewlWRkHYXPVuxkBm2QVRQHEDldeeWVpj56ZCRmX+8pXXXVV8aU+BRWbsbmg1lZm/XQ1fj6xXIdIiGRmeZXvHRfYdYJGsIoMGFZUOE6+4Au+oCQF1X6uQxb04zN+9UgpfZABnWBqUfKHRUvj9NSvFzJTvFoJUUAjGcKHZhoSfmwPowogdmd/408Mut0hDiQtQt+nPvWpZVz0gwfFsNWoFIqupbN2jCuFhVU9367WH39I2s655JJLij/YDSY98RCf+N8yqNUn4jqrUeKQ6AtGYFBfrnNLAS6QroRmJQAujHGTYhz8qABwayzEDlN8nZiXkOCWnmycuBcP8GjsMAWvkrSixu00cYIv2EmCYHPX+zKoolWSMWv3nn2sQNABV/GjWT6M09FKlBlvClsrB24HKtjEumvEmORuuTsrbGJADNGZzdkZL4hp/dJPn7B2UMkfntmoXlkj+FEsKb7EjoIEztje+BXWsCPhG494gxFch4/YUVzQ3bjZ3wwdfhQA7CFe8S9f+Ya/mGcrRYIYcg2e15724c2KD9viSfq4lamQZ0c25E9YpG9iIcnfOPmY4GY8F9tr73jLxjb5Efy+UMLAU99iZCTJz+CRCkPHOOsKIyMe5K4iX2UWIABcz4mWqTmDk4EP6ABApQcoSYTsJOCQk1k40BDOtLrB4SrKelzaZ+daVKPAgAiQof4AGXEHJISOIX8kDIjsCMQAjgQAKDrSHZHrn00AUjAjYyShP0WBgNOXqhaJSCYCPsQusDK2MdG/vmqRUOpKmK+tktCPv/3vW+EBv3NhLsQJi+yoXQSYwBCwdPc5myABS3Ta1JalUwnQuNk2bfKXZBf/Ou56Y3VPtxbYkUzY2KzMSgk7sAmBFTo4VktmClYs2NgY6CV5woO44hekADfwgUQWfVmM3xU8tbjGuB1DgrWwPV1iS7Z2L9oYYMDYfYaw6GNpF0YIe7iNUgs8KUSjJ7vBnXbgJkQXm0gSsOgax6zqwJbEBNPsQTfJzndjapFE6SnJE30hf+cicG2wLz8bA3vzscSLWDcpYoptjauWIfu6xSGxs2P0EF8KM0kavn1uPJILu4tl+IA1doQX2IUdWIEZPlZo4QZ94A+2MUukA1GcaLMWcQZfzudPRZZYZHt+4TtCH7GhDTxGR/bGbT43RvzA9pteWSGSf2bgknBijNCDXrXwN31g0pjxlXGyR7gGFn2HApf6TIzhCRKOY3t2ZXtYxffyF58H73wCb7DOHvzMx/gXRztm1QI+6Ar3rnEt7hBL9FBYi4PYPML2+Aye2T54Op5y3JK/e+HAzjicgIgyC9qvJPkjcoGWhG3mKohWFY4BTDYBSM6sycVxQPFXX/sdg3aAy+wdYOsgmBLX0NH1tY7RnV593Ynr+Blg01d0UFS4Dhj7121S2M94BUYf+HSRIJ3jWG1fx/ib9G3vGm3GZ8vacZNCPzrQhQ5IIjrGvs7h54O075To34suMFDbcF3JuI23HnP87LO+L9cRdq0xr90TUegnxowZDjNunxsD29MfhiOOiV2vGr8+h3m2FC9ey2JbX/TQjzYXSXRgY/is9TiRhJ7RscYbCeboXifejC3HYntxyb6O+az2Cfs55hzX9PGmTb7UT1+PE12OW/K3FKVd9zsyg96UcJDZgJlHAk2hoSLcdF9NmjRp0qTJyS4bT/7asDzSF8sbNoNxr9esf5Oi+lIAeEUUAarCE7FqbdKkSZMmTW5P2Vjy96UJX0px/2NMfFHJo2cH8eWRJk2aNGnSpMlysrHk776IL125bzIm7nPW95mbNGnSpEmTJsdfNpb8mzRp0qRJkyYnh2zsJ31PdKlXJOpvZPoWp1sV/W9y+txjXh4D8Y3dZb5VzIauq1/68tJ//1hXdx1bBfHe9Tm/FgWZx518o7T+hrg2PTnh+NC3cj1KYmy+3dp/isCXI+sxp/8x/dYVeKKDdupv3pKpMQ+J8xWoHg+CVd/KjT3o6/Efx5xX28Mxn3sMiA6uS3+5jp/ZqO9ntnMdO+fbz2SR7YfwtggDq8oQ3rxqexr3kO2HJP6o24p+3vePkX6bfX86b8z2xPkevXKOz/kgYiXRI1M17ofGTOo2p3A/Jhl7rXvEt7k91pUYNAb9epzM567z2bL9wK746+NNrMCUMeOcOtYJrLGT8emPLhH4pceQn4PF+nN6pL0+v9GPT0wKh/Qg+iL9vlaRKbxFYvvgwLiXEb5iYzb1mGL01IexeUyW5Ba0z3ELLqh5kdABftmljvW+7nnpy4vOcKiPPq/Iudo0nlVtvyk59DN/47EZxM7OTtlG1EY4eWbVs85+t1/AcZr97m1O4/OzzjqrPOfL2Z4JtfmIY1Ny8cUXl616a/HjQR479FsB/WeybX167rnnFhKxWY9n4Z/ylKeUjUQI3T0i+dznPrec4xlXe3x7PjU/8KFAobtnRf02gCccfGajHxvXIED+ZQPPoXpG/rzzziugRK7nnHNO0UMw2BCjFhuo+BJnnrteRRCO3wr3PRDBYiw24HjCE55QgoGONjayiYaffLUx0JTAp62Jr7vuuhIsgpre9tWmn81k2EqwCKxv+ZZvKRuCIBN+F2gCkj3Y2jP/3vuJWbYhHkPtauHyXLM2bLCjPyRiPNmX30Yh2ZcfAXiWmO1dhyhskgJvvuBq+2L6IVk7NvJFBJk5/vjHP37vk+UFsdA9PzATsS+CX9FkBxv2+KKtZEE/O+dNkaf9BI4cObL33y3CL/ACb7BQC0zTH0kRj9rastuGTTY3YkN9ItTYHmbZC2bFw2WXXVb2inDcY7o2xoEVW1zDMNyzq75s9mQzFpsT1SKG7FYHI9q3t4C++Yfe2cdgSOjBv9r1nL2490uchL42m6KHBARzxmZMxmkHyuDN9q78PfV0kfZcb7xJSPDrCSnPuosHuosXG/+IFc+hw5SNfmxFLcnrD2/pD66vv/768vy6hGfjKHj3tBM73njjjWWzHHEOv+KBTdnTM+oKEC9PYWnPngLiwxe4xZnvaNn0Ks/KE09W2QQNT4npdb/DpX/4qcXGOTChb/Fsg6vYHgfbx2VKYN0GP/kdCznNvgpwLwY9Ei4m2NgeAXa59P/5559ffCAm4UVf9sDAAezrWX9t8D0b8x3eYvdaXCOP4AA45TtfcJcH7LOAR/wmCW7kB8dwlY3e4I/t7cth/DYa8ouz2ZBu03Lok79gNiYbiiA2u14l+QsgqxweQ+QsL8kbgDjbRjGuBUCfCfgpoGsPeDgtu9UhNAWEgBH8hK0RNN0kMFs+SsxAAVB2aSM2mAAgSdhGPX4BT7vAJUjpZDMeX7ZEHNpS3EhMiByxKBgUN4IXSQO5vwLa9qrOtRmJ5O96/Qds+spmF6sKkEsGCic2tkuWnfnsbmazF4lZskWuiqZFhZVAVhErWLSpPQnCeCUaiURw8q3Ey95nn3126Yt9bARjHIJOMjJu/pYsBCYSz1+2ZHs73LG7pI1wBbyNRpCWxKJtRO48e0ogQkUIe9uUxSOvyEpC4HuYYhcELNYkVf5g91UFGSpSJYP8L4HZJAdh+HEocQ3vcOUnnBUKdDGOIXEeIlLgJGEiJ+NkUwlBe+xPbHbCHmyGyL75m7+5+FNi8EMpCJbtkaxz7HBo3Cmc9GPzIH0S+kp2yFh/igSJ3y51/Kd9PoJ9MZMNqGCbTvxmcyjjh1t+EB9TBY/Eb9dBTygh/yc/+ckl8RJJQzGioMqvfIodNnGu8YkRvxvBdpL11DatMAS3NuHBExKPAl1xoUjRnyQN5z7TFhtJgnahVIjZoY+dFJQSPNvAgThIAaFIw12wl1hRIMEj7OE0uyTasEbxoziAV7tj+jVQW5SziXZxjoTMpuIH50jO9KGrZBg+XVVgAyezefZjgU8YYAt98wVuiO2HniSrRfyxA36FTYUDnsEfCh52w598p4AOTsQxrvQZzoVX9mMb/Ur4Ej3+8rmiCA8ouAjfsh9dtYkTTCS0ifeMNRubsR+d7Eq6u7tb2sG7+sJjJng+878CS8FIn03LeuuNJ5FwNKcoaPpJzP9AxnFIwAwdKAQVoyNAQSpZIxogWCRISnCbnXsBs+RvZo5EvCRmgYf0tSnQJaqh3d6QJUITdPRApHQEKkUBgEsowKEvYFc5It/s6uZcOhDn2fXLmAU5ECYZGKtdxaI7e6wLOteZQWmfPZG9wPMiEgDALwrmiDGzrWIK4UqmAhqx6wthIBDFGVvlcz5Govpha8mSTZCeql7hABuShN24BJ0kbUdAhJMteNld//RgI/5ke0lXH2yvP7N4M272Y88I+9vFjP899SJZmMkuKnrGRJ/8GkwhLRhFKMZKT+OQKOwaxz7L+NIsUOIIBlynLcJucJtjsQdbSkLwyyaR2N7nsT0d+U0MJGE67sUHEeNBmP7CtwIyODU+7UYP14pfxYnVK/4M7msfDAm/+lldicE1Ef2aMLCHOIUB+NIXOyqIFMkSnxgN1qaELpJGrhMT+pSQrchJdGyv4GFnCUlSFq/0zI8LKXaiK/uzk4LWah47hadMVmwr3p85ihEzVONxroSkPfzCR/AE4/iDT/APXuFnCcx5EtwmRFzgiPhSu+zC9uKcP2vbT4miUKEkOWsH1sJv8KbgMUGDH23ikhT0ChzFLD+KafZgU1jFY871V5smFnzOR4k/tne9IpG9su20GDEGXOu3BvSnffyiCFM08w+8KUJie9fCmLasWByEHPrkz8nALkhCHhFErbrleAkTMJzj5XwOUZGrxuzJ3b++L46b9ViCzPISR5P0r3o0UzDbFXg+AxDJqt++wLOKYFk6/QOSv2kP4M3yEJ7kYtYgwSJ8xOq6zAKRjN9TADgJyLKl2Wf6FeB+DMZSnBmAJLpItOmFGLzyvzYFkr/IC8GaxQhogsyGxjwmzqP30W42IGGaAQoUs0PHVPvITgK3RGoMCMMxy2lmAhI2X/Iz+yFZQUhf9kE4iE0g8z2ytupj5m/Wyp8ktlcoWIoVqLZx9Rm8IfaMPeJ9rjM7RqJmKYuS05jU7SF/tyIkFjjwmRmZccGL2avZtUTm2JQgG8kObqwMITniOqtiVmzMwBGp4oggXIkc7usE7hq217clTz6y2kUvNoYBfZjF849C3DFEa/ULbq1eiRM+156XGRGSVTAr4PjM8jdi5hMzJwnAbSI6anNMJGzkzw+1bSRE1yJ/t37Y04xavBErZWJd8cj2Vn0WJUTt8xlOcDtM/JmcwAsOYHu6SsCwRofccpIo9O8WgVklHDuXHSQqy/b0gXtJSF/GJbkGJ9EhemjTbTcrdGymgNUWn8VH3kvGuEB88BHuMMHZhOApeFNkiwl4E4uKe+O2DO6YsUugU77kE2OWnK3mWlWAWT5UXOEDt1Ws0uF+twZI7CH58qXYt0qS777BLW6zGhhugI3YVWGBL8WMwkxhSgd+dp2VVX/xK/5znvjhO+OHcbYPfp3L796zvddByKFP/gF7X4DI7BexADywSZw+9xJ4luTMJgSoinyonVoEkGQAWPaldp8VMDiTAI2lIEtqiCLgGdMPaF2LHBC3oBAc0RGYLFEBqeVYf52DGOghuVkBsBSouDFeL0lXkvIe0WjLtZa0EIsk6b6Z5SnnTIniCZEpkrwkgiyFaVfASHJskd9zHxvzIuEr1bZkIcAsZ5oZ6UdQqbbd7xRECib2cYx/80t37KMQ0b8EI8gQt6LIXtzIUrCxC3IQxAoixOAWgSpcm4jG6gVCQchIJ+OaGpvZhOVSy/0pTvYjxiO5m+GYOcIJQTwSmrHDkeToL93HRBtIDNHCp1kj7MCAxK5oVSxKthKvxI1UzfrNiiQE40Ha+q9tLznBLhvCNDuIDcvHiFbyU2AheMeDez53XXAvCVsuF5PGpGgQo5IT3O/s7JRiTCFkHH5Tgz5jMuYv+sOPW0t87n65mbix4gm6WbmRmMwk3UKCpSn7OsYHimHf13ALSlEErwp3n7vvbhlc3CggjVv/krRkrfgygbBcLM6MLStPhG78pa+xsTnGh4pQBZYVOL4zDraTIOkhbvlXG5KemOInOPOZsSTBrSNmtvCmkBfPinc+w71sTw8+VsAqhhT+4nBMxK1kKi79QqvbJHBqBczEgf/gQ4EE32JQgmUPdsZfMKlYtepp1Ush6hoFg1jIakAw5TpFF26DB/ymIHQcF+kLPuHFuPTlmAmpSZrP6IY/rLTIOW7hiAV4Jos4eF3Zmm/7qwBVZUDOQYwucBGT6jL3mADNcYHhf7McXw5bRgRx+gAcTleFW8ZBxL44ol8z8pB0RGADHxIAPP4wq3EfV2JHkI4jRzNe50v8/kpqQEoQAt3dtlD5qtIlaKSQL07Rz7X5MotAR9J01bfZIxw4jtSnltvMnN1L9tfMRXDqR3GhYhZ8Vi8kbAFQiyAwO9MHGy0SfpEwJXk65vaFoEF+bMB+2pKoFGwIhl/oxG5mppIafdzWYVe6apPvJXxFgWQiKBVyZp2SEEJGkNpDMGykaufrviBrceQ7A7nlIvCRm6KPXfYr2tOPAkUBozAiZiUKDD6VZBQy/vIDXw4lBMK+MGC5XFtsYMxWNdjdix0d52v+Q6gIky0UvHCgP6StmEBqWR7lC7ZHbkhUErMaRHdtG0cSni+qmb2bFZoRKrb4lv0tk0oWsGrFgW8kJXjgOzMrMYvY4dHqkLFNifhQIDuXnuLKuIiYUUywt/ija5IDneBM8hf7ksrY8r/rJTFj5n9tEnjQJv/AjORhfIoJ45AEYM6XCiUZ/pWU+UpikvQkC/0qrhQUbMSWRIKX1MUMwS0KXbdDrYLpjzhfDEmaVmVMHPQBB64x8xdv7Oo9n7CbvmBtVcGJwZvxGheb4ydjZ5fYXv94TF9jX+Cki2JNTONMuNWeOBb3JiZWnuCP7yzDGzO+UGgoZk3MXEfYk91wKP+YBJgkStr8bsKBv/gH5uhGxLs+YBI2cAgfwLk2Fay4RgHrVxStDBgjruDf3OIRO3yLy93u2bQc+pm/gBt6CWIvBIP8zWgQWJZ2JH7g53jA83IdUekCKoJI1euv6xGi9xwv2WV273NVHQAhq0hfr7yATJAJEMCgh+oTkCVVs17BkC+Y0E+/WXZGFoAWvenrfGM2ewJgMw/XICTnCWz/I0oBJjDoPyXAqvJFQl7aFMzasVwqIMxWVLrRZepF/FWImtW6Jp+xYdqQBLzih9jdMX0KTKTFJ14+96Ibu2QGwQ70M1Mww3KMPZGwAs1x7XrpQ1uIQsCzPRKhU/qeerleIkMUmxD9InE60DkCH5an6YdcfdnLOPg5uhiHJFvb1/tgwNjZAAaCX9c4huiRkWMKN18GU0QjUdfpE9k6XtvecZ/BMDKFbXhN39q2OkZ3MQJbZpliBrHzj/bia4VMvmsBCzBGtxr34sjfMYlu/Ze2tCmWvPTnpf/okD7ECvuyp8+JY4g74yeOuR2oQMEtzkkb4kw7VhgkHOOlA9+yNR3Y1vn04CfJl61wg2JEcaBwsVQvfjIWkvde4kIxiFfgvq+HNuiheOMrY+MHha5r+JHd2Yef6bmq6EufwVsKOL40Vr6tbe/82J241kQq4yTwqh2YMo6cCwM4AS60m7616xgbWvXkE4m/todrFLyKUMmY7bTBJs6xsqRgpHvEdQoA7Un44pEu7IrTYVxxwI58huesWNCZPdkeT7E9O69TWC0jhz75IwxJT4Iw21AxMyowSJBmeoLITIaRBSBncQZnI1cvAQUoxOzazNK9R20SQLR6oCI2G7Ish9zyW/T0QA4hxQgA0k8yEQiWu7wHdASpT7Mp5zgG4NoDIuBzTXSkN+I1E7bUZSblWsd8BlDGaMblXFUxcCEY/6t83T82g1JBq0SzorCqsJH26aPgiI6ALzjY14v+Zon8giwJXylu3HrgGyLJs6vVCPaxuqEPOipWtG3m6ZhxCE7HXGdGJ8Ads2RsBmR2wcau4RuJ0T1YsyB2co526cEm7ovylSCHBcI3GRc9BTgf8RU8wIYxwptrFZUCHVFvQoxfH8go36UgdESAbonoHw6QIl9K5HThG7NPviF0d65bOMYrLmAZbmDOLIkdHWMnPnPMrASRKSh9N8KsxfcuzGLZt7a92Q+feLGvgkUx5Dj78oNiAmZgAIbZ0kqCduEent0vhQWreewpWdLFXzrzZXBvFjw166ejPviPP+lg1on0YQQ+YU2b2paAJWMrDmxoXFZf9GFcSYTaNKGghzglxsEnSD+44RtjNQ62pYf49LnVEglYu5IOfoFXMcC/bCgBwyMb4jAinnGPcdDDGPTtPcwYI/tJRtHDtfTQj/boYdzikk8kOEVY/AzDEqUCE0+uKmwS2xk3n8KcseJMtucP+Int2RYnEnHmFqXv94g1At9wYDZtDOzkpXBhq6zQwDyO039WGdhEPog92FP/7OZ8/EhXsUM//GICgc9gsz+hiy/1YTVGIUA/q0N8k/7FnPiFeW3hdddZNcYXVhj4+iDk0D/qZ8lFwNViORyA3W+UwIngtVxkCRwQ3ZuvxX1wtwA4TxBZNkcc7mWmSlNNAx6AAKrlePdKAUWweYbfLFmBkaVX9hZAtSBbj+JZLt3pZtOAQBQO7i9bIrMyoVqtxVIX/YHIfTRBw6+qdRUm0sqY6U4Hy99uf7CRe10+V5zAgNsTqt51RLC4lwjMtVj2BWg6hRRJljUFCVtK0gKE/yzJIyUFl2U2+qmSLY0hI2K8EojPEbcv/LCr5GipL0WawEPKZkv6UZkLLgRJL9/b8L9CxO0M99MdQ5TaRC4+k7RqMZvXlvEh71r4jJ5IhI19qShJYj+CHKyuIDe2qItKRAUjyJ6whRm6GQm7098tJbcHfPPbGM1i+EwhwIbs4bsQigm2d7/btYjOaokx1TMe2GFrX2RSACAxy8rRge3FlWTiXHbK90oUL+6Rwi/s0B3xE0VCcO92ANzTQyKGX8UHAmVfjzRavYN7NvFdEwVu4q0vCFi/teiPrWDfPWn3urUneYh3WHC7jH7wxu70YxM4JhKnZXVtmzWyO720WwvStxoAb2zHDtoUH+yrPasAvsOj6GIrGNSOGKUDW7GZpKN4xTvsgc8UaRF6sofiAA5rwWG+ayDZW71jW5zIl3yCwyLw4faVZOb4Oljmf/EKf8GbpGqZPysO7M7XbI8LjQsP86XC0O1ayRt/pQBhY7dAYM91ChYxbewKAff52RCG+cYs2+0AT+jU4kvgONgxRSv94IhPrEixjzzgewraESv8RrTvXj9/KEwUe+IKr/sfp7uFS3CNXASrcgc9tA0v8IRT6sJ+k7L12/sCIRK1EoCclhHJXTLyV0KN04FYNciGnCpgakJeR/TBP9pU5QPhMsKfqmMgQgT12Oip2q3HDKhmya7xGVKfmjEdpNDFeBGioI4NY3fFjYCwihH9JQO2F1yZCec64zUuQalKF1wIRD/ac5222LcW1znO/mnzZBL6I0HjypiJcTtmtmMmVduX/SQbuEFWtX3ZnT3gurb9lKQfcVbbnqQ/syv21WbEMf6HyRr32lNMOCYxetUxAff6Q+6rxMuY6E8i0i4dk+jYw+ewQW+JoY51x9leHLHTWPER0Q/74mDcUduCsJ8C1nn0YMeIviR5frFMHj5aR/TDvokj4zoo4WP+pTuugbeac6JL3/bEtbk1Ii5r+5qxs73PYSD2gHvjwgXaw92LRN/sThdtse8yAp/GRQcYqPUL12pXTCSO9AFTuO+gbU/a3v5NmjRp0qTJlsmhv+ffpEmTJk2aNLm1tOTfpEmTJk2abJm05N+kSZMmTZpsmbTk36RJkyZNmmyZbP0X/nzz0th9Q9Q3hOvnNX2L1jHfsPX5Mt9+d422fMvYtzjzTVPfTu1L/e3rvtTf2E2b/tZ60It+vmXss/qafJOWDmPfNnZOfQ090qZvE9ffXl5XfMOe7tpjk+gxZI9alzFxnTbp6hvp/WvSH93Zqj8G19PBSxtjtp86FskY0h4ZGleOrztmEn0W9UXqc0g95ilZZszwwb6EffNtet9Uhhs4nMLbkG7a48u+r4bG7H8+1pd+hjCQfkjd17qSMevbmPUb8bn+2WEZX2pDe2LTN9Vjv4y1L2Njq8c1ZXt94XTxV+utr1yX2Kwl+tR96XtI+vosK2NjTltjx5bpy5iNt+Yc7Q3ZnhgbXIVjayy6hp181udZ59c82z/m6YJ+X/QYsz09HHPtUExsUrY6+Qtcz5J7tpWTPPrh+UwO8IiJzR48PwsUntX0PPSUeHTDNdoDEs+kemaVE21Gwb61eI6T4208UYvHl+y85ZjHWTzTmudWbYJh8w+PR9loRF/at5mJ55D1a/MRm1QYg/997tlgoI54vtlztp4v9fgKANtkQ3/ee6zFpin1znGrCIDTwSYndNWe59HtcSBAPMPrnIgA8WwzfYfEuR7JtB8BO/vfngt01LaA8Yyv/RQcF/Ce4fX4UMT1/O05XY9S8atn7mvxuWeltZHnzCNs4Vlk+nuczD4KfOX58zwH7flujxLVoj/YsimNPiPIwvP3/DcmsOhRRH3pl/+1BQtwwf+1eKwIFvKYENzwM9t7hKwmp74Ys02NamFjm7mwJ/vBlkeY6KVNz197bJSf9cUenuO3J0WdbJzD9nxMN9d7rIlu8GFM+vHoYeLPhjaIl489+oQQbX5jwyE8BSvG6nl82HauZ/1tWCNePbs+hqdlRH/GBHPGrH1jgwExAms2c/E5O3jB8ZjArGfD7aeAbzzG6nlyj3vxsee8a7GfgD0uYkePAho7W4lpn4tjtodHtrcdsOscw132LNE2m8M1+xqX/TfYnh3tNeA6sRK/sL33eIPt4Ta8Uotr2KP/aOIi0Tab9mOM/XAmHfVXi3HDP3uNiVzGHjbPkThhChYI29soyTn0ZnvxIg/wpXjCI+Icd+sPH+JZ7YlTY2V7Sdsxmw+JC/izERLM6ZfdYSePJbOjPQlghQ3FAgzhQ7bHYeLAXgTi0Pgdg/2p8e5HtmZv/yGx3a4NHDiEIzhT0pWkEbXdztjDs81IE9GMCdvZuMGmFMAlSBE2oCBdG9jYdYqDETYw6Qsh2KREEApgn7vephH0sBmLvZ/pgRAlas/n28SFfsAlSLRt8w592X5WEWJMgItsAAw5IHHEYzOU/A69z7XDFnQwXkEJhMhunepTAvSLeMhaf8aAVAQVYlL4+Nx5xqwvRc1U8kdIxswOIVHEZLcxNlBQ+ByeBaS+Qkrs64c5jNumK4JN/zaJ8Te2914Qa8+mTJ7XRaKOISYEz9Z2EbTxCn8ipPRjM48QbnbwQkBsbIMQGEN6Pjd22+JOJShtwNXu7m6xJRIRnwjL5k9eEh4yV8jQV8LQnzE/97nPLWNWgCCRqeQvkdnICv4QFx0VoEiLDWAbscKiccMhPNp4yYY9rvPXtQqiPH9ND1ijR72pknEpisWO6+Ad7tlF/OkvuwzSXZw6D0Eav2P6Qu6IWvGqPb+7oBjjl6nCapEYs8IcURszn0rYCJ4vHIMzdhPvsAGPmWn2hW9sCiPp8oMNZIwZryhc7fnunNhenJiI+cteigOb6xBJwbU2X9Ke6yQ2tnON9m3ipA/XK+oUYHhA/NiQLMlOwcqe7MyvbG9zI76O7R1nXzoEb/wnpiVEPl1F5Bv64BztSYh8i3cUL+JQjOUYTvMXFiXFMTEWutOXXRSCsA+bbAc7/IOP8Bw76sOPfYlrPEgPNjNufINrnRueVdiKLxumsQGexbdwQD8xwS98CrN0YksTLTzH9gpKtjde+OczecHGYnAGe+wNv3A1Fbfryq3XerZIOAEh2ZnLDkuMCyCpiu2mZd//7ETHUVMCyIgY0Vs9AAy/05/ZDNGPahOwCHIEUg5WHKRCRbheCAY46GEbVUCiC1AhG4EseQOend4AWwEA7NltzDgQjmCSQL2AuV9VO9euYQILqSAO/ajQ1xHEjMDs2IWEJS86SrxmauxtB63sIKjAUE1PiSBQlSNg+tstUSJFfAiLzfQX8kh7xoA8BFx/PM7p2z7XCXI7DEpyRHUvUacIo8tQcrHrmZ0d047CIMFrl0BkiYB8NjVTJMbGZ9n1LKJtKxv2iSd8lV/X059xwqPibxF2azEL9OMmbEgyPoUWcrKToWSFsOiv0NG3pK6QkXztfmeVTIHFngi0b3s6Sar6sWvezs5OmX0Zq2JBsoMNxBzRlnhEovRSfCFIsWy3OUmTz5D2fpdLjU/yUMCLPwUhnZLYJQFxItb9tesjX00JG/CJRGPcfthFovJDOkTswZvVFmKMXmzCxrhAYojgAHqYPOAVcS3GxL/rYN7vOtht0e59ds200gS/Er8kBCvOUTjiGDbmG7ZXeEbgzbXOIRKxnQXZhZ9XFf5RRCmWieSKq2BMfChw8QaRCPEHvyYWxwQXGsNjHvOYUvjwC9yJA1ix1S4+ZnvFpXiRtGHI7pN8addJthTvfKYg5WcJHLZxGx5WQLCHHRBNdPRlAiP+TSroK74dsxshTOFofrMjqQLVBMMET+zgbrsRGrscZLKiuOxz1qZk8+XESSKCSSCp1FRb9rJX9XGQgBLoAkP1iaQUBlMi0SEGlSQgmYG6Xlu5VkUJkIIKKJIQJHUVNXDSSaApCgQYEcj0AGzEKDhda7ajgNAWMAocfQkQlbi2kLYCRIDSD5khAYQb8bk+EKh26awty7rrLpvSn15mQtoGdLoJNGBGaGyBDM02jDn2GBLHjAlBsgHyMnYrK2bTgkSwaR+JsDG7Ep8hD8VXfzz8TI/a9tGDHx1jd7obh2MIQxJUrQ/Zh278yX8KPUSXpGEWoE0rDTUGxgQJKxj4UP8RbbIHX9MZISkQ+Ixd+FBiUQT6f1lBwnSX+BAhAvQZPCh4JDhYtArDx+KFDfiZHilokRfbSuhWBmw9naKXeI/kzVaRo3iRBNlDUWUrV8Wt/iOOeRmbmZV4kkAs3RKFJZJmk/0mf2MX02xuHDCl4DQ2YrXJe6tNZn9Zjo6fh4RN+ci5koAkrOiWDAj+YXu+ZGdjN174xk/wUq8+0ot+cFDbnn30JVYkZ3iEN0mPvSU0uFLwSoqw7XrcgAPYHsb7tsc3bAsHrlPASFrr7ETHTtrXnmIeB4hZiZP/8YVj7CN+jRM+nDslMAVLMMVmCmTFAJviCjErnmGa3uzhfCtV2jbhwhs4lh3pyb5sG56lpzbozx+KE/EhBtiQX+CDnfCSIsG46MHXbO84G5qkGJsVCmM1ZtfTA0fCSh03m5StTf6WxwDashNgIGVLpALNS2BmyU/gqxIRwpgIVgEEHGahAgN5IUdgMmPhVDMl/aiaAQxJAYbgBFaVqf4EsZmez7UnmFWIiDdJH6hCPs7LjIkAt2MIBSG6xpjM6AWIWw59oSfSNm4BSK8pMpsSoKU/3a2CqKQlfZ8BtZmiWTuyo5Oxsd0iMUYzIIRmRqMfY2VnhY7EKilYdRFQfOl3GBBdvkcREVRm6GaMZklmZPSkh4Qi4UrgxqA9PjAG140FpOQrmGEKAZmN84Ex+xlP72HNDIJ/UqCMCX21NyYwBDfGYLadlRv48t7MpCbxKUFyZi6SnoLY8rmiCLa1yZ7sIyYkX/aGczr43HhgVzJxvmKK3ZCd+811QmY/CUYcshP8uk1DnDc25iQ3NlRY1Oca536TfsRSLlzxv5iDKeODLxjMrQbjhWErDv6fEgnOyopkISYUK5KtmJA4/N6ERBTb4wrJwVglF4mWvSOSGdzH9vR0PtvrywwS3vhAXxKfmMMDEp2+4B4urTY4dxm84R0YgS36rMsRRDxJplaMJERjxMtEbJhti3WxKEHn2Jg4jz7iToHFpimgFGdWaHE5e+A49uBPhYCiCMb9vohY8JlXeJZfxJnztSe541tFNt2sEMB+eMzkAafICyZbOCC2t6LlVgyOVZTBGoFv3MH3xiKH7Me+U7K1yZ9BBR0wuxfL4UCmogNIThLMZosc63OrBWMCYAkMRAYIAhoZ6evIkSPld7xV1YAluJGAWZMfP3G/z1IR5ytIgAv4BSTQSuDACtDIWBUsQakkVaRIRVv6Ak7LeEiS/u7bIVskodLNDMA4gcy4AZY+SF3VbWa7n+9+CGQ/qsGOmWkIlsyUjZc93HYRFIJVIE6JQJOAkaHAyJfHiKDzUhCwI7sZo6JCkmIrtmNTRM6fSI7t/ciJ2yfsZlWE7dmafpZhJVVJAEElSMfEEqDrLDsiVCsOcMO+flTFMVjQN1KW/PYjZkXGZ4ZnFYufYVDShl+zVQkCoXhNFVgwxB5+0MnSulmLwpIt4VJScevFD8bwJV/wJwIjsGjmol+fSyyxffrmE7aXpHznRkKyKsC3fCXpTomiV2yJI7M62DVGsbdJEUfsxt+wLP7EszFn5gdvilirfYoChD5VzEmsroEJs7wsoeMIMQkbbA/Xkr1kox+3TVKAiVFJWwEm7tleHIsxidhqI9vri8/0hZvwmzH53P8Sk6LWiqAE6dgyhZM4gC1Ft0nEWBG8rBiX1T9jY0tjihirWIcfcT1VlBAYgDm29fPDil8/YsaHxq0PRRd8KjJiD6KYoYcijj/ZCP+5hSIuYFtxqU32NW798Y08omjWb9ozLj9C5Vh+EI6wMX4RV9qvba89/WgTXyrK+POgZGuTfxKbe6YISILkZOAW5BwJIAjVi+OR4ZhwEpIEIEtBlvcUAUgSUAQZYDnmHh1wZPVBv2YAZkIC34zJcSB1HeDTQRECKMCDAAFc4SLhIA86CB4zY0ldwDsvMz9tujcIkEAm6VqmQlrIWEXsmF+pqmcY64gAoZf7pXRE1CE5Y1bQSLCSFgJDRsY1JYoZgSHB+MlYRRRRABgjH5o9+mtWhDxiK4EvSSBK1b22YnvkrsJWUNGDDRANXfnRrBXZaUs7U8JnbEcHswuiqJH4kJj7enRkG32Zoa0rxsLXxq4YUrQRvoQz5G/5UGJVgBgzn48JnyE3s1rY1yYsIiU25i92YgtFgEQGU3B2pCto+NmY6SG+JE+YHrK9BGaFyS+y+e4HG0t2ZmZTwi/iiE8VlzAlZo11k6KfLMMi9ozZmPQHh+JNEaLQk6wVl1PFS5KIgkhc0B1GzQTZHt5ie1/ahDf2dxx2rMrBEt5Q9OlLHLA9O7K94ojttUVPBZa+fO56/sUpiia6KGr4Rbt4b0qcp3gj4pZ99iOwCP+KCf6vOSfcZKwSJBssEvYyecFxfOI7TFZDrBDhGxhU+OM3PGoWzx5m5rkN43sN7Arb+MU4+Tg8m1sR/upPoa0/cQ27KQAUslYt6ICLCL5hY7Y3NkU0XtCOvlxvgiZ++k8qHYRsbfJ3r1AQpFrnAMbnVMkAoQIHUpHEVY+pwoCDY81mzBYJ50vynJhEgeS0Jcj1A1DO9x6Z6stngjIzKwUGgCA4ZAtI+tdn/rqWzvQBLJ9rJ+eboQK7MWoXqJEWokC0ZnWKHmBUWEgUghDwEI92XYPYp2aKUyJ4JQ0VrwSqGJEY2YNOkpG/9Eac7IYcSZKV5dQkW58JGnqacRgnHdlTkAhixZf2+Eolj/DyU7aW943ZdYJV8jC+2vaImO29FABmeOyNgLWNgNkGCbK/v3nvpR1jcS69vE8RQX940J5jiJk96D0laZ8f6r68TzvaoFsEkVpmdL/fmGFZ0paI+dy1MIOgjJNonz3pTEefK06QLlwhZmPwGRsnSSNOfoY3fkaw4oCfFXVImA/oIQ7cFkGo+mN/7cOz4hZmMrahMcOwuOJfx+hoPOyoT5/l+rz3d6rgGRMELAa1pU8FldjUpoLe/+zqvXEjfcfSF1sqZmBKGwTmJFmTDdeYrTvP/7XtU4DCtSJAsrKCx4Z4hm0VJPirtr1krogQ9wo3OPTeTNYxeIYD8aN9/fIrn8GS2eaY7b2nG+7iM5jer+iDPdjXOGvha/ryqzH0BXZMtCR2uCRsL47hgW8U2TDHRjAX22uP7dmHPcKTMAiLvs/iOv6no8/wrEJE++KBDYm4Y19+FosKRPaygshH7KQfLwWHSUF8jv/ZXt90MBZFHd/R33lwRoeDkK39tj8AW2609IXcvThV8gM4CUIV6UsZjpl1Awfxv8AGOu0ISARsiUilaWnJOZzLkc5zX5sTkRUHW+KS7AS8b5cKZIBHykjbMSACFt9qljy1SQdAUXGqwgU7Iha4AgiQgFRSc75kR4wVSI2N0AkYgRpAs5ypADAzIYjBjAK5rCrG6tYG8Ao+yVz1rC3B7nfvQ15sYBbHlgQRWe4zZp8ppoxL8Jo5WsqTdIilU3ZHjOzkCQ5j1K9Ewy5ZLjRmQY0o+Uyw+u1yeqR9CQuRs60A9l4QIhYEjAgUJZYXVe8h6xRRfK9AoQOipINVHWR1zTXXlGShLRhwe6JO2kOCpHxhTjEDG77NjbCsEPFfyK5eLoXFFBXGDCMShhf88Q1c+34J+yIpnyEf34/QnnbZxO0QPkOeVhEcVxzBlhm/Y7u7uwU7xmXMfGHMWZkhte0dYzN4dU8U/tieHopFWPHNaYRq3PTUv+KFPRCmwk4yliDFCB9bZlVgIW+24l86wkgwsKwgX/5U5PtOgoIabvEDPNILRvlUYlQs+Dy4NAb4P9LNyhU/fIDw4YvvPaliLApyScZ7Y1ZcKm7YCz7EID8TfMBfdMMBfC4W2CG2V9jjMXroS8Hs+yXGYTaJP/jWKhd/+sY/feBJTIivo0ePljbFJdsrWviUDenGX+y/XxH7YgUu+nEgfhUo4iWTrlpwHn5mczaBSXEs3nwPQ2yKW7jBAezBD7E9DLEVe7CjQkHMwzHcwQ2dFBhWJoxdn1ZmcDobsInv27hN6xr9wIziGP7wFzzyHz5w2y/ft1KMsT2csD2+tyrhfPEkjxB98aOY3LRs7XP+HIKEslTqvQTkr+ASdIAnaJELByFU1wk0klUCwAJgDgRCCReJmW0KUo5P9a8/5O1+jsRC2N41wItcJDN9a1c7/tIJWToGlIIDyAAXgH1OH3ogZHohFdd7SfL6Q/4RADY2Y6SjsdM31yADRLIqcRI2QvDGJmEqptw7Ny429DldgVriFGwhFNd6SR6KrviI/sZFz+hIX/bgG7jVJh8IbPZit5AncZ4x+5wgVLZHIJIEHZNI+YxtYAFZpj0JXz/aQRrsnAIwxZaxOCZw6Zek6y97GDMyytjGJLFpRoHIjJ0+fE1PbfO/MdfjrAUeQnI5R5vGQseQK5tnzNpnC1iFP+cYn2N0RrJeSVa4w5jp6Dq+q7FGattrx1i05T1SRKZ0NWYvhYLEw+fGzN+wSE9/+d41jsOvAkt7rpEU4FsfcNHXZZGwk7a0oS9jYwvxCSv0ZHv9inv4qJM/O8KIgtv5+neu5GH82mQLhb4YMCY+ie3Fs3GkvYgY0Ib+tWlGyfYZd2yfeKa388S/YgLH6NsxemgfBsSLtvG/l/O157zEmtg1FkWMv2N4W1ZcTwd98XXtI8dgC+7Zo98X+zqfLehmvGIPTlJ0wof4MwZ2je2955ckVTZyHbuwgdsM/Gy8eBauap51rv7o5fr0i9PxgGP+15+/9PNXcUC32F6bOEVu0S89HIPn2Nx7caPNTcvWb+8L6BzMGV4R4HKMXQKYiED1OQGYGpiSCRsChOsCaO2xs2s53XHXJejp4H+AQxoR14UMaz1cIwm53ucHAY79CvuxhfEYcx3c9GcPY449IsbEjsaMnOrrpkSb+nM+m9R2HJIp2zumf7Pf+HJRe4S/6KBduvNL8JExE33VYz6eYmzRkx6xr8/5LMUN/esxu4Y9Mrboz1euMc7+NVMS+7u21mNK6CD2+EbsiYdl8bGO1GPux1mOGS894mfiGFwF9zkWXGXMaW+R7cckfKOPoWv0FT3YK6I/dvRy7ETkjymhP1vBYB1jhO0zMWKPRbYn8SV71nwUfDrOvn07xWc+Z99lMUyP29v2W5/8mzRp0qRJk22TgyuZmzRp0qRJkyYnpLTk36RJkyZNmmyZtOTfpEmTJk2abJm05N+kSZMmTZpsmWz1T/r6ZqdvXtYv3wjNNzZ9+9Ozpr6Nucw3b4k2PbPMnq7rf/vT85++SepVfwtVX475xmi+aVpL9Et7rvEFTc/J8p9vG/d19IiKjYr41TeVcy0fe2ZVX/U3TbXpC5/aHNNjSIzZc9/0GBqz45F6zPqiX1+PKWHXbH7RH7PP2J70v31NXOd5XPr4ti8dtFf7v7ax87JBBx2HMOB60u9raMyR9Nu305g41+N0/NkfM5vzF5/2be98ez743KuvR1/oBYeu8SXgGgOO+Yx94WnM9vqo+2JPn2fvg/6xtDmGt75PaunbfsiXjuX4lMQn9fmu77dJcpzt6c7XxrWMP/XDfsF9Peb4GU7Zt38MF4kZfY3FOv/VT6ZoD6/0n1SIjGGRP/FLvy/fbLffgTHTcVkMD9k3MnaMnfCKMbPVMn3xEazRkf1qHtCPcYVna3uIH48mG3NtP9ewLT+P8SzdI7X+sX39ZAxxPh/rb+gJDT40Buc4ps+DkK39tj+n2PayJmlOt4Wj/ebt3meDCw7ynKWd8Wy4MCYcapMZW+SypXY9y22nNc8BC0y/Z27zHfY+/fTTy0Y/gsne8jYkCSDt6OVYBPBsOCMJ2Wve4yH6sskFsOmb3raL9Byp9m3+4Ycj+NPL3vn08BOS9gs3ViCziQ87AJuf9rR5CbB5bpge9ioYE/0aLz0Elf9txGLMnn03Nr8xYJMaG/x4Dla/xPaoNvoxXgHgJ0ddOyaC2oYbfhQJCRJ7APjFO8/f2lvdJin01x77egZckheEflLTfuh0ZB9t+Wvjk1o8m+snkPmQ3sbHxp5DhwHPDkdsGGIjF89Ja0dfbGqDDjbxDDc/en63FmO3wYe9/WFrTIzZ5ks2LkKC9NC/MXs+2KY87GHDECTlOW6b8nj22Na5Ozs7Bb98yb6eUx9KsIRdbPxz9tlnl3P877l1eIMbmxfZ7AYBw7axwY7nxm165JgNUtjeTyR77p1OdvijO0GeNsWxEYr39je3aRGC89y43xVwLCJm4J5NbZBSb/Zi7GxvXwG6sL2fabVNay0212KzscTBxgpC+tskx0+qsi2xNe5Tn/rU8j4Cx8Zte2L8YEMh47RNrm272X5MYIo9beSSBINr8lsUfjwGbujq+fb81LQ4trmSc/TFL7acdY64s8mMTae8F3Mw4flwn9uwx+f2lhBv9haI+BxOxILNrvjAZzYQwy+Sj2fT9SXWYNFGSjYCoj87wH3tlyHRJvvaGA2+7EBJYMxmQsGOn+MWS8bIv+KDP+HRM/n6m5qY6sfPUWuTSOg2UMMr2rT5j5/S1Z7n6uGFr+GMzYybT2w2Bbf2cYA/XMon9LUXTH7nAS5t/sRnntXHwdrVF/uJP/6AiUsvvbT4DefY2IotnCfX4n8YFRNsjKszSRHP9S+wblK2dubPyTZp4GgvG01wvs1mOEvg2AjCznjAAfBAW1d2tXAkZ9kgQhLWtu1Ts9mIoHGtH+4QZIhD4PvMC7Dt9iVRSQ7ALgkDmF2kFA4AZ3coREdHm9IAB8K1k5dNIfQLdP4/cuRI6cNmLJKxMQdQiIoIPGB2TDv0sFGIggMQJdChGQPJmAWsNmwIJBhsdOEF8AgVQQI54tGWtgHajnkCXrBKLjYaocOQ6AtGBYnrtGdHLu0JTAEqcSBMGBbo/pecBLyVDsFu3HzETmxrty+EoTDhX8fg3y6Hkr/fTxDYCgcBiSz4xWwAOdEbTrx8rnCwc5qdu+jqc0VdxKwamfrL1lPEmTHznTEbj53a6C0pwBS8sCHfI3LjMuuRLOCQ/gpdRZhCDmmPYZjtFTn6QvqKCv37jJ6KWYkKwdmRDjkiM2QlCbM9DmF7hTLb0901koTCl/78rNg955xzCj4Vn45JcjZRoSPSlHz5hz9suqLoJSYpyNqvqbEJXLE93Puf/trhT3ZybGzMYhsu9MdO/G9DFiKGJGpYFZvaYwuYU3goqhUlbE4XY+UHsTQkCg0vY7bBE9spFLXNLvwpZvnJ//q20Y5kxR9iTBK24xwOkPx3d3dLgtSmYp2PxJ7YxTGKGT/SpS18pBgND9jlztjhDP4Vic6zyyfO4DM75cEY7sGJNhcSL3yh4GArrzH7EhjUH8zQz4Y+RNybcLCjeIjt+UEh5HMFIfsqUMSRMY8VcoT9JWG/c2CHQnYUv9qkt+LNdt8mCWzPvjgLRymQ8bWd+YwZho07PMvmCmR8Tk+8Eoxky18xxD+KTlzP9goZyV6Ryrbed2m3cLlJpkmEPrK7Im5zLe41XvF2ELLcms0hFE4SzBIdoKs8OS8zFs6XuAQKsp3aQY0ApOuBCRAErBfAuA74JQVEZCZkNuUagBb8nIxMnUc3BEgPgDCzMruNuA7R+MzMUftImq4SlCLG2OgCpAElfYzPdYJE0edzgSzwBQmSUZxEjzpx9YUegGpGmV206KA9xwSZlQaFVU2ISINdkL6kksSabYWHxBjZFXlIqq7XBx3NwvyvwqePoEGsyI39FFOCEHEad72CQy/JI0Wg93wvyOmNpPkfOfCfQEXg2pRkEVMtCNiY2bhfNPHRJZdcUgJ9GTFm+kp8khgfEfaFTYSGQBRfiI4dEJdVENfxC38qJOE7KwRDoi++UNwYE3saN8yws/YQI7yxmbH4XJFDL32xLwzF9s7RHr9J4JI2jPgcRhUHEjUfWo2iv6RFR7b2o0Xioha2R9ZmpUi4L/qCg/jTqouxjQmsK1IVZEOFmJU09k174smYJavYXiKhO/zSa0zgIbEu/sWYOBeHkoAYkoR9zleSBvyaxdshE+7Zit1hAP7Y0bEkTsWmYwoC+GULyTaJPCsVVs8UMPxWi2P4STyytf/ZBX78rz04wC/sys/8OiUXXHBBmfHzdy34TjxYyaptb1z005fxsDv+hYmsIg0J+yr+2CuFaWIwv/ZnMgev7C1mxDHf6QtWcYNY0xcfw314lt3ZIFymeD/vvPOKjnWsa5uP2Zbt+ZTtFQp4BS8rltlRf+EWPlM8K5YVcPzX55dNytYmf8BFRMgN4QCHKljgACmH5RexgFvlN0UijgGA9gStmagZDjJyTMVpWUrlbUZ51llnFTA5JsGarUryiFu17hjwmUVZskMaEdcIDktL2rPcLaFIfGbVCMW1gGn526xP3+kLeM2azfrPP//80peXY6ptKw3IR1D6fEwyZi8zNzMDJAT4jiFnQeu4/yOIBLDZ3xjoLYB8PiauZ1ttmTFYjjcLQXz+StiCnb4StP/ZQmAjcDNNtjBLNsOM8K2Ezc9+54GdJD0zewGIBAWsAspY2B3h2dcd0dC7FqQuoRhbPWZiNmOWYOl3GXE9X2mLP/kRPhVwkoz3SM5MA2kgFbrrn40kFfZAOj43lqnk7xwzLLNPMw/+U/w4pj+4FQdmNcjS+NnecnRsD/tsT19JTGI0u1PA6N8SJwKlH2J0jhkpgoUJM3HnSfD8ppioBS6NV9Ktl7AjV155ZSFPt3mSwPp+qAWeFNISwhDWJVckb5UCT7AzDMT2cMDO7GH1wPExoYfYTPFjjH7ulQ3YUPKHWXu8wxvbum0T3IsPKwxwqT9JEjbcsjOThG9xwRfOgfn0KyHpl03oacUK1iXDWuigwBaXeEgRqJjGiTjK2GFS8al/yRhupkSbknuSZoTuQ7b3Py5S3LoGJqzcsZG4HBPjZCO2UJzgJGNgP58rhIk4hDe8w75wBqf6Mj7X6QeO4R6vWU2w0sc2wd1YrON8ce6z2vZ8m+KRTrhWUcAf9MNF7OBWg2LU7T52PijZ2uQf4eyLL764JAUBw1kcIEi9B2zBBPjLCKBaqkSMErNqUzvAzOHa0R6S8DkR/GY+CEsBohoECMSCuCUmQViL9uhreVNgIhOJDmgRq+IDeUgIlqcQCpIigIl0BAlSjh50MnNE8n5vX2LLsSkBagkB6BEvfVzHjkPXs7kZmWrXUrXlYgE4FdgR1wpGuprNpzLXnvuWZpKWT9mP75wvsNxbTsKSfCUpBM5OF110UZm1urXCJq714hezTwRh5sTmyJPO+pOYBH4tY2NGxG4JSITGuoogPWTNzpZQ+Z1+BPlaRkRkZhPwBT/Iho8Vna6FPbibEuQnoZlpST6WaRWJJERttov02AWOzF7Y0eyZ7RWi7O4l8bITslRM09X9UYJY2dOyrGSu4BArEhksm/EqyrQd4QfJz3kKoL7tzS59l8KtHYnVdzTE41jBQ4LTIREbZse4ge34TgHmveuMx/cWxIlZo/iCmSlhEzF99dVXF33Fp2skAnqyt/iVbHCQz4mxHz16tOhqid9MlB7wKB7EnLZwCN+YdYoneFG8WOJmS3ZXQGnLBESirUX7/GJ8fKhAoJ9VB6s3fiTI7QfxRCd4WzTmsZgYs72xmb3v7u6WW1cKOjHMdot4GE/iA6tdxqoN10niVk2M3aTOqqRbpzCvkDTxwl18DHsZf3jWCrHYgM26qBoal8JDIsfbbG+pn+3hwySNDopotyEUlAo7uopvnG8lAPbogcsUWQchW/1tfyIIjV0gAgKgqMx8UcQ9GiAROHGIgBwTAPMFIeTO8WZOAZFkCmyCRvuqOiQFrEjUjEhScr+PHhK5cwS4dpGCihThAKTgUEUKeDNtKwY+5zsJHIELfDNjYAUgIJdI6KayFFj6IgIY2Qs09zGRa45NCdAqdowTgaeAqsXMTuKQKAAd+ZmdW22RnBCnADEm78cEESE69nMfVpAjD0kgtwMkJklDcmcXAWs2i7AUCxKkQgsxspHiwQwUgcMB4qQnAqYnglPE6YPO7C9h8anZgqrerETg6puPifHwhbb4RYHpPPpKdmxNB+05Z0yQv2IDSfgSkqSsDaSveNKWMcAN/cQyWxivsTvGn/QxgzO7HiJcwt9mMnDiZeZFT7fFJAlLkPCm0IAxseI8BSjfGT8b04tvjEssKKy0IR7gC+7pykfsR1dLrfwEOwiQr9lG0Qq//KDPzL7FR2yvYJAwtGGWyUb+l5j1rShdhGXxwffwIa4IwoZbbWhbnPKZMVkydr7jbI+oxRD7jN2jldzprdgV6woiehkrrLE1v0r87M2ObK2I39nZKQkQ7uGaD9kkOot1fodJWJT8JR66GA/+ETtWECUUPAArblWYffofptnSiqBrJVArCfoRK158CteSF16CMTHbn5z0xditJijAc88/ok96KFrpyibGaBWRra0+KSLhjQ5Dt2ci9DDDhzdtKejZGXfiDfGiSIVPK5ziAc+LDbbC8fpWNEriMCuGwrPsrZCGCVxGFBPiXpGrwJAjMvGDD7ZX9PqyoDGaSBiP2PEdM3yiX3iHBfEKU3xM78TxpmWrZ/7I3qxI4IQcBIRgQLpICVjNIJCDwCWA7FqvzCr8tVzjOo7PvZoEPHKQ6IDJN545VhJCZGabCBQokJ9rLDELQAkaiAUBYCG1VOvO1Q6AqfwFI8LyApjcH5S4kBZ93QoAOro4pi8vM2QrBJI+gogeXmPimMQkePOLiPl86gXI+ea9MSpwFFeSR64X6MjU+3wm8NgMKWXpLceNFfkJbPbRJluxnSDlD3+NWTJWtESM1fVISb/OYzM68Zd2kQEShAdFjlm/tgUxMtKXoKfP0Eswm0FKknTRp/FKtmPiOuNV2CFAJBu/IBtkoUhR4NFFQjU2etDLbSd+Zke4zC0o1w/ZN8JG8Od8ZCQxENc6Rn/48rl22Q55sT3yZXt2Y0PtukZ8wZ1+JSfXS97OgR1tSfKSi5mt5ALXxgnPbIWA3YqC0djecceMW1/RkS99pr96bH1xbOpFtEdfL58hdZhne9hgD/HN7vokzmPfun9496Uyqyc4Ir5wjTG6naSPfOFWH8bH/45JYooB4jqcwN6SsevpmVjXL/u4RoyZiVotkuxwiiKCffUH72zor3Foy3USEz/AvqLE+PiAnxUk+oHfZRL/Ki9iHBI0Dqazvtg9id95ffvm+uAtK5eKWD5SODpmhs8e4sU4JHPcxS7GhxtgGqeSYCo8G9ynv/6LuFWLz9keLyusMjFiazrgEG1pW//a5jN/fZaVYtcehGx18le9cyJCjiRRKAIEnKTo/iXQCRTCmapo33J2nACnogFpSuiA5eVcABNQqnvAUs3pR7/aVvFbjs417vMIKAQh0XghV2ScJGvWpJIFHlWz/hEnwKtKfXlEO85xHGkgZYRrpkAHfTmO4AW4966NHuzDDmOiPXoALNDnOjYRlALMe0GqD+/ZG+gFV76Y5167YDdGgqRU5ZbJBW4+o7O2JPf0hSQFiETI1uzrtgVCNBYE4q+Zr3MldDNMCdP/vvCjD6RnhcKswexCkocD9jTjQxwSjiSOJPjECgpiYk+BrgDgB+Nkt4zZX8Wd811nZUJgmwGzwZgIej50PVxlzDADO3maAL4URmaGdJEwnMP+8OHRIvgye0UqfGNWeeaZZx4raNnV9b7f4Bp+hVe2Q0aw4TPHzMYVQvCmL4VxbK8ARm6uoze7Oe46x9iLLjCAzC2Dassyvf/Z18w39uUn44R7RV9tewkeWbO9eDGr4ytJ2SxTewoOsTYmbMFHbMUGsRlcsrUiVWxkuReeJG/2t8IAZ1Yq9EkXCZmYgfueAHtK+gTezPL4KL7UpuRvnOxGXz4Rs/CkH2MSX2Im17Gp4+zMT2LDea6DYYlawjYO43E7BAbZX2JnQy/vYYvNzXRhiQ34WvHBN47zMx/733GrKhKsInxR8ncdG7ND4gO22Tu2F8OxvdhxHnv5TLx6zzZJ/vBtTOIapxD94D3nase9fQmXnxTC9OQ7x9wqw8liHbfwMVvxFz7mS7zW51l/YYCfMxa608F7mDdOeIjtreAq6PC2c61WOY+/6E8HfsHRjsOx641FW4qOg5Ct/lU/gehLMoI3FTsBcI8SWe5HlgJCoORLdwLNPW6OskTDcQBnSRNJ1KLSN2tDbr4wEnAgfvd8JCNLpbVwtsSHrAmCAlZ6IhRCP0tykohqUntmTMhIwnD/W9uCjN5uK/CvmVM960UoxgIDZqa1wIHl6szo+4KALPmzUy2+LKZw8WUbgVSLJU/EbTzutSMwfXsvMAn7K6wEm/uSEjGdd3Z2ypJlLWa2vrQkwJyPJM1GLLVZYlNUKMp8l0KBAN9mLh4hkvDZjH3ZkL3z7V3+tPypIECkSNi4BH4EefE50paUkIUxC95arCzBT0iSDsgAOU0t5yGX3d3dch+3Fo8xWY2iI/vzNz+zOSxJevpD3ohN0cKPxgDP8Kdv17K7RJyCyzezEwuStO8NSP7u5UuoEilbSRr8KDG4TyrJsyP8KSoQNQLjb6SsXy+3xSQ6fKNIo4P2JRJPSSDCCD2tLIlTbSaxErZ3a06swL644mPnEsTuf9jnvzGRaNmtFnZyW0xCoB9MGbfiw+d8BteSjyTPdmbIirqs5PhSab7JDhtsmtW/WqyQ5DFemOdvOPK5MesLDo8ePbp3xS3Cz3AvLtiUPvQwWxfrkqSiiE/Elxh2ixOXRYwLR9BT/JjcGI/vOeQWDFtYJRCDz372swvn8KP23YYSszhkSpJgI8ZnbPiF3WoRg3goyZ3dtM9ucO9aYkWM3RQfsE53vhSjrg3e4J6Oxsq2eBVG4ceXnd0eUMy6zmzdmBWg2oQ/nO264B5W2F1/OMZ3BWrhF5yCY5zP9sbER/qV+BWysEwH/eub/8WJuBRrCiBFr/ixuqStTUv7Sd8RARZ2UbkJmHr2IKB87i8nAtkywtlmV5IFQtqPQ/Wt0qQHsleZKwQikoEZrX6Q69Ts5/YQ9qW7QEV0Ai/iGDKHR0GWWzJTAreSIV+4pk/4yEfgsZUgZHv9sJMkxXbxS0Rxp2BwDgwsIrnbQ4yLDft+ht18TvcaG8ZtbGaGCoPYN3ZnR0UTO/pLgnmYs/IC9+krttcO29Y2hHn21R8/s2Fwr83MJhWBIfZ1RR8wj8vorr1lY3NIkL/kSj9t9eNozPbEtfAGU2y4TKzTX1/apb8CZhkxXoWKRKn4iB7ihz3ozr7L8g2/GDfcay/YoZeC39hW0W8dMSa2oAPb1vxA6AhzCmp4zNjgjS1cb8x0zLFwjutgMbdPXaMvxXZWOSLBqBcd4L6OpTGJ7fUBA33M4xVtpViM0CUrCI7tNyampCX/Jk2aNGnSZMtkq+/5N2nSpEmTJtsoLfk3adKkSZMmWyYt+Tdp0qRJkyZbJi35N2nSpEmTJlsmW/OFP9+yzDcu629/+garv74p2/8Wp2s8cuHbrb6xW3+bd0rY0reMtZe+ItpzXFv6rL8F6nP9DH27nY6kbs81viFMtNf/ZvOQHq7pi2Ne+sh4fYN5lW9KRz8y1RdJf8R1Xsv0lXNr6evu27Js4ZU+IrXt62+k51q2ZP/6G+4+85ev+jrWuvT7Iq6LfrWMfb6qLLKHsQa7Q1gcEtexoVd/zPRmJ6LNvj2G8BY9tMfmsF0f8zkb66uPe7rrL/bXrmu8asmYI74h7ty6r0WSduu2lulraMxjMtQeSZuxr3M2gTf/9yVtaiv27dveseB+yM8kugzpsaxoQx9sSGo9HEsftdTjGxLXjOHeMZ87Hizm835fdT+xEzsM8SxbOa69vr18rj+fG18kvoZ/x7witS508M1/T184N+KphPpJhnXk0Cd/BvOokWehbZJj4xYO5DDPsnrkwnuPKHmW1fOrHMMWng/32Agy8byr7SanhA31Yx8AbdiExPO1nK4Pm3N4jtajHMDn+WTO05f9nj2C4jETz5J7lCaiQPEMK7DYYhJQ6GWTCI+oaMPzwPYb8DgKfR2ji2OusdkFW9gmmC4Rxz3uRU+bWXgWWT9sZROXPA4zJgLD8+Q2K6G7djzOxRbZRrcWj73Al0BhI4+bsZftSBc9SucxSfrV4hna7LBGB/gVFJ4z97ngN57Y3mM2bG+HLUHGtja8gRFBRj87yNFfezb5YC/2s6EKe9DbI0+O+9+Y+xudwJVnqF0jUBEC+/MJPdhWX/sRY2aTWjz3rD/PuxuT8cEEbMP4EJETtsADcJhHrGAQpjwqyDbwwVcEttmerZ3LFl45xiaw5RnqPH7nMUvP+NMPbuhngxr9soXNWDz+xL5ixPhcy/4w43hwXQsbe3RLHzkOX8E9DIyJccMM3RFs/EVgEzZqMS4vvhSTiXXPZPu8Lir7wob9PSDoZq8Cj6XBKP3Zhm3pD1fa5xM6ihFc1H8EzHF85TqPiBk/fuObCN/bVMmY4cM1bO98fmZD8QG37C9u6OWYx+0i7ERXeEqMrSp08NgdfPjrfzzEx2wI12xRCxwbX61LLXxivwl+M254w9k5H95s4oNvYdo+FnxtrDY/qwUeYSF5gD54HA5xo/fBAL+wJZvbTEgOYTv4FevsxV/2CEicaZM+sIe7bbDEz87VnvPEkTGIO5tNsRNs4B57ONjxU5/ryqHf2x8YbChj61pOkVglT0a38QKS9jyuXeYEgYDjHJvy5MdUOImj7cw1JYLGLmb+AhPn648D/W+zjgDFphz2lOZkfdkxkFNtEkQ3fSFPftEeXRGzTSEEh6Cx4QZQasu+5wIxG5DYkAUxSfYC1YY3fGvTEjZBunaQsrEIu9DRJh5A6Tob5vgMqdFjTLRtkx+/HQ6cxitIBY3NKoxHX8jG/8AqAfjrHFsdu9amMfqbEhvu2FRHwNGTPQS2MdtxjE0UInbtQ7QhT+O1OZCkENvbMIRPbWyzs7NTntf24gObagg4egk6Aaxt4xL4/jdmm6EgGmNmw4g4ggM/doPM6Ge8NgSh51VXXVVIJL8ytq7Y/IdNjQtG2ANhSKA+V7jArx+jgXkFxxRRw/kNN9xQrmNjvoM/44NfNpQM9WX3SwQpOfAF/LqOvfy1UZI+/ZaFnSLZ1gYmfKxAkWRg0e87IF+b4ogFdoEjdvLiT9dLevQ3Lj8uU49Z8gzu/VCTY5IsHNupTbyMYRhOxJ8Nh2woZKySEIEjW2/rP3iDATaWmOzXzg7iyHF4UwCP9QV7fC8evMSsHyqSgIwdntgObyic8ZGx6d+ve/KNsdGRjyPwhqtsekS3FDw2xqEfLPvLXils2ZAvTSLEAH+wFZuxofF5KSDYz9gUD3IFn9lETOEnQdaz1mVFosO7Yoxd2A9XKUDgSrzRg50kbBzOLvqDuSFR6LKhMcAbfqQ7vPEzvNlRD+/wLT6EKXaxsVAmF/zMh2Ld1spsy+5iQFywL96hMx3hTh7xP26DEWPhL23mGL5ne/YTL2JTcSvh43X/0w8f4Sx+VoC7RhwqIBQd/EUH/DFWzC8jq5dsJ5kAuCDyqg0FuFdccUUpdCR7O74BnCQkQSMC+0rb1QtQgX6R6EvFaVcvDrc7FMea/QIl4NrtDQEiOAlBu0hWRWs3J44X+MiAID/EKMnmR28AU9UKHPSXWCVRQAIS/7teewJY3woKxYFdrYyHADPi1S5ASYZ2zTIGiQUx2Z2rJpq+CAYiIK2oRASA3e5iN+C3Y5fEipjoIAjYfBUxbu2mQBUQAtwe2v7SQcJBdoJcsNjeFgHYnc1MHdGxD9vaKdEqAF8TJOFFLz5E/tpB2ghIUhPQxiXhaL8W42JXuzHCVS0SI3KuNxHZr9iyFcmn+IAtNvDDMXwAK3btQyZs1Ne3FkTjOgSMiCQIyUhBZPtgMeMHsJAlX8Il3CI/RGonOMUQ3MM8ErfDpfGyt13dtGP3M6TuvaLceXSUTK0AIW72c57xaTuYJYhSjAWXfApTkrDxwodYhPt65jskEgbCNw799kWM2cnNTJGwAfvCM//a1c9YjRmupkTCULwSY1KgmHQosCVZ/mIvuIRhCd8KlgQNk0N4Y1fJ0fW4pi8wL6lnhihexLmdTRU5eEEC5g/cIakYL58ocu38hw8dw594SEKEj/2ItvRl10H44AOTD9jCEVYoxBrR1+7ubvE3bI6J+IexTCLYUhK2I5+E7gd48JoVGrtSSsD6IYos2GZjoi1Fl1hmPzEGX3ZDFUv4h06wYCdJ18GByQa+4D+rDmJCW/gehsUHjrfroy2V+S8YVQQZq6JDzEVwawoeGKt/knw/sn7ZcJIIwrMNKeckAIj3AkkAquwkQUujSB3AOURwICHAUX0tEk7jZAGtskQcAl6CVOWaBUrM2sxyOLJyHpCafUjWCE9wCEyzA9er2COOAZ9AQF4SndlDKn5kkspXUgdCxOIYOwC6sasyLUUJspA1fc2yBBAg0ntK6GqbT2OoZwD60p6+BATA2tIWudNfUhF8SHwVoZPiSCVOjIMvBaEZjtUBxK/QMma2M6NVNAjeJGWBiHD4XfWPPB3ndyTqOp9LiIieL1znc8kHefJnf9ajL3gyA1Bw1mKrXHgMOW1CEBRM8RMbeLEHvSRlBRxbwbZjYwKHEoMlZe8RPqIxRjby8p69+Y4oNuEM7hGXFQYFHVsj6ujBrmb9dETsbO8zMxc25i8Jj37iQAzQQVLgF/3VxTcChQFjTxw7X2HlmDHDGz/BnmNjIm4kDNsAO7cvCkB9sQe9xQb8wjU8WJ2wcmBmDCtTfRmf68SgZGqslm/ZAe4UGOxGDy9Jn40lH4W81TtjrcV4TVTYfGhGjLvozz9wF3tZyqcPG0ry4lKSUkTiEfrhQYWCWHKuhKQgyQrpfoSd6IJXrYhJzMTKD/vSla3wEdvjExzIxmOiPXoqhsSgcZm8aE8xDx+KKXwJt3yp6CESNjvBmsJMkQdz9NSnApNt/K9dnMB24sVfvAIrkrmVBzxg9RZ/K3LxB5tqH7+wP2yL3SR/n9nyHW7pdtBy6JM/IwLFkHCWJK2Ck7QFJcf7XDIEIIGNTCT0/kyuL4CLsCRxiVXQ+F/QAKDA8bmXylA/QG3vaUFuFgRIEgc9AEyVLTARb18kfqADdhWs/oATwJGHJX0k2P/JTQHnmHPtQ40MUpjQ0ZhVvMhOUEyJawXcmAgg9mNf1S5/eK8C16fiYVlRjCEewaR6tt+5REFP/qIznwkwpEE3SYX/zdrZ3djYXjJDAK6VmHyucDD7RJQCEgEhB30gHsSsHwmtn/QJfOjfMePqJ3mEwuabEgRsbAo8S/JuNcARAmJjdoJFSRe2YXCRwJ2iiD0kdXvFw5k2JQdtsg28GadjikeFlmJOPFllydjZ2coW3dhbYtEWG0t2dHMLxX7qjjlH0cFvild68IkxIlCFLTuKC7cA3N6yEsOPcE5HtkjcLCJRNhk7R3EtoZogwBrMsY2+2F7hwN9ixsqB/xeJsYspfsl9YLYzLgWRtiRCCYovzPjF1xDeHFNw0QeH4Jpa+EixirvMWOFbAiL+shv94doe+8GmmIV7flPUK9j4HJcovv0Al1XE/Up0CC/qNyt6xHF6sIviBq4WYRjucSLMKIxwhnHBE38qqIzZEjybw6fxK8CszMEp/CgE4JOP3AKlH79ok93hVGEEG7gFTq00KbT1gdf5xueutbqiL/bj13COc+iDV1zTL+4OUg598p8SQHPvV7WlykQmyIxzJGwBZzkYSDhZEhgTQDXTkljNIlSZiDLfF4jjVfoCHtBU/oIKUSEPXwDUDlAAEFIUHCpOQYwwBYNjAkUbgG5W59fhVKeuFywAry+EipCBH0kQy1ZmaMaNpJGLKlU7At7Sm2Rh/MskjCkx80Aa7IhItWdcql7EwmbGovAwc58SMx8//kJvREBX7UgKxoGk/OCNL88Ys0KK7dnN+P2ghhe7mwk4xs98blnPDIvPjB9Jq/AFPr2RD92nkrfiQ5JSeEhq9FLAsYExblp8uYg9/LgU/JoBKgRhEKHBhCVwvpW4crtjTGAHziQJCckqRcgYdszQ4c8MBV7Zw+f6ZEu3yMyE4BlGHWMLevrxEkUCEmQXYgZk5iz58plChn3pL1aMQcGo4BN//Ok8S7bu0YpLiUMcaBOuEaiYRvpIl++D+1UFxvzQkxUbBTUs8C+iZgt9GpvEYYYnVtlwShx3LrznNpRiRqGiHZjmA5gTl1N40wZ9+Iq9FJ8KX3jDK+KErdxq5HeTC+exh3hQgPDbox/96GOrBv7XBttJ8JamFTVWASQ/7YgXExfxIX4XTRDGhK/ghY+tzhKJlO5EISu+4UAho7BbJM71Q1XGrhh0352/2DHFErsq5oM3scPPbnfoR+GlYNKfQsdfmDZueM5kB37ZEe+wk8TPt7EPWyuq3ErG0/DJvq6BA7e1xIRjisrjLVud/CUMCQVYOIlzUglKuAAi6BE/ghLcYxIicx1icq8HUaogzboBDXFpT5IR6AJHcaDoAAS/xgVsgtJSlyLE7AswJEaAQrSINcEIuIoNOhMEr5L0uQAQ+AJIX9oTvL54COTIjSBxJA/87o/RxdgFJ7CvK/oye5MsjDuzF9Wz5TjBwub0QmTGNCWqcMWMgMlMEUEIagSqH+OStNgKiSJGtjcziu2dhyCNWaVtdsvHyALRSTI+Dx4QPEIS1Mh6TPSJzJynAEPGkn9sv2mBNfgwLgnPWNlDocFWltTdavFLY5IVrE0lf2NFvsicDSVQAr/ISgLWrttI8I44jQuhsqVCQ0JjN/6UxNkrKzxu8UjUZk0SOrv4X18wiBTdKjIusy4+45OsehmbmDVm/lLcasfnXru7u6UoUWjoS4GLyBcl5DExbnHEjn6ZM98LSGEOc5bjJU8Fo3Hz/ZiwPXtZITG2LJ0bu/vQ9LYSpxAVH5JOfzZfC3/xkYSCZ/hN4mZXtmdLBZLCQrvwSXdYVuDhGPwAs5GMjU44MUWBtsUGHsRrfCV+vV83+YtLuKGfmbjY1J7ZO1uxKX3YIt+5WCTwhtfg7ciRI6U9uHc9LCiuFBr6hhn4EevsaOVWwQxz/Cx+LcHzcfzCVjDItq7LpMlfK69sQgf20xacGpfrxKD+4EbOEbde8M4Xx1sOffIX+IIDmLzPS9UOWPkfgDkBgQpEjjUrFET+qh5D/IKHIwVZgl0f2gAM7XCqwHVcBS2JCj7nAbcE4zPtI1Ik4zqBoDJHPMDmC0WIArAECiABMtLUjn4kVW3QC7n4XKAai/PpTQ/tOg8x178jn4QgIMzGAVSgWCYD8inRpjH5m/fsqU02044CC+AjEpV75sblFgf9jVvfxBgkblV0brVol/2QjnEiPp/RVZHiGJ/qW7+Ikw0VCOzMh9pVHLG96xCjZKZCd0wbZopWPby0x+4KK6QqoH0+NmZJEZmaARsbuytUjN8YneNckveuX0foi6DYgT3oTj8YYXtjgi398Dld4gPH2dHqCKwQ57GLlQ+EZ8yuU1h5nyQkEcKJQg1evZznHHhDnGKATuxHR7pqX1/OZ3METUeFmFUyRC9+JHqxoA9jg1vnaU9M0ttYM2bCl87Xvvfahyf+p0PwPSSOxX/exy90hgX66wtuFFWwRA+6Gi+70NnnznM9YRMrXq6vfWxMxqooi+jXC2bZV4J13xjWjKePN314wRW8mVnCG7u73ucKM/40fjbEdfR1/9q4FOUmI7iEruLM+PhVzLKf8x3ThsmKItIMV1+uUwxJeny6qhiHOBWXxgKrXsYgVuhCf36Fj77Q1+odO/EVYX9Yca024cEY4EASZgNtiWlFOTvAn/NMSFwfzIc/6ek9buI7x+HT2NkADlznryID9iR619CFHrDjGNs7Rh84picMO27cwWLfzz4/CDn03/Z378eMHUhCRsCrorUEKbkxsESu+vS5ZALU7ssIBsAw2wAawmGWhYBOFZnEjQQkVu06xqGqSclfgFpK40jARcSqU8ENmGb/ig4gEbxAmaACBIFgDNqz7KRqdRvCLD/3LM16XYuAzQQCZGMyyxBUluoEWWZ1EYHgW/FAKyDZSaALgCmxHGbGoxihp/4kD0mdnfzPxlkqI8ZG2EIQOCa4kB3hJ6sVluetXhgznS27mn3SiU8kO+PVryVvbbErnxmvfozdDNHysP4QjgBle8fM6BCh8bKpgocd6W5ciJA9VPS5Jl/isQpDV0FsdmLcmaXyP12QBF2M0TfkEbG2zbDTJv+vKvo1JpjgfzMH9mMrNnePmugXtq3k8LmkwF50970Ltw3MXJAO+8EHn8IPob+VD+NzjE/c3oBhqy8wS392gnt+kgjFinPgmh2QuDbddmHjLKmKTd+Up49k5Dr+UZi5/2oFxS0UvnSdZW6rNgiUPooOBZZjcC8hwDI/i0u2F89jgtA98eEaMba7u1tW2SQ/sSiBi2PYwBNsJZ4VLzAvZnxujGzvLxGb7rPjB7M8sUcy4aBvBC71bcVPX86RUNiXLfTjS3FsLFFYylZowpuxE3hT4Ekuxuw8/mBnPsdLbjeKRfZjd7ZS1BKf60/CgiWriuKNGKsxZKUQVvgY3viLL1YVbYhTHCspSp5iWj8KKvrzjbaHigu+8X0PxY7bpXDgfKuaMM/nMGVVlL8cV3CxLbzBojyA19mVHmkDb8IpnhHreEDBxy4mEziHzmLK95ngBxeJSbwnznAnG/K1NrUN3/iVHq7jA/qwI96AO1yEF7x2dnbK5E2c1HjZlBz65/wFlbEBLkcLJqQg6SJ1DhN8jkvQAoijAcZ1bIMABUbIk42QuABwDECRG7t57xjgIHZORc6uRQBIyTkA65i+HKMD+wteCclntQC0xOM4YAtq/dEBYXgZn3OASZ/GJpAsawsS/SN+Y0diNSkap9sLgpLugIpg9DslyMKY2EFVLVDpAKzaB3qkbMxs1xef0R2JsQWhI92NEaE6zj6SGlJgf31YvXCdflTvgtYx42dDfnasb3vLma7jM8Gsbf3xuULBWNhAZc8nrlUMsonP4UZ/Ep+kxMbONWY6RyQCdqc/ckB2aUtfdOEz/lhV6Iww2QNOtQOjkqa+kgD502eIH1YcI8brmMSNkIhjzoGrYEpSME72Nk5Jid4KpKwqIUJjhXvX1H5hK0UAHdkKKcIIX7M9+/K3Y2wPL9pnT/q5TmGoTZ9py5gd41eFiWQH73TVrrEZE+JPsTwmcG+VyfniUR/GCUOuQ9zOMUbxbKWNfmxk7OyBUyQStkzyZwsv/tdm7G6s9ISBfEZgW8EAv/AgQWiPDengxV7GykbahKEU/iQFCP2JIpO9iLHBfWKJn40pfjYe3GJM+vfKMbhmj8QngXNxQg9xtKqE7+DDX+3BkxgzDsd9hlNgu88dfMK+bCLOxRWswL0xw4dr4Z5vHTc+fTkvMcGWfMhWjrEdbCt22VZBrNDgN3EAh/4as7HDAt+xDbwZA73p5ZysEHmcGI5hCm61R3+6yzvadK5JCHs7N37gZxgjdFUAG4vVmBpDq8pW/54/B0gYBOgFWsQxNmFsYKyBD5g+9xdAamC6Dhg42TX1MYBkY59rM8e0A5D8QI91gqkv9NAeINKlHzx9yZgA0jUhsdtD6IIE2V9w1cRJRy82pGds5RjsIgW6C/Y6MKZs7xo+48uaTPmEPVxLj6kkcntIPWZ6G1ttq5Ag4qgxYMyOKw4Q07IEoi39ETbsx4v+6MD26Sv9sGVirNYjmKOj6yKuc6z2Zz53Pmzwv1etf/pjj2VwPyXa0o/+9K/NOjYdZw9jMu66r+hhXPRbpEc9rj4O1xU2h3l2ZvsTDb/0gim4YSO2Wpb7XBueHcPbEO5his/YI5jyeTiAL8V69AjmtVvjMBL9ne94rT8OY3++dCxS9+dzGJ4SqzNWPBU2dPG9Bd+vcfu0jsFVZauTf5MmTZo0aXIii5UptzCsNipCFBxWSKy8LFssDUlL/k2aNGnSpMkJKpK9VQQrBhErEBL/fla2llvva9KkSZMmTZocd7G0n1sHedW3z9aVlvybNGnSpEmTLZOW/Js0adKkSZMtk0PxqB/dPbua51a9PILmkaJF36Qk7qX4IkW+NZz//a1fi74VTY/+NV6WZ7JE45xIvWzjc4+95F5OX+hT6xjxDeE8TuWbrfn2p2+S+tz5Q0tEHimpz6cn3+fRvfrYfsT9Kn3pf0gP/Q6Na0oyZnpqk64Rj0SxJRumzSG/5Jj3vgHskR7f2O6PWWx4DMjjZdrsf9s3/sy4jIUOvpmbMa8ytlVkaFxe+o0+0Y/0bT8kzmdXXy4awuKY7X1XyOfEZ3VfzoUr9u3fp4QP9nVN+grW++Mi9bV92x+E6MN3oRJffXusYl9jMC62iH1jP8fwLxyK3dr2jumffeGxr4fz2ZD0bU880eR5cn3nW+fahHttxi+1xAfaSnvG6rr+qz5nFXHtkJ/reImOQ7E+JcaMd+DLknn0059Y5gOS/OBzNh7CPR3EM9s7NsUrXrEH3OhHH31ewbXa7PtSH/hDPPHLQXEHORRf+GMwv9VsEwbPdjKoZzB9I9JzklPCgZ6btOWm38z37KtvV9rqthbP5fq50wRPX9jOhh82QanFhhC2PPVIlS01vezal+1zgc5GLX7OEsi173zPmUZ8bvMHgLaVqKIGID3yYbMhgQ9MthX2fLBNWmyQIuA9tmK/e5tPAJONNNjKs6vs5phr7IdgzMBGJ8+i2m7U86rriKBjD4+osDH97Ddg05MEnHPY3uYmfuqU7acERm26wRaCSpu2cbU5k0DSjg05EIVn3m3U4blddmGLWmwGYqx+spe/YYZe9hm3R4C2bf5hIxG2iv5+wTDCbzbTsUeEZ3wFPAwpRIlx26Qott+kwJsfZ+LrWjwbziaebbZNq613Pd9N90U6aBOebEBiLL5NDIv+sr1NX9hegmIPx9jKhkfix2Y88GvXORuTIF3n7+7uFp94ZtzPrHr2nW3se+Bng+HXo1euo7/2fF4LPPp9CJvvEM/Es73zjW0sLtcVMWAjGBvqJLF6Ntyum/xd28Mz9LCW/RLGRPweOXLkWIyJ43POOac8x24jJr+Rz+6Oec4b1vAXzrBZGXGMze2XANv2hWd7GBXrfGKvebbnTxvQ2OBHrHnlR7YuueSSskkSDvJIHNyzo3PgWn/6st03/8sR+vG7I7WwhTF5Xn1VwTl+N6EWe4L4TEK0uZFNzBLrtoE27imBMxtLudY18pkxi288imdtpmNsckTyhr82cuIb+zDY4hzW7OSKA/yV+O1F4bl8fvJzx7YPrsU1ONrW0vhI//YSgHsbIrGv/VRswISzYADu5Qn2gGm6Gz9e5hd6HoQcmpm/3ZQYKZvnCFRk069o+yIZSg6Ch6FdAwQvetGLCgAEko09gNxGJ1PtAZhkidxswIA8bI6hcHja055WnMuxNkBxDqCxN6ITyAJNVSqgBTiAJcn73WvBnU0wECRyR35IEXgEqV2jJDY2sLEE4pJgbdhjbMiAvQDUX0Fu3MbFframze8OAK521xHBhXyM3UYsAgd5GBeiJ5KF5CgxZwOSKbHbG7K10QkisKGGMbuO/5GWpI+I7H7Hb8iT7WzcYYMO5OJz17GvWROdFFtIRrFCX7ohEbGA3BxXWNochSBDx9mPPnxqjHwDM4o7OEIaCGHTyYnAm6QYvOX3CmzghOQkSDajH/z2Zx+1ICV4hQ/FFHtJGgojPkRydlE0Mahtb4yKEO/hkM/tisfG/KEAFJOeSbYix0/e4xq/gsaeroNTscH29PS5cWWnQESpiBKDCB7G2V6SdB7bb1LM4MQeclbY4ZP80iVfK2gUXraJlfTFoSS6SLQneYgrNlVI2anPmPkSFm3qIv7wA3sr2owztlGUsgO7sD0biXVJne35C5/kt/gVEbDvPIUGXxubccE1DmR7u+vZehgfiUnFiraSfPRNN/aGKUlM7MHCotgdEvFGfwVVzbM2uYFlu+7BFbzBdDYRmxL4pZetiNmLrjbQwXVXXHFFiXd8D99ixngyo2cP/bve+HE3vnGtCZuCCjeLMW3yi7/6sEmVYpCOzvfLgPRWLPCXHRrFFU51jE35zOqEx/iMXZEn3hQD/Ku9YMDfTcvBrSncDiL4OMYMUrWFHKeEkyRlibIvEq2EicS9smPZmACPxCL5eAEGBws6gFVIWDkQ4JJOBMkIWlU43QFRcnSOY6pUAS1oI5aFrDBoF6CAT3DoDxnRHaH4DJkAsiSkbYShTdUtAhC0gKVPu5QhGQGBnNlnXVFM0EFQ0y/JL7N+Rc8111xT7LqMICIExQdmWdpEOoiCWI5W+PAD2wnU2l+CWiUdf/IPXfgqicz5rkXwEh9izkyPb51DHBfM7FqvLLneeYgdGWgL0fLjpsU42S54C/aNTTJCLPCW3cgWiaQtucGQZK09JIi43E7zYi+JO7ZHUNm1kK8VOQhUooY3hRQChStJBBFKajAa3CuI6c1O+mRD12RcyNRnYlHCYXvFLNJctKq3H+E7RaT4RcziRZzgFPZUhCtcjcv4lxGY4x8xZpIgxoxHX4odCQnRhwcc0xcfStLGL07FDlFMaVNRFNvDLJ+JcZMDP0gDk9q1GkPwQ3CfHUONzTj0ZQMZBUpdzBg3v8cvuAfHiqlFK3ZTQhe6Jy5xsVi2gmf8duETf+wMF1Mi/m2hjh9wX8ZsbOxhNm6lU9xoU5yyPXtb9fC/PticTdhSXGiLje3w6HOFiSTOfrGHPnCRggP2YQfutcmW+IS/4N4Ez+SCz3EsG+B0nzkfZ8IXu4oXehyEHKrkv6qo6oDCT6L2BSn53LKcWbZABZQxcUzwSDoqaYEHUKptYJIMJFXBWrcDTCpE4PBX5W2m6RyVsWU2pCuJRyRCAYIEdnZ2yq8BWua3rAXISNUx/doj2kxJokKwyMBsTVCZhVnq15djZiKW3PyKlcAXROuKNiV8pIGMLGdZbcisn+3NSgTjMiIIjUPwWE6jp7EbCxEsdLa8Zk91RCgYY2vL+35p0bXa8bmAdY2x87FbCpZNEa+ZKN39+I0kajakKieSV36SuC5e4rPrrruuLE9Kpma168yKFom+gjc2QHpII0WqmSoig53YYErgG34kA7aW7M2M4MkKghkTO8EZ2/OnBKzQUFAqJOGNjVxPJ9eKhdgattkWydFLgcJGZlX68Ne59DcuBGum5VqFg8+0wVfIWzI6KKEH/+sT+fotBlhJMoEtBbnP/L+sGOeTnvSkMhlA/OJRX+xvpmdW6vcWFFaSoWPsadUFL1htknRgT/KAZdfG9v5ne7El1rwX4/rk0/hCwuELOLbi43acz2GV360caDNS2yO8JFF5+XxdgQU8S7/wrDEYM8ET8GalB4dNidVbnEM/PHDWWWeV8Ski8KAxKWgVN257SOLGBW+uw6sKBPxpUpW49blz4F2M4AbYxOXsIVeYtVu9FHcmeMbFfmwKs/g4t2ZwL67hT9fife3QAdbYUzEgdhQK+j8I2drkLzgsA0nuSKoWSdqSmXunCNZ9XMtJqbinRFIGVJWfahE5ABgg+NsXn2UpC6iA3rnaQQYpCuoE4hiAS94AaUaA/N2vzUzvsssuK8nWUjvSRt4SZ2b6+gIsoCb08L0ERYr2kJTqe78iCNzLFEwqZPZkezYVnMvOGiQXgWGpVSCr6gV27mEKKm0jDoGTGRUR6MjF7NEyI7JBMoRt2Jh/FSJmIUhRX8YvSCUaRaL7v/4KdH2ZFQraWhAC/CBoOtMXURyUwIJ7khKB5M+HU3gbE/aiJ2wYNxsrYBCSmTy8We1AVmzvPWJGdMbs1oriSlFAJ22xNzz77oilZwUxe/FREg1M1riPiDWrW2ZRsGPmDa++w0Ans7C+7dcRPlKA8JOXYgM+I4jXOI1fohZf7Ep/r1UFH1hBsprAlvoj2pKcxJ6iQoGpaCZiFEcp7PiXvma5cBl+Ynu3Ko2H7flM4lcI85c2FQFuxRAYd0topyug+QZejStjGxPtuw/PBwpuPlwFZ7UocPCsglt7V111VbkXTn/xJ76tLNEfFhTuMDAmfGXMfrjHyopC9txzzy0JH8asruJmKyHshhfYkeBHK0pWFyVlfWqDjjBNR0U9voXN5AK60pkvcIei1goOPfEM2+LmPu7FG53yGf8qutyutOzPFnAoPsJVm5ZDc88fUFS6lo04dpHkCy+CUUUsARg/EuJIwSIQJUNABCBLT4vuOUnIKmlLp5zZDyT3sXyuchc0AIscARJQjUMFrF/JxnF6ASUwAAt/qQrpDiiSkISnsrTS4L59bn2YYRibCh3pPPGJTyyAdk9Ym+5dWsqVPJGP2ZRz9YuYLOsB9DqCgFTgSAtxmiUas1k44ovtrTggFTNI4x4SwYmsXG/MVlV8xofGIyErNM4888xSOed+sGNmwMbuviyMKIgsycG5Iue8884rs05JRiKji6Qj0JGqz7Vp2Q4ZIV8+kBAkSjMSwW7J3EuCQASKAOQqCeprilTXFQmLDenIzv0+zBhhmS1S6A0JEoMTOEeICjU6mx2xHzy4PrbnKz7kL+eyM7yZ/WhDf7nthNi1pRilD13FkeLPOf76XotxSOrwBusSPVtagdK3sUrEbM83bI/s2V5xUBfIy4px8ZFixr1XPkbUyJ9NFNT6gQ9x0behGFG0sD08LxLJO7YhilerVHApPvCXtmCZLrCjXSsNOMJtEIlQn841wTB2seu7O3CLvxSDbhcq4Nz/VmzgFUlHHGj70ksvLeNKUV4L+yt09QnTEW24neP7AfiwLthWFX3WPJvbRWyv+JSL4I19xKSVDVis9akFJqzUOd+Y6cd3eAIfsgcMWo0zORPH4h03GBdu9r0rqzvi3YtuXvyDZ2HPe8USX8KHGGFHYxF/8MM+cKxfBQDcWv53zMoOv1lRhDtxZ5VHXuAnXOy421p0V9TDxqZl82x0kojqTDUnSDJb8pfhvef4OA84zBC9pkRgCQwBmhn4IkGUEgpQCnozVCCWWCRxgEGqCJROdASE/KUfQNEbWSkUjAn43K92jpkY8kDWCE5AqWrN1gSc+0rGjNhC1AhKIeT4uqIi1p7lXUDWB5F4x2w/JtpB7mwh+DNm41UAGANC9XIbhF0QibEblyDXBkJIoeuYWRNSl2CcQ5ASuwlyCVxfruVfnyvs3ONGuK6BE/rrR/D7n26I0/+KA31uWugjYSJEmNsPEcOWMbKjsSA6MxM4ZIMh2yNkLzaRtOGN3eFQQmIbfxWXVq/oh8wQr5ltvtwkGSmAJXIJx2wHVsUBrNCNIFdYQoyxPV34ad2xa+fss88uWPV6+tOfXmKOIGXJ3diQfT/xrypwTk866xfRK+YtJYdz+ECsmrUqahQnMASTbC5Jihu+gV+2lzjYXoyxvUJMG/qyDK1NL9dntvmMZzyjxILbKctMlgi8mdjoX4LeD95IxsyPOCc8y86KQzaCnzrWjW9M6KU9OFEwGTNsGLN22FEf2vMybpMmODQJEtM13sJLCnmTKEWA5E837bOHgpQfxaD2ib98YHkf7glfiSN8b5LmNgtM5UkkKzL0rb/Arfgx7kUTznVla5O/xCrhHjlypAQOwkbqioJ8+1Xyk5gt/QoiCZNYZgYWy631MhQgCWQE2J8FcCTwIra8B3RB6q8ZqGOCHSgBTSUvSdJRNap/ScpyGxJAjsBkZcKsGFCQAb21JTjdowVEVSWAEgRLjAPAEbq2cm8K4Ru/MSPqdYRdVN1WErJSAfSCoLa9oBKIbG9cxDlmggiKXkTisaqhGLEcKqCRszGyhTa0b0aK3NiUH7Tl9onz6cRniECQaZvdBD0but5nyAi5SdjswE6qe3ZFtFYxJC0BrO+QKJ/zh37Y0TIi8lk0615X9ENvpN+f9Q7hzV//Iy3J1y2vLHsiObNMRCO5wjLcs7uYgEc2VFDBuCSAJJE2e2sT6VkShkG+gmM68pFjlk0VZwoVmKSTGaZr2ZbdjYXPEKLrnBdh69r22kGgbD82G1wk9EK6fJcXPRQ1CDnFClzAB7vAlhf96Z73sS8xcz///PNLMZXCj9387zzjNRM1SRDX4kNcOsYn/GN87C856dsx19NBPPNVbM9WZq78wVdm/woIM2H21IZVRQWpsWiHv8V6cC9OtWUsxpT3PjcG3OR8OknM+xHt8bHilS2M3cQJ50im8KM/cSfmTVpI/EyP5zznOeUefQoCid2YcYc2FZCSs0RqYiXuLauzh/5gmR2dx/5iPvbgK/Z2LhuwL/tpl23Fi3hwHg7HPxEYgPtMBqyysjX96K89KxtswH9yD9z73FhcZ9x0tLqjqDkQ6RSddwrMu4HMO4XmnUF8dFJJZ7T5k5/85HkHBnsW7H26nHQAn3cOnHfJYN4FXWnrNa95zbwDUXl1Dpt3CWreJZxyLukKgvljH/vYeZeY513CLJ+RjsjmHTnNX/7yl8874Ox9eos8+MEPnnfAnndV6bwL+PL+hhtuKP11s895B6h5l0TmXZKfv+AFLzjWF+lAMu9IdX766acXXR3rADrvyLtc1wF43lWY8y4ZzjvSmnfkOO+q1XkX6PNTTz113gXYvAvgct3znve8eRcMpa8OWPNnPvOZRYeOiIpOXZCUNrsiY94RxK30WEW62Xjp21hjS6/Xvva1845Yyjna7kin6MP2EWO8/PLLi826xF0+c243M5xffPHFx8b88Ic/fP7617++2IfPuhnmvCOOMq5u9l9spN0ueR3rv0vE5VzXdMVJ8Uet3wMf+MD5m970pnkXvPNuJlj66oho/qAHPWj+qle9qlwX4WM+6JJaiaGORObdzHTekcgxO774xS+edwlkbTtOSUfoxdcveclLboO3btZxK7wZ2/XXX1/OY/8XvvCF864wm998883lfPrF7vTvyKrYk41i+4suuuiY7Y2zK4wK3s4444x5l9SLH9mpI8nyuVdX0M274qr4pEvSxUbaY5MrrriitOc65x09erQc65Lb/FnPeta8mxUVbA6JcZx11lnFR2y/aekSz7wj7dvg49xzzy226BJ7sS/bxr4+g2fy6le/uozr+c9/frEDecMb3lDOgw2vbpZZ7NsR/rybTMy7ZH8MN11hPO8KycLLl156abF5jl144YXzLlkV2+AhthfrbP+6172ufM6O+KAr5Mp1+tUOHuiKutuMqyvIC691xUIZl88yLpzWFXsllh73uMfNb7zxxtvgbVWhR1ccH+sfz3aTnXmX9IruXRI+ho+umCl4NrbEH+zBE1vwB3Gd67sCvVxnHPICe8B8VwgUzHvhe9iRL2666abb2KObnBQ+l1Ocy8b8JZ6TY9gLT9acRvj7lFNOmd/vfvcrtqc7LqJfVzwUP/gcPu5///uXNtlT3qCb2HPttddeO+8mHnutbl4OzSY/HTGV6snMwAxYxWVm4u+q0jmpzCBVpqoyFaPZQMRx1be/qrJ1+qilc0Gxv4rTLCPLTovEuM38VOkqfjMYQneVvAqyrztxvhlXB/hjS350UOXSwXWq2f51x0voYgwqf/qruiNdkJRqm72Mma8jHTEUn5ltq8zjF3YymzJuqx/sZMVjkTifn8WFvrS5SKKDGaMqv9bjRBH2ZUezU7PO2r7GbEZjRmLWXdvXNfDGnrXtjRXetGPMYibCdmZVZtQwVdsimLPc74uDy+L+ZBA4MKM0ZjEGb7G721T+h8XYKphnC5+xY2ITz5j9wqIVHpyTlSS2d81YrONz/eWWzYkkxkV/+BjiWbaCRRiBNxiKuBbmYFCM1fHsfLZnK6t/wRwbwzWO094yM+oukR/DvLZwyzKCu4yLbjBQ60cPfrHKAAPBvT6MFw7ksv2uriySQ5P8fTvSF4SACAl1ldXMfcSuits7q0mTJk2aNGlCDkXyV0nRXcUXUU2pug7TbKJJkyZNmjTZhByK5N+kSZMmTZo0WV5OrJuRTZo0adKkSZMDl5b8mzRp0qRJky2TrV/2930B33D2zVLfD6i/I+AbpY755q7P8w3bKXGNtnzD1Pn5lqd+VpH626FpUxvajB70ol+/L5JrfPnRqz4W0V7/W6gZs/Fu6lvqsS89tFvbxJc1V+kr+hFjrr/JOyT9cee8Wof42Leraz1yTJ99HaOHdoyrr3+tT93XkPR1XFam2nOMzYPdMQz0xXWuyXVDYya17SP6iz3qMUeP2Lc+5nNt9m1P9Oda52UM3g9JPTaYik+WGfOY6Cs6aGsZvJGxPnMN/eoxRXw2hLexvtIPG9KRfkN+dizH8wQB0a7P42vHI0O2j9T66Ms39uUN10Ts9TCkS5MTR7Y6+QO3R948+uHRDI9+2NAEuAHaRgweo/FFQo9E2XBhSthRex6h8tSBTTo8viJ4bKpRfyGR2MxCgNtophaPotnkwjGPptiggx5I4173ulc55vPonr48miWA9e8xGI+N2HzCY1T9R6k8OmQTE09FeLxG2zaVsDkFHHisxZg9crKuIDL6ecxOf/qxSQ4CgjP9exzGZiX0RxhTwn7Gxi/Eo4oejTR+bRlvLTbw8LhPCMijUs6z6Q67ICu62WCJPtqih8eH2INuzocTj+Tc8573LMec6/EpjxMhOE+U2L3L+BCpRxFdy4Ze7C6+bNzheIReHr9adyMluPC4UC3wwZ62b2V7NvP/fe5zn/K41xgZw7xxwRQ7eU83GHCddozXuIkx51G12Io+MOuaPN5kI5XEkHZsrsQnbE93esKyOLGJjy/pOgaD2oNj7TvGn/zlUcpa4ABO+Qk+6Mjm/CUm6sS1rNCBH+mHG9JeHo3URx9vxuV4veFLLcZhYyqxQFf2tQkWTPnfuGDR42Vsy5eO+dy4axHPrg+m2YmfbfCDx+go/ujJJs7zqJytmflaH3ydx1LZyQZMxm28ruvb3jEbXsEVvfiY/22TG36Db3axr339mF2TE0+2OvnbXcoPXyApwQ2ofn9cMNg5yj7kPhMsgtQPY4yJ4PVLV3bUEwCSKKI7/fTTS6AKOufUycjvOksYkpGkE9JAIPbd1o4fhfBKMNuNzpaRfkPAfvZ05T992flMIvHDFnbL0jaCFYR+y0CA61vg23XKWO0yRj/nXXDBBSXwJWdkYYtgQbwOeRLE74c0kF3a9HsFbGD3O7/n7rlZycF+3PoaS05soUjSHlJCRBKGMdu1zG8W2PM8xEfssCbpKYjg23j9kIgfmLHbFhLziCgC5Gf2tQ+3cSNG270iY3bkG7vK2WcbbnZ2doqPtSsR+g0ARZlkwTd+W4Cfjhw5UhKaZ4X9BCx/EX1JbvBhj+91hL9gwzPLmbXBqILOvheSF1tk+2g7WdYzv1pgXBKx3TEd2QOubM3rOjv6+UU5OOELxQ7bw50xs4f+vCQLWywbt19kk0C0ZwdJv71g/39J5Nprry27L0rcuEc/junXTmx2pwvubbvKlrbfFWMSX8bsVygdhzc/3KSYgBG+97sBkuIYrsZErOIAY5bojIuf/fiTpAe7dpIjsCjBik27JkrcQ2LMMOT5be2zJXvYSlmyxUVspD9js888LMK8X5UUvyngtaM/OyraeY6N4NFPyjqmkLYrnh+sEu/8rv/d3d3iD7rb7ZJf2EbbOEeMig/xyfb0VLDbK5+OPreTIL+zO+7gfwW5WNCHnff8yBAcaL/JCSqSfxcsJ/UOf+tIRzZlhyi7KHXBUHZo6pJU+WuXqEc84hHHdk7rgqecPyVdZT7vEkfZlapLJmX3Pjs4dURVdjOz65SdnOxw5riXvjqiKztY2RUtn3eJouxKZXe7Rz7ykWXnJ+d2lXXxFf06kp93ZFF2gLJjnV2kuoArfXWJq+yQ5Rq70tnlyw6FHWmXXabs5mcnwY7Myk58PuuKvuJ71+vfTnr69vk6op2O+I/twKWP2Jd0iXDeJa9iV+M47bTTbrV7Xl868p1feeWVZZdDO2t1SW/eEeO8K2oKdvXF9o7FjuylXy/27Uh23hVHZQc/ftXvwx72sLIrm9fZZ59ddhnjy45wyzG7stlNjH52N+sItezy1hUbJV5e9rKXlR0E4Si7Ato10e6EdojriqmiP4x1yb74pkuy85e+9KVlxzC7L64rdpQ777zz5m984xuPjZm/2Jj/Ycg47XL2qEc9qmBtTNiIL9iG3eDUDnrs2hVJ88suu6yM/81vfnPBFFvaDZBP7UjZJbGCsey0aOdLerArHYz/CU94QtmR0Odd8im7pnVFamm/K56KP/nPsS6Bld0HnWtM0f3qq68u2IfVjBnW6G83Njqz8Ste8YqyW+Nb3vKWcmxVgUWx1iXDogO80fGVr3zlMfvqxwu27LAp5sXjmLADfbUNz10hUbBkbHjiIQ95SNmVD8bgkM+6omLeJfCCeztuZsx0s2Mde/KHNsS/HePsekkP8SsmnMsG+vQXvvFFdurjG+d7b7e6rsiad8XXbWxv7NrripL5U57ylIKRvvC3eIDJqXhucvvL1pZlqlUzL5W1WU2WZFXFjnWgLysgjpkROTYlZohdYJWlM23Ym1v1bjbSBV85x7JpRxalbdV/qmJtu15l3QVcmRmr1umhTcua9KCv/zuyK1V5fnAlMz/Vt74sT/rMe7+YZynQTECFTwczYLO2iM/NbI3XDMGM2DKu2xyW9dYRY2G3rgAqS5b0tyyYGZi+zNQ7Qil79fv1wKlZgpmc2ZdbJWZy9tBnI3p2ZFjOsYKgT7MPS5zGoj+zMisOfhQmM98O+6U9trUyYvxmP2ZjbMZPZtBWUvjBrMrLLItdjcuKAD/zH9tb7vTrXlYwzBIzMyVmbFZ0+MZqh1mlX1PTzn7EigJdzdjcLqITbHjvNo7ZM1+YqdX69IWd6JXZGpxYBeInKzdeVljM5tneLI9d2RwO2c2KhxmlVTL4jh5s5BgciA/28rsPlpK1qT3H6GAlwEqF92bQcEMXuI+wMz/TCT6N2fl86VyrIfzkB1mW3c2xL2wAK13iKzpZdTJ2s37jEl98adUCXvjWb1M4Z0xcR19jyu/Gw5g+YMwKoDa9N0af8yGBPWOG2axE8U90slrAD+EvNodJOuEgfbK7l2Pa97sIPmd/n0cPY9dm3/ZWKKzoiEE6NDm55VD8pO86IpgRkPFaxgV6yRVpuy9n+c1SpPMEB8J3LMtufXHPSxKSaP0SmOB0j5Nd/fALotSOQBR8bO6eniTknpnk7xgiR9LI04/K0AvJRSf6SkjakPici5y0IYkJTAWBAkFiNTbLgG4rSL6WvRGQ5W1LgpbzJFNCV3pasqaXpewpMpsSY2VfNpTcjc2LfRCVRCshI2q2sGwfPYYECbkeyUo4koUlR8QkYbFLbBvfIUPHLd+TbiZVliP9YJJiiD3c2tEm+1vudB2/6MNtBcKGuecpRtgGFiQpBOw8tpP0kCbyNC5x5LOaKI3V7R7j8XPHktO6wgbGbLxekgm7sq9iyY6XlnklZr8UZpxTBRZRfEo4foKU7y3FSxTadz18wDnbGzO7GKNCTl8SlAJI0QCbMGqZ2EsCgzc4ZWv+Zms+UQSxq0TNRnSQ6CQgPtUX3BsLPMEXnRQ92lO4SMRuY1kKF8uWpSVTSXcdkQzFoNsM9IBdP7CVLV7Zyk+y+gEkt0eMeVFf4tty+80331zGyi+KDD8paxxiUwHlFhJ78CcuwC/hD3YxVv7BNfRQCCso2IZPtJ378EnwXgoMtwMULI6JUZ9rU/94RizUtqcHf9PN+MQDHylccE0teIf9/XiXW3DrFF5Njo9s7cxfwCAS1bF7sypkhC0oMqMEcIkC8AUWYhsTAYKgJGFJwQxHIoi4r3vxxReXX+kTIFdeeWWZtUkMl19+ebl/i0CQnpk5UhOcZuFI1KxVwnLPTQLyK1HIye+BI3qElJmd40gJodBf8YFgzIbcSzUjoqNkJrgRkvf0QfoKndzbXFfYQtLQthmDXyP0PQRJgl0VLJKz33aXkNiX3cck9mUfBRlSR7YhF78K6HsNZt1sIcFKDojUmBGVGbBxIjt6mflY3WBDSQPJZmXAeTBAZyTmXMQXPZAwcqWD7w/Qw7FFgnj9Britp/W3H2E7Yz7jjDOKjpIo8mZfbbtX6ydDEb571wqVKR2NS0FBP2NVNLq3njHDjPYlbImQ32JPx63emK3zMSw5BrPuQ8M/OynE4Nox+PU9Ge+twMGvvqyMKTIkG/iV5PiHbrDk3rTvT0iMCg7JSJtW77ShLQUZ3ys4tL+O6J/t3HuXzMS/YkChSeDJiobCxfcLxiYGtdBLLPiuh3EpBOCejuJYjPpcfKdQc2/fmH1/Au5918d5xu8XGMUEDPO7ws91/MEHErnY8MuHCg785DwFHI7xq5qKN+PgR9zE9opStreCxvY+a3K4ZGuTv8qZ+O1uiVoQSfICAGEhT19CE4SOCwbBPiYqYOSqgEAYqm/BJ3iQgkD1mZkDUhV4yEygmlFJIohNkJp1Om5mpBpHnvRIAnIcsSMDP2RkRmv2SwcrDip2s35krKjJ7BJ5C3QFj4BGtAoEhI486S5huiVgpWA/Qnfj9vTEKaecUghM3wgayV1zzTWz0047bXbhhReWL2v5kiJ7jIkx0BfpIXjtSR6SrmOSH53ZCaEpqhAWf7K7IkpBhLgldCRoZcYX48xUFYC+bMa+ih7EL6nQFQ4QJpLmR+/ZT5+I34zbWF0zJfS32kF3y937FfpLqIo5xaGkYZyKP++tAp166qllBYePHaPDmBiHQgm+2MQyOpFQJCfJlF35U4HI9opos3rxYvUGFtkZBtkJJhWfbnEoKM1UFd3iDxa0KbnyqWJRsQE7kqQkzp+uJ/TPaoGY5C+rKz7nJ8WPWPKlOysMVj4UaRLhOmKsbCCOrIDQ2cxagmRHutOb/em1SNgLt+Aacf7Qhz60rBrgDTY2C8cxOInOiiD240tjZgfXKLAUprAMt1Y46MfP2mcTL1iGXbbyRVVxYHJjHGJGQUN3Nnadvo0D/mvb873+mhwu2drkr4IWWGYGAg3xIR+EikAQuSVgBCYRSzQSK0Guqm1L8pmtCkhBgjCQrmTqHJ8jCJW2z5yvL0WBIPQZ8tKP9/oR7MhPMSKpIFp9Wv53PT2QD6LUl+N0db7+zQwkJrNa5zmOKCQCMw4FAQJCRpKXJUaFitmDRKwd1yCfdYlTkkQoiFLf2pNUzMq1a1lRkeR/RMN2xkAkFIlbwnI90Ra7aEsRgSzZlx35kf6uZyd/2c01yM8tjgc84AFlzHyRmRrbsAEbwoNkhDQVUuyPlBEmO+uLuHeeJG81AcE6pi/EyV5e2s77/M8GCgqJcL/CDvBKR2PWtrHBr74cgyl9+8vObEIchyVFUGzuPLci/P65AtWYtQmT2nQ9v7A9/Bmzz/hBW853niTDFsEPPeiq/RQlMApzcO/2icJXYSrOtJ+YEQvwHtzT33sxmzErnvULP465Fh7gGDYWrXaMCX3ZxvXeGwNfG7s+2UVhKVZgpS90k9jhnG7ENf7Xnhd70pEd6W1csGdFjH31qW128TLmFLyKLTjUNuzCtFsdjilYFAvOif7+ij+2cpzf8JA+9Os9PurbPjhKX9ryN++91rFvk9tftvaev6CTMFTvEowZMMBnqdPs2OzFLMUsEbEjbeTlut3d3TKrMPNCNtoTKAiILc1w2NLsFmFYdrXkq033OyURVbyAvO6660qwSwyWFZGvhIjsLNtZXkaUrpdUJTLL9b7MlaVtyT7X3HTTTYW46O4ay+SZGbtvKsC14/Ghs88+u5CBJU2PSRmnNl1jJu7crBysIq6hAwJEXMZlZmGWh6zYVII3fseQkeVJ1/GDsVm9kHzpjnzgkx3Y1wzMbMQKCP2dyw5sZQnTiokZFP8YQ8bsES1L0JatJSf/8zXb86drrLAg+HzB0nE2MROyOoPE6U0P/uRzhRX7WsY287X0jVDNSCUN+rDn0aNHy4oNvOxH2MhKjdtAxuy2CRzmNgoM+FxBA2/saLYJH8ZkvL7/IQmzC6wav9s+fOA9DEhW/CWpsLcxa9P42ULhZFySt7Eq2IzbrNItFLNxWKWLZWfnu70FZz6ni+Sj6KCLmHAd3PNxcC/JmqWyq3E7ZvXFueJSEeEaL7inOxvBlKTGJqsIH8MlnY1NPEug8CZBi3W+ZldFtoRZi7FZ3eJ3kwkYMBbfs4En+uEcqygeAzYOt6LYV1wYMxyatbtFli/GspNzFLVimQ5swr7sQRcrFfoVd/RmB33xj9UBsaAPGHCOv/S3eqRgwEX875x8mVEx5TP2YBeTGbhXwCj2UhDj0nbP/+SQrU3+QIkwBLSgMBsBfjNC71XcSAzAkaOk4HzXZTaiYkf4iFzwKBqQmYAS7IjYTMY1Al7AmBEgU8t0goPNzSCQLD8IXn0hciTMF9pDkJKcJIMIJSYJSYLVLzJQ7avC9S0Y/Y3QU5CGBJ3H5wjVufyOgOpEn/HVny0rxmwGgxzYV/tIXwJVDCEg9lVIsYPEJFET17AvHc0KEZKxmLXQxTG6Wz43m6c/YpWE+JPvtMdfme2SjBmpaodOCobMjrQnofG/sesvfjHLV1z5jL7alQCME9laHtWmxCj58BXfwQP8xBbG7lZI7Zt1RLvwpKDKrA3eJCaimJOg4YY9YFtC4H92gCnjVoS61mf0gwE6RtieXywF+9yYnRvbw6nr6cOX7CFBuq2hL4mE/+nIBpap2ZDPYMA1Eob3lvG1pRBk4+AeruGeHbWVMWsH7sUY27O3MbA//zgmnoxpVTEevpeQ4U0bVjVghx1ghw+tXrGvcdciLl0Pv/R2Lt6QQLVnzHzl/r9CCN6MOXhTCNHfZMNn+IMt2BtG+c0YteeY/vgJd/Cz/iTtFKrG48uF/OI6HMKG2mZHRZdChh54IrYX/2zPdzhHX/gGHviXzo615H/yydZv7yvQBAHC8YoIFsHKHpJ7wE2Qn6DyF+nUANeeBJ9EGpKXXPSjXQEsAF2nDYTlmGByrJ5FOF9fdKFf9HANvznucwnrRBQkKcmwBzvWxQfdEUySe8QxdjRmZJRrSMZNUnQRbbG763zOHvV1QxI/ao+vXFcLnyEzfdKDzyLG5Tp9sH9/5nc8xJgTu8FGxuyYeKanBML+wWlszy8SzyI7RcZsT9IfHdg+ffkcttmyxj2hh/jyyu2AiOt8bmzxZz7nE9jgM4m41j/jcqwe8zpCP/3oT1tsXON0SjJu43JNYt3nMO//fqyzkTHDMLzpk8QWsGq8xpYxh2/875o+Dvlff31804VtXWtcjkfSX9/2Y2KVQtHrGhjwdISX4mZZbDU5/tJ+0rdJkyZNmqwtbmG4PSB3KGAUHG6fmvm35H/iSkv+TZo0adJkbbH6IOFbTYhkRWY/Ky9NDlZaWdakSZMmTdaW3BJxiyCv3OpocuJKS/5NmjRp0qTJlklL/k2aNGnSpMmWSUv+TZo0adKkyZZJS/5NmjRp0qTJlsmtkn/7gkaTJk2aNGly+KUk/zrptwKgSZMmTZo0Odxym5l/S/5NmjRp0qTJ4ZZjyT8bMrQdmZo0adKkSZPDLceW/b1szLDs3tVNmjRp0qRJk5NTyva+tvS1PWN+5MRfP47hc9v++kEPP/ZQb99Yv2/SpEmTJk2anHji1zKHpCR/Cd7+zF5+wcovPXkl+fuxhjr5t8TfpEmTJk2anPjip9SHpCT//DCDl2Rv5l/P+iV/Cb9O+q0AaNKkSZMmTU5sue9977v37tZyLPmb2Uv+kn1dDPg/ib8l/CZNmjRp0uTkkXvf+957724tJflL8hK7GX5+jzlJ3/+kJf4mTZo0adLk5JJ73OMee+9uLSX5771v0qRJkyZNmhx6mc3+H4JUBybleVbEAAAAAElFTkSuQmCC)"
      ],
      "metadata": {
        "id": "ZxDEE4Jer4hK"
      }
    },
    {
      "cell_type": "markdown",
      "source": [
        "※シード値123の場合の出力結果"
      ],
      "metadata": {
        "id": "kjApN_pWr59F"
      }
    },
    {
      "cell_type": "markdown",
      "source": [
        "### 1-4.\n",
        "\n",
        "平均100、標準偏差50の正規分布に従う乱数25個を5×5の形式で作成し、\n",
        "\n",
        "各⾏の最⼤値を出⼒するプログラムを作成せよ。\n"
      ],
      "metadata": {
        "id": "-OEHMgExr-_z"
      }
    },
    {
      "cell_type": "markdown",
      "source": [
        "![image.png](data:image/png;base64,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)"
      ],
      "metadata": {
        "id": "0bR6JP8jsLSH"
      }
    },
    {
      "cell_type": "markdown",
      "source": [
        "※ シード値123の場合の出⼒結果\n"
      ],
      "metadata": {
        "id": "G-is4I8vsOBR"
      }
    },
    {
      "cell_type": "markdown",
      "source": [
        "# 2. Matplotlib"
      ],
      "metadata": {
        "id": "j1INhOHQsPxu"
      }
    },
    {
      "cell_type": "markdown",
      "source": [
        "Matplotlibはグラフ描画のためのライブラリである。\n",
        "\n",
        "本章では、いくつかのグラフを例にMatplotlib基本的な使い⽅について紹介する。\n",
        "\n",
        "オプションが⾮常に多いため、細かい描画設定を調整したい場合については、\n",
        "\n",
        "公式等のドキュメントを確認しながら作成することを推奨する。\n",
        "\n",
        "https://matplotlib.org/"
      ],
      "metadata": {
        "id": "dEhrel5KsSOT"
      }
    },
    {
      "cell_type": "markdown",
      "source": [
        "## 2-1. 基本的な記述\n",
        "\n",
        "Matplotlibライブラリは主に pyplot モジュールを使って描画を⾏う。\n",
        "\n",
        "ここでは、基本的な記述⽅法について説明する。\n",
        "\n",
        "最も基本的は記述は下記の通り。"
      ],
      "metadata": {
        "id": "sfdx_TQXsZO_"
      }
    },
    {
      "cell_type": "code",
      "source": [
        "import matplotlib.pyplot as plt # 慣例でpltとすることが多い\n",
        "\n",
        "x_data = [1, 2, 3, 4, 5] # X軸のデータ\n",
        "y_data = [1, 4, 9, 16, 25] # Y軸のデータ\n",
        "\n",
        "plt.plot(x_data, y_data) # データのプロット\n",
        "plt.show() # 表示"
      ],
      "metadata": {
        "colab": {
          "base_uri": "https://localhost:8080/",
          "height": 430
        },
        "id": "FfNmHnvgq5_7",
        "outputId": "6868a535-4880-47b0-f1b9-63a67724fc3d"
      },
      "execution_count": null,
      "outputs": [
        {
          "output_type": "display_data",
          "data": {
            "text/plain": [
              "<Figure size 640x480 with 1 Axes>"
            ],
            "image/png": "[encoded data removed]"
          },
          "metadata": {}
        }
      ]
    },
    {
      "cell_type": "markdown",
      "source": [
        "点、凡例、軸のラベル、タイトル、グリッド線をつけると下記のようになる。"
      ],
      "metadata": {
        "id": "77q5JEUGsprc"
      }
    },
    {
      "cell_type": "code",
      "source": [
        "import matplotlib.pyplot as plt\n",
        "\n",
        "x_data = [1, 2, 3, 4, 5] # X軸のデータ\n",
        "y_data = [1, 4, 9, 16, 25] # Y軸のデータ\n",
        "\n",
        "plt.plot(x_data, y_data, 'o-', label='DATA') # 凡例ラベルを付ける\n",
        "\n",
        "# 第３引数は'o'が点の種類を意味し、'-'が直線でつなげるという意味\n",
        "plt.xlabel('X Label') # X軸のラベル設定\n",
        "plt.ylabel('Y Label') # Y軸のラベル設定\n",
        "plt.title('Title') # タイトルの設定\n",
        "plt.legend() # 凡例の表示設定\n",
        "plt.grid() # グリッド線の表示設定\n",
        "plt.show() # 表示"
      ],
      "metadata": {
        "colab": {
          "base_uri": "https://localhost:8080/",
          "height": 472
        },
        "id": "8sk4D2Z3sm5j",
        "outputId": "65acecc0-71a3-4e3b-eec5-ad476e0cbf33"
      },
      "execution_count": null,
      "outputs": [
        {
          "output_type": "display_data",
          "data": {
            "text/plain": [
              "<Figure size 640x480 with 1 Axes>"
            ],
            "image/png": "[encoded data removed]"
          },
          "metadata": {}
        }
      ]
    },
    {
      "cell_type": "markdown",
      "source": [
        ".plot を複数回実⾏することで、異なるデータを1枚に表⽰することが可能。"
      ],
      "metadata": {
        "id": "qffvLfwBszhW"
      }
    },
    {
      "cell_type": "code",
      "source": [
        "import matplotlib.pyplot as plt\n",
        "\n",
        "x_data = [1, 2, 3, 4, 5] # X軸のデータ\n",
        "y_data1 = [1, 4, 9, 16, 25] # Y軸のデータその１\n",
        "y_data2 = [5, 10, 15, 20, 25] # Y軸のデータその２\n",
        "\n",
        "plt.plot(x_data, y_data1, 'o-', label=\"DATA1\")\n",
        "plt.plot(x_data, y_data2, 'x-', label=\"DATA2\")\n",
        "\n",
        "plt.xlabel('X Label') # X軸のラベル設定\n",
        "plt.ylabel('Y Label') # Y軸のラベル設定\n",
        "plt.title('Title') # タイトルの設定\n",
        "plt.legend() # 凡例の表示設定\n",
        "plt.grid() # グリッド線の表示設定\n",
        "plt.show() # 表示"
      ],
      "metadata": {
        "colab": {
          "base_uri": "https://localhost:8080/",
          "height": 472
        },
        "id": "CAjgLQBZsw0P",
        "outputId": "ad469ba8-6b94-4719-d978-1bb402d10f12"
      },
      "execution_count": null,
      "outputs": [
        {
          "output_type": "display_data",
          "data": {
            "text/plain": [
              "<Figure size 640x480 with 1 Axes>"
            ],
            "image/png": "[encoded data removed]"
          },
          "metadata": {}
        }
      ]
    },
    {
      "cell_type": "markdown",
      "source": [
        "データはndarrayでも良い。"
      ],
      "metadata": {
        "id": "HsUN77pDs6nT"
      }
    },
    {
      "cell_type": "code",
      "source": [
        "import numpy as np\n",
        "import matplotlib.pyplot as plt\n",
        "\n",
        "x_data = np.linspace(0, 100, 1000) # 0〜100間に均等間隔で1,000個の要素を持つ配列\n",
        "y_data1 = np.sqrt(x_data) # 平方根\n",
        "y_data2 = np.sin(x_data) # sin関数\n",
        "y_data3 = np.cos(x_data) # cos関数\n",
        "\n",
        "plt.plot(x_data, y_data1, label=\"sqrt\")\n",
        "plt.plot(x_data, y_data2, label=\"sin\")\n",
        "plt.plot(x_data, y_data3, label=\"cos\")\n",
        "\n",
        "plt.xlabel('X') # X軸のラベル設定\n",
        "plt.ylabel('Y') # Y軸のラベル設定\n",
        "plt.title('Title') # タイトルの設定\n",
        "plt.legend() # 凡例の表示設定\n",
        "plt.grid() # グリッド線の表示設定\n",
        "plt.show() # 表示"
      ],
      "metadata": {
        "colab": {
          "base_uri": "https://localhost:8080/",
          "height": 472
        },
        "id": "m2SZKeybs4kr",
        "outputId": "e602fc1a-cf65-42d3-d518-779d6c44fe7d"
      },
      "execution_count": null,
      "outputs": [
        {
          "output_type": "display_data",
          "data": {
            "text/plain": [
              "<Figure size 640x480 with 1 Axes>"
            ],
            "image/png": "[encoded data removed]"
          },
          "metadata": {}
        }
      ]
    },
    {
      "cell_type": "markdown",
      "source": [
        "## 2-2. 棒グラフ\n",
        "\n",
        "基本的な棒グラフの記述は下記の通り。"
      ],
      "metadata": {
        "id": "WRJXxWzctB6z"
      }
    },
    {
      "cell_type": "code",
      "source": [
        "import numpy as np\n",
        "import matplotlib.pyplot as plt\n",
        "\n",
        "\n",
        "x_data = np.arange(3) # X軸のデータ\n",
        "y_data = [30, 25, 40] # Y軸のデータその１\n",
        "\n",
        "plt.bar(x_data, y_data, width=0.5) # 幅0.5の棒グラフでプロット\n",
        "plt.show() # 表示"
      ],
      "metadata": {
        "colab": {
          "base_uri": "https://localhost:8080/",
          "height": 430
        },
        "id": "C9_yw9n0s_F_",
        "outputId": "fd164b42-bdd0-4b75-e5c4-eb556303532c"
      },
      "execution_count": null,
      "outputs": [
        {
          "output_type": "display_data",
          "data": {
            "text/plain": [
              "<Figure size 640x480 with 1 Axes>"
            ],
            "image/png": "[encoded data removed]"
          },
          "metadata": {}
        }
      ]
    },
    {
      "cell_type": "markdown",
      "source": [
        "複数の棒グラフを記述する場合は、X軸のデータや幅を⾃分で調整する。"
      ],
      "metadata": {
        "id": "rsvBL1o7tJC-"
      }
    },
    {
      "cell_type": "code",
      "source": [
        "import numpy as np\n",
        "import matplotlib.pyplot as plt\n",
        "\n",
        "x_data = np.arange(3) # X軸のデータ\n",
        "y_data1 = [30, 25, 40] # Y軸のデータその１\n",
        "y_data2 = [45, 20, 30] # Y軸のデータその２\n",
        "\n",
        "plt.bar(x_data, y_data1, width=0.25)\n",
        "plt.bar(x_data + 0.25, y_data2, width=0.25)\n",
        "plt.show() # 表示"
      ],
      "metadata": {
        "colab": {
          "base_uri": "https://localhost:8080/",
          "height": 430
        },
        "id": "xxv1MA1ytHXj",
        "outputId": "c77a100a-57a4-4d82-8a4d-30bd37766a8c"
      },
      "execution_count": null,
      "outputs": [
        {
          "output_type": "display_data",
          "data": {
            "text/plain": [
              "<Figure size 640x480 with 1 Axes>"
            ],
            "image/png": "[encoded data removed]"
          },
          "metadata": {}
        }
      ]
    },
    {
      "cell_type": "markdown",
      "source": [
        "ラベル等の設定は下記の通り。"
      ],
      "metadata": {
        "id": "mZmDTryQtO5n"
      }
    },
    {
      "cell_type": "code",
      "source": [
        "import numpy as np\n",
        "import matplotlib.pyplot as plt\n",
        "\n",
        "x_data = np.arange(3) # X軸のデータ\n",
        "y_data1 = [30, 25, 40] # Y軸のデータその１\n",
        "y_data2 = [45, 20, 30] # Y軸のデータその２\n",
        "\n",
        "plt.bar(x_data, y_data1, width=0.25, label=\"DATA1\")\n",
        "plt.bar(x_data + 0.25, y_data2, width=0.25, label=\"DATA2\") # 少しずらす\n",
        "\n",
        "plt.xticks(x_data + 0.125, ['A', 'B', 'C']) # 表示位置、ラベル名のリスト\n",
        "plt.title('Title') # タイトルの設定\n",
        "plt.legend() # 凡例の表示設定\n",
        "plt.grid() # グリッド線の表示設定\n",
        "plt.show() # 表示"
      ],
      "metadata": {
        "colab": {
          "base_uri": "https://localhost:8080/",
          "height": 452
        },
        "id": "CH1rrJrJtMbd",
        "outputId": "1f9f68ef-66ee-458a-92f4-c9419df52028"
      },
      "execution_count": null,
      "outputs": [
        {
          "output_type": "display_data",
          "data": {
            "text/plain": [
              "<Figure size 640x480 with 1 Axes>"
            ],
            "image/png": "[encoded data removed]"
          },
          "metadata": {}
        }
      ]
    },
    {
      "cell_type": "markdown",
      "source": [
        "## 2-3. ヒストグラム\n",
        "\n",
        "ヒストグラムは値が出現する回数を⽰す。記述⽅法は下記の通り。"
      ],
      "metadata": {
        "id": "SJucdW6ptVfW"
      }
    },
    {
      "cell_type": "code",
      "source": [
        "import numpy as np\n",
        "import matplotlib.pyplot as plt\n",
        "\n",
        "data = np.random.normal(60, 20, 1000) # 平均60、標準偏差20の乱数を1,000個生成\n",
        "\n",
        "plt.hist(data, bins = 30, range = (0, 120)) # データ、ビンの数、範囲\n",
        "plt.show()\n"
      ],
      "metadata": {
        "colab": {
          "base_uri": "https://localhost:8080/",
          "height": 430
        },
        "id": "KAZRMP-AtTuR",
        "outputId": "d7179410-8e54-41b6-a3a4-acc09f4a3e4b"
      },
      "execution_count": null,
      "outputs": [
        {
          "output_type": "display_data",
          "data": {
            "text/plain": [
              "<Figure size 640x480 with 1 Axes>"
            ],
            "image/png": "[encoded data removed]"
          },
          "metadata": {}
        }
      ]
    },
    {
      "cell_type": "markdown",
      "source": [
        "## 2-4. 散布図\n",
        "\n",
        "散布図は縦軸のデータと横軸のデータの対応する点をプロットしたもの。記述⽅法は下記の通り。"
      ],
      "metadata": {
        "id": "-y9qIFwAtccM"
      }
    },
    {
      "cell_type": "code",
      "source": [
        "import matplotlib.pyplot as plt # 慣例でpltとすることが多い\n",
        "\n",
        "x_data = [1, 2, 3, 4, 5, 6, 7, 8] # X軸のデータ\n",
        "y_data = [5, 2, 11, 6, 7, 1, 15, 9] # Y軸のデータ\n",
        "\n",
        "plt.scatter(x_data, y_data) # データのプロット\n",
        "plt.show() # 表示"
      ],
      "metadata": {
        "colab": {
          "base_uri": "https://localhost:8080/",
          "height": 430
        },
        "id": "rYOjwPUTtak8",
        "outputId": "2f1a6a2d-25ac-4782-e3dd-20b1509bafd4"
      },
      "execution_count": null,
      "outputs": [
        {
          "output_type": "display_data",
          "data": {
            "text/plain": [
              "<Figure size 640x480 with 1 Axes>"
            ],
            "image/png": "[encoded data removed]"
          },
          "metadata": {}
        }
      ]
    },
    {
      "cell_type": "markdown",
      "source": [
        "## 練習問題"
      ],
      "metadata": {
        "id": "50jQmdKetjhK"
      }
    },
    {
      "cell_type": "markdown",
      "source": [
        "### 2-1.\n",
        "\n",
        "-10から10の範囲で$y=x^2+3x+1$のグラフを描画せよ。\n",
        "\n",
        "具体的には、まず-10～10の範囲で1,000個ほどのX軸用の値を作る。\n",
        "\n",
        "次に各Xの値に対応する$x^2+3x+1$の値をY軸用のデータとして作り、プロットを行う。\n"
      ],
      "metadata": {
        "id": "M2Qr0VuTt1hj"
      }
    },
    {
      "cell_type": "markdown",
      "source": [
        "![image.png](data:image/png;base64,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)"
      ],
      "metadata": {
        "id": "akFZJYYbvRTr"
      }
    },
    {
      "cell_type": "markdown",
      "source": [
        "### 2-2.\n",
        "\n",
        "平均100、標準偏差50の正規分布に従う乱数100個で構成されたデータを２つ作り、\n",
        "\n",
        "それらの散布図を描画せよ。"
      ],
      "metadata": {
        "id": "xMmb_-qYvS_S"
      }
    },
    {
      "cell_type": "markdown",
      "source": [
        "![image.png](data:image/png;base64,iVBORw0KGgoAAAANSUhEUgAAAXsAAADpCAYAAADF55f3AAAAAXNSR0IArs4c6QAAAARnQU1BAACxjwv8YQUAAAAJcEhZcwAADsMAAA7DAcdvqGQAAFKMSURBVHhe7Z0HQFRX9sY/BaQXAQEpKlaw9xp715io0fRedt30mJi+idl/2sa0Te/FNEvUJJbYe++IWEBQFEGq9A7+73cZdERQQJBh5vyyb4e5PIf33rz33XPPPfecBvHx8efOnj2L4qJiNGrUCHWNg6MD3NzcDO8EQRCEmqCh4VUQBEEwY85b9vb29nB1cTU01x3WNtawtbU1vBMEQRBqgvNi7+7ujiZNmhiaBUEQBHNC3DiCIAgWgIi9IAiCBSBiLwiCYAGI2AuCIFgAIvaCIAgWgIi9IAiCBSBiLwiCYAGI2AuCIFgA1V5UlZmZicTERBQWFhpaLoaf5+HhYXgnCIIg1CXVFvtdu3bhxx9/REpKiqHlYm666Sa9CYIgCHVPtcV+xYoVePXVV/HQQw/BycnJ0FrCxx9/jClTpuDJJ580tNQ/jh07hi+++AIODg6GFkEQhNrl3LlzaNy4MaZPn25oqTmuWuwXL14MT09PQ2sJH330EYKDgzFq1ChDS/2DI5dvv/1Wd2aCIAjXArrHv/zyS/z666+GlprjqsV+yZIll4h9Tk4OGjZsiNjYWOzbtw/9+vWDj48PGjRoYNjD9NmzZw/++usvzJw509AiCIJQu6SlpWmPyA8//GBoqTlqLRqHB52fn4/du3fj/fffR3R0NIqLiw2/rT+wg5JNNtlku1ZbbVErYk9/95w5c7Bs2TIt+Fu2bMHq1auRl5dn2EMQBEG4ltSK2Ht5eaFXr17o1KkTrKys0KpVK+3Dt7a2NuwhCIIgXEtqRey9vb3Rp08ftGnTBoGBgZg2bZoWfxsbG8MegrmRkZuPObtO4OE5O/H4vF1YciAGhUX1z20nCOZKrYg9J2/DwsK0hT916lT07t3bJIqZC7VDfmERftsVjZf+CsHX26LwxdYozFi4HysOxRr2EAShrrlqsedELKN5jLfPP/8cGzZs0HVtuYpWLHrzJqegCO+sPISotBwUngMKis/haEom3l5+yLCHIAh1TbXFnkXBGap5++23Y+zYsRdtcXFxsLOzM+wpmDtFSuBPZeQa3pWgmhCdnl3yRhCEOqfacfbq3+HQoUPIzb34IS+F/vrWrVsb3tU/SuPsX3vtNUOLUBEZuQWY+PkGbDiehCJDm3WDBritqz9m3zfA0CIIwpWgp+SJJ54wrTh7TsIOHTr0Equ+dKvPQi9UDftGVnhmVHsMDPSEvVVDONlYYXRbbzw5PNiwhyAIdU2tTNAKloV1w4YYqsT9/Snd8dPdfTH7rr54Z1I3dPFvbNhDEIS6RsReqBHslDXf1d8dk7s2w8QuAQhu6gqrhvUnPYYgmDsi9kKNwZXexpsgCKaDiL0gCIIFIGIvCIJgAYjYC4IgWAAi9oIgCBaAiL0gCIIFIGIvCIJgAYjYC4IgWAAi9oIgCBaAWYh9dnY2Fi5ciHfffRefffYZDh8+jIKCAqxZs0a3ffvttzph27lz53DkyBG9D9tPnDhh+ARBEATzxizEnnVuWfKQZRAdHBwwe/ZsXfeWW7NmzRAVFYW///4bKSkpurAKRZ9ZPj/99FPDJwiCIJg3ZiH2zs7OGDVqFEaOHIkBAwYgKytLFzhnpazrr78eN998MxYsWIDo6GhkZmZixIgROg9/SEiILrYiCEL12BOdjPt+2Ioub/+N+3/cir0nUwy/EUwNsxB7FjVnsZTi4mKEhoaiYcOGcHR01BurZTVv3hwxMTHIyMhAgwYN4ObmpvdnFa0zZ84YPqUEdhSxsbFITEzUnycIwqWowTF2Hk/CMwv24ae9J3EgNk2/zliwF7tPJBn2EkwJs5mgpTDv3LkTixcvxj//+U8t8nTXcCssLNSlEdkJlO5L6NcvWzJx7969ePvtt/Hjjz9q95AgCOWzOTIRO0+lnC9Yw5KU29X7LVGJhhbBlDALsaegs7IUq7tMmzYNwcHB8PHx0T769PR07a5p166d9tMXFRXpKlvJycnapcP9jBk4cCD+97//4emnn5bSioJwGfKLz6GAJr4RrD+czzqVgslhFmKflJSko2tOnTqFjRs34qefftKuG5b4mjVrFubPn6999Jys9fX1xc8//4y33noLY8aMgZOTk+FTLkBXDzdBMHeKlVivCz+DmYtD8OJf+7Fo/0mk51RuRNu5qSvaeTih9Enha5CnEzqpdsH0sJoxY8ZMhiXS7UEfd30lICAA/fv314Lu7++Ptm3bIjAwUJdP7N27N3r06KEtdT8/P23Ns2wiJ3QZvVMeLJp+9OhRXXpREMwVumKm/74Xfxw8jS3Hk7EvOgWudo3QXgm2tVXFtiBtIS8Xe7ja2+B4QgaSsvPRycsZTw4LwugOvrC1tjLsKVSFvLw8LF++HBMnTjS01BzVLjhuatCVYwwtc+O2Uku9vP3KQwqOC+YOp66mfLkBfx6OQ2koAp+G9k0cseaJEfBWYn45+CTl5hciKTMPOYXFsLduCE8nW9g3si7ZQagyJllw3NQodb2UbmXbSjFuM24XBEvkYGLGeaEnFPDw5OxK+d359FDYA9wd0VZZ9XwVoTddzEbsBUGoOgOaecBYnikIPX1dYaesdMG8kG9UECwURiI/NrwdhrTygqMSd1urBujp54anhgfDxf7ikGSh/iNiL9QZ8Rk5mL09Ck8v2ItXFodgn6y+vOZ09W+MdyZ1xSdTeuBjtb07uTvGdfSTCVYzRMReqBNSsvLw3ZZIvLLkAP63MRyz1h7Fi3+GyHL7a0zDBg3QNcAd9/RrhQf7t8Z1rZWVbyt+d3NExF6oE6KSMvHV5kicTM8F5wJzi4qxPioR36sOoDowXrxQfUaB2vjK9/UBvcK7+OqPm5/DMMopX2xA2/9bgnu+36Lz1pSNPisPxikYb4J5ImIv1AmZ+YU4lZGjoz9KoeBHns02vKs8uQVFWHLgNIa8vwqOT89Dv3dWYNG+U8hR7aZMfqHq4MITMOGT9XB5Zj6CZy7G7G1RyFbXpipQzzcdS8T0+Xux8FAcIhIz8as6/+cW7btmrrHU7HxEJKTjSHw6YlNz9LkJpoWIvVAnuNs3Qkcvl4tuQOdGVujp72Z4V3l2nUjCmyvCsO3UWRQojdkbl4Y3lodhc0S8YY8S8gqLEBabir/DYrHiUKwWp+LiuhkBUKDDz6TjLXXcq48lqI7uHI6l5eB1ddxLQ08b9qo8GyMSEBqfdr7zZHexXQn97lO1L/bx6Tl4Ux33gHdXosd/l+PBn7arzideCb5pd7aWhoi9UCe08HTCI4PboqO3C2waNICLjRVu6uSPO/sGGvaoPPtPpyIkLvV8vDhfDykh32lk1RYVF2NTRCKeUtbvlG834+bvtuDZhfsQGlt3Ka4jkzKxRXVUxnZ8tBL8NeEXZ2KtDAXq/IrKuGwKVUfGrTbhn/xRjUa+2nIMibmFyFYW/SrVeb23+jDOqE5AMB1E7IU6wcXOBlN7NMOHU7rji1t64XO1vTyuE9oqa7+qNND/lUE1NDRqzc0vwqyVYVgXmaAFKV29X3r4DD5cfcSwRx1Q5hhL4aRpVekR4I427hfy1PDB7uTtivZqq00o9iuOnEGakcusUDVuiEpCSva1yRqbnJWHX3Ycx5Pzd+P5P/apTj3B8BvBGBF7oc5ws2+EIW19cF+/lritVwu0VNZ+degW4IZuvo3P38x87ejlij6BHiUNCmZo3FDGimbGxjWRdZeOt3UTZwxs6XnRoqZAV3uMaHdxJtYrwb5hSDtvTB8ehA7qGlqp9z18XfHMyCD0anHhGtQWjtZWl3RZTJ1gVUOzvXRR3f7NZoz7bD3eWn4Qp1KyDL8BMnILdPjuv5eE4tPNx/DhhnA8p0Zs2yXN8iWI2At1CvXAeKsOvVt4Yub1nTCsZRM4N7LGgGbueG1CJ1zXysuwB61lwFt1LmVp6nBp27WA59rW21mPZia094WbrTU6KaH+vxs6Y3wnP8NelcdZjZTu6N0Cq58cgeMzb8DSR4ZiUteAWg+j5Hnc078V/Bxszwu+o1VD3NKtOXyukFvnSnDUsD48Hk/O24N5oTFYrkYQs9YcwQdqNHYmLUf/Pi41B5+sD8fxtGydTz+v6Bx2nT6LT9YdNXyKUIqIvVDvsVHiMjK4KVY+MRxps6Zgw9OjML6jHxoZLfl3sLHCc6M7IMDZTlu+1kqlWrk54IVxHQ17XJm0nHwcOZOG0NhUnEzO0lFAVwOPu7+y7Bf8cxBS3pmCkH9fj1t6tqjWgiYKrZ06R28XOwQ0dkATdZ6NrsHCKIr95G4B+OjWXhjZugn6qY52xvBgvDi2gz6Gq4FizrUYoQlpOjxX/Q9n8woxe/dxRCZl6H1yC4t1+K4xHL1FKvEXLkbEXjAbKDylW1lslPDd2TsQr0/ogjt7tMA9vZrjnUndVKfga9jj8iRm5GoLcuiHa9Br1grc/eNWrAiLrVSYJPfhYrE/D8Rg2cHTiDIIVSmXO+76AA97Yhd/LH9sOLaojvaV8Z3gpzrSmiBDXbuyOdmyVCfLCWnirEYu3X1dLxIyOzWM6x/gbngnlCJiL1gMzPdyV59AfH9XX3x9R1/t5rCxurL1Swvz970n8cmGcJzJzteugs3RyXh/7RFEJl4s3GWh9b88LA6Pz9uNW7/fgtt/2IpX/jqAYwmX/3f1DeMOqyY7retaNoG73YU8Pfy2evk3hpejnf473q52eGJYEHr4NYatEnlnNbq5vr0vHhrYpuQfCOcRsRcsiuqK0qaoRCQYRZfQ2twVk4LYtItdCMawk0hIz8UHaw/rmHfG0qflF2GhsvC/2hRh2EuoCCZqu1WNwB7s1woedtZopMScbiIWSGHoLmFK5Qmd/fDBTd3x9W299fZ/N3RBkI9UyyqLiL0gVAIHays9yWuMnVVD2JRtLENGXiF2njp7vig3ySk+h40nJFqkMvi6OeDpEcFY9q+hWPvYMHx9Z1+M7eALB0PefF59Z1sb9G/VRLvpbu7RHO28qx6+awmI2AtCJaCIBHs4n484cVBCP7GjP1p7ORtayoeTsF5lIn740Pk5SjH7ysDrzepXDCHt37KJFvLyCqRUd8RmSYjYC8IVoHiMbN8UH93aEzcE+aC/Ep4nB7fBv8d1RDP3ius289/5uNjh0cHt4Odkp0cGHAl0auKCJ4cHG/YSroSxiHMTqoeIvSBUAmrMkLbeWPSvIdj81Ei8fmM3BDa5vFVPnO1tcP+AlpipOoZ7erXAQ30C8e6UbhjY5sIaAEG4FphFwfGQkBBs2bIF1tbW+Mc//oHExESsW7dOv9rY2GDgwIEIDg5GQkICNm7ciDNnzqBfv37o2rUrrCqIxpCC40JmXgG2RiYi5HSqtsj7Bnqit9qqk86Ak7XGiIUqlIcUHL8CmZmZyMvLw88//6zfU+S3b9+uHrBz8PX1hYODA/Lz87F161bs378fTk5O+Oqrr5CVdWHZtSAYwwyZf+yPwbOL9uPlpaF4cUkoZizch13Hkwx7VA1jN4QIvVAXmIXYd+/eHZMnT4ad3YVJLw8PDwwaNAjjx49Hs2bNkJqaioiICAwYMAC333677giOHpUl1UL5pGcX4P01hxEan67z6uQUFWPbyRR8uLYOE6cJwlVgFmJvb28PW1tbZTGVmEwNGzbEsWPHMH36dEybNg2RkZHIzc3VIwAfHx80atQI/v7+OHXqlN7fmBUrVmDq1Kl4/vnnkZMjKVotlbziYiX0GefTJhOGT+6JTS15Iwj1DLOcoA0MDMTHH3+M5cuXY/jw4Xj77bd1R8Ct2LDMuqioqFx//ejRozFv3jy89dZbuhMRLBNbZTB08na+6AHh3dKjadWLqwiCKWCWYk8Rp/XOCdu2bdsiJSVFC7eLi4u25mmxR0dHo0WLFoZ/cTGlHYNgubg42GD68GAl+C565aa9VUO9evOJ4UGGPQShfmE1Y8aMmXRxUAwdHSuOGTZlGDmzYMECHYHD6Bu6a9auXasnaTdv3ozrrrsOvXr1Ot/O6B367G+66SbdKZRHXFyc9ukPHTrU0CJYElbKsm/ZxAlBXi5o39QVI9t6477+rdAn0NOiDYGQmLP4decJrA2Px9nMPHg525W7yEmoHgw0oUdi4sSJhpaawyxCL+mfpzBTzF1dXREQEKDDLGnBsxPjBC7bGdYUGhqqJ2vbtWuHli1bSuilcFkkZPIC+2NS8PIfB7A+KgF5xefQurEDHh3cFnf1DYSLXd3UBTA3ajP00izEnlb6lSi1xoz3vZyFJmIvCBfgVNfjc3fi2x3HkWuoa8unp6WbPRb9cxA6+TXWbWXJLSjEz2okMH/vSV0jd3Jnf9zZp6XOQCpcisTZX4FSH/vltlLKaxOuDfmFRZi/5yS6vbEU3i8uxO3fbsLu6GRdDFy4MoXqOm2NSsRNX25Ek+cXoN9//8afITHqul6b6xeWkHFe6Al/ikrNwRz1nVLUy0K76pstkXqtwqqIBKw9loiXlhzAJ+uOoLBIvvNrjVlO0AqmyeIDMXhBPfj74zOQkJmP30NO4/+WhiLSzHK71wYUzrDYNMxcEoo/w2KRlF2A7afT8NKfSkgPxxr2ql06+7hekuWTgv/d1mPIyb+0aheP+eN1R3E2v1Dvxy1V7ffJxgjVcfFd+XBBG+sEbDuehJ0nkhCbKlWnagIRe+GasfxQHKIzLjy4BWqjtReVnFnSUA7R6nfz90Tjp53HsTE8XpcGtFQOx6VjqxI/Y1mNSMnSk6W1DXPLPzCgFZo42BpaLpBZUKSFvDwyyindyP0rokCNUlhg/OE5uzDi47UY8+l6vPxnCE4aFRkXqoeIvXDNKK0jasw5/leBUrCa05t/h+Efv+3EA7/uwOPz92g3UHouuwnLg5eprEFcXlttQb/8pE5+aGTkArVRP49u531Rvd9SuBurRhnvz5/HBfnoOsDlkZKVh/dWH8ZaJfjZSvhZc/a3fSfx5cZwwx5CdRGxF64Zw5Uo+DtdWKjGgL0BLTwrTBP8q7Lm5+4/pYf+BcXQqQs+3RB+xVKA5kobLyf0DnDXi7tKKVY9JS3hrzdF6Dq5tQk1+6nhQbitezO4NbKGkxL4Ce2b4pmR7WFvU36Oee4/tWsAXNX+LBk4saMvZoxuD2ur8qUnI68IG6OSdNHwUjhPsCL8jOGdUF1E7IVrxo1d/PHi2A5o7mwHW2XajWjthefVg9+mggIgTE2QZlTQm1N6BxPSkZxlea4cCmdHPzd9vQYFesLG8ORytLT/TBpeW3YQ322JRHpO7Y16tkQm4IVF+7BevfYOaIwf7uyLj2/piZ7NPGBVxpdfCouNvDu5GzZPH4mtT4/EB1N7oot/Y3U+5e9Pi5+dQlncbCR652oRsRdqhZyCIny09ghavfInvF9YgAdnb8PJ5Gzc168lDr86ASlv34Q//jUYg9vSBVD+WofmLva69J8xTZ1s4XSVi3gYvfJ3WCyGvb8KrjN+x/APVmPFoVgU1HCESLbqqOLScnA6NVu7J672823VdRoV3BRLHxmCEa0u5MOnG+e0+vyPNx5FfHrN53Oim22dsqyfmLsXC9R1i07NwcbjSZi7JxqZeYUVWumkoeoEvNX32KGpq9rc0NTVHtacAKgAT2db/GtQG3jY2ejQTvYhAeo7f2qEFHu5WkTshVrhlx1ReG3pQR2al5BVgJ/2nMSbyw8iOTMX9o2s4GBrDVtlwV0uN/y9/VthcGATLfh86P2d7PBQ/9ZXLAV4JbZFJWLm4lBsOJGMdCVW65VwMcple1T10heXB8X9o3VH0f3NZWjz2hLc8d0WbIqI15Em1UWLn7oQttbW2pddliRl1efXUhjrkgOnEZqQdj4xnHatHInDwUokhuNXbLxdDicl8o8MaYtXxnTAeNWxTe7ohw+n9sD4Tn6GPeoHDCQIOXUW69V3vvdkMs4aFauvK0TshVqBi2jOGsVe5yvzcImynqvigunezB1vTuyCp5Sl9/CA1rra00MDW+uapFfDrugUhMSnnhcuvu6PS8WekyklDVcJLWFavR+sPYozSoCZHnn1sQTMWnW4xqJK2AnaG1nIHBv18W+si2/XBrlqNMRFUcZwFW1BNWeHD6nr/cvO4/hhexQ2q2vDEQJhX9BEdeqPDQ3CX9MGY96DAzGpazP9u/oChf2XnSdw549bMeKTdbj12y3axZakDJ26RMTezKDV+vqyUPx7yQEs2ncSqdl5ht9cW8qzL6kVVZWGbgHueGNiN3w0tSfuV4Lv43L1mUiLeRRlDqTk2Kp6dOXDz1p1JB6JRmGihapt04kknEmv3APP2PLZ26Lwwl8heH/VIRw5k2b4Da174MFBrXFTF058WqmRTwP0a+6Bp4YH61w1tUGfFh7wd75w7dm5dG/qhsDL1OCtiDA1GnjhjxD8a+5uTJu7C0//vhdLD8Qgx8g4qMpowJTgd88R4mcbIvQiNM6pHDubjc83R2DNkbqdZBaxNyO4AOXZhfvxhrIg3159WAvFnN3RyMq79qGKk7v4w9UoQoMhemOCmsLDoWo5VGrjoe+pOpAO3q7nb36+dvJxRTd/95KGGoAT0GWP10apdGVKGtLv/sXGCLysOux31hzGf1aEqQ78IA7HXRD8Vk2c8Z8JnTD3vgH4/YHr8PHNPTGqfVPYlTO5ebXwkOlGeXxIWwS62IFRlr3VKIKdSwffqqV8ppfp8w3hWK6EjzH4eUoNORH/4bojSMqoG8OkpjmWlImjyZnnTQe+nlCd90GjDrsuELE3Iz5ZexTbTyYjt6hYr1AMT87SfuPEOniImP9kxsgg+DjYwNGmISZ38sVzo9vDS4lFXcBUDd9sPoYhH6zCjEX7EOBqh2BPJ1grIevl54aXxnRA35aehr2vjtDYs3puwljW2cWNC26KgMYOJQ0VQMuQvt4fdx7HqYxcPfmall+EJYfjsHBftGEvJcBqa+HhpATeF+M6+OkIF4crTFz/tD0Kwz5Yjb6zVuDNv0ORUIXJXHdHW/zjutZY9fhwhDw3FnNUBzOhsx8cbas+Wb71ZIp265XCWQwKftZlFlvVJ5gO277MugNb1eZofXWBBVeLiL0ZcTAx46L4ZD5O4SlZyLmKScHq4mxng+dGdcDJ1ych5b9T8LOyQLsFNNapg6sDc6kkZ+YhWp3PKbVVNcTwayX0Ty/Yhw3Hk7FXWcirwhMwpoOvjgra9Mwo3KBGIuVZxYygSVCiO29PNPq+vRwOT8/DCCWYqw7FXpKThvrFzJDPLdqPdVHJeghP7Bo2wM1dA/DahM5XFHuSnF2AmDIx85xIjiqTNqB0tFO6VQSP6+cdx/HYvD1YdzwJO1Rn8saKw3hLjRgquyKZH8/J05ZqRBGsRkEB7o7VHkW0U//W+F/yswNdHbQ7yhwY1NYL17f3g5Ph+jgooR/R2hvjlMFTl4jYmxGcoKO7pBR+uV19XODYqOaH9pWBsdc2ysLh6kqG55XGVjPxWZTqmDaEx2O92rhS9nJhiRT6nSeS8dDPO9DxjaXooUR35pIDWoQry5ebIpBedKHTy1bHMFsJIBcl2ehon0uFhpEzPL7bvtmMu2Zvww5lfeYUFOvonf/7O0xHWZRl14kUbD6eiEIjy5VKHKS+h9ZKKCuTgM/b2RatGzteNDJgKGJ7z+pFIfFQvt4cgTSjTp/n/8vuaKRWMf0ED790qw7s6x8bFoQevo1hq+4Pa/VBLd0c8NiQdmhSS/MN1xJelzbeLnh5XAc8OqA1xgT54B99W+I/N3RG5woyg14rROzNiH8NaYsRbbzVcFEJrHqQujR1xRPqwWJ0gymxP+YsnlmwFxO+3Ki2DZj++x7sVAJaUarqlKx8HclCV0amEtvE3AJ8tSUS3yprvbJklbHCSY4S//L/YolAnkzOwrvq7zKmPN9oR0rm7tNnEVJO2GGBMufLRqgwioWRK5WBYtFJddoP9m+F1rSA1XsKPVehTuxW/aiULC5BLgNHfOcq7mNrjX6tmuCdyV3x9NB2eHxwW7yuRjx39AmEYy1FEl1r2A+y4M2bk7ph2b+G4P2bSxaS1TUi9iZGclYe5iqL6/k/9+O1pQewQwlNZaHl8NbELvhwcnd8oLZ31c02sUuAyVUSem+lEu5DcXqCjuLNybp3Vh5SFn/5gpiem49VysIuMOoMspRl+tfB04Z3V+bGjr6wNTJHOQIaF9QUjZRVXxGMnNmsrv+lEe0UymL8tvekHmFwhFLaUQV5O6ODsuxKP5V/sZWy0rtX4WFnaOk9/VrikUFttIVPwXeyta7U5G558J/doM6f7qRSeP40DPi5tQmjw15T1+gFdT8zod1ZdX/zKAapv/36DV31PXpLzxZoXMWJ+/oAr3vpZgqYRVnC2qAuyhIywdfs7VF4W4nh38qK3XY8GUdi09BRWQm+aqhbGbyd7XV8eq/mHgj0dNILl0yNf8zddZGlzZ9Ons3G86Pal7vsPjU7H99vi9Tx6sa08XDSolgZ2ioRpn/6RFKmTtPLBF2cU6APvSLXyml1THOVoHPCuzyiU7Kx40SynlDt6Oumc/xQqN2VcJ1UfydeCVuQOsYnhrXTk5mV9XHzaOIzcvBXyGnsUaMgLpaKSExHelaBthjdqhHR1NbHBenqOh5PzNAL1OhemDEyWEf1cKFWTZCm48uPY9bqQ/gz5BSiEjPx0bpwzD8Qo11be6PPwkFdg2B1DrwvTU0MqwIn4Gdv57kqw0WdHzvkdj6uht9WHylLWAfURaUqxlLf8PkGHZdbasNSmO7u3gzf3N3P0HLtYKw3fd1cDMXJpocHtVNWWHPEnM1S7cewVLW7NLLCY0OCcJM6xsrS7pU/EZ56cSSIn2MjHH99ovafl4XW4It/HcD3qiPMM1jQrtZWeOPGLsgvKFSCfEoL2J29Wug6seWNZGh50x2UqoST8fSudjZwV3+zoglj/pmY1Cy8+Md+zN13Sqdjrgh+wpROvpj70CD9veWqEQsnk7PVK1f/MgXAlSJljOHfpovqxSUhSDSaiPZ2sMHbN3bFvf1aYd1RNRpacQinlegMa9UEjwxpp33FFcHjOqvOnwt+eC04ge6hzv9yqQ6qQr4618/VvfJfZajE55RY7zznrLzC82su2NbWwwFL/zUUra5yFXRdkplXoBPycdEc11I0VGfWzMUOX97eGyOCmxr2qh61WalKLPsKqAvLntbtO2uPXLQgiZ4Nh0Y2uL+SFmxNkahE5NXFB/CpEvWY9FydD2XdoXhlkTXUaYY/3xKpI0bYvv7wGW0hM1FXZaBluvt4kg61o0j7OtqCMdu+bvZ6hS2jXDipm6dez6TlID2/EB2UZepqZ43svCK0Un/rpTEdcVxZz28pwTuRnqOPccPRBB3idl3rC3ljSqH1TvGhwDOMkCGDl3OL8Fcu9o30oi56kjPVMTBUc8aI9lipztf4O6KQnlP7PzKorRY0dlgsu+eh/o6rOtfyOrArwY50mfo7xnByuHcLD2WhF+CxuXv0hHGC6lT2qpFFrLp3GO3EcysPHhfTVJSev3YL1ZBFT1LVMd3xwxbEsTNR77nlqxERX41hZ2vdoCGm/bIDLywNwY7IJDRr7Khz5lSUTM3UiFP3/AM/71CdGg2HkpEp01fEpWTi7r6t9D7VpTYt+5rp1oUawVk9gF2MFvsQWoa9/Ku2cKUmSFIi8vv+U+ctaZJcUKAnSheoYatxe6KydH5Ww/fKMrV7c/x3Yjfc0iUAUzsH4OnhQTqUcuB7q9DxzWW44/st+Ev9DcbFj/54Ldq/sVQXs+CcxPonh2Pj06Nwm7Liv90WiWyj46Af/+stlZ+0vRKUHrrC3p7cHfueH4u1T43EpC7+6NH04u+INvuAZh4lb2qIlu6O8DOKTuGxBCjrsYWbo674FZV2Ie0Cbf+V4WcQUYepn0sE7/IhvrxmTI38lfpejytDIafwHP5WIxSGgDI6qzowiuvomXSsOhKH1UfO6Miu2i5zyZBarn0oS3JuebM7poNZiP2hQ4cwe/Zs/Prrr/p9UVERwsLC9Pv58+cjPT1dD13j4+Pxxx9/4KeffkJ4eDiKa/mmqCq+rg54bGg7Xf6N0TRM9To+qCkeGtjGsMe1g9crrxxfNV0TZdsptxX5tcuDvutblVgz9v7X+wdoi/vrrZGIVVY9V1RuiErCy38dwFsrD+FIchbo3t99OhUfrDmCfadSzvt4OUlalmyj8EJ2WEtDY/DJxnD8tCNKjwSqA/9e6dZYWcZPqlFId183vUrW0doKw9RI4lH1vdUU/DtD2nnj7t6BCFCCz4e0mXrl+4FtvPQ1MurjNPlqCFjRBPe1wFaNxIa09NQdXymcBA5u4qxdgLyfuxrmG7KMQmCZRmJDVAJOVCNnEMNmt6l75anf92DS15swWW3PLtyn51BqE4YyX6dGWMYzMCzKMkJ9N6aMWbhxDh8+rMX9t99+w/3334+YmBgt6tnZ2YiMjERGRgZatWqFlStXIiQkRP+bzZs3Y8CAAbCpIE92Xbhx6Lpo2cQRnZu6oU8LT0zo6Ic7+wTqSblrDS2mMCWwx5XYlkqqsxI2Co6bnQ2Oq4eztJ1pER7o1xL9W1V+zicjN18J8Wn8oET4lz3ROGE0T8HXZGXpG5ev021ZeTpHCyeg2RkdiUvHkfj082X6+MDdrkYNXNpPnzknu+nm+XXvSR0vf1a1BalrWdbVkZFbgGXqWDgnsM4QWdPcw7FcNw99/LT2O/u5oXdzD0zo4Ie71HfUWY2+KhNDX1noUw/2cUEn1alQ4Kd2bYaJ3QK0QcA5jN3M2GmwLimw/dXI4pYezeHjevW5g6oDXTD+jR0Qp77HM+k5ehUpJ8FfGN0eA1t5YUxwU9yqji8mNRtHlBVv3C2x07y5ezO9DqEq0N33xNzdalQTr0Nb2eFFqg49PTsPk68iTPVKcO0IrzNdZ4zYclSd2ST1rLIoS+NyyjZWhdp045iF2Ht6eiIwMFBfpLvuugt79+5FREQEHnzwQbRt2xaffPIJhgwZglWrVmHkyJEYP348vvvuO1x33XVwcyvfRVIXYk+Ys5zL4HsoQWNsLmPka1BDKg2t7xZK8BLUzXxKPaAcfjP2+5lR7fUCofjUkjztbrbW+Od1rTFtcBtl8VRuEpK57n/dGY3Xlx/Uw/h4JcLGDz8p75S5BH1CR1909XfX16SNl4sWPsbD26vrRsF4Vh0fxZxiOHNZqF5BzE6JowB2XO721hf59JlGYc6uaPxnWcmxbFf/bt/JFF10g6JeFh4XO2VG3nQPcEfXgMY6OVtNCj3hp1Hwg9Qor5cScr7yPf9Mc3V/2Kvv5/DpNOSq4x+gOsCnRwSjF4uaVGN+oCZoQLF3s0ffwCa4Xgnf7T2bY4r6Ptgx8/viawt1PWmN7zqejFRDlkuaWsPbeONm1RFUNZtpvhrhTJu3+6LUC/yu4zNyMaMW89+zw+ccVX81krmhk78+VwYolHe/VBXx2V8BdlLsrEofOLpt+LOHhwdat26NEydOaCs/MzMTfn5+en/+joJelhUrVmDq1Kl4/vnnkZNT84UgKgNPw3irCygafZV4fHNnX4S9NB67nx+Dl8d2VJalvbrJm+D7u1X7yyXtz4/ucMWFW7SWC4uL9YiBAv3BmsO6WDZz+JSF8fDXKXHgsvrSG5QrLQcpIaHAEn6/HPF8dHNPhLw4DvtfGIv3JnfXD+EXG8Px6Lxd+vONP/2ssuDD4i/2DTNa5L3Vh3SnwMVQtBBD1Ghh1sowwx7lU/rdlG61RXl/g66kaYPaYMszo3Dk5esx54GBOgkaO4C6gofHIjRtVSc5tK03BisBp9HC0ZHxOdzQJQAzx3dCGzcHODeywnh13C+p+6pVk+oJZRP7S0fmXuW01SQ8VxpD7IB5rlwzUFFpTVPCLMS+LGWtLOP3FJ3S17L7kdGjR2PevHl46623dAdiyTAsr4mzrbbweTMzwoSwI+DS9rLtFUHrmZNnYz5aC6en56HPf5fjSBkhJozB7ubnhscGtcZ39/TTHcrNnfzQSYn6A71b4O3J3XTR61LoOqAVT5cLN4ogc+A8s3A/QhMydSSTMRSXlqozMIYCH55ywYVE+DPnCkwV3rWc5whwd1DWpCO8Xey00NY1TGuRkJGD8IR0ROjykWrExk5etdO1c1R1ojHqe79efadHZk5A2qypWPjPwToBXXVCQDlP8MKYjrqoDePcubVQo6yXxnYy7FG7lHZgpZupY5Zi7+Lioidfk5KStCuGLh4HBwc4OTnh9OnT2sJPSUmBj4+P4V9cDDuB8joCoXqExqbizeVhWB+VhHw1zo7JujQfCx1At3T2x55nx+CdyT20/7afGkH8+uBAhDw/Fp/f3kf7r6/Et1sjdVROWTjZzRWzU9WQ2xiGavZlgjbDe8Jjua6Go2vMHU4O7z2Zgkfm7EKvd5aj77sr8fyifYhKysTu6BQ8/FtJez/VzrULdAFerUgydPTOPi3w5g2dcVu3ZrhDR3l1xaSuAYY9BGPMQuwPHDiAuXPn4tSpUzrShpOuFHb65b///ntMmTIFjRs3RlBQEJYuXYrPPvtM+/Lp6xdqn/D4DOxQQnBhurUERmiURLQ0xPA2Xnh8eNAlAlD6vrKiUF5UEIV+xrB2eGV8J10H1RiWR3x6ZDB6B7jrrIs8lqGtvfDkiCDDHpYJF/h9vSkCH60/iuUHY69YVi8nrxCzVh3CX2FMg1Gs48458f626uTfUe0l6TGKkaLaZ+8+oXPaXy28JViZi+m0Z9/THz/c3Q9TezQ3yVXjpoBZTNDSSs/KykKPHj20VR8cHKyteYZg8nXEiBFa/L28vGBtba2t/HHjxun3FVnwdTVBa46wMhHz2BgnCOPK4PFBPnhmeDAmqGH9nb0D0cXv6iNaGA3CDJnGETrMi/PGjV3hV8aFQ+gKau7uqP52Y/RlBJThWLr6N77kWEJizuLTdUexKDRG/Z0sNHWx15OmVYVx4KsOx2kx/ftQLDJyCuCvjoGT86ZAWFwqZi45iM82H8MydZx7opN1uGFbL5eLhPSUuga/7TqBH3Ycx+aIBMzZf0rXpi2FYZXHEjN0MY+y7Wdz8vHwoLaGlquDX5PxVp+pzQlas0iXUOqHL4UPaWXbKqIu0iWYK/tPpeCZhfuwPjLxvAhzNeo7E7tdVEi6vK+D9UlpBZ7NK8DAwCY6O+LlJsPoHnjz7zDM2RutOpdijA/2xbOj2+sFWZdboVnm1rjkWHgOL/95AGsjE5CnPtfXyRYP9muFhwe3rXJqXgr99N/3Ijw5U0ePBLrZ49kR7XFX38A6F3x6wJ5ftBefbYlElmHNAof/Hbyc8et9/dHRMGcSl5aDj9YewY87TyA+O0+N0hqWO6rydWykM4EyU6kxffxcsf25sYZ3Qim1mS7BLNw4FG3jrSptQu3DJGF0oYxr5w3XRtbo6eOK/5vQGSPb+6jvoURYy/s6mE3yyXl7MPdADJYficc7a47g/VWHtdBUBKOF3prYFaEvjcfhl6/HZ7f1vkToi5WVuUWJ9pQvNyBw5l+4+auN2HY8EcyZU96xsCP4aftxLfRMxkYjNSYjD99uj9STjlWBYvruykMIUxYv48IZjXQsJVtHBGWWWYFJP/iKsDgMf38VWr+2GA/9tA2hp1N1+GJNw88Mi0vDw7/twLc7os4LPaGEH07KQKrh+PjnQ06exWxl1cdl5enrUZ7Qu9lYY8bI9rivX0s4WV3oxBqr9mkDa8aqFyqPWU7QCqYFIy0GtfbCnw8PxdlZU7DzhbG4qVuzK1qx32+NREh8ml6eTnlLzS/x99I1UBHsxBkdxDw7dNswQqesRU9hf3bBfixSQnpCCe3Cg7F4buF+nVO/IqLTcy4RtLjMPGQY4sWrQtmQUP4cpTow44In/PHvsNN4Yv5urD2RjMjkLPy4K1qNLkJ0EjSKfrjqaLggLK+gSFfv4kQ469QyS2hV4N+KVNf0lb8OKKE/jpQynQ6vXis3R7jYXlhHkapGWszqaQz3a6E624EtPDCspSfev6kbHlEjHwr+K2M76FWnw1X7B1O661GMqcOFebyeB9V1ZQZURpUxcyrnM3itT6przqR39QURe+GaUWo1l7WcK4L57in0xjBdw+WqWlWG7bo0obKQDe/5uO45fVanK66I7k3d9AKyUvjgtG/ijCYVJB67HANbXJxWgF1eX//GOjLImL8Pxl1UipCOkFUR8bjzu63oMWs5xnyyVru4/lQjn3t/3Ibes1ZiyIer8f7qw7poeVWITMjC6vAz5ebut1Nf2Ih2PvB2uRCK7Otsh7YeTlrgS2li3whPKHHf8NRIrH5ihM7OyTBdLpZ6Rgn+RtW+SrXf3bel6oBNW3qY8ZW1CgZ9sAp93l2Jf/y6A8vDYvGhGl0O/XANes1agbt/2IqVh2KRo4yQ+oCIvWCyXBfoqas0lUJR7KlE0esyPnJOBn+mBPD9NYd1Ooaz2ZcWW6frpKwrhNWkylvgRdg53dKrOW5Ro5HGSvBZpLyjlzMeHtgWbbyrtsSfGseoI64adbJuqCOA+jVzx9Mj2l9SvJtzDmWPk26kM8qaZ+Gp42m5mKXE59+LQ7FBjUo48kjIKcDnm49hzq4Thn9ROXj+ZStslVKkzveg6hwZWsmOltejo7+bXjkd5Omk49u5uOm2Hs11SofSDp1bKcZtxu2mCC/5t1uO4Xs1yklSo5zswmKsDE/AC2rk8+H6cJxRIyfmJ9oSnazusyOITKq7BHRVQVIcV4BE49Q9jJIpUg/VESU0FOI+Ae54aliQTvNbXloADrdnqgfyi62RWHH0DPaqh9HBxlqnPiiNIknMyMUKZaHtjTl7vvIVtaeTtyvu7N1CF/Moj8bKgu/k56YrTo3t4KfzvIwI9qlyIRHiozqrLkosGf3D1AK39WyB/q08L3FrpefkY8+JlPOpBcqDQpSs9jOWaaaGYCrqW3u0MLRcGeaj5/Vjmu2yks/R1em0HB2BNLErC7Nbw66RNdqoDq+7vzuGqo5rimpn2GN9WEl6JXhbvLg45KJRFUeBiUrkjV15/CkhMxfXq/uhovumqki6BMEiYXWu6cODdbGLtY8N06kbxnb01atHy+O7LZE6v01mYZG2Ug8nZeLTjeFKwEpWw9KX/Z3qCOYzRNDw0FLoOzZxwrMjg3UaiIrgfux8pnRvrpPBDW7rXS2hJ1wMxJXAtyqRv6NXoOq8PGGvBNQYWr/Xd/bHMyOCEehir9ckNLVvBPtyIorKtnAXZuOsLPxbrdUIhb71IeoacO1DWRguuVl1nrmqIyHcg/n6hwX54O4+gaoTaKYToZkLzNRZlkuvSkkKcutyvhNTRMReMGk8nGzRS1nyFGJa6BUJPTlwJg3ZRpYXLdQjzIJoCPtjXDirKZ1S1n3pXnxM2yqrjBPGZd0o5VFTrgjjz6nos1yVuD84oBV2PDcG0f+5EYsfHqysSF8tMISa3N7DCaNae8HR0MaPaqU6yTtUh1QVOPIZHuSN+Q8NxPGZN2CgIQeRMU2VuJcVtiudQ13AEOs81eFz8pobJ1GrEsHEc/nnwDaqc7U9L/DM+DpBjeRauzqcb3NQ13xSJ/8qZ+usK8SNUwHixjENjMXkSoKyJSIeB2LTLhZyD0ftnrFu2BDbTyTh250X+7IpAV7Kcn6gf9UqDFFATp3NxonkTJ03n3laKltjljBfTFx6js6xz8yidJezszEOCeZPjGRiOytLNVUiTldSQx60+iWTxb0xsStuV6MDphRmqGZn1SHOvL4LxqhOoSrwbzFqidWsuFDM280Ou6KSdbQRD4n59LnSmMnxaqqUYWXh6l0WJYlNy9HXnQnfLncMCaozn7kkFA/8sh3v0qeekI52Xi7acKhMyDV3YZ1cjuQy1d9mOO/9fQPx8rhOOoXHWfX5/KxbuwXgyeFBOgtpTSGLquoAWVRVv6Dgvr4sFJ9vi9Spb4mXsoyfUQ8ji32z6tWPO0sm3IxheoTHlBX31qRuhpYrw+iLlYfj8MHqI9gek6LXDjysPoOZKI0jViqCcf67TybjvysOYVV4vLbQmfv9xbEdtchcCWMjtVS7yhquldC0y8IMpX+HxmJZWKx2iQ1u3URdR/9qu66qCxOofbY+Al9sjkB6QaGezH5qWDBGKiu7/FrDwKtLQjBLfTe5hovCLKq3dQ/Ax7f2Up1m5Vc8V3RNy7v+NYUsqhKEK8DiI38cOH1e6ImTnTW6+rvhz/2n8M22qEuE3kVZiByG3zeg8lY9H/SopCy8r8SEPmxGZTAC5rNNxzBvd7RhrxLoTtgelYgP1xxW4nNIh+mxWDUjWt5ZeQiLdb6YIqTmF2F+SAw+XHvY8C8vDwWmdCvFuM24vbpwJMQ5Ay5K+/qOPjr/zLUWel5r1hr4XAk9V+DyWm8+kazTY5+oICsp/838fafOCz1hCc0/Dp7WNY2rQkXXtLy2+oCIvWAW7DqVgpiMi2PLY9SwPyErH6sjEpRVeOnil5dHd8DM6zvpnC9VIS49FzuURW/8iYk5+dh4PNHwrgTG7c9YuA8vLgnFy2p7btF+/LE/Bll5RVh+5Mz5aCBCQVqqRgumhLGo1YWw8fJsjExAsmHOhXCimNc+PjPX0HIpLIdYlvoyiVqbiNgLZoGDdUNd4MQYTmSW1vIt+6h72FprV0BLz6pPrjGJG/+eMdQS4wgOpkX4cPVhbDuZomPjmRrhQHy6tko5aehcjgvC5TKTz5aKo421vrbGsGJZReLNW+DuvoFwMFq0Za8ab+3WXFczs2RE7AWzgBWQevg1Pi/4jJQY395Xlw18YEBrvYy/9GZ3UQLCSVs/N4dqWaytvZx0TVguiiL8/w4eznqi1Jg9cWkXWf90IoQmZOh/8NiQtnBX4s4/z62JrQ2eHGp+aZXpysrOL9STrClZefrnykbG8LthDeY2bhcCRyjiU7s0R8sKJkX5bzh38u+xHdDOw1EnmXtscFs8N7q9nny2ZCQapwIsORqHDyhdFRFKmJhFkj5mhjxeLmtkXcPFPB18XZGbWwhXB2tM7uSPp0YEoa23qy6VxwVApZEVd/dqoXO2VKc4N8XExc4Gnfwb6w6FV6RrU1e8NqGzjjkvhXq2LSIeR9Q1LJU2dgpdfFx0GoF+LT11GgFG5TDtwJPD2uEOZZHSV25OMGfPv5eE4h+/7cSH647ieGKmrmHMGP0rRcbw14x6iVL/hovgeB1bqe/5n9e1Up24e4X3I6t2sc7wo0Pa4QnVgY4MbgoX+0ZX/HumgETj1AGWHI3D6kKvqQf0r4MxOhJjaCsvzBhVsujoWofd1We2H0/CMwv2Yu/pVJ2OILiJs14kNaVHM9hZgEuBHd703/fo9A2ckyCMjLlDnf8Xt/eGzRWuAf/JN1uO4ZUlB3SKAsJYmpFtvfHhzT10wXlzQ6JxhGvKZ+uPYs6+kzpKJKuwGMuPnsGslYeRkXdxTnJTha6CVYfi8PaKMB31wlTJV5s8rTr0aeGBWZO74Y3rO+H18Z3w30ldS9INWIjvmGK9YP+p80JP+PPC0JhLEtyVB/8ZQ1wTDEJPeAdyIpwx90LVELEXLmHZ4TPIN3pAGbDIXO65zL5l4rAK1JLQ03h20T68+vdBvT27aD/WK8G/1tBtwEU4Tw0P1qkIRrf3rVKctzlgU07qBZsquKq4b1nvC+dlTNijaLKI2AuX4FpO2gBGtNSHByxfjUTeWXFIR74wAoY5cHafPqsLhgjXFor0vX1bwr5MZAznTMoEM5UL//2NaiTk63ghyykj/UcHNUVAY5lfrCoi9sIlTB8eBB/7RvrmoL67K2v0kUFtq1Vv9Vqj9B0hSuiNxyD8ee+ZtJI3QqXg4q83lx9Em1f+RLOX/sBT83fr1BBlS3teDor1E0Pb6ciY9p7OYDrk50YE49nRHSqVz57//qauAXh/Snd093FBCzcH3NcnEK+O72QW2TWvNTJBWwGWPEHLHCvz90Zj7u5o5CvLeGx7X9zeuwXcHateqONaw1QGQ99fjV2xF4qT0EM+uq0Xlj46rKRBuCzUc9YDYBRNDhcMKFjA5L4+LfDO5O5wqgedfn1FJmiryc6dO7FgwQL88ccf2LBhA4qKinQ4Jd8vXboUWVnlL7m2dBjSxvS7i6YNxtJHhuJRZZ3VptCzpuzSAzH4YUcUVobF6kRW1aWRdUNdYLy7r5tO1csEYcyDz0pJtQlzwc9RnePPO49je1QSsqtRrtBUoNjzPEqFnjD9wLz9p5BdUH/Py9Ixa7GfP38+tm/fjqSkJN1jxsbGamv90KFDWLNmDVatWmXYU6grGMf/8bqjmDZ3Nx74ZScembdb56WvruDTPTC2gy9mTeqKtyd0wds3dNERMQNbexn2qHnC4lJ1KoSHftuJB3/diem/78XfqtNibdjLcTYrH4uUgM5cFqojh3ZdpizitYaju7IwfFSov5i9z37UqFG4//77ccMNNyA8PBw5OTl48MEHcd9992HOnDmGvYS6YuWhOPy08wRiDDnmI89m45ttkdihrOPqwmyIQ9r54MlhQXhcjUr6t6q99QE0fj9ZexQrWTRFiXueEsmdMSn4YO2Ryxb+ZsqEX3efwPN/huANJfT/WR6GF1SHsefk1Qt+jjqOuXui8cBP23G/2liiMKsKYbP0lU/t3gx2Rn51xsdP7Oin0wsL9ROzF/tZs2bh7rvvxurVq5GamgorKyt4enoiKCgIkZGRhr0uwP3uuusu/Pvf/9Ydg1C7HE3MQKxRUivajseVtR+dWn9cbJuURW7s3KA9v+v0WWQXlm/Z00COS83Bp+uPIiI5Uyf3Yv6cTdFJ+HJjuGGv6vP7vpN4XnUcs1Vnwu1F1aHM232y0pOrFPt/DWqDRwa2RhM7a50d9NbuAZgxsgMcG4m/vr5i1mL/3HPP4ffff9eTrF9++SXCwsIMv1EnrqyW8m7+IUOG4Ouvv9Zib2dXcWFrY86k5eD5hfsQ8OIivfFntglXxsfJ9pIEYJ52jeBhf23T6V4Nbcopx8dUy5cr+p2trO/wlKzzqRQIQ0UPMnfOVcCRxptLQ3EiPUd3Ily8dFz9/Pry0Iv+1pVgOoO3JnZF9BuTcOatSfjqjr4IbuqiSyoK9ROzFftidde7ubnByckJ3t7eCAwMRGZmpm5n9FFERASaN29u2PsC1tbWWuQbNap8Lo13Vx3G/zaEIyYzT2/8mW3ClRnb0Q8TOvjCjVWa1PsmSuRv7haA/q3rR2QYPR3TR5U/+fvFpgjDT5fipDq4jl5KPA3via0S0h6+boZ31Sc261L3UVw5bZeD9z6LutNtQ7cYJ77rQ24ZoWLMVuzpgtm0aZO27Lnl5+djwoQJsLGxwS+//IIff/wRU6dONex9dczeefyiYgn8+addxw3vhMvBurIvjuuIF0YE458DWuFlJZxMYNbcveZKvdU2A1p66UVnZcmqwI1DzWzqZofHhrRDB3X+TJnMilmj2njjoYFtDHtVn+GqozQeK9HxMryVhFVbOmYr9vTNE4o+LZIHHngA/fr1w9ixY+Hq6orOnTtj3Lhxep+r5Vw5A+SqFDi2dIKU4HGhzee39MLjw4OqlWO+LqF4c3TSyMjy5YTmhPZ+hneX4mhrgyndm+HdSd3w7sSueE+9vjGxCzr7NTbsUT040pihruWodj46BTM7ESYOe3ZUBz1yEiwXWVRVAVVZVPX4nF34elvUeeueC1Ae6t8SHynxEiyDA6fP4r8rwrD0UEm1qQntffH8mA7oUANumarCtMnHEjNxPDlTv2/h7ojWXs7aLSOYNrKoysR5ZlR7PNivJdxtrfXGn2t7EY9gWnRo6oYPpvbEjhmj9fb+1B4I9rly8fDagGGmzBnP9QbcWMRchF6QO6AGCGjsgA9v7okzb0/WG39mm2A5cNWxl7OdnoPg1kT9LJErgikhYl8DcE6ADzutJ278WSIXBME8OZmShY0R8Vh7NB6Hz6Qh9worpU0FEXtBEMwKpnrYezIF32+L1JWutkQm6gR5NQGruHGR2o1fbsL1X2zAY3N2Y114PPIriLwyJUTsBUEwK3afTMaMhfvw6Pw9ePT3PZixYC9WHIq76mplXLD2xYZw/L7/FFJV58FVzxuiEvH+6sNIqeI6hrpAxF4QBLOBgvzBqiNahLMLi5FXxFxFZ/Hu6kO6XOXVsjoi4aIyi/zELdHJyKqhkUNtImIvCIJZsUVZ9sZOFf68MyZVF8+/WjzsLq3i5trICuVUXzQ5ROwFQTArOjZxvmgBGX8O8nTUtWuvBi5Ye3Z0R7RydSipg6vafBwa4YmhQfB0rlwerbpExF4QBLOBgvz0qPbo4uOqcw0xFUWwhxOeHh4MB2WBXy0jg33w3tTuuL1bAG7q7I9XxnbEgwNa1YtC8rKCtgIsuSxhfSU6OQtbIhOQnFOAFo0d0CfQU8e+C5ZFUXEx1oUn6PDIwuJz6NPCA8OZPqIelFOUFbSCcAUYEvfuqkN4csFePLlwL6Yv2Ifvt0Yi8SpKHAr1E1YrGxHkg/9M6II3b+yKG7sESN1chYi9YBYsDjmFOXtPIlFZ9ZyHizybhW+3RWL/qRTDHoJg2YjYC2bB4cQMJOdeKL3HuAuWOIzLyCtpEAQLR8ReMAsC3RzgWqbilZ+zLTwdZPguCETEXjALbuza7HzFK97U/s52uLtXILo18yjZQRAsHBF7wSxgSt+XxnXEq6M7YMbwIPzf+E741+C2aOpqb9hDECwbEXvBbGBq4SdHBOPtG7vi3v6t4Od29Wmm49NzdFTP4/N348U/9mF3dLLhN4JQvxCxF8ySM2k5eG/1YVz/2Xrc+s0mLDt42vCbypOSlYdvtkTi1aWh+GzzMXywIQIvLQrBHhF8oR4iYi+YHWeVSH+07ijeWHEIy46cwe+hp/HU/D1YeSjWsMeVYa6rqMRMfKVE/lRGLorU+9yiYmyMTsR3W48Z9hKE+oOIvWB2xCqr/mslyGfzCnQIJoU64mw2Pl0fXrJDJcnML0Js5sWhm7nqw6LV5wslZKprHJmYgQOnU/VrVp7pZ3+0VCxS7FNTU7Fp0yasXLkS0dHRhlbBXOAS+cwy1YMo+mlVTEPr4WCDTt4uFz0krjZW6Ol37YuImyKp2fn4ZecJTPxiA7q/sxyT1Ouvu04gNcf0c7tbIhYn9ufU+Hzx4sX4+++/sXPnTnzzzTfIyMgw/FYwB9zsbdC/uQeM0145WTfEsNZehndXhgkSW3g64dEhbdDZx0Un1GIq2yldAnBnn5aGvUwDzi0sORCD99YcxmcbwnE4Ls3wm9qDbq7NxxLw0bpwhCVm6tETX+k+26raBdPD4sQ+JSUF+/fvx8SJE/Hoo48iOzsboaGhht8K5oCPiz2mDw/G4JZNYGfVAO621jrm/r4BrQx7VA5nOxvc1K0Z/je1B769vTe+uq23Du9s7eVi2KPuSVNW9K+7ojFj0X48/9cBPPdnCGYuPoCw2FTDHrXHwTNpiEjO1KMmwjpQR9X7sPja72yEqmNxYp+UlAQ7Ozud5dPW1hbNmzfHiRMnDL8F1q9fj2nTpuHNN99Ebq4k0aqP2NpYYXiQD75QAr32sWH4+5Eh+Pf4jgho7GjYo/K42jfCoDbeuKt3IG7u0RyByto3FWhdH1fW9Ocbw7XIFqqGzMIiLD0Sh9nbIg171R62LLCvRjzG8D3bBdPD4r6VoqIiNURvoDdiZWWFwsILvty+ffvijTfewCOPPKI7A6F+YqcEv42XM/op6753C09t7ZsjabmFWuhLrWuSVViMAwm175oc3MYLAwI90cjwLNmq10HqWg+sgrtMuHZYnNjToqfFnpmpLCEl8nFxcfD19TX8VomEsvo9PDzg6up6vkMQBFPFxdYardWIxfhOdbBuiPa1PALho9G9mQf+O6kr7u3VHL2buevXNyd1Q7cASVFhilic2Ht5eSEgIABr1qzRE7UsFtCtWzfDbwWh/kDBDWzihGmD2mjBZ6k8RyX0o9t4457+VZufqC7dAtzx5Z19seOZUfhCvXYLaGz4jWBqWJzYN2zYEDfffLO28JOTk3H//fdrS14Q6iNuDo1wZ+9AvD2xC14d2wH/GdcJ/7mxCzr7iegKF2ORMylNmzbFvffei8cee0yseqHe4+lki8ndmuHlMR0xfUQwOvrKOgDhUixS7AVBECwNEXtBEAQLQMReEATBAhCxFwRBsABE7AVBECwAEXtBEAQLQMReEATBAhCxF0ya3IIiJGbkIl5tzPBYWMTcioIgVBURe8FkYXGMzzeEo8vry9DilT9x69ebsSEiAXmFFxcmEQThyojYCybL/D3ReGf1EcQpi57lAFcfS8A7Kw/hRHKWYQ9BECqLiL1gsqwOj0dC9oUasExEvflEkq4xKwhC1RCxF0wWFsIom2XaWrU1lNTTglBlROwFk2VSlwD4O10oOmKjtjHtfNDM3aGkQRCESiNiL5gsE7sG4ONbeqCvnxvaeDjiH31b4j83dEEL96qXFxQES0fEXjBZrBo2wITO/tj23BiEvzoBn9zeG+28XaSCmCBUAxF7QRAEC0DEXhAEwQIQsRcEQbAAROwFQRAsABF7QRAEC8AsxT4zMxP79+/H5s2bsW3bNsTHx59vDwkJ0e2nTp1CcbEk1RIEwTIwS7E/efIkPvvsM8ybNw/r1q1DXFwcCgsLsX37dnz33Xf466+/8OmnnyInR5bdC4JgGZitG6d58+Z46KGH8OKLL6Jr165IS0tDaGgoBg0ahFdffRWxsbE4ceKEYW9BEATzxmzFPiIiAm+++abeEhMTkZ2djfT0dN0JODo66teoqCjD3hfYsmULpk+fjg8++AC5ubmGVkEQhPpNvRb7vXv3YurUqRg3btz57Z577sHZs2e1Rf/GG2/A3t4eH3/8Mc6dO6d99DY2zLAC2NraIj8/X/9sTOfOnfHUU0/htttuQ6NGjQytgiAI9Zt6Lfbdu3fH/PnzsWzZsvPbjz/+iH79+qFVq1Zo2bIlbrjhBt0pUNwdHByQkJCg/fcxMTHw8/MzfNIFnJ2dERAQAB8fHzRsaLYDH0EQLAyzVDO6bTZu3Ki3RYsWYcCAAXBzc9Piz0icxYsXaxdNcHCw4V8IgiCYN2Yp9hTyI0eO6LBL+ucfeOABbdlfd911aNGiBcLCwvTkLX8nCMLVExaXhm+3HMNnG8Ox+nAc0nMudZEKdUuD+Pj4c/Rxu7u7o0mTJoZmYc+ePTpE87XXXjO0CIJQHgdjU/Hvvw5gdcQZ5BWdQ/smznhiaDtM7dEMTrYlc2RC5WDU4BNPPIEffvjB0FJziFNaEIRqw3WJX2+KwPKjccgsKEZB8TmExqfj4/VHESflI00KEXtBEK6KPafTdEH4UrguPTQhHZl5rBosmAoi9oIgXBXBno66XnAp/Kl1Y0fY21iVNAgmgYi9IAjVhtHJ/xzcDgObe8LeqiGsldK3dnfEw4PawtdNagWbEiL2giBcFT2bu+OtSV3x0shgPDciGG9M6Iw7ereAi51MzpoSIvaCIFw1vVt44KVxnfD6hC6Y2qM53B1tDb8RTAURe0EQBAtAxF4QBMECELEXBEGwAGQFbQXs2rVLFzi566679HtmyGTGzAYNLoSY1TeY9ZObtbW1oaX+wu/DHLKSMikf7ykrq/odpijfR82QlZWFX3/9FXPmzDG01Bwi9hUQHR2NuXPn6kyZ5LfffsPNN99crx9KVvBiwRYWcKnv/Pzzz7jzzjsN7+onTLvNtBzM0VSfk/LxPChQd9xxh6GlfsLzYDU7Ly8vnTW3LuAx8H64//77DS01h4h9Jbnlllvw008/1WvrhYnhNm3ahGeffdbQUn+ZNGmSzmhan+GD/f333+vnbsKECYbW+gdHi6wrsWDBAkNL/YTfB0fz7HiHDx9uaDUfxGcvCIJgAVjNmDFjJlMCs6KTpPytmKKiInTo0KFeFzSh5eLk5KRLMtZ36FtlVbH6Dr8Tb2/vej+qNqfvw9fXV3s6zA1x4wiCIFgA4sYRBEGwAMSyvwxxcXFYt24dUlNTdRTOiBEj9Cw921nykOUPBw4cqIevph6SWVBQoCM/du/erWvvDh48uN4MVXl/MvqGoa90o40fPx6NGzfW9YfpguzWrZuuR2xqIaV0CWRkZGDJkiVISkrS90/79u1128KFC/Wx87h5/DyvtWvX6gprrKbG74f1kE0FnsuWLVv0PeTv74/JkyfriLUNGzYgOztbV4IbOXKkrt/MdgYCsBDH6NGj0bp1a8On1D10N/EaM+qG4aKcjGUFOz7Tq1at0uc5ZMgQXcKU38+KFSsQGxuLLl26oGfPnrCzszN8Uv1DLPvLwBtg586dWugpkJzX4A2wfv16fcPQ//3RRx9pf76pQ7GZPXu2FhBG5XAdAW/8+gDFnnWDPT099fdAYVm6dCmOHj2qRXL16tWIiooy7G1a8Bqnp6drkTx06JCOXOGxh4eHawOBx85w2GPHjmHevHn6HPft26fF0tSgeDMOnMdJeNy8jzjXRz83vxf+noX/+ezwefnwww/1OZsKfFZ5jAyppnHLilD8LliVLiEhQZ8jj58GHr8zGnt8Zij63K8+I2J/BRhzO3ToUFx//fX6hqZoMl6dltftt9+uxT8iIsKwt+nCzolWyW233YZ+/frh4MGD+qavL/DBHDNmjLbqKYhcA3HPPffotQ+06CmkpgbF3NXVVVvBHTt2NLQCv//++/lj5z6HDx/GmjVr0LVrV0yZMkVbm6yTzHvLVOBx0uLlc2AMO1+OWPjd8FmJiYlBSkqKDl3kvcbRryl1xBwd0krndWb4LjsqXv8dO3bodRs8ZhoRfM7ZEfOcGXbNZ4fnUV8MpPIQsVdwOMcenb156UZrjEM6isgjjzyCadOm6RuZApmXl6fFhzH3zZo10xaOqXP69Gn9YPKY2WnxgeR51wc4sqLly871xRdf1NebD16bNm201cVz4vdnivDYKSjGUVx0c9C14eLiojsqHjvPiefD/dlBUFRMrTPmeVAsS+Gx0vq99957MWPGDC3sHIXxXOlmo6Xv4+Oj7z1TgcdG4eZ50D3DZ5oum+TkZP18MDKKbjY+4zTq6Lbl/cXzoSbQHVpfEbFXcNj81FNP4eGHHz6/sdA4b4gvv/wSy5cvx4ABA/DWW29pC4db6dCUD2V9SD/AB7PU3cRjNxYfU4cPIYfRdB9QIDnM5kNXej6l30l9ofS7oDFReuxsK7Ua2U5M+TviMffo0UMvNOT3QaPnf//73/ljLn0+eJ48N1OC15cd0Mcff6wteQo8j5vHbPxs1Odnpjzq99HXEH369MF3332nl3yXbu+9956eTGOvzi+dQ2taLrQkabHQJ8mJKVpktAxMHU6c0VKha4DHTFcIz8PU4YPJjfMj/C44OZiTk6MtrtDQUG1J8r2Hh4fhX5g+tODpRisdXfHYS9vYidHK5Hdj6uteaAxxo7ETFBSkXR88Fwokf+bIhNYzOwJTgffSmTNn9DPOifCxY8dqS58uKI4WaenToOB8A+8xjux5f/G74ojLeGRT35BFVZeBrgMuyefM/ebNm3W0AaMn+DAyCmHv3r36RqdPz9R7fd7QnJjdv3+/9klyHoKuhPpgrfAh/OWXX/RkIP2rHGXRv01Lnw8jO+Nhw4bBzc3N8C9MAwoLXTScX+DokJ0tjQVed6YW4LGzA+N3QYOBk4T8big4PMe6ys9SHrRsOVnJKCI+D9QKiibb+J7uHPrtGZnG42fkDiO/GPF14403mszIi+4ZPtO8d2jw0PDhfUMR53fE56Ndu3bo3bu3dt388ccf+ntiJ8zviZ1CfUVCLy+DujZ6oow3CDtD3gCcxWcvTyuMPjxa/4GBgSbvRqCLgJ0XJ5NpfXXq1EkLj6lDwaSVSOEgfAA52clOlh0wH0IKJQXUFN0FHP0xoosGAjtWHifvF04I8tj5nsfP+yckJES7FygoPMfSJHymAM+F9zw7Xj4PPEZqBiNYeB60hhmayBEJ2/jc8NwZVso5IlOBx0qDITIyUhtAvO58Fij2FHrCa8+5Bu7L+45zeBwFcPTFzrm+ImIvCIJgAYjPXhAEwQIQsRcEQbAAROwFQRAsABF7QRAEC0DEXhAEwQIQsRcEQbAAROwFQRAsABF7QRAEC0DEXhAEwQLQYm/qS/0FQRCEq+O8ZS+CLwiCYL6IZS8IgmABNGSmQG71PTG/IAiCUDENUlJSzrEMF1N8MuUnU+FyY0pTboIgCEL9p0Fqauo55p1mkQWmOmaOdlaYYbWZ0tJpRIRfEASh/tJAWfXnWKmKgp+ZmXm+oHap0IvYC4Ig1H8aKJE/xzqYFPjSjRVaSoVexF4QBKG+A/w/0RHYkCM4hXAAAAAASUVORK5CYII=)"
      ],
      "metadata": {
        "id": "VkzYkJyKvd21"
      }
    },
    {
      "cell_type": "markdown",
      "source": [
        "※シード値123の場合の結果"
      ],
      "metadata": {
        "id": "oB65d4-BvfWy"
      }
    },
    {
      "cell_type": "markdown",
      "source": [
        "# 3. Pandas基礎"
      ],
      "metadata": {
        "id": "58gUHWwYvjMs"
      }
    },
    {
      "cell_type": "markdown",
      "source": [
        "Pandasは表形式などのデータの取り扱いに特化したライブラリである。\n",
        "\n",
        "データの加⼯、操作、抽出など、データ分析に必要な機能が揃っている。\n",
        "\n",
        "本章では、基礎的な使い⽅の紹介に留め、次回以降により詳細な使い⽅について説明する。"
      ],
      "metadata": {
        "id": "zf3UxBdXvmkm"
      }
    },
    {
      "cell_type": "markdown",
      "source": [
        "## 3-1. ファイルの準備\n",
        "\n",
        "本章では以下の内容のファイルが実⾏ディレクトリにあるものとする。"
      ],
      "metadata": {
        "id": "B2v49qjOvqvU"
      }
    },
    {
      "cell_type": "markdown",
      "source": [
        "### test.csv"
      ],
      "metadata": {
        "id": "4iQr3EXEvwPf"
      }
    },
    {
      "cell_type": "markdown",
      "source": [
        "name,age,height,weight\n",
        "\n",
        "A,34,175.3,73.6\n",
        "\n",
        "B,23,167.2,55.6\n",
        "\n",
        "C,28,180.5,70.8\n",
        "\n",
        "D,33,172,68.9\n",
        "\n",
        "E,31,165.8,60.5\n",
        "\n",
        "F,38,177.8,70\n",
        "\n",
        "G,40,162.3,56.1\n",
        "\n",
        "H,29,171.1,66.1\n",
        "\n",
        "I,41,183.7,78.4\n",
        "\n",
        "J,39,188.9,88.2\n",
        "\n",
        "\n",
        "K,35,173.4,80.5\n",
        "\n",
        "L,33,169.3,72.1\n",
        "\n",
        "M,29,170.5,65.4\n",
        "\n",
        "N,24,171.2,68.3"
      ],
      "metadata": {
        "id": "U1sIt2qqvyxs"
      }
    },
    {
      "cell_type": "markdown",
      "source": [
        "test.csvは[ここ](https://github.com/TokitsuKotaro/PythonLesson/blob/main/test.csv)からダウンロードできる。"
      ],
      "metadata": {
        "id": "Oab8swMhxgpg"
      }
    },
    {
      "cell_type": "markdown",
      "source": [
        "### test.tsv"
      ],
      "metadata": {
        "id": "bssz1z0nv8YT"
      }
    },
    {
      "cell_type": "markdown",
      "source": [
        "name  age height  weight\n",
        "\n",
        "A 34 175.3 73.6\n",
        "\n",
        "B 23 167.2 55.6\n",
        "\n",
        "C 28 180.5 70.8\n",
        "\n",
        "D 33 172 68.9\n",
        "\n",
        "E 31 165.8 60.5\n",
        "\n",
        "F 38 177.8 70\n",
        "\n",
        "G 40 162.3 56.1\n",
        "\n",
        "H 29 171.1 66.1\n",
        "\n",
        "I 41 183.7 78.4\n",
        "\n",
        "J 39 188.9 88.2\n",
        "\n",
        "K 35 173.4 80.5\n",
        "\n",
        "L 33 169.3 72.1\n",
        "\n",
        "M 29 170.5 65.4\n",
        "\n",
        "N 24 171.2 68.3"
      ],
      "metadata": {
        "id": "Gumxj2_wv_l3"
      }
    },
    {
      "cell_type": "markdown",
      "source": [
        "test.tsvは[ここ](https://github.com/TokitsuKotaro/PythonLesson/blob/main/test.tsv)からダウンロードできる。"
      ],
      "metadata": {
        "id": "b8nokUgK0KJ2"
      }
    },
    {
      "cell_type": "markdown",
      "source": [
        "## 3-2. データの読み込み"
      ],
      "metadata": {
        "id": "9MJpaL8nwWo1"
      }
    },
    {
      "cell_type": "markdown",
      "source": [
        "最初に、CSVファイルを読み込んで表⽰するプログラムを下記に⽰す。"
      ],
      "metadata": {
        "id": "eBxykUmHwaUr"
      }
    },
    {
      "cell_type": "code",
      "source": [
        "import pandas as pd # 慣例でpdとすることが多い\n",
        "df = pd.read_csv('test.csv')\n",
        "print(df)"
      ],
      "metadata": {
        "colab": {
          "base_uri": "https://localhost:8080/"
        },
        "id": "74nKIU3ztiJQ",
        "outputId": "89e59a4e-b1dd-43b9-f21d-b242bed22c01"
      },
      "execution_count": null,
      "outputs": [
        {
          "output_type": "stream",
          "name": "stdout",
          "text": [
            "   name  age  height  weight\n",
            "0     A   34   175.3    73.6\n",
            "1     B   23   167.2    55.6\n",
            "2     C   28   180.5    70.8\n",
            "3     D   33   172.0    68.9\n",
            "4     E   31   165.8    60.5\n",
            "5     F   38   177.8    70.0\n",
            "6     G   40   162.3    56.1\n",
            "7     H   29   171.1    66.1\n",
            "8     I   41   183.7    78.4\n",
            "9     J   39   188.9    88.2\n",
            "10    K   35   173.4    80.5\n",
            "11    L   33   169.3    72.1\n",
            "12    M   29   170.5    65.4\n",
            "13    N   24   171.2    68.3\n"
          ]
        }
      ]
    },
    {
      "cell_type": "markdown",
      "source": [
        "pandasの read_csv 関数を⽤いて、テーブル形式のファイルの中⾝を読み込むことができる。\n",
        "\n",
        "pandasでは、このテーブル形式のことをDataFrame（データフレーム）と呼ぶ。\n",
        "\n",
        "\n",
        "結果を⾒ると、⼀番左の列に番号が振られていることがわかる。\n",
        "\n",
        "これをインデックスラベルと⾔い、特に指定がない場合⾃動で振られる。\n",
        "\n",
        "特定の列をインデックスラベルとすることもでき、その場合は下記のように記述する。"
      ],
      "metadata": {
        "id": "mvnBUyqoxQfq"
      }
    },
    {
      "cell_type": "code",
      "source": [
        "import pandas as pd # 慣例でpdとすることが多い\n",
        "\n",
        "df = pd.read_csv('test.csv', index_col = 0) # 0番目の列をインデックスラベルに\n",
        "\n",
        "print(df)"
      ],
      "metadata": {
        "colab": {
          "base_uri": "https://localhost:8080/"
        },
        "id": "BuSC2MPAxVwc",
        "outputId": "24957334-2aa8-46ac-9380-3a37e176eb87"
      },
      "execution_count": null,
      "outputs": [
        {
          "output_type": "stream",
          "name": "stdout",
          "text": [
            "      age  height  weight\n",
            "name                     \n",
            "A      34   175.3    73.6\n",
            "B      23   167.2    55.6\n",
            "C      28   180.5    70.8\n",
            "D      33   172.0    68.9\n",
            "E      31   165.8    60.5\n",
            "F      38   177.8    70.0\n",
            "G      40   162.3    56.1\n",
            "H      29   171.1    66.1\n",
            "I      41   183.7    78.4\n",
            "J      39   188.9    88.2\n",
            "K      35   173.4    80.5\n",
            "L      33   169.3    72.1\n",
            "M      29   170.5    65.4\n",
            "N      24   171.2    68.3\n"
          ]
        }
      ]
    },
    {
      "cell_type": "markdown",
      "source": [
        "なお、TSVファイルなど区切り⽂字が違う場合は下記のように記述する。"
      ],
      "metadata": {
        "id": "gTKEttIxxdQW"
      }
    },
    {
      "cell_type": "code",
      "source": [
        "import pandas as pd\n",
        "\n",
        "df = pd.read_csv('test.tsv', sep='\\t')\n",
        "\n",
        "print(df)"
      ],
      "metadata": {
        "colab": {
          "base_uri": "https://localhost:8080/"
        },
        "id": "aLbE0gNXxYtu",
        "outputId": "ab4cb8be-b894-4724-fd20-8654f3dd9220"
      },
      "execution_count": null,
      "outputs": [
        {
          "output_type": "stream",
          "name": "stdout",
          "text": [
            "   name  age  height  weight\n",
            "0     A   34   175.3    73.6\n",
            "1     B   23   167.2    55.6\n",
            "2     C   28   180.5    70.8\n",
            "3     D   33   172.0    68.9\n",
            "4     E   31   165.8    60.5\n",
            "5     F   38   177.8    70.0\n",
            "6     G   40   162.3    56.1\n",
            "7     H   29   171.1    66.1\n",
            "8     I   41   183.7    78.4\n",
            "9     J   39   188.9    88.2\n",
            "10    K   35   173.4    80.5\n",
            "11    L   33   169.3    72.1\n",
            "12    M   29   170.5    65.4\n",
            "13    N   24   171.2    68.3\n"
          ]
        }
      ]
    },
    {
      "cell_type": "markdown",
      "source": [
        "引数 sep に区切り⽂字を指定。\n",
        "\n",
        "\\t はタブ⽂字を意味する。"
      ],
      "metadata": {
        "id": "6bsB1Ovs0Umo"
      }
    },
    {
      "cell_type": "markdown",
      "source": [
        "## 3-3. データの確認\n",
        "\n",
        "実際のデータの内容は⾮常に多くなるため、以下の⽅法で内容を確認することが多い。"
      ],
      "metadata": {
        "id": "KYTKKuW-0W3x"
      }
    },
    {
      "cell_type": "code",
      "source": [
        "import pandas as pd # 慣例でpdとすることが多い\n",
        "\n",
        "df = pd.read_csv('test.csv')\n",
        "\n",
        "# 形状の確認。.shapeで(行数, 列数)のタプルを取得。\n",
        "print(df.shape)\n",
        "\n",
        "# 列名の確認。.columnsで列（ヘッダー）の情報を取得。\n",
        "print(df.columns)\n",
        "\n",
        "# .head()で先頭５行のデータを確認。\n",
        "print(df.head())\n",
        "\n",
        "# .tail()で最後５行のデータを確認。\n",
        "print(df.tail())"
      ],
      "metadata": {
        "colab": {
          "base_uri": "https://localhost:8080/"
        },
        "id": "3_byKvUUz3xf",
        "outputId": "b399c39f-0f1c-4f02-aac6-c2af053888f4"
      },
      "execution_count": null,
      "outputs": [
        {
          "output_type": "stream",
          "name": "stdout",
          "text": [
            "(14, 4)\n",
            "Index(['name', 'age', 'height', 'weight'], dtype='object')\n",
            "  name  age  height  weight\n",
            "0    A   34   175.3    73.6\n",
            "1    B   23   167.2    55.6\n",
            "2    C   28   180.5    70.8\n",
            "3    D   33   172.0    68.9\n",
            "4    E   31   165.8    60.5\n",
            "   name  age  height  weight\n",
            "9     J   39   188.9    88.2\n",
            "10    K   35   173.4    80.5\n",
            "11    L   33   169.3    72.1\n",
            "12    M   29   170.5    65.4\n",
            "13    N   24   171.2    68.3\n"
          ]
        }
      ]
    },
    {
      "cell_type": "markdown",
      "source": [
        "## 3-4. データの参照"
      ],
      "metadata": {
        "id": "j8vjzdwa0i6G"
      }
    },
    {
      "cell_type": "markdown",
      "source": [
        "### ⾏データの参照\n",
        "\n",
        "⾏を参照する場合、 .loc[添字] 、 .iloc[添字] と記述することで参照できる。"
      ],
      "metadata": {
        "id": "CoRXLcT90ls5"
      }
    },
    {
      "cell_type": "code",
      "source": [
        "import pandas as pd\n",
        "\n",
        "df = pd.read_csv('test.csv')\n",
        "\n",
        "print(df.head())\n",
        "\n",
        "print(df.loc[0]) # 先頭行のデータを参照\n",
        "print(df.iloc[0]) # 先頭行のデータを参照"
      ],
      "metadata": {
        "colab": {
          "base_uri": "https://localhost:8080/"
        },
        "id": "Ch8S8Eod0fZa",
        "outputId": "82d3910d-421c-43ad-aa46-58d22c9ffd48"
      },
      "execution_count": null,
      "outputs": [
        {
          "output_type": "stream",
          "name": "stdout",
          "text": [
            "  name  age  height  weight\n",
            "0    A   34   175.3    73.6\n",
            "1    B   23   167.2    55.6\n",
            "2    C   28   180.5    70.8\n",
            "3    D   33   172.0    68.9\n",
            "4    E   31   165.8    60.5\n",
            "name          A\n",
            "age          34\n",
            "height    175.3\n",
            "weight     73.6\n",
            "Name: 0, dtype: object\n",
            "name          A\n",
            "age          34\n",
            "height    175.3\n",
            "weight     73.6\n",
            "Name: 0, dtype: object\n"
          ]
        }
      ]
    },
    {
      "cell_type": "markdown",
      "source": [
        "これだけだと同じ結果に⾒えるが、\n",
        "\n",
        "これらの違いはインデックスラベルを参照するか、\n",
        "\n",
        "⾏インデックスを参照するかの違いがある。\n",
        "\n",
        "下記のコードを実⾏して確認する。"
      ],
      "metadata": {
        "id": "7WqRnvWP0uDc"
      }
    },
    {
      "cell_type": "code",
      "source": [
        "import pandas as pd\n",
        "\n",
        "df = pd.read_csv('test.csv', index_col = 0)\n",
        "\n",
        "print(df.head())\n",
        "\n",
        "print(df.loc['A']) # 先頭行のデータを参照\n",
        "print(df.iloc[0]) # 先頭行のデータを参照\n"
      ],
      "metadata": {
        "colab": {
          "base_uri": "https://localhost:8080/"
        },
        "id": "kXQi05el0tER",
        "outputId": "1481e190-0eef-48b5-9d2b-df99afee06e7"
      },
      "execution_count": null,
      "outputs": [
        {
          "output_type": "stream",
          "name": "stdout",
          "text": [
            "      age  height  weight\n",
            "name                     \n",
            "A      34   175.3    73.6\n",
            "B      23   167.2    55.6\n",
            "C      28   180.5    70.8\n",
            "D      33   172.0    68.9\n",
            "E      31   165.8    60.5\n",
            "age        34.0\n",
            "height    175.3\n",
            "weight     73.6\n",
            "Name: A, dtype: float64\n",
            "age        34.0\n",
            "height    175.3\n",
            "weight     73.6\n",
            "Name: A, dtype: float64\n"
          ]
        }
      ]
    },
    {
      "cell_type": "markdown",
      "source": [
        "⾏インデックスは0から始まる連番で、リストのように扱える。\n",
        "\n",
        "⼀⽅、インデックスラベルは辞書のようにキーとして振舞う。\n",
        "\n",
        "なお⾏データの形式については「データの⾃作」で説明する。"
      ],
      "metadata": {
        "id": "e3igZ3ww05Dq"
      }
    },
    {
      "cell_type": "markdown",
      "source": [
        "### 列データの参照\n",
        "\n",
        "列を参照する場合は、 データフレーム['列名'] と記述することで参照できる。"
      ],
      "metadata": {
        "id": "EZhwwL5V08NV"
      }
    },
    {
      "cell_type": "code",
      "source": [
        "import pandas as pd\n",
        "\n",
        "df = pd.read_csv('test.csv')\n",
        "\n",
        "print(df['age'])"
      ],
      "metadata": {
        "colab": {
          "base_uri": "https://localhost:8080/"
        },
        "id": "NkJCwMqy01xn",
        "outputId": "8837af37-557e-47a4-9150-4283774e437b"
      },
      "execution_count": null,
      "outputs": [
        {
          "output_type": "stream",
          "name": "stdout",
          "text": [
            "0     34\n",
            "1     23\n",
            "2     28\n",
            "3     33\n",
            "4     31\n",
            "5     38\n",
            "6     40\n",
            "7     29\n",
            "8     41\n",
            "9     39\n",
            "10    35\n",
            "11    33\n",
            "12    29\n",
            "13    24\n",
            "Name: age, dtype: int64\n"
          ]
        }
      ]
    },
    {
      "cell_type": "markdown",
      "source": [
        "こちらの形式についても「データの⾃作」で説明する。"
      ],
      "metadata": {
        "id": "DEq2Ckdx1ELq"
      }
    },
    {
      "cell_type": "markdown",
      "source": [
        "### セルの参照\n",
        "\n",
        "特定のセルのデータに参照するには、\n",
        "\n",
        "⾏ → 列とたどるか、列 → ⾏と辿る２パターンある。\n"
      ],
      "metadata": {
        "id": "dMhaB_ky1Gsb"
      }
    },
    {
      "cell_type": "code",
      "source": [
        "import pandas as pd\n",
        "\n",
        "df = pd.read_csv('test.csv', index_col = 0)\n",
        "\n",
        "print(df.head())\n",
        "\n",
        "# 行 → 列の参照\n",
        "print(df.loc['C'][1])\n",
        "print(df.iloc[2][1])\n",
        "print(df.loc['C']['height'])\n",
        "print(df.iloc[2]['height'])\n",
        "\n",
        "# 列 → 行の参照\n",
        "print(df['height'][2])\n",
        "print(df['height']['C'])"
      ],
      "metadata": {
        "colab": {
          "base_uri": "https://localhost:8080/"
        },
        "id": "ze5II7H61CU8",
        "outputId": "18ed326d-2a2b-4979-dc04-b948347f076f"
      },
      "execution_count": null,
      "outputs": [
        {
          "output_type": "stream",
          "name": "stdout",
          "text": [
            "      age  height  weight\n",
            "name                     \n",
            "A      34   175.3    73.6\n",
            "B      23   167.2    55.6\n",
            "C      28   180.5    70.8\n",
            "D      33   172.0    68.9\n",
            "E      31   165.8    60.5\n",
            "180.5\n",
            "180.5\n",
            "180.5\n",
            "180.5\n",
            "180.5\n",
            "180.5\n"
          ]
        }
      ]
    },
    {
      "cell_type": "markdown",
      "source": [
        "上記のように⾏/列名やインデックスから辿ることが可能。"
      ],
      "metadata": {
        "id": "sitmqAiD1Y3m"
      }
    },
    {
      "cell_type": "markdown",
      "source": [
        "## 3-5. データの⾃作\n"
      ],
      "metadata": {
        "id": "fmjcxfPD1a8D"
      }
    },
    {
      "cell_type": "markdown",
      "source": [
        "### Series\n",
        "\n",
        "データフレームの⾏や列の型を確認すると、 Series という型であることが分かる。"
      ],
      "metadata": {
        "id": "TE0uVZqX1dHd"
      }
    },
    {
      "cell_type": "code",
      "source": [
        "import pandas as pd\n",
        "\n",
        "df = pd.read_csv('test.csv')\n",
        "\n",
        "print(type(df.iloc[0]))\n",
        "print(type(df['age']))"
      ],
      "metadata": {
        "colab": {
          "base_uri": "https://localhost:8080/"
        },
        "id": "ToMUXwrK1Wqv",
        "outputId": "94d6620a-05bb-453a-9e44-ca27937d4448"
      },
      "execution_count": null,
      "outputs": [
        {
          "output_type": "stream",
          "name": "stdout",
          "text": [
            "<class 'pandas.core.series.Series'>\n",
            "<class 'pandas.core.series.Series'>\n"
          ]
        }
      ]
    },
    {
      "cell_type": "markdown",
      "source": [
        "Seriesは1次元配列のようなオブジェクトである。\n",
        "\n",
        "Seriesを⾃作する場合、下記のように記述する。"
      ],
      "metadata": {
        "id": "ZyPEOyX51k0-"
      }
    },
    {
      "cell_type": "code",
      "source": [
        "import numpy as np\n",
        "import pandas as pd\n",
        "\n",
        "# 基本的な記述方法\n",
        "s1 = pd.Series([10, 20, 30, 40, 50])\n",
        "\n",
        "# ndarrayから生成し、indexを付与\n",
        "s2 = pd.Series(np.array([10, 20, 30, 40, 50]), index = ['A', 'B', 'C', 'D', 'E'])\n",
        "\n",
        "print(s1)\n",
        "print(s2)\n",
        "\n",
        "# リストに戻すことが可能\n",
        "print(list(s1))\n",
        "print(list(s2))\n",
        "\n",
        "# ndarrayに変換することが可能\n",
        "print(np.array(s1))\n",
        "print(np.array(s2))"
      ],
      "metadata": {
        "colab": {
          "base_uri": "https://localhost:8080/"
        },
        "id": "NpCB31351i6d",
        "outputId": "b6333905-7cb9-40be-a0c3-e7b20cf7c79c"
      },
      "execution_count": null,
      "outputs": [
        {
          "output_type": "stream",
          "name": "stdout",
          "text": [
            "0    10\n",
            "1    20\n",
            "2    30\n",
            "3    40\n",
            "4    50\n",
            "dtype: int64\n",
            "A    10\n",
            "B    20\n",
            "C    30\n",
            "D    40\n",
            "E    50\n",
            "dtype: int64\n",
            "[10, 20, 30, 40, 50]\n",
            "[10, 20, 30, 40, 50]\n",
            "[10 20 30 40 50]\n",
            "[10 20 30 40 50]\n"
          ]
        }
      ]
    },
    {
      "cell_type": "markdown",
      "source": [
        "SeriesはNumPyのndarrayがベースとなっており、演算が可能。"
      ],
      "metadata": {
        "id": "RoJ1qoLc1tzH"
      }
    },
    {
      "cell_type": "code",
      "source": [
        "import pandas as pd\n",
        "\n",
        "s1 = pd.Series([10, 20, 30, 40, 50])\n",
        "s2 = pd.Series([10, 20, 30, 40, 50], index = ['A', 'B', 'C', 'D', 'E'])\n",
        "\n",
        "print(s1 + 5)\n",
        "print(s1 * 2)\n",
        "print(s1 <= 30)"
      ],
      "metadata": {
        "colab": {
          "base_uri": "https://localhost:8080/"
        },
        "id": "e9aPbsDd1r5B",
        "outputId": "22090f2c-f621-4eb3-eca8-e4bd533b39ab"
      },
      "execution_count": null,
      "outputs": [
        {
          "output_type": "stream",
          "name": "stdout",
          "text": [
            "0    15\n",
            "1    25\n",
            "2    35\n",
            "3    45\n",
            "4    55\n",
            "dtype: int64\n",
            "0     20\n",
            "1     40\n",
            "2     60\n",
            "3     80\n",
            "4    100\n",
            "dtype: int64\n",
            "0     True\n",
            "1     True\n",
            "2     True\n",
            "3    False\n",
            "4    False\n",
            "dtype: bool\n"
          ]
        }
      ]
    },
    {
      "cell_type": "markdown",
      "source": [
        "### DataFrame\n",
        "\n",
        "ここまでに⾒た通り、DataFrameは２次元配列のようなオブジェクトである。\n",
        "\n",
        "DataFrameを⾃作する場合、下記のように記述する。"
      ],
      "metadata": {
        "id": "w4ffzmr71yIz"
      }
    },
    {
      "cell_type": "code",
      "source": [
        "import pandas as pd\n",
        "\n",
        "data = {\n",
        "  'name': ['A', 'B', 'C', 'D', 'E'],\n",
        "  'age': [34, 23, 28, 33, 31],\n",
        "  'height': [175.3, 167.2, 180.5, 172, 165.8],\n",
        "  'weight': [73.6, 55.6, 70.8, 68.9, 60.5]\n",
        "}\n",
        "\n",
        "df = pd.DataFrame(data)\n",
        "\n",
        "print(df)"
      ],
      "metadata": {
        "colab": {
          "base_uri": "https://localhost:8080/"
        },
        "id": "n3G5v81s1w3M",
        "outputId": "81c2fe85-4a62-466b-da5c-0ec67881c04e"
      },
      "execution_count": null,
      "outputs": [
        {
          "output_type": "stream",
          "name": "stdout",
          "text": [
            "  name  age  height  weight\n",
            "0    A   34   175.3    73.6\n",
            "1    B   23   167.2    55.6\n",
            "2    C   28   180.5    70.8\n",
            "3    D   33   172.0    68.9\n",
            "4    E   31   165.8    60.5\n"
          ]
        }
      ]
    },
    {
      "cell_type": "markdown",
      "source": [
        ".DataFrame に列名をキーとした辞書を渡すことでDataFrameが⽣成される。\n",
        "\n",
        "インデックスラベルを付ける場合は下記の通り。"
      ],
      "metadata": {
        "id": "jodguW1_19WR"
      }
    },
    {
      "cell_type": "code",
      "source": [
        "import pandas as pd\n",
        "\n",
        "data = {\n",
        "  'age': [34, 23, 28, 33, 31],\n",
        "  'height': [175.3, 167.2, 180.5, 172, 165.8],\n",
        "  'weight': [73.6, 55.6, 70.8, 68.9, 60.5]\n",
        "}\n",
        "\n",
        "df = pd.DataFrame(data, index = ['A', 'B', 'C', 'D', 'E'])\n",
        "\n",
        "print(df)"
      ],
      "metadata": {
        "colab": {
          "base_uri": "https://localhost:8080/"
        },
        "id": "hBDmgNRy17lR",
        "outputId": "be4f5406-9f14-47f3-fdc1-28e1d44ab82b"
      },
      "execution_count": null,
      "outputs": [
        {
          "output_type": "stream",
          "name": "stdout",
          "text": [
            "   age  height  weight\n",
            "A   34   175.3    73.6\n",
            "B   23   167.2    55.6\n",
            "C   28   180.5    70.8\n",
            "D   33   172.0    68.9\n",
            "E   31   165.8    60.5\n"
          ]
        }
      ]
    },
    {
      "cell_type": "markdown",
      "source": [
        "## 3-6. データの追加・削除"
      ],
      "metadata": {
        "id": "NRWxfbtA2F5h"
      }
    },
    {
      "cell_type": "markdown",
      "source": [
        "### ⾏の追加\n",
        "\n",
        "DataFrameに新しい⾏を追加する場合、 .append メソッドを使う。"
      ],
      "metadata": {
        "id": "VXRwhEC62Nnp"
      }
    },
    {
      "cell_type": "code",
      "source": [
        "import pandas as pd\n",
        "\n",
        "data1 = {\n",
        "  'name': ['A', 'B', 'C', 'D', 'E'],\n",
        "  'age': [34, 23, 28, 33, 31],\n",
        "  'height': [175.3, 167.2, 180.5, 172, 165.8],\n",
        "  'weight': [73.6, 55.6, 70.8, 68.9, 60.5]\n",
        "}\n",
        "\n",
        "data2 = {\n",
        "  'name': ['F', 'G'],\n",
        "  'age': [38, 40],\n",
        "  'height': [177.8, 162.3],\n",
        "  'weight': [70, 56.1]\n",
        "}\n",
        "\n",
        "df1 = pd.DataFrame(data1)\n",
        "df2 = pd.DataFrame(data2)\n",
        "\n",
        "print(df1)\n",
        "print(df2)\n",
        "\n",
        "df1 = df1.append(df2) # 追加\n",
        "\n",
        "print(df1)\n",
        "\n",
        "df1 = df1.reset_index(drop = True) # インデックスラベルの振り直し\n",
        "\n",
        "print(df1)"
      ],
      "metadata": {
        "colab": {
          "base_uri": "https://localhost:8080/"
        },
        "id": "-tTnvluE2CbN",
        "outputId": "8d754784-4ade-4be9-9109-4d2a3a0658a8"
      },
      "execution_count": null,
      "outputs": [
        {
          "output_type": "stream",
          "name": "stdout",
          "text": [
            "  name  age  height  weight\n",
            "0    A   34   175.3    73.6\n",
            "1    B   23   167.2    55.6\n",
            "2    C   28   180.5    70.8\n",
            "3    D   33   172.0    68.9\n",
            "4    E   31   165.8    60.5\n",
            "  name  age  height  weight\n",
            "0    F   38   177.8    70.0\n",
            "1    G   40   162.3    56.1\n",
            "  name  age  height  weight\n",
            "0    A   34   175.3    73.6\n",
            "1    B   23   167.2    55.6\n",
            "2    C   28   180.5    70.8\n",
            "3    D   33   172.0    68.9\n",
            "4    E   31   165.8    60.5\n",
            "0    F   38   177.8    70.0\n",
            "1    G   40   162.3    56.1\n",
            "  name  age  height  weight\n",
            "0    A   34   175.3    73.6\n",
            "1    B   23   167.2    55.6\n",
            "2    C   28   180.5    70.8\n",
            "3    D   33   172.0    68.9\n",
            "4    E   31   165.8    60.5\n",
            "5    F   38   177.8    70.0\n",
            "6    G   40   162.3    56.1\n"
          ]
        },
        {
          "output_type": "stream",
          "name": "stderr",
          "text": [
            "<ipython-input-46-1cb3db0b8308>:23: FutureWarning: The frame.append method is deprecated and will be removed from pandas in a future version. Use pandas.concat instead.\n",
            "  df1 = df1.append(df2) # 追加\n"
          ]
        }
      ]
    },
    {
      "cell_type": "markdown",
      "source": [
        "注意点として、appendメソッドはリストと違い結果を返すので再代⼊が必要となる。\n",
        "\n",
        "また、インデックスラベルがそのまま追加されるため、 .reset_index メソッドで振り直しが⾏える。\n",
        "\n",
        " drop = True は元のインデックスラベルを消す際に付けるオプション。"
      ],
      "metadata": {
        "id": "z5Q_EAOF2dVN"
      }
    },
    {
      "cell_type": "markdown",
      "source": [
        "### 列の追加\n",
        "\n",
        "DataFrameに新しい列を追加する場合は、辞書のように簡潔に記述できる。"
      ],
      "metadata": {
        "id": "oNJZVhaz2hMK"
      }
    },
    {
      "cell_type": "code",
      "source": [
        "import numpy as np\n",
        "import pandas as pd\n",
        "\n",
        "data = {\n",
        "  'name': ['A', 'B', 'C', 'D', 'E'],\n",
        "  'age': [34, 23, 28, 33, 31],\n",
        "  'height': [175.3, 167.2, 180.5, 172, 165.8],\n",
        "  'weight': [73.6, 55.6, 70.8, 68.9, 60.5]\n",
        "}\n",
        "\n",
        "df = pd.DataFrame(data)\n",
        "\n",
        "print(df)\n",
        "\n",
        "df['New Column1'] = [1, 2, 3, 4, 5]\n",
        "df['New Column2'] = np.array([1, 2, 3, 4, 5])\n",
        "\n",
        "print(df)"
      ],
      "metadata": {
        "colab": {
          "base_uri": "https://localhost:8080/"
        },
        "id": "zxyEGeoK2YPY",
        "outputId": "a1d137f2-fbff-40f8-c6ba-748cdd97909d"
      },
      "execution_count": null,
      "outputs": [
        {
          "output_type": "stream",
          "name": "stdout",
          "text": [
            "  name  age  height  weight\n",
            "0    A   34   175.3    73.6\n",
            "1    B   23   167.2    55.6\n",
            "2    C   28   180.5    70.8\n",
            "3    D   33   172.0    68.9\n",
            "4    E   31   165.8    60.5\n",
            "  name  age  height  weight  New Column1  New Column2\n",
            "0    A   34   175.3    73.6            1            1\n",
            "1    B   23   167.2    55.6            2            2\n",
            "2    C   28   180.5    70.8            3            3\n",
            "3    D   33   172.0    68.9            4            4\n",
            "4    E   31   165.8    60.5            5            5\n"
          ]
        }
      ]
    },
    {
      "cell_type": "markdown",
      "source": [
        "⾏数と同じ⻑さのリストやndarrayを⽤意し、\n",
        "\n",
        "データフレーム['追加したい列名'] = リストまたはndarray と記述することで\n",
        "\n",
        "新しい列が追加できる。"
      ],
      "metadata": {
        "id": "NIYX5bwL2q25"
      }
    },
    {
      "cell_type": "markdown",
      "source": [
        "### 削除\n",
        "\n",
        "特定の⾏や列を削除したい場合、 .drop メソッドで削除できる。"
      ],
      "metadata": {
        "id": "iQP4-UEQ2xD-"
      }
    },
    {
      "cell_type": "code",
      "source": [
        "import pandas as pd\n",
        "\n",
        "data = {\n",
        "  'name': ['A', 'B', 'C', 'D', 'E'],\n",
        "  'age': [34, 23, 28, 33, 31],\n",
        "  'height': [175.3, 167.2, 180.5, 172, 165.8],\n",
        "  'weight': [73.6, 55.6, 70.8, 68.9, 60.5]\n",
        "}\n",
        "\n",
        "df = pd.DataFrame(data)\n",
        "\n",
        "print(df)\n",
        "\n",
        "# 行の削除\n",
        "df = df.drop(2) # インデックスラベルの指定\n",
        "print(df)\n",
        "\n",
        "# 列の削除\n",
        "df = df.drop('age', axis=1)\n",
        "print(df)"
      ],
      "metadata": {
        "colab": {
          "base_uri": "https://localhost:8080/"
        },
        "id": "3fudAF502ojg",
        "outputId": "6ab29f55-1c26-4a37-f5e4-b8c39c09247b"
      },
      "execution_count": null,
      "outputs": [
        {
          "output_type": "stream",
          "name": "stdout",
          "text": [
            "  name  age  height  weight\n",
            "0    A   34   175.3    73.6\n",
            "1    B   23   167.2    55.6\n",
            "2    C   28   180.5    70.8\n",
            "3    D   33   172.0    68.9\n",
            "4    E   31   165.8    60.5\n",
            "  name  age  height  weight\n",
            "0    A   34   175.3    73.6\n",
            "1    B   23   167.2    55.6\n",
            "3    D   33   172.0    68.9\n",
            "4    E   31   165.8    60.5\n",
            "  name  height  weight\n",
            "0    A   175.3    73.6\n",
            "1    B   167.2    55.6\n",
            "3    D   172.0    68.9\n",
            "4    E   165.8    60.5\n"
          ]
        }
      ]
    },
    {
      "cell_type": "markdown",
      "source": [
        "⾏の削除はインデックスラベルである点に注意が必要。\n",
        "\n",
        "そのため、インデックスラベルが 'A', 'B', 'C',... といった場合は .drop('C') といった指定となる。"
      ],
      "metadata": {
        "id": "CUkOeIgj2-EC"
      }
    },
    {
      "cell_type": "markdown",
      "source": [
        "## 3-7. データの抽出\n",
        "\n",
        "DataFrameから特定の部分を抽出する⽅法について説明する。"
      ],
      "metadata": {
        "id": "j43Qtonp3A-C"
      }
    },
    {
      "cell_type": "markdown",
      "source": [
        "### 部分的な⾏と列の抽出\n",
        "\n",
        ".loc 、 .iloc は複数⾏の参照と列の指定も⾏える。これを利⽤し、DataFrameの中から部分的にデータを抽出することができる。\n",
        "\n",
        "下記に例を⽰す。"
      ],
      "metadata": {
        "id": "_06RhRN33GrR"
      }
    },
    {
      "cell_type": "code",
      "source": [
        "import pandas as pd\n",
        "\n",
        "df = pd.read_csv('test.csv', index_col = 0)\n",
        "\n",
        "# locによる行の抽出\n",
        "new_df = df.loc[['B', 'C', 'D']]\n",
        "print(new_df)\n",
        "\n",
        "# ilocによる行の抽出\n",
        "new_df = df.iloc[[1, 2, 3]]\n",
        "print(new_df)\n",
        "\n",
        "# locによる行と列の抽出\n",
        "new_df = df.loc[['B', 'C', 'D'], ['age', 'height']]\n",
        "print(new_df)\n",
        "\n",
        "# ilocによる行と列抽出\n",
        "new_df = df.iloc[[1, 2, 3], [0, 1]]\n",
        "print(new_df)"
      ],
      "metadata": {
        "colab": {
          "base_uri": "https://localhost:8080/"
        },
        "id": "1xzb2-o126Xa",
        "outputId": "13f043f9-b8e5-418b-98bc-87e3665c67f9"
      },
      "execution_count": null,
      "outputs": [
        {
          "output_type": "stream",
          "name": "stdout",
          "text": [
            "      age  height  weight\n",
            "name                     \n",
            "B      23   167.2    55.6\n",
            "C      28   180.5    70.8\n",
            "D      33   172.0    68.9\n",
            "      age  height  weight\n",
            "name                     \n",
            "B      23   167.2    55.6\n",
            "C      28   180.5    70.8\n",
            "D      33   172.0    68.9\n",
            "      age  height\n",
            "name             \n",
            "B      23   167.2\n",
            "C      28   180.5\n",
            "D      33   172.0\n",
            "      age  height\n",
            "name             \n",
            "B      23   167.2\n",
            "C      28   180.5\n",
            "D      33   172.0\n"
          ]
        }
      ]
    },
    {
      "cell_type": "markdown",
      "source": [
        ".loc[インデックスラベルのリスト, 列名のリスト] 、\n",
        "\n",
        " .iloc[行インデックスのリスト, 列インデックスのリスト] という記述で抽出が可能"
      ],
      "metadata": {
        "id": "--vQxv0W3SbZ"
      }
    },
    {
      "cell_type": "markdown",
      "source": [
        "### 条件抽出\n",
        "\n",
        "NumPyにおけるブールインデックス参照のように、DataFrameも真偽値のSeriesでTrueの⾏を抽出することができる。\n",
        "\n",
        "そのため、下記のように条件を記述する形でデータの抽出が⾏える。\n"
      ],
      "metadata": {
        "id": "QCA0jQe-3Wtz"
      }
    },
    {
      "cell_type": "code",
      "source": [
        "import pandas as pd\n",
        "\n",
        "df = pd.read_csv('test.csv')\n",
        "\n",
        "print(df['age'] < 30)\n",
        "\n",
        "new_df = df[df['age'] < 30]\n",
        "print(new_df)\n"
      ],
      "metadata": {
        "colab": {
          "base_uri": "https://localhost:8080/"
        },
        "id": "Q1sWILbE3O81",
        "outputId": "dd4cddd3-8d74-48bc-f7ee-450602d5f5dc"
      },
      "execution_count": null,
      "outputs": [
        {
          "output_type": "stream",
          "name": "stdout",
          "text": [
            "0     False\n",
            "1      True\n",
            "2      True\n",
            "3     False\n",
            "4     False\n",
            "5     False\n",
            "6     False\n",
            "7      True\n",
            "8     False\n",
            "9     False\n",
            "10    False\n",
            "11    False\n",
            "12     True\n",
            "13     True\n",
            "Name: age, dtype: bool\n",
            "   name  age  height  weight\n",
            "1     B   23   167.2    55.6\n",
            "2     C   28   180.5    70.8\n",
            "7     H   29   171.1    66.1\n",
            "12    M   29   170.5    65.4\n",
            "13    N   24   171.2    68.3\n"
          ]
        }
      ]
    },
    {
      "cell_type": "markdown",
      "source": [
        "## 3-8. Matplotlibとの連携\n",
        "\n",
        "Seriesもリストやndarrayと同様に、Matplotlibのデータにを使うことができる。\n"
      ],
      "metadata": {
        "id": "VeAFQwBy3ktM"
      }
    },
    {
      "cell_type": "code",
      "source": [
        "import numpy as np\n",
        "import matplotlib.pyplot as plt\n",
        "import pandas as pd\n",
        "\n",
        "df = pd.read_csv('test.csv')\n",
        "\n",
        "data = df['age']\n",
        "\n",
        "plt.xlabel('Age')\n",
        "\n",
        "plt.hist(data, bins = 5, range = (20, 45))\n",
        "\n",
        "plt.title('Histogram of Age')\n",
        "plt.show()"
      ],
      "metadata": {
        "colab": {
          "base_uri": "https://localhost:8080/",
          "height": 472
        },
        "id": "447detzo3iz-",
        "outputId": "3c8f6d7f-8fae-4f5f-ec1c-b6fc75ea043c"
      },
      "execution_count": null,
      "outputs": [
        {
          "output_type": "display_data",
          "data": {
            "text/plain": [
              "<Figure size 640x480 with 1 Axes>"
            ],
            "image/png": "[encoded data removed]"
          },
          "metadata": {}
        }
      ]
    },
    {
      "cell_type": "markdown",
      "source": [
        "## 練習問題\n"
      ],
      "metadata": {
        "id": "5uqR2qQQ3tAA"
      }
    },
    {
      "cell_type": "markdown",
      "source": [
        "### 3-1.\n",
        "\n",
        "test.csvから⾝⻑（height）が175以上を抽出したDataFrameを作成せよ。"
      ],
      "metadata": {
        "id": "Urza2BDM3vUT"
      }
    },
    {
      "cell_type": "markdown",
      "source": [
        "![image.png](data:image/png;base64,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)"
      ],
      "metadata": {
        "id": "podWV0EY4Dbv"
      }
    },
    {
      "cell_type": "markdown",
      "source": [
        "### 3-2.\n",
        "\n",
        " test.csvの⾝⻑（height）と体重（weight）の散布図を作成せよ。"
      ],
      "metadata": {
        "id": "ayR0163r34ME"
      }
    },
    {
      "cell_type": "markdown",
      "source": [
        "![image.png](data:image/png;base64,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)"
      ],
      "metadata": {
        "id": "HsuAUob44IVt"
      }
    },
    {
      "cell_type": "markdown",
      "source": [
        "# 4. 課題"
      ],
      "metadata": {
        "id": "RfbpbL5t4KG-"
      }
    },
    {
      "cell_type": "markdown",
      "source": [
        "## 課題1.\n",
        "test.csvを読み込んだ後、BMIの列を追加せよ。\n",
        "\n",
        "また、BMIが25以上の⼈を抽出せよ。\n",
        "\n",
        "BMIは　$kg÷(m×m)　$で求まる。\n",
        "\n",
        "※ test.csvのheightはcm、weightはkgとする。"
      ],
      "metadata": {
        "id": "nvvzqvws4Mdg"
      }
    },
    {
      "cell_type": "markdown",
      "source": [
        "![image.png](data:image/png;base64,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)"
      ],
      "metadata": {
        "id": "TVLOB8wT37Kl"
      }
    },
    {
      "cell_type": "markdown",
      "source": [
        "## 課題2.\n",
        "\n",
        "課題1.の結果を⽤い、BMIのヒストグラム、及びageとBMIの散布図を描画せよ。\n",
        "\n",
        "ヒストグラムは、ビンの数6、範囲19〜27とする。"
      ],
      "metadata": {
        "id": "E723MvGN4jGM"
      }
    },
    {
      "cell_type": "markdown",
      "source": [
        "![image.png](data:image/png;base64,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)"
      ],
      "metadata": {
        "id": "kAJ9wDuR4raL"
      }
    }
  ]
}