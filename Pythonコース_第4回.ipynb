{
  "nbformat": 4,
  "nbformat_minor": 0,
  "metadata": {
    "colab": {
      "provenance": []
    },
    "kernelspec": {
      "name": "python3",
      "display_name": "Python 3"
    },
    "language_info": {
      "name": "python"
    }
  },
  "cells": [
    {
      "cell_type": "markdown",
      "source": [
        "# 1. データ構造\n",
        "\n",
        "データ構造とはデータの集まりを効率的に扱うための形式のことで、今まで使っていたリストもその一つ。\n",
        "\n",
        "Pythonにはリスト以外のデータ構造も用意されているため、ここではそれらのデータ構造について紹介する。"
      ],
      "metadata": {
        "id": "0MI3ty_0srAw"
      }
    },
    {
      "cell_type": "markdown",
      "source": [
        "## 1-1. タプル\n",
        "\n",
        "タプルは (要素1, 要素2, ...) という形式で、リストとよく似たデータ構造であるが、要素の変更や追加ができない。\n",
        "\n",
        "下記に例を示す。"
      ],
      "metadata": {
        "id": "oJ-wEG48s6R0"
      }
    },
    {
      "cell_type": "code",
      "execution_count": null,
      "metadata": {
        "colab": {
          "base_uri": "https://localhost:8080/",
          "height": 284
        },
        "id": "J7pXlhqFsZbL",
        "outputId": "746646cc-532f-411a-b4cf-9981cfc7d782"
      },
      "outputs": [
        {
          "output_type": "stream",
          "name": "stdout",
          "text": [
            "(5, 3.14, 'ABC', 123)\n",
            "4\n",
            "<class 'tuple'>\n",
            "3.14\n"
          ]
        },
        {
          "output_type": "error",
          "ename": "TypeError",
          "evalue": "ignored",
          "traceback": [
            "\u001b[0;31m---------------------------------------------------------------------------\u001b[0m",
            "\u001b[0;31mTypeError\u001b[0m                                 Traceback (most recent call last)",
            "\u001b[0;32m<ipython-input-1-7f69737610f3>\u001b[0m in \u001b[0;36m<cell line: 8>\u001b[0;34m()\u001b[0m\n\u001b[1;32m      6\u001b[0m \u001b[0mprint\u001b[0m\u001b[0;34m(\u001b[0m\u001b[0mx\u001b[0m\u001b[0;34m[\u001b[0m\u001b[0;36m1\u001b[0m\u001b[0;34m]\u001b[0m\u001b[0;34m)\u001b[0m\u001b[0;34m\u001b[0m\u001b[0;34m\u001b[0m\u001b[0m\n\u001b[1;32m      7\u001b[0m \u001b[0;34m\u001b[0m\u001b[0m\n\u001b[0;32m----> 8\u001b[0;31m \u001b[0mx\u001b[0m\u001b[0;34m[\u001b[0m\u001b[0;36m1\u001b[0m\u001b[0;34m]\u001b[0m \u001b[0;34m=\u001b[0m \u001b[0;36m100\u001b[0m\u001b[0;34m\u001b[0m\u001b[0;34m\u001b[0m\u001b[0m\n\u001b[0m",
            "\u001b[0;31mTypeError\u001b[0m: 'tuple' object does not support item assignment"
          ]
        }
      ],
      "source": [
        "x = (5, 3.14, \"ABC\", 123)\n",
        "\n",
        "print(x)\n",
        "print(len(x))\n",
        "print(type(x))\n",
        "print(x[1])\n",
        "\n",
        "x[1] = 100"
      ]
    },
    {
      "cell_type": "markdown",
      "source": [
        "![image.png](data:image/png;base64,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)"
      ],
      "metadata": {
        "id": "c2VkLh_AtJWe"
      }
    },
    {
      "cell_type": "markdown",
      "source": [
        "要素の変更はできないため、 x[1] = 100 についてはエラーとなっている。\n",
        "\n",
        "なお、要素数が1つのみのタプルは計算式と区別するために下記のように記述する必要がある。"
      ],
      "metadata": {
        "id": "iM8EItrctMS5"
      }
    },
    {
      "cell_type": "code",
      "source": [
        "x = (10,)\n",
        "y = (10)\n",
        "\n",
        "print(x)\n",
        "print(y)"
      ],
      "metadata": {
        "colab": {
          "base_uri": "https://localhost:8080/"
        },
        "id": "C22waCKttKTV",
        "outputId": "c3e7f04a-eb76-4667-e77b-c724b8094361"
      },
      "execution_count": null,
      "outputs": [
        {
          "output_type": "stream",
          "name": "stdout",
          "text": [
            "(10,)\n",
            "10\n"
          ]
        }
      ]
    },
    {
      "cell_type": "markdown",
      "source": [
        "list() と同様、 tuple() も用意されている。"
      ],
      "metadata": {
        "id": "XERbD2I_tUvQ"
      }
    },
    {
      "cell_type": "code",
      "source": [
        "x = (10, 20, 30)\n",
        "y = [10, 20, 30]\n",
        "\n",
        "print(list(x))\n",
        "print(tuple(y))"
      ],
      "metadata": {
        "colab": {
          "base_uri": "https://localhost:8080/"
        },
        "id": "uBzpdduGtViD",
        "outputId": "6c72c47e-0a0e-4c3c-93c8-11ab5e27f338"
      },
      "execution_count": null,
      "outputs": [
        {
          "output_type": "stream",
          "name": "stdout",
          "text": [
            "[10, 20, 30]\n",
            "(10, 20, 30)\n"
          ]
        }
      ]
    },
    {
      "cell_type": "markdown",
      "source": [
        "タプルは (King, 13) といった、何らかの設定値や固定値のようなプログラム内で値を変えたくないときに使われる。"
      ],
      "metadata": {
        "id": "lXkAzUHTtan0"
      }
    },
    {
      "cell_type": "markdown",
      "source": [
        "### スライス\n",
        "\n",
        "スライスは、リストやタプル、文字列などの一部分を取り出す機能である。\n",
        "\n",
        "データ[n:m] という表記でn番目からm-1番目の取り出し、 データ[n:m:s] という表記でn番目からm-1番目をs個飛ばしで取り出す。\n",
        "\n",
        "また、nとmは省略可能で、それぞれ最初から、最後までという意味となる。"
      ],
      "metadata": {
        "id": "9FdO49E8tgNt"
      }
    },
    {
      "cell_type": "code",
      "source": [
        "x = [0, 1, 2, 3, 4, 5, 6, 7, 8, 9]\n",
        "y = (0, 1, 2, 3, 4, 5, 6, 7, 8, 9)\n",
        "z = \"0123456789\"\n",
        "\n",
        "print(x[0:5]) # 0番目から4番目を取り出し\n",
        "print(x[:5]) # 同上\n",
        "\n",
        "print(y[5:10]) # 5番目から9番目を取り出し\n",
        "print(y[5:len(y)]) # 同上\n",
        "print(y[5:]) # 同上\n",
        "\n",
        "print(z[0:10:2]) # 先頭から最後まで2個飛ばしで取り出し\n",
        "print(z[::2]) # 同上"
      ],
      "metadata": {
        "colab": {
          "base_uri": "https://localhost:8080/"
        },
        "id": "jsKDSrjitb3k",
        "outputId": "0c9f586b-fa91-41ca-8f68-e44e3bf1e736"
      },
      "execution_count": null,
      "outputs": [
        {
          "output_type": "stream",
          "name": "stdout",
          "text": [
            "[0, 1, 2, 3, 4]\n",
            "[0, 1, 2, 3, 4]\n",
            "(5, 6, 7, 8, 9)\n",
            "(5, 6, 7, 8, 9)\n",
            "(5, 6, 7, 8, 9)\n",
            "02468\n",
            "02468\n"
          ]
        }
      ]
    },
    {
      "cell_type": "markdown",
      "source": [
        "## 1-2. 集合\n",
        "\n",
        "集合は重複と順序づけのない要素の集まりを扱うデータ構造で、 {要素1, 要素2, ...} と記述する。\n",
        "\n",
        "下記に例を示す。"
      ],
      "metadata": {
        "id": "J2ap2J8GtwPl"
      }
    },
    {
      "cell_type": "code",
      "source": [
        "x = {5, 3.14, \"ABC\", 123}\n",
        "\n",
        "print(x)\n",
        "print(len(x))\n",
        "print(type((x)))\n",
        "\n",
        "x.add(100) # 値の追加\n",
        "x.add(100) # 重複する要素は追加されない\n",
        "print(x)\n",
        "\n",
        "x.remove(3.14) # 値の削除\n",
        "print(x)"
      ],
      "metadata": {
        "colab": {
          "base_uri": "https://localhost:8080/"
        },
        "id": "DHndoJk8tzts",
        "outputId": "05b8fc41-fef4-4010-b322-c17d83b8715b"
      },
      "execution_count": null,
      "outputs": [
        {
          "output_type": "stream",
          "name": "stdout",
          "text": [
            "{123, 3.14, 'ABC', 5}\n",
            "4\n",
            "<class 'set'>\n",
            "{3.14, 100, 'ABC', 5, 123}\n",
            "{100, 'ABC', 5, 123}\n"
          ]
        }
      ]
    },
    {
      "cell_type": "markdown",
      "source": [
        "空の集合を作る場合は、 set() を用いる。\n",
        "\n",
        "リストからの変換にも set() を利用する。"
      ],
      "metadata": {
        "id": "rpkvPdeot5Ez"
      }
    },
    {
      "cell_type": "code",
      "source": [
        "x = set()\n",
        "\n",
        "x.add(1)\n",
        "x.add(2)\n",
        "x.add(3)\n",
        "\n",
        "print(x)\n",
        "print(list(x))\n",
        "\n",
        "y = [10, 20, 30]\n",
        "y = set(y)\n",
        "print(y)"
      ],
      "metadata": {
        "colab": {
          "base_uri": "https://localhost:8080/"
        },
        "id": "XxhakOQqt3PS",
        "outputId": "399d472b-59da-43a1-8436-0b36916bd6e8"
      },
      "execution_count": null,
      "outputs": [
        {
          "output_type": "stream",
          "name": "stdout",
          "text": [
            "{1, 2, 3}\n",
            "[1, 2, 3]\n",
            "{10, 20, 30}\n"
          ]
        }
      ]
    },
    {
      "cell_type": "markdown",
      "source": [
        "その他集合の演算について下記に示す。\n",
        "\n",
        "集合は集合同士の演算がいくつかサポートされている。"
      ],
      "metadata": {
        "id": "rUVGUdaHuC6J"
      }
    },
    {
      "cell_type": "code",
      "source": [
        "x = {1, 2, 3, 4, 5, 6, 7, 8, 9, 10}\n",
        "y = {6, 7, 8, 9, 10, 11, 12, 13, 14, 15}\n",
        "\n",
        "z = x | y # 和集合\n",
        "print(z)\n",
        "\n",
        "z = x - y # 差集合\n",
        "print(z)\n",
        "\n",
        "z = x & y # 積集合\n",
        "print(z)\n",
        "\n",
        "z = x ^ y # 排他的論理和集合\n",
        "print(z)\n",
        "\n",
        "print(3 in x)\n",
        "print(3 not in y)"
      ],
      "metadata": {
        "colab": {
          "base_uri": "https://localhost:8080/"
        },
        "id": "VeK8SHk8uBJz",
        "outputId": "d5649959-f833-4627-ebfa-895d83faf5f8"
      },
      "execution_count": null,
      "outputs": [
        {
          "output_type": "stream",
          "name": "stdout",
          "text": [
            "{1, 2, 3, 4, 5, 6, 7, 8, 9, 10, 11, 12, 13, 14, 15}\n",
            "{1, 2, 3, 4, 5}\n",
            "{6, 7, 8, 9, 10}\n",
            "{1, 2, 3, 4, 5, 11, 12, 13, 14, 15}\n",
            "True\n",
            "True\n"
          ]
        }
      ]
    },
    {
      "cell_type": "markdown",
      "source": [
        "## 1-3. 辞書\n",
        "\n",
        "辞書はキーと値のペアの集まりを扱うデータ構造で、 {キー: 値, キー: 値, ...} と記述する。\n",
        "\n",
        "下記に例を示す。"
      ],
      "metadata": {
        "id": "yXnOlKtYuTWh"
      }
    },
    {
      "cell_type": "code",
      "source": [
        "x = {\n",
        "  \"key\": \"value\",\n",
        "  \"pi\": 3.14,\n",
        "  123: 456\n",
        "}\n",
        "\n",
        "print(x)\n",
        "print(len(x))\n",
        "print(type(x))\n",
        "print(x[\"key\"])\n",
        "print(x[\"pi\"])\n",
        "print(x[123])"
      ],
      "metadata": {
        "colab": {
          "base_uri": "https://localhost:8080/"
        },
        "id": "Xuh-S_MLuMcT",
        "outputId": "97a76c51-8da0-4f80-908d-dd044afd6d9b"
      },
      "execution_count": null,
      "outputs": [
        {
          "output_type": "stream",
          "name": "stdout",
          "text": [
            "{'key': 'value', 'pi': 3.14, 123: 456}\n",
            "3\n",
            "<class 'dict'>\n",
            "value\n",
            "3.14\n",
            "456\n"
          ]
        }
      ]
    },
    {
      "cell_type": "markdown",
      "source": [
        "空の辞書を作成する場合は、 {} または dict() を用いる。\n",
        "\n",
        "辞書における演算やメソッド等は下記の通り。"
      ],
      "metadata": {
        "id": "1VOgefbPudYa"
      }
    },
    {
      "cell_type": "code",
      "source": [
        "x = {}\n",
        "\n",
        "print(x)\n",
        "\n",
        "x[\"key\"] = \"value\" # キー(\"key\")に対して値(\"value\")を追加、上書き\n",
        "x[\"pi\"] = 3.14\n",
        "x[123] = 456\n",
        "\n",
        "print(x)\n",
        "\n",
        "y = x.pop(\"pi\") # キー(\"pi\")のデータを削除して取り出し\n",
        "print(y)\n",
        "print(x)\n",
        "\n",
        "print(\"key\" in x)\n",
        "print(\"pi\" not in x)\n",
        "\n",
        "print(x.keys()) # 全てのキーを取得\n",
        "print(x.values()) # 全ての値を取得\n",
        "print(x.items()) # 全てのキーと値のペアを取得\n",
        "\n",
        "for z in x: # for inではキーが取り出される\n",
        "  print(z)\n",
        "  print(x[z])"
      ],
      "metadata": {
        "colab": {
          "base_uri": "https://localhost:8080/"
        },
        "id": "UF_4o_khufOe",
        "outputId": "c96be5d3-5e2c-4687-f5af-92cb706e0a4c"
      },
      "execution_count": null,
      "outputs": [
        {
          "output_type": "stream",
          "name": "stdout",
          "text": [
            "{}\n",
            "{'key': 'value', 'pi': 3.14, 123: 456}\n",
            "3.14\n",
            "{'key': 'value', 123: 456}\n",
            "True\n",
            "True\n",
            "dict_keys(['key', 123])\n",
            "dict_values(['value', 456])\n",
            "dict_items([('key', 'value'), (123, 456)])\n",
            "key\n",
            "value\n",
            "123\n",
            "456\n"
          ]
        }
      ]
    },
    {
      "cell_type": "markdown",
      "source": [
        "## 1-4. 処理速度\n",
        "\n",
        "個数の多いデータに対して処理を行う際、同じことを行う処理でも処理速度に違いが生じる。\n",
        "\n",
        "下記は、リストと集合の in 演算の処理速度を計測するプログラム。"
      ],
      "metadata": {
        "id": "NmICsuKjupcT"
      }
    },
    {
      "cell_type": "code",
      "source": [
        "import time\n",
        "\n",
        "x = []\n",
        "y = set()\n",
        "\n",
        "# データの生成\n",
        "for i in range(1000000):\n",
        "  x.append(i)\n",
        "  y.add(i)\n",
        "\n",
        "### リストの処理速度 ###\n",
        "start = time.time()\n",
        "print(1 in x)\n",
        "end = time.time()\n",
        "print(\"{:f}[sec]\".format(end - start))\n",
        "\n",
        "start = time.time()\n",
        "print(500000 in x)\n",
        "end = time.time()\n",
        "print(\"{:f}[sec]\".format(end - start))\n",
        "\n",
        "start = time.time()\n",
        "print(999999 in x)\n",
        "end = time.time()\n",
        "print(\"{:f}[sec]\".format(end - start))\n",
        "\n",
        "### 集合の処理速度 ###\n",
        "start = time.time()\n",
        "print(1 in y)\n",
        "end = time.time()\n",
        "print(\"{:f}[sec]\".format(end - start))\n",
        "\n",
        "start = time.time()\n",
        "print(500000 in y)\n",
        "end = time.time()\n",
        "print(\"{:f}[sec]\".format(end - start))\n",
        "\n",
        "start = time.time()\n",
        "print(999999 in y)\n",
        "end = time.time()\n",
        "print(\"{:f}[sec]\".format(end - start))"
      ],
      "metadata": {
        "colab": {
          "base_uri": "https://localhost:8080/"
        },
        "id": "46X4T0fTuvW2",
        "outputId": "7d24ddb9-1d7b-4c3d-e811-7f909069898e"
      },
      "execution_count": null,
      "outputs": [
        {
          "output_type": "stream",
          "name": "stdout",
          "text": [
            "True\n",
            "0.000570[sec]\n",
            "True\n",
            "0.005159[sec]\n",
            "True\n",
            "0.012222[sec]\n",
            "True\n",
            "0.000129[sec]\n",
            "True\n",
            "0.000116[sec]\n",
            "True\n",
            "0.000113[sec]\n"
          ]
        }
      ]
    },
    {
      "cell_type": "markdown",
      "source": [
        "リストは大きい数値ほど時間がかかり、集合は変化がないことがわかる。\n",
        "\n",
        "リストの方は、 1, 2, 3, ... と線形に探索するため、大きい値にたどり着くまで時間がかかる。\n",
        "\n",
        "集合はハッシュテーブルと呼ばれる構造で実装されており、要素の探索は1〜数回で完了するように設計されている。\n",
        "\n",
        "このように、データ構造と処理方法(アルゴリズム)によって処理速度が異なる。"
      ],
      "metadata": {
        "id": "zCRjw6f7vAD4"
      }
    },
    {
      "cell_type": "markdown",
      "source": [
        "## 練習問題"
      ],
      "metadata": {
        "id": "RHjtHHU1vGIB"
      }
    },
    {
      "cell_type": "markdown",
      "source": [
        "### 1-1.\n",
        "\n",
        "2つのリストを引数として与え、ジャッカード係数を返す関数 jaccard を作成せよ。\n",
        "\n",
        "ジャッカード係数は、リストの共通要素数÷どちらかのリストに含まれる要素数で求められる。\n",
        "\n",
        "ただし、重複要素はカウントしない。"
      ],
      "metadata": {
        "id": "TACaG0eyvH-A"
      }
    },
    {
      "cell_type": "code",
      "source": [
        "### jaccard関数をここに作成\n",
        "\n",
        "\n",
        "\n",
        "# 下記のように使うことを想定\n",
        "x = [1, 2, 5, 5, 6, 8, 9]\n",
        "y = [3, 5, 7, 8, 8]\n",
        "z = jaccard(x, y)\n",
        "# 重複なし共通要素数:2\n",
        "# 重複なし全体要素数:8\n",
        "print(z) # 0.25"
      ],
      "metadata": {
        "id": "0jV7wlY4vD6W"
      },
      "execution_count": null,
      "outputs": []
    },
    {
      "cell_type": "markdown",
      "source": [
        "### 1-2.\n",
        "数値を要素として持つタプルを1つ引数として与え、その中から大きい順に5つの要素を持つタプルを返す関数 tuple_top5 を作成せよ。\n",
        "\n",
        "ただし、要素数が5に満たない場合は、要素数の分だけ返すこととする。"
      ],
      "metadata": {
        "id": "q1vO33dRvU_6"
      }
    },
    {
      "cell_type": "code",
      "source": [
        "# tuple_top5関数をここに作成\n",
        "\n",
        "\n",
        "\n",
        "# 下記のように使うことを想定\n",
        "x = (5, 1, 7, 8, 6, 3, 9, 2)\n",
        "print(touple_top5(x)) # (9, 8, 7, 6, 5)\n",
        "\n",
        "x = (1, 2, 3)\n",
        "print(touple_top5(x)) # (3, 2, 1)"
      ],
      "metadata": {
        "id": "UmgsDMDqvaOM"
      },
      "execution_count": null,
      "outputs": []
    },
    {
      "cell_type": "markdown",
      "source": [
        "### 1-3.\n",
        "\n",
        "小文字アルファベットで構成される文字列Xと暗号化ルールを意味する文字列Yが入力として与える。\n",
        "\n",
        "Yは26文字で構成されており、先頭から順に文\n",
        "字'a'を何に変換するか、文字'b'を何に変換するか、・・・、文字'z'を何に変換するか、を表現している。\n",
        "\n",
        "\n",
        "このとき、XをYに従って暗号化した文字列Zを出力するプログラムを作成せよ。(ヒント:辞書の活用)"
      ],
      "metadata": {
        "id": "0NdBoAtQvfhy"
      }
    },
    {
      "cell_type": "markdown",
      "source": [
        "X > abcxyz\n",
        "\n",
        "Y > jpzrdikuongeavtfcsmbwxhylq\n",
        "\n",
        "jpzylq"
      ],
      "metadata": {
        "id": "Lg4h816iv26j"
      }
    },
    {
      "cell_type": "markdown",
      "source": [
        "X > alphabet\n",
        "\n",
        "Y > ztsbjgxcpdhnmufailkrewvoqy\n",
        "\n",
        "znacztjr"
      ],
      "metadata": {
        "id": "ycO7ZC-nv8UL"
      }
    },
    {
      "cell_type": "markdown",
      "source": [
        "# 2. クラス\n",
        "\n",
        "Pythonでは今まで出てきた文字列、リスト、関数など、それらデータのことをオブジェクトと呼ぶ。\n",
        "\n",
        "クラスはオブジェクトの型を定義するもので、クラスをも\n",
        "とに生成されたオブジェクトのことをインスタンスと呼ぶ。\n",
        "\n",
        "以前に type() は型を取得する関数として紹介したが、その際のprintによる表示が「 class 'str'」 などとなっていた。\n",
        "\n",
        "Pythonにおける型はクラスとほぼ同義。\n"
      ],
      "metadata": {
        "id": "4h2TwcXlwA-7"
      }
    },
    {
      "cell_type": "markdown",
      "source": [
        "![image.png](data:image/png;base64,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)"
      ],
      "metadata": {
        "id": "kebtl7V7wUXY"
      }
    },
    {
      "cell_type": "markdown",
      "source": [
        "一般には特定のデータ群や処理群を一つにまとめ、より拡張性、メンテナンス性の高いプログラムの記述を可能とする。\n",
        "\n",
        "本章では、クラスの基本的な記述について紹介する。"
      ],
      "metadata": {
        "id": "tsaA-ConwW5k"
      }
    },
    {
      "cell_type": "markdown",
      "source": [
        "## 2-1. class構文\n",
        "\n",
        "クラスを定義する際には class 構文を使う。\n",
        "\n",
        "基本的な記述は下記となる。"
      ],
      "metadata": {
        "id": "RRvMvUCLwZ4K"
      }
    },
    {
      "cell_type": "markdown",
      "source": [
        "![image.png](data:image/png;base64,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)"
      ],
      "metadata": {
        "id": "UVuHp-kZwi3C"
      }
    },
    {
      "cell_type": "markdown",
      "source": [
        "具体例として、2つの数値の管理とその数値の四則演算処理を定義するクラスを下記に示す。"
      ],
      "metadata": {
        "id": "sNOSM_i3wlho"
      }
    },
    {
      "cell_type": "code",
      "source": [
        "class Calculator:\n",
        "  def __init__(self, x, y):\n",
        "    self.x = x\n",
        "    self.y = y\n",
        "  def add(self):\n",
        "    return self.x + self.y\n",
        "  def sub(self):\n",
        "    return self.x - self.y\n",
        "  def mul(self):\n",
        "    return self.x * self.y\n",
        "  def div(self):\n",
        "    return self.x / self.y\n",
        "  def set_x(self, new_x):\n",
        "    self.x = new_x\n",
        "  def set_y(self, new_y):\n",
        "    self.y = new_y\n",
        "  def get_x(self):\n",
        "    return self.x\n",
        "  def get_y(self):\n",
        "    return self.y\n",
        "\n",
        "\n",
        "# 以下利用側\n",
        "calc1 = Calculator(10, 5)\n",
        "calc2 = Calculator(20, 10)\n",
        "\n",
        "a = calc1.add()\n",
        "b = calc1.sub()\n",
        "c = calc2.mul()\n",
        "d = calc2.div()\n",
        "\n",
        "print(a)\n",
        "print(b)\n",
        "print(c)\n",
        "print(d)\n",
        "\n",
        "calc1.set_x(15)\n",
        "calc1.set_y(10)\n",
        "\n",
        "print(calc1.get_x())\n",
        "print(calc1.get_y())\n",
        "print(calc1.mul())"
      ],
      "metadata": {
        "colab": {
          "base_uri": "https://localhost:8080/"
        },
        "id": "W4C8Wa_Uv0ia",
        "outputId": "7582d309-bb22-4507-eb54-41958ca01b29"
      },
      "execution_count": null,
      "outputs": [
        {
          "output_type": "stream",
          "name": "stdout",
          "text": [
            "15\n",
            "5\n",
            "200\n",
            "2.0\n",
            "15\n",
            "10\n",
            "150\n"
          ]
        }
      ]
    },
    {
      "cell_type": "markdown",
      "source": [
        "上記プログラムを順に説明する。"
      ],
      "metadata": {
        "id": "NjnLO7qOw2zz"
      }
    },
    {
      "cell_type": "markdown",
      "source": [
        "### インスタンスの生成と初期化\n",
        "\n",
        "32-33行目にあるように、 クラス名(引数1, 引数2, ...) とすることで、インスタンスの生成が行われ、その際に __init__ メソッドが自動的に呼び出される。\n",
        "\n",
        "__init__ メソッド内では、必要に応じた初期化処理を行う。"
      ],
      "metadata": {
        "id": "MRWB3BFdw6UZ"
      }
    },
    {
      "cell_type": "markdown",
      "source": [
        "### インスタンス変数\n",
        "\n",
        "__init__ メソッドを含め、メソッドの第0引数にある self はインスタンス自身を指す。\n",
        "\n",
        "随所にあるように、 self.変数名 でインスタンス変数を作成、参照できる。\n",
        "\n",
        "この self を媒介とすることにより、各メソッドでデータを共有することができる。\n",
        "\n",
        "なお、Pythonでは慣例で self としているが、ここの名前は自由に付けることができる。"
      ],
      "metadata": {
        "id": "ZwBGiDhkxDh5"
      }
    },
    {
      "cell_type": "markdown",
      "source": [
        "### インスタンスメソッド\n",
        "\n",
        "35-38行目にあるように、 インスタンス.メソッド名(引数1, 引数2, ...) とすることで、そのインスタンスが持つメソッド呼び出す。\n",
        "\n",
        "インスタンスメソッドの構文自体は関数の構文とほぼ同じである。"
      ],
      "metadata": {
        "id": "uOz8fyhDxQa4"
      }
    },
    {
      "cell_type": "markdown",
      "source": [
        "## 2-2. 継承\n",
        "\n",
        "クラスにはコードの共通化と拡張性を高めるためにクラス継承という仕組みがある。\n",
        "\n",
        "継承を利用することでプログラムの共通化や拡張性を高めることができる。\n",
        "\n",
        "継承は下記のように、 class 子クラス(親クラス): と記述する。"
      ],
      "metadata": {
        "id": "ORTx8uaSxYQ9"
      }
    },
    {
      "cell_type": "code",
      "source": [
        "class Parent:\n",
        "  pass\n",
        "# ChildがParentを継承する\n",
        "class Child(Parent):\n",
        "  pass"
      ],
      "metadata": {
        "id": "VRCvf38iw3aM"
      },
      "execution_count": null,
      "outputs": []
    },
    {
      "cell_type": "markdown",
      "source": [
        "継承することで得られるメリットとして、共通化とオーバライドについて説明する。"
      ],
      "metadata": {
        "id": "FoqHKrofxkhc"
      }
    },
    {
      "cell_type": "markdown",
      "source": [
        "### 共通化\n",
        "\n",
        "上記のように親子関係として定義することで子クラスは親クラスのインスタンス変数やメソッドを利用することで共通化ができる。\n",
        "\n",
        "共通化について下記の例で説明する。"
      ],
      "metadata": {
        "id": "fyeHEYmQxqWy"
      }
    },
    {
      "cell_type": "code",
      "source": [
        "class Animal:\n",
        "  def __init__(self, name, cry):\n",
        "    self.name = name\n",
        "    self.cry = cry\n",
        "  def show_name(self):\n",
        "    print(\"name:\" + self.name)\n",
        "  def show_cry(self):\n",
        "    print(\"cry:\" + self.cry)\n",
        "\n",
        "class Dog(Animal):\n",
        "  def __init__(self):\n",
        "    super().__init__(\"dog\", \"bowwow\")\n",
        "\n",
        "class Cat(Animal):\n",
        "  def __init__(self):\n",
        "    super().__init__(\"cat\", \"meow\")\n",
        "\n",
        "dog = Dog()\n",
        "dog.show_name()\n",
        "dog.show_cry()\n",
        "print(\"Dog Instance variable name:\" + dog.name)\n",
        "print(\"Dog Instance variable cry:\" + dog.cry)\n",
        "\n",
        "cat = Cat()\n",
        "cat.show_name()\n",
        "cat.show_cry()\n",
        "print(\"Cat Instance variable name:\" + cat.name)\n",
        "print(\"Dog Instance variable cry:\" + cat.cry)"
      ],
      "metadata": {
        "colab": {
          "base_uri": "https://localhost:8080/"
        },
        "id": "J1u0W8y6xlVr",
        "outputId": "b7b27106-31d7-4f37-f096-614c88b3c536"
      },
      "execution_count": null,
      "outputs": [
        {
          "output_type": "stream",
          "name": "stdout",
          "text": [
            "name:dog\n",
            "cry:bowwow\n",
            "Dog Instance variable name:dog\n",
            "Dog Instance variable cry:bowwow\n",
            "name:cat\n",
            "cry:meow\n",
            "Cat Instance variable name:cat\n",
            "Dog Instance variable cry:meow\n"
          ]
        }
      ]
    },
    {
      "cell_type": "markdown",
      "source": [
        "上記プログラムを順に説明する。"
      ],
      "metadata": {
        "id": "30gy3azRx-TD"
      }
    },
    {
      "cell_type": "markdown",
      "source": [
        "### 親クラスAnimalの作成\n",
        "DogクラスとCatクラスの共通で利用するインスタンス変数 name や cry 、メソッド show_name 、 show_cry があるとする。\n",
        "\n",
        "これらを親クラスのAnimalクラスに実装する。"
      ],
      "metadata": {
        "id": "00Lfow4ZyBf_"
      }
    },
    {
      "cell_type": "markdown",
      "source": [
        "### 子クラスDog、Catの作成\n",
        "\n",
        "DogとCatはAnimalを継承して __init__ 内で初期化をする。\n",
        "\n",
        "__init__ 内で super().__init__(\"dog\", \"bowwow\") を呼び出しているが、これは親クラスの __init__ を呼び出している。\n",
        "\n",
        "特に親クラスで初期化を行わない場合は呼び出さなくてもよい。"
      ],
      "metadata": {
        "id": "g6GYVeKcyIyX"
      }
    },
    {
      "cell_type": "markdown",
      "source": [
        "### 子クラスのインスタンス生成\n",
        "\n",
        "20-30行目でDogとCatクラスを生成して、Animalクラスで共通化したメソッド呼び出しとインスタンス変数を参照している。\n",
        "\n",
        "このようにDogクラスとCatクラスの共通で利用するインスタンス変数やメソッドを共通化できる。"
      ],
      "metadata": {
        "id": "TuWExX68ySoB"
      }
    },
    {
      "cell_type": "markdown",
      "source": [
        "### オーバライド\n",
        "\n",
        "次にオーバライドについて説明する。\n",
        "オーバライドとは親クラスのメソッドを子クラスで上書きすることである。\n",
        "\n",
        "子クラスででメソッドを上書きすることでメソッドを拡張できる。"
      ],
      "metadata": {
        "id": "TfRWdy6qyY_r"
      }
    },
    {
      "cell_type": "code",
      "source": [
        "class Animal:\n",
        "  def __init__(self, name, cry):\n",
        "    self.name = name\n",
        "    self.cry = cry\n",
        "  def show_name(self):\n",
        "    print(\"name:\" + self.name)\n",
        "  def show_cry(self):\n",
        "    print(\"cry:\" + self.cry)\n",
        "\n",
        "class NoisyDog(Animal):\n",
        "  def __init__(self):\n",
        "    super().__init__(\"dog\", \"bowwow\")\n",
        "  def show_cry(self):\n",
        "    for i in range(5):\n",
        "      print(\"cry:\" + self.cry)\n",
        "\n",
        "dog = NoisyDog()\n",
        "dog.show_name()\n",
        "dog.show_cry()"
      ],
      "metadata": {
        "colab": {
          "base_uri": "https://localhost:8080/"
        },
        "id": "BcdPBJLjx-3p",
        "outputId": "f364f2b2-3779-4b84-964e-09dab7db4b9a"
      },
      "execution_count": null,
      "outputs": [
        {
          "output_type": "stream",
          "name": "stdout",
          "text": [
            "name:dog\n",
            "cry:bowwow\n",
            "cry:bowwow\n",
            "cry:bowwow\n",
            "cry:bowwow\n",
            "cry:bowwow\n"
          ]
        }
      ]
    },
    {
      "cell_type": "markdown",
      "source": [
        "上記プログラムを順に説明する。"
      ],
      "metadata": {
        "id": "KLDjp_7Oyshw"
      }
    },
    {
      "cell_type": "markdown",
      "source": [
        "### 親クラスAnimalクラス\n",
        "\n",
        "先ほどの例と同様である。"
      ],
      "metadata": {
        "id": "AzqPBfbKyuoM"
      }
    },
    {
      "cell_type": "markdown",
      "source": [
        "### 子クラスの定義とオーバライド\n",
        "\n",
        "子クラスとして NoisyDog クラスを定義している。\n",
        "\n",
        "NoisyDogクラスでは親クラスの show_cry メソッドをオーバライドして5回インスタンス変数 cry を表示するようにしている。"
      ],
      "metadata": {
        "id": "i25Xd8Q7yysH"
      }
    },
    {
      "cell_type": "markdown",
      "source": [
        "## 練習問題"
      ],
      "metadata": {
        "id": "wzqIw7syy6R5"
      }
    },
    {
      "cell_type": "markdown",
      "source": [
        "### 1-1.\n",
        "\n",
        "立方体の辺の⻑さを表す自然数を初期化時に受け取り、\n",
        "\n",
        "立方体の体積を返すインスタンスメソッド get_volume と、\n",
        "\n",
        "表面積を返すインスタンスメソッド get_surface_area を持つ\n",
        "\n",
        "クラスCubeを作成せよ。"
      ],
      "metadata": {
        "id": "pIrcMCMZy9Hc"
      }
    },
    {
      "cell_type": "code",
      "source": [
        "# Cubeクラスをここに作成\n",
        "\n",
        "\n",
        "\n",
        "# 下記のように使うことを想定\n",
        "c1 = cube(5)\n",
        "print(c1.get_volume()) # 125\n",
        "print(c1.get_surface_area()) # 150\n",
        "\n",
        "c2 = cube(10)\n",
        "print(c1.get_volume()) # 1000\n",
        "print(c1.get_surface_area()) # 600"
      ],
      "metadata": {
        "id": "IArOW66NytKV"
      },
      "execution_count": null,
      "outputs": []
    },
    {
      "cell_type": "markdown",
      "source": [
        "### 1-2.\n",
        "\n",
        "複数の商品データを管理するクラスItemDataを作成せよ。\n",
        "\n",
        "商品データは、商品名(str型)、価格(int型)で一つのセットとし、下記インスタンスメソッドを実装せよ。"
      ],
      "metadata": {
        "id": "929l82mozMZe"
      }
    },
    {
      "cell_type": "markdown",
      "source": [
        "- add_or_update(self, name, price)\n",
        "\n",
        "  1つの商品データを登録する。同名のnameがすでに登録されている場合は、登録の代わりに上書きする。\n",
        "- get_price(self, name)\n",
        "\n",
        "  商品名がnameの商品の価格を返す。nameが登録されていない場合、代わりに-1を返す。\n",
        "- get_item_count(self)\n",
        "\n",
        "  登録されている商品数を返す。"
      ],
      "metadata": {
        "id": "oOeWFbjRzTFj"
      }
    },
    {
      "cell_type": "code",
      "source": [
        "# ItemDataクラスをここに作成\n",
        "\n",
        "# 下記のように使うことを想定\n",
        "id = ItemData()\n",
        "\n",
        "id.add_or_update(\"Drink A\", 120)\n",
        "id.add_or_update(\"Drink B\", 150)\n",
        "id.add_or_update(\"Food A\", 500)\n",
        "id.add_or_update(\"Food B\", 700)\n",
        "\n",
        "print(id.get_price(\"Food A\")) # 500\n",
        "id.add_or_update(\"Food A\", 600)\n",
        "print(id.get_price(\"Food A\")) # 600\n",
        "\n",
        "print(id.get_price(\"Drink C\")) # -1\n",
        "\n",
        "print(id.get_item_count()) # 4"
      ],
      "metadata": {
        "id": "YNwaZF9lzQ_s"
      },
      "execution_count": null,
      "outputs": []
    },
    {
      "cell_type": "markdown",
      "source": [
        "# 3. 課題"
      ],
      "metadata": {
        "id": "hkWrfqvxzqng"
      }
    },
    {
      "cell_type": "markdown",
      "source": [
        "## 課題1.\n",
        "集合Xと自然数Kを引数として与え、\n",
        "\n",
        "Xの中から異なる2つの要素の和がKと等しくなる組み合わせの数を返す関数 combi を作成せよ。\n"
      ],
      "metadata": {
        "id": "OqwKlt9XztZH"
      }
    },
    {
      "cell_type": "code",
      "source": [
        "# combi関数をここに作成\n",
        "\n",
        "\n",
        "\n",
        "\n",
        "# 下記のように使うことを想定\n",
        "x = {3, 1, -1, 4, 2}\n",
        "k = 3\n",
        "y = combi(x, k)\n",
        "print(y) # 2\n",
        "# (-1, 4)と(1, 2)が該当\n",
        "x = {3, 1, -1, 4, 2}\n",
        "k = 4\n",
        "y = combi(x, k)\n",
        "print(y) # 1\n",
        "# (1, 3)が該当"
      ],
      "metadata": {
        "id": "v3W-SohvzsfZ"
      },
      "execution_count": null,
      "outputs": []
    },
    {
      "cell_type": "markdown",
      "source": [
        "## 課題2.(発展)\n",
        "\n",
        "課題1.のプログラムを改良し、集合の要素数が多くても高速に処理できるようにせよ。\n",
        "\n",
        "確認には、下記のプログラムを活用せよ。"
      ],
      "metadata": {
        "id": "QybuEt24z_c7"
      }
    },
    {
      "cell_type": "code",
      "source": [
        "import random\n",
        "import time\n",
        "\n",
        "# combi関数をここに作成\n",
        "\n",
        "\n",
        "\n",
        "# 集合の自動生成\n",
        "random.seed(123) # 乱数列を固定\n",
        "\n",
        "x = set()\n",
        "for i in range(1000000):\n",
        "  x.add(random.randint(-1000000, 1000000))\n",
        "\n",
        "# Kの設定\n",
        "k = 100\n",
        "\n",
        "# 実行時間の計測\n",
        "start = time.time()\n",
        "y = combi(x, k)\n",
        "print(y)\n",
        "end = time.time()\n",
        "print(\"{:f}[sec]\".format(end - start))"
      ],
      "metadata": {
        "id": "5G4FGDy0z7o0"
      },
      "execution_count": null,
      "outputs": []
    },
    {
      "cell_type": "markdown",
      "source": [
        "![image.png](data:image/png;base64,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)"
      ],
      "metadata": {
        "id": "aAU3vsxj0QaS"
      }
    },
    {
      "cell_type": "markdown",
      "source": [
        "処理効率の悪い実装方法だと数十時間かかる。"
      ],
      "metadata": {
        "id": "VszONIMS0S38"
      }
    },
    {
      "cell_type": "markdown",
      "source": [
        "## 課題3.\n",
        "\n",
        "コンソールにログを出力する Logger クラスがあるとする(下記参照)。\n",
        "Loggerクラスを継承してファイルにログを出力する FileLogger クラスを作成せよ。\n",
        "\n",
        "FileLoggerクラスはLoggerクラスの log(self, message) メソッドをオーバライドして、messageを logger.log ファイルに出力するものとする。"
      ],
      "metadata": {
        "id": "ulb2d3ij0VNj"
      }
    },
    {
      "cell_type": "code",
      "source": [
        "class Logger:\n",
        "  def log(self, message):\n",
        "    print(message)\n",
        "\n",
        "# ここにFileLoggerクラスを作成\n",
        "\n",
        "\n",
        "\n",
        "# 通常のLoggerクラスの場合\n",
        "logger = Logger()\n",
        "\n",
        "logger.log(\"ログ1\")\n",
        "logger.log(\"ログ2\")\n",
        "logger.log(\"ログ3\")\n",
        "# 上記はコンソールに出力される\n",
        "\n",
        "# 下記のように使うことを想定\n",
        "logger = FileLogger()\n",
        "\n",
        "logger.log(\"ログ1\")\n",
        "logger.log(\"ログ2\")\n",
        "logger.log(\"ログ3\")\n",
        "# logger.logファイルに出力される"
      ],
      "metadata": {
        "id": "WoCqwrGP0REr"
      },
      "execution_count": null,
      "outputs": []
    },
    {
      "cell_type": "markdown",
      "source": [
        "![image.png](data:image/png;base64,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)"
      ],
      "metadata": {
        "id": "rCe9l33D0nGT"
      }
    }
  ]
}