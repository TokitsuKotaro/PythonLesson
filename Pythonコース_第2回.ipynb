{
  "nbformat": 4,
  "nbformat_minor": 0,
  "metadata": {
    "colab": {
      "provenance": []
    },
    "kernelspec": {
      "name": "python3",
      "display_name": "Python 3"
    },
    "language_info": {
      "name": "python"
    }
  },
  "cells": [
    {
      "cell_type": "markdown",
      "source": [
        "# 1. リスト"
      ],
      "metadata": {
        "id": "p7kwlJME61_3"
      }
    },
    {
      "cell_type": "markdown",
      "source": [
        "リストは複数のデータをまとめて管理することができる。"
      ],
      "metadata": {
        "id": "n37EHqPb69BM"
      }
    },
    {
      "cell_type": "markdown",
      "source": [
        "## 1-1. 基本構文"
      ],
      "metadata": {
        "id": "MFLfVnx96-96"
      }
    },
    {
      "cell_type": "markdown",
      "source": [
        "基本的な記述を下記に示す。"
      ],
      "metadata": {
        "id": "rd5PDLLi7CuK"
      }
    },
    {
      "cell_type": "code",
      "source": [
        "a = 100\n",
        "# リストの生成\n",
        "x = [5, -30, \"ABC\", 'XYZ', a, a + 50]\n",
        "print(x)\n",
        "# リストの要素にアクセス\n",
        "x[0] = 100\n",
        "x[1] = 200\n",
        "print(x[0])\n",
        "print(x[1])\n",
        "print(x[4] + x[5])\n",
        "# 空のリストを作成\n",
        "y = []\n",
        "# リストに要素を追加\n",
        "y.append(1000)\n",
        "y.append(\"Hello\")\n",
        "print(y)\n",
        "# リストの要素数10で0初期化\n",
        "z = [0] * 10\n",
        "print(z)"
      ],
      "metadata": {
        "colab": {
          "base_uri": "https://localhost:8080/"
        },
        "id": "reKvcenX68R0",
        "outputId": "bed1c441-5b81-4434-8957-8f3591aeedbc"
      },
      "execution_count": null,
      "outputs": [
        {
          "output_type": "stream",
          "name": "stdout",
          "text": [
            "[5, -30, 'ABC', 'XYZ', 100, 150]\n",
            "100\n",
            "200\n",
            "250\n",
            "[1000, 'Hello']\n",
            "[0, 0, 0, 0, 0, 0, 0, 0, 0, 0]\n"
          ]
        }
      ]
    },
    {
      "cell_type": "markdown",
      "source": [
        "![image.png](data:image/png;base64,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)"
      ],
      "metadata": {
        "id": "dnb3DOxU7KoY"
      }
    },
    {
      "cell_type": "markdown",
      "source": [
        "なお、 x[1] のような構文は文字列にも用意されている。"
      ],
      "metadata": {
        "id": "VdOc6-dI7RwC"
      }
    },
    {
      "cell_type": "code",
      "source": [
        "x = \"Hello\"\n",
        "print(x[0])\n",
        "print(x[1])"
      ],
      "metadata": {
        "colab": {
          "base_uri": "https://localhost:8080/"
        },
        "id": "ib22OdIO7J7b",
        "outputId": "8a2937ad-738e-46ff-9d3c-246c9263477d"
      },
      "execution_count": null,
      "outputs": [
        {
          "output_type": "stream",
          "name": "stdout",
          "text": [
            "H\n",
            "e\n"
          ]
        }
      ]
    },
    {
      "cell_type": "markdown",
      "source": [
        "![image.png](data:image/png;base64,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)"
      ],
      "metadata": {
        "id": "QNivkKMd7Y_a"
      }
    },
    {
      "cell_type": "markdown",
      "source": [
        "## 1-2. リストの演算"
      ],
      "metadata": {
        "id": "ZqgFEHMv7aYo"
      }
    },
    {
      "cell_type": "markdown",
      "source": [
        "### 連結"
      ],
      "metadata": {
        "id": "8RBv4Gph7eNo"
      }
    },
    {
      "cell_type": "markdown",
      "source": [
        "「+」演算子でリストの連結ができる。"
      ],
      "metadata": {
        "id": "w5b_9eEA7h1c"
      }
    },
    {
      "cell_type": "code",
      "source": [
        "x = [1, 2, 3]\n",
        "y = [4, 5, 6]\n",
        "z = x + y\n",
        "print(z)"
      ],
      "metadata": {
        "colab": {
          "base_uri": "https://localhost:8080/"
        },
        "id": "SavcEBa87U54",
        "outputId": "e632559b-047f-49fa-db87-c6ffce37053c"
      },
      "execution_count": null,
      "outputs": [
        {
          "output_type": "stream",
          "name": "stdout",
          "text": [
            "[1, 2, 3, 4, 5, 6]\n"
          ]
        }
      ]
    },
    {
      "cell_type": "markdown",
      "source": [
        "![image.png](data:image/png;base64,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)"
      ],
      "metadata": {
        "id": "5e1Fd__07led"
      }
    },
    {
      "cell_type": "markdown",
      "source": [
        "### 比較演算"
      ],
      "metadata": {
        "id": "sP02EybX7qcU"
      }
    },
    {
      "cell_type": "markdown",
      "source": [
        "リスト用の比較演算として、 in 、 not in 演算子が用意されている。\n",
        "\n",
        "値 in リスト のように記述し、値がリストに含まれているかどうかを判定できる。"
      ],
      "metadata": {
        "id": "02mEANfF7t8T"
      }
    },
    {
      "cell_type": "code",
      "source": [
        "x = [2, 3, 5, 7, 11, 13, 17, 19]\n",
        "a = 7\n",
        "print(a in x)\n",
        "print(a not in x)\n",
        "if a in x:\n",
        "  # aがxに含まれているときの処理\n",
        "  pass\n",
        "if a not in x:\n",
        "  # aがxに含まれていないときの処理\n",
        "  pass"
      ],
      "metadata": {
        "colab": {
          "base_uri": "https://localhost:8080/"
        },
        "id": "OVb70nB_7kXw",
        "outputId": "87be2f0e-3e87-48c7-c2f4-0dccf9b6ad2b"
      },
      "execution_count": null,
      "outputs": [
        {
          "output_type": "stream",
          "name": "stdout",
          "text": [
            "True\n",
            "False\n"
          ]
        }
      ]
    },
    {
      "cell_type": "markdown",
      "source": [
        "![image.png](data:image/png;base64,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)"
      ],
      "metadata": {
        "id": "9szNP2hG77Cs"
      }
    },
    {
      "cell_type": "markdown",
      "source": [
        "## 1-3. 多次元リスト"
      ],
      "metadata": {
        "id": "b8lq2O6c8Fx0"
      }
    },
    {
      "cell_type": "markdown",
      "source": [
        "リストの中にリストを生成することも可能。\n",
        "\n",
        "このような構造のリストを多次元リスト(または多重リスト)と呼ぶ。"
      ],
      "metadata": {
        "id": "gtuu3iQk8Htf"
      }
    },
    {
      "cell_type": "code",
      "source": [
        "x = [\n",
        "  [1, 2, 3],\n",
        "  [4, 5, 6],\n",
        "  [7, 8, 9]\n",
        "]\n",
        "print(x)\n",
        "print(x[0][0] + x[0][1] + x[0][2]) # 1 + 2 + 3\n",
        "print(x[0][0] + x[1][0] + x[2][0]) # 1 + 4 + 7\n",
        "x.append([10, 11, 12]) # リストの追加\n",
        "print(x)"
      ],
      "metadata": {
        "colab": {
          "base_uri": "https://localhost:8080/"
        },
        "id": "ZSaYAFW37_iv",
        "outputId": "f730a369-3332-4690-b6cd-e077dd631ed6"
      },
      "execution_count": null,
      "outputs": [
        {
          "output_type": "stream",
          "name": "stdout",
          "text": [
            "[[1, 2, 3], [4, 5, 6], [7, 8, 9]]\n",
            "6\n",
            "12\n",
            "[[1, 2, 3], [4, 5, 6], [7, 8, 9], [10, 11, 12]]\n"
          ]
        }
      ]
    },
    {
      "cell_type": "markdown",
      "source": [
        "![image.png](data:image/png;base64,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)"
      ],
      "metadata": {
        "id": "P02CibRZ8Wn6"
      }
    },
    {
      "cell_type": "markdown",
      "source": [
        "# 2. 組み込み関数"
      ],
      "metadata": {
        "id": "yfQBY3pH9IjB"
      }
    },
    {
      "cell_type": "markdown",
      "source": [
        "組み込み関数は特定の処理を行うためにPythonにあらかじめ用意されている機能のこと。\n",
        "\n",
        "print 、 input 、 type 、 int 、 float 、 str なども組み込み関数の一つ。\n",
        "\n",
        "関数名(引数1, 引数2, ...) という記述をする。引数の定義(個数や型)は関数ごとに異なる。\n",
        "\n",
        "ここでは、今までに紹介されていない組み込み関数の内、一部の組み込み関数を紹介する。"
      ],
      "metadata": {
        "id": "15yDJmFp-5tc"
      }
    },
    {
      "cell_type": "markdown",
      "source": [
        "## 2-1. abs"
      ],
      "metadata": {
        "id": "blGYch5k_ixe"
      }
    },
    {
      "cell_type": "markdown",
      "source": [
        "abs関数は数値の引数を一つ取り、その絶対値を返す。"
      ],
      "metadata": {
        "id": "-FipjbRo_m3U"
      }
    },
    {
      "cell_type": "code",
      "source": [
        "x = -5\n",
        "y = 10\n",
        "z = -3.14\n",
        "print(abs(x))\n",
        "print(abs(y))\n",
        "print(abs(z))"
      ],
      "metadata": {
        "colab": {
          "base_uri": "https://localhost:8080/"
        },
        "id": "J-HVZ5NA8SQf",
        "outputId": "43b9a206-1cb2-4a50-fffb-28b2e849d847"
      },
      "execution_count": null,
      "outputs": [
        {
          "output_type": "stream",
          "name": "stdout",
          "text": [
            "5\n",
            "10\n",
            "3.14\n"
          ]
        }
      ]
    },
    {
      "cell_type": "markdown",
      "source": [
        "![image.png](data:image/png;base64,iVBORw0KGgoAAAANSUhEUgAAAzEAAABLCAYAAABAxwm6AAAAAXNSR0IArs4c6QAAAARnQU1BAACxjwv8YQUAAAAJcEhZcwAADsMAAA7DAcdvqGQAAAj+SURBVHhe7d1faJZlHwfw35yaay5tuYlGW//ULLJFohVRucCgSCtPikgCOyiICiIKKng7qYPwpJOiOsgOon+E1kEkCjakJPsDFVqrTJ2k4ZzZ5uZs09fr8t5edfOlJ3X6wOcDN899X9f93Odfrt/vuioOHhIAAABlYlTxCwAAUBaEGAAAoKwMKSfr6+uLbdu2FU8RLS0tceONNxZPEXV1dVFdXR1r166NqVOnxq5du+LXX38tZiMaGhri+uuvjy+//DIaGxtj8uTJeby1tTW2b98eN910U37+7bffYvny5fn+SGeddVY89NBDMWqUfAUAAAxV+Z9Divtsz5498fbbb8eUKVNi3759sXfv3qiqqsr3GzdujP3798fu3btj06ZNMXfu3KitrY0LL7wwLrnkknylYNPW1hbr16+Pv//+OyoqKuKLL77I/92yZUu0t7fHpEmTcvhJ8/PmzYudO3fGlVdeGbNnz44dO3bkeyEGAAAYzpCkMHHixFi0aFH88ssv+frhhx8G71NAueqqq3LASOHj448/zqGnu7t78ErPF198cf5OCiop5Nx66605oMyYMSNuu+22PJb09/fnIJN+0wpQuj9w4ECeAwAAGM6wu5Nt3bo1r5ok69ati2uvvTbfjx8/PpqamvKqzNKlS+ORRx6JDRs25NWZP//8M6+iXHHFFXH55ZfHe++9F1dffXUuNUsrLV1dXfkbyYMPPphXcz788MM4++yz8+pM+va4ceNykHniiSeisrKyeBsAAOB/hpSTJSlYpF6WtPKSQsj8+fPzfX19fS4Pe/fdd/PKyTXXXBOXXnppLidLfTJprLm5OUaPHp3f/f7772PhwoXx119/5f/V1NTkK/0v9dSkoDJ27Ni8gpPG0zdSkEkBJ5WmAQAAHGtIOVlvb2/uX0nlY2vWrMm9L2+99VZ+Ts35KWDccccdOXQcz+bNm+Prr7+OtMizevXqvBJz11135TK1dJ/CTioru/POO3OQSaEp/aZAdM8998QNN9xQfAkAAOBoQ0JMWhlJqzCpxKuzszOefPLJuOyyy+Lnn3/OJV+pn+Xcc88t3j4svTtQfpakvpi0M1kKJtOnT8/lZun/6erp6cnPqfF/1apVeeezadOmxe23356/v3LlyhyiUp8MAADAsYaUk6XSrxQuUsnXddddl8u7BnYfS8EjBZMUZNKKykUXXRRjxozJqzWpjyZtrZxWVc4///z8m3pn0ndSn0sKRqlcLI2nxv8UhFKvzXnnnZf7adJ8avyfOXNmDjppPpWgAQAAHGnYxn4AAIAz1VEhJq2YpJ4YAACAM0Gq/EoH4h9pMMSkhv10AQAAnEkmTJiQ21AGDIaYdMp+auqvq6vLEwAAAKdbWmhJZ06mjcMGHBViUuP9wGn6AAAAp1vaMbmjo+OoEDNki2UAAIAzmRADAACUFSEGAAAoK0IMAABQVoQYAACgrAgxAABAWRFiAACAsiLEAAAAZUWIAQAAykpJIeb999+PRYsW5WvJkiXR29tbzAAAAIyMioOHpJu2traorq6O2traPDGcN954I7/T3Nwco0aNikmTJkVFRUUxCwAAcHJ1dnZGR0dHNDY2FiP/opwshZ3NmzfHxIkTBRgAAGDElRRi5syZE/X19fHJJ5/E4sWLo6enp5gBAAAYGSWFmFmzZsUDDzwQzzzzTC4n27NnTzEDAAAwMkoKMTt37ozu7u5oaWnJtWkTJkwoZgAAAEZGSSFm48aN8frrr+cVmGXLlkVVVVUxAwAAMDJK2p0MAABgJJ2U3ckAAABOJyEGAAAoK0IMAABQVoQYAACgrAgxAABAWSk5xPT29g455DLtGPDjjz/m8WKzMwAAgFOipBCzYsWKWLx4cSxZsqQYiWhtbY1HH300tm3bFvfff39+BgAAOFVKCjEzZ86MF198McaMGVOMRCxfvjzuu+++mDdvXsydOzc+/fTTYgYAAODkKynETJ8+Pc4555zi6bD29vZ8QObSpUtzuEkrMgAAAKfKCTf2HzhwIAeYpqamXGpWU1NTzAAAAJx8JxxiLrjggliwYEHMnz8/1q5dG9OmTStmAAAATr6Kg8V2Ym1tbVFdXZ1Lw47n5Zdfzj0vHR0dUV9fH6+++mqMHTs2nn766ejp6Ymqqqq8KnNsyRkAAMC/kXZCTvmjsbGxGCkxxBxPX19f/nBdXV1UVFQUowAAACdmuBBzwuVkyejRo/PKjAADAACcaiclxAAAAIwUIQYAACgrQgwAAFBWhBgAAKCslBxi0k5k6YBLAACA06GkEPPRRx/FzTffHM3NzbFmzZpidKi0a3N7e3s8/vjjsXr16mL0sP3798e99977f/8PAABwPCWFmFtuuSVWrlwZb775ZrzwwgvR3d1dzBxt69at8corr0RDQ0P09vYWoxH9/f3x1FNPxbhx42Lfvn3FKAAAwD9XUohJh2Hu3bs3NmzYEE1NTfm0/uGkg2iee+65ISf3r1+/PqZMmRIzZswoRgAAAEpTck/MBx98EKtWrcqHW5bSG7Nr165YtmxZPPbYY1FZWVmMAgAAlKbkEPPwww/HSy+9FD/99FMOJkkKM52dnfn+eD777LP8zrPPPhuff/55vPPOO7Fu3bpiFgAA4J8pKcTs2LEj98GkELJly5YYP358Hv/qq69i4cKF8ccff+Tnrq6uWLFiRbS2tsY333wTLS0tsWDBgnjttdfi+eefjzlz5sTdd98ds2fPzu8DAAD8UxUH01Zih7S1teWel9ra2jwxnBRWvvvuu5g8eXIOInV1dXl89+7ducQsBZnUJ9PT0xPffvvtYLlZ6o2ZNWtWvk82bdoUNTU1g/8HAAAYTqrm6ujoyH33A0oKMQAAACNpuBBTck8MAADA6STEAAAAZUWIAQAAyooQAwAAlBUhBgAAKCtCDAAAUFaEGAAAoKwIMQAAQFkRYgAAgLIyeGL/77//Hn19fVFTU5MnAAAATreurq5IkaWhoaEYOSLE9Pf3x/bt23OQAQAAOBNUVlbG1KlT8++AwRAz4JhHAACA06qioqK4O2xIiAEAADiTaewHAADKihADAACUkYj/ArfASjVRr45QAAAAAElFTkSuQmCC)"
      ],
      "metadata": {
        "id": "cOk-N2sW_uF2"
      }
    },
    {
      "cell_type": "markdown",
      "source": [
        "## 2-2. min"
      ],
      "metadata": {
        "id": "63RAc5UE_wWP"
      }
    },
    {
      "cell_type": "markdown",
      "source": [
        "min関数は引数の最小値を返す。\n",
        "\n",
        "引数には2つ以上の数値、または要素が数値のリストを取る。"
      ],
      "metadata": {
        "id": "6NK1GaZD_zKq"
      }
    },
    {
      "cell_type": "code",
      "source": [
        "x = -5\n",
        "y = 10\n",
        "z = -3.14\n",
        "a = min(x, y, z)\n",
        "print(a)\n",
        "a = [x, y, z]\n",
        "b = min(a)\n",
        "print(b)"
      ],
      "metadata": {
        "colab": {
          "base_uri": "https://localhost:8080/"
        },
        "id": "DOI-Xs5Q_pUj",
        "outputId": "ddb52d71-7272-4f5b-9051-f25bba4f473d"
      },
      "execution_count": null,
      "outputs": [
        {
          "output_type": "stream",
          "name": "stdout",
          "text": [
            "-5\n",
            "-5\n"
          ]
        }
      ]
    },
    {
      "cell_type": "markdown",
      "source": [
        "![image.png](data:image/png;base64,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)"
      ],
      "metadata": {
        "id": "NL2gNYDy_8AE"
      }
    },
    {
      "cell_type": "markdown",
      "source": [
        "## 2-3. max"
      ],
      "metadata": {
        "id": "49txyKae_9oj"
      }
    },
    {
      "cell_type": "markdown",
      "source": [
        "max関数は引数の最大値を返す。\n",
        "\n",
        "引数には2つ以上の数値、または要素が数値のリストを取る。"
      ],
      "metadata": {
        "id": "ICH7QadaAAKz"
      }
    },
    {
      "cell_type": "code",
      "source": [
        "x = -5\n",
        "y = 10\n",
        "z = -3.14\n",
        "a = max(x, y, z)\n",
        "print(a)\n",
        "a = [x, y, z]\n",
        "b = max(a)\n",
        "print(b)"
      ],
      "metadata": {
        "colab": {
          "base_uri": "https://localhost:8080/"
        },
        "id": "CNBnMkKT_3EJ",
        "outputId": "9e468795-c167-4821-fe99-76abafbe6c50"
      },
      "execution_count": null,
      "outputs": [
        {
          "output_type": "stream",
          "name": "stdout",
          "text": [
            "10\n",
            "10\n"
          ]
        }
      ]
    },
    {
      "cell_type": "markdown",
      "source": [
        "![image.png](data:image/png;base64,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)"
      ],
      "metadata": {
        "id": "hQ9XZ01pAJXZ"
      }
    },
    {
      "cell_type": "markdown",
      "source": [
        "## 2-4. sum"
      ],
      "metadata": {
        "id": "Np_ZWkSIAOJp"
      }
    },
    {
      "cell_type": "markdown",
      "source": [
        "sum関数は要素が数値のリストを一つ引数に取り、その合計値を返す。"
      ],
      "metadata": {
        "id": "RjVrnrqYARTF"
      }
    },
    {
      "cell_type": "code",
      "source": [
        "x = [3, 5.5, -2, 2.5, 1]\n",
        "a = sum(x)\n",
        "print(a)"
      ],
      "metadata": {
        "colab": {
          "base_uri": "https://localhost:8080/"
        },
        "id": "1bow1SDYAETo",
        "outputId": "6e822c1c-9d75-478a-d300-a9b3b058b373"
      },
      "execution_count": null,
      "outputs": [
        {
          "output_type": "stream",
          "name": "stdout",
          "text": [
            "10.0\n"
          ]
        }
      ]
    },
    {
      "cell_type": "markdown",
      "source": [
        "![image.png](data:image/png;base64,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)"
      ],
      "metadata": {
        "id": "l569yVfXAcD7"
      }
    },
    {
      "cell_type": "markdown",
      "source": [
        "## 2-5. len"
      ],
      "metadata": {
        "id": "UFWnocIIAiyq"
      }
    },
    {
      "cell_type": "markdown",
      "source": [
        "len関数は1つのリストや文字列などを引数に取り、その要素数や文字列⻑を返す。"
      ],
      "metadata": {
        "id": "QuMNrPvMAlep"
      }
    },
    {
      "cell_type": "code",
      "source": [
        "x = [2, 4, 6]\n",
        "y = \"Hello\"\n",
        "a = len(x)\n",
        "b = len(y)\n",
        "print(a)\n",
        "print(b)"
      ],
      "metadata": {
        "colab": {
          "base_uri": "https://localhost:8080/"
        },
        "id": "URyfKGVPAT93",
        "outputId": "bba943df-661e-46a9-d32a-97b18cf5f792"
      },
      "execution_count": null,
      "outputs": [
        {
          "output_type": "stream",
          "name": "stdout",
          "text": [
            "3\n",
            "5\n"
          ]
        }
      ]
    },
    {
      "cell_type": "markdown",
      "source": [
        "![image.png](data:image/png;base64,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)"
      ],
      "metadata": {
        "id": "BjVopWj2Atal"
      }
    },
    {
      "cell_type": "markdown",
      "source": [
        "## 2-6. sorted"
      ],
      "metadata": {
        "id": "Fw2UvBgYAvVI"
      }
    },
    {
      "cell_type": "markdown",
      "source": [
        "sorted関数はリストなどを引数に取り、その要素を昇順や降順に並び替える。"
      ],
      "metadata": {
        "id": "Y3p2AJbTAyhI"
      }
    },
    {
      "cell_type": "code",
      "source": [
        "x = [5, 3, 7, 8, 1, 2]\n",
        "a = sorted(x) # デフォルトでは昇順に並び替え\n",
        "b = sorted(x, reverse=True) # 降順に並び替える場合の記述\n",
        "print(a)\n",
        "print(b)"
      ],
      "metadata": {
        "colab": {
          "base_uri": "https://localhost:8080/"
        },
        "id": "_CiA2AieAo_6",
        "outputId": "2310876d-4c8f-461d-e268-641e00761bb9"
      },
      "execution_count": null,
      "outputs": [
        {
          "output_type": "stream",
          "name": "stdout",
          "text": [
            "[1, 2, 3, 5, 7, 8]\n",
            "[8, 7, 5, 3, 2, 1]\n"
          ]
        }
      ]
    },
    {
      "cell_type": "markdown",
      "source": [
        "![image.png](data:image/png;base64,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)"
      ],
      "metadata": {
        "id": "950OM7jOA5Qf"
      }
    },
    {
      "cell_type": "markdown",
      "source": [
        "## 2-7. 組み込み関数と同じ変数名を使ってしまった場合"
      ],
      "metadata": {
        "id": "q5HzkDjABKiW"
      }
    },
    {
      "cell_type": "markdown",
      "source": [
        "組み込み関数は変数名として利用できてしまい、\n",
        "\n",
        "その変数に何かを代入すると組み込み関数が上書きされ利用できなくなる。"
      ],
      "metadata": {
        "id": "Le627Q5WBOpK"
      }
    },
    {
      "cell_type": "code",
      "source": [
        "max = 5\n",
        "x = [1, 4, 2, 4, 6]\n",
        "print(max(x))"
      ],
      "metadata": {
        "colab": {
          "base_uri": "https://localhost:8080/",
          "height": 213
        },
        "id": "MC1znAMyA1ox",
        "outputId": "3c99e144-77b3-49a9-bedb-698a44a9bf99"
      },
      "execution_count": null,
      "outputs": [
        {
          "output_type": "error",
          "ename": "TypeError",
          "evalue": "ignored",
          "traceback": [
            "\u001b[0;31m---------------------------------------------------------------------------\u001b[0m",
            "\u001b[0;31mTypeError\u001b[0m                                 Traceback (most recent call last)",
            "\u001b[0;32m<ipython-input-13-22f07974fbe9>\u001b[0m in \u001b[0;36m<cell line: 3>\u001b[0;34m()\u001b[0m\n\u001b[1;32m      1\u001b[0m \u001b[0mmax\u001b[0m \u001b[0;34m=\u001b[0m \u001b[0;36m5\u001b[0m\u001b[0;34m\u001b[0m\u001b[0;34m\u001b[0m\u001b[0m\n\u001b[1;32m      2\u001b[0m \u001b[0mx\u001b[0m \u001b[0;34m=\u001b[0m \u001b[0;34m[\u001b[0m\u001b[0;36m1\u001b[0m\u001b[0;34m,\u001b[0m \u001b[0;36m4\u001b[0m\u001b[0;34m,\u001b[0m \u001b[0;36m2\u001b[0m\u001b[0;34m,\u001b[0m \u001b[0;36m4\u001b[0m\u001b[0;34m,\u001b[0m \u001b[0;36m6\u001b[0m\u001b[0;34m]\u001b[0m\u001b[0;34m\u001b[0m\u001b[0;34m\u001b[0m\u001b[0m\n\u001b[0;32m----> 3\u001b[0;31m \u001b[0mprint\u001b[0m\u001b[0;34m(\u001b[0m\u001b[0mmax\u001b[0m\u001b[0;34m(\u001b[0m\u001b[0mx\u001b[0m\u001b[0;34m)\u001b[0m\u001b[0;34m)\u001b[0m\u001b[0;34m\u001b[0m\u001b[0;34m\u001b[0m\u001b[0m\n\u001b[0m",
            "\u001b[0;31mTypeError\u001b[0m: 'int' object is not callable"
          ]
        }
      ]
    },
    {
      "cell_type": "markdown",
      "source": [
        "![image.png](data:image/png;base64,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)"
      ],
      "metadata": {
        "id": "ef_uy_77BmCL"
      }
    },
    {
      "cell_type": "markdown",
      "source": [
        "その場合、該当の変数を消し、ランタイム → ランタイムの再起動で元に戻る。"
      ],
      "metadata": {
        "id": "pJuUK9k5DtLl"
      }
    },
    {
      "cell_type": "markdown",
      "source": [
        "## 練習問題"
      ],
      "metadata": {
        "id": "K9WJo-uND3hj"
      }
    },
    {
      "cell_type": "markdown",
      "source": [
        "2-1.\n",
        "\n",
        "数値を5つ入力し、入力値の最小値、最大値、および昇順に並び替えたリストを表示せよ。"
      ],
      "metadata": {
        "id": "yjrFH8iYD55K"
      }
    },
    {
      "cell_type": "markdown",
      "source": [
        "![image.png](data:image/png;base64,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)"
      ],
      "metadata": {
        "id": "clj_ZKndEEdr"
      }
    },
    {
      "cell_type": "markdown",
      "source": [
        "# 3. メソッド"
      ],
      "metadata": {
        "id": "VLMkqp1DEGn2"
      }
    },
    {
      "cell_type": "markdown",
      "source": [
        "メソッドはリストの章であった\n",
        "\n",
        "**リストデータ.append()**\n",
        "\n",
        " のように、特定の処理を行うために用意されている機能のこと。\n",
        "\n",
        "メソッドは関数と似ているが、\n",
        "\n",
        "***データ.メソッド(引数1, 引数2, ...)***\n",
        "\n",
        " のように利用する。\n",
        "\n",
        " データの型によって用意されているメソッドが異なる。\n",
        "\n",
        " ここでは、今までに紹介されていなうちの一部のメソッドを紹介する。"
      ],
      "metadata": {
        "id": "_3AbFtY-EKHu"
      }
    },
    {
      "cell_type": "markdown",
      "source": [
        "## 3-1. str型データのメソッド"
      ],
      "metadata": {
        "id": "f_6VtqKbEkXT"
      }
    },
    {
      "cell_type": "markdown",
      "source": [
        "### .lower"
      ],
      "metadata": {
        "id": "SOawSekeEnoa"
      }
    },
    {
      "cell_type": "markdown",
      "source": [
        ".lowerメソッドは小文字に変換した文字列を返す。"
      ],
      "metadata": {
        "id": "wQEF6kXeErsC"
      }
    },
    {
      "cell_type": "code",
      "source": [
        "x = \"Hello, Hello, Hello\"\n",
        "a = x.lower()\n",
        "print(a)"
      ],
      "metadata": {
        "colab": {
          "base_uri": "https://localhost:8080/"
        },
        "id": "PkUrFn1ABm2o",
        "outputId": "0b9584c5-0b04-4010-fb90-6337ffb2bbc2"
      },
      "execution_count": null,
      "outputs": [
        {
          "output_type": "stream",
          "name": "stdout",
          "text": [
            "hello, hello, hello\n"
          ]
        }
      ]
    },
    {
      "cell_type": "markdown",
      "source": [
        "![image.png](data:image/png;base64,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)"
      ],
      "metadata": {
        "id": "_xzoiAPxFErA"
      }
    },
    {
      "cell_type": "markdown",
      "source": [
        "### .upper"
      ],
      "metadata": {
        "id": "dSZ64LjSEvqM"
      }
    },
    {
      "cell_type": "markdown",
      "source": [
        ".upperメソッドは大文字に変換した文字列を返す。"
      ],
      "metadata": {
        "id": "aXlnLbq9Eyon"
      }
    },
    {
      "cell_type": "code",
      "source": [
        "x = \"Hello, Hello, Hello\"\n",
        "a = x.upper()\n",
        "print(a)"
      ],
      "metadata": {
        "colab": {
          "base_uri": "https://localhost:8080/"
        },
        "id": "ei33KAh8EuVd",
        "outputId": "3323ee5b-8f5a-4bf5-8006-2036ec050f7f"
      },
      "execution_count": null,
      "outputs": [
        {
          "output_type": "stream",
          "name": "stdout",
          "text": [
            "HELLO, HELLO, HELLO\n"
          ]
        }
      ]
    },
    {
      "cell_type": "markdown",
      "source": [
        "![image.png](data:image/png;base64,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)"
      ],
      "metadata": {
        "id": "sT1zU1o8E-S8"
      }
    },
    {
      "cell_type": "markdown",
      "source": [
        "### .count"
      ],
      "metadata": {
        "id": "32wvzT6lFHYs"
      }
    },
    {
      "cell_type": "markdown",
      "source": [
        ".countメソッドは引数で指定した部分文字列の出現回数を返す。"
      ],
      "metadata": {
        "id": "20Iw7JIoFKZF"
      }
    },
    {
      "cell_type": "code",
      "source": [
        "x = \"Hello, Hello, Hello\"\n",
        "a = x.count(\"Hello\")\n",
        "print(a)"
      ],
      "metadata": {
        "colab": {
          "base_uri": "https://localhost:8080/"
        },
        "id": "kkavXvaKE1dJ",
        "outputId": "61e9269d-f6cf-4d97-c3c4-5da68d84448e"
      },
      "execution_count": null,
      "outputs": [
        {
          "output_type": "stream",
          "name": "stdout",
          "text": [
            "3\n"
          ]
        }
      ]
    },
    {
      "cell_type": "markdown",
      "source": [
        "![image.png](data:image/png;base64,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)"
      ],
      "metadata": {
        "id": "NfjxM2V6FQ6F"
      }
    },
    {
      "cell_type": "markdown",
      "source": [
        "### .replace"
      ],
      "metadata": {
        "id": "23k0pMRKFSqv"
      }
    },
    {
      "cell_type": "markdown",
      "source": [
        ".replaceメソッドは2つの文字列を引数に取り、\n",
        "\n",
        "自身の文字列の中にある第1引数の文字列を第2引数の文字列に置換し、\n",
        "\n",
        "置換した文字列を返す。"
      ],
      "metadata": {
        "id": "YVo0086yFV8O"
      }
    },
    {
      "cell_type": "code",
      "source": [
        "x = \"Hello, Hello, Hello\"\n",
        "a = x.replace(\"Hello\", \"World\")\n",
        "print(a)"
      ],
      "metadata": {
        "colab": {
          "base_uri": "https://localhost:8080/"
        },
        "id": "0os-SgAJFNDM",
        "outputId": "2a215dfc-9fa8-4bc4-81c5-5a168a9701fa"
      },
      "execution_count": null,
      "outputs": [
        {
          "output_type": "stream",
          "name": "stdout",
          "text": [
            "World, World, World\n"
          ]
        }
      ]
    },
    {
      "cell_type": "markdown",
      "source": [
        "![image.png](data:image/png;base64,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)"
      ],
      "metadata": {
        "id": "E2QJp3WiFfj7"
      }
    },
    {
      "cell_type": "markdown",
      "source": [
        "### .is〇〇"
      ],
      "metadata": {
        "id": "AU4qfQWiFhci"
      }
    },
    {
      "cell_type": "markdown",
      "source": [
        ".is〇〇という形式で文字列の種類や状態を判定するメソッドがいくつか用意されている。\n",
        "\n",
        "結果はTrueかFalseとなる。"
      ],
      "metadata": {
        "id": "_52sntGNFnyl"
      }
    },
    {
      "cell_type": "markdown",
      "source": [
        "![image.png](data:image/png;base64,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)"
      ],
      "metadata": {
        "id": "jXXGrW8IFyya"
      }
    },
    {
      "cell_type": "code",
      "source": [
        "x = \"abc123\"\n",
        "print(x.isalnum())\n",
        "print(x.isalpha())\n",
        "print(x.isnumeric())\n",
        "print(x.islower())\n",
        "print(x.isupper())"
      ],
      "metadata": {
        "colab": {
          "base_uri": "https://localhost:8080/"
        },
        "id": "2jabA9M_Fckd",
        "outputId": "9b34e1ab-9a9b-4c3f-99e6-93b6d18b8f38"
      },
      "execution_count": null,
      "outputs": [
        {
          "output_type": "stream",
          "name": "stdout",
          "text": [
            "True\n",
            "False\n",
            "False\n",
            "True\n",
            "False\n"
          ]
        }
      ]
    },
    {
      "cell_type": "markdown",
      "source": [
        "![image.png](data:image/png;base64,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)"
      ],
      "metadata": {
        "id": "D_8PdiKfF5aQ"
      }
    },
    {
      "cell_type": "markdown",
      "source": [
        "### .split"
      ],
      "metadata": {
        "id": "LPxXFRnsF7Qw"
      }
    },
    {
      "cell_type": "markdown",
      "source": [
        ".splitメソッドは引数で指定した文字列で区切った文字列のリストを返す。"
      ],
      "metadata": {
        "id": "a0SGbAHNF9YJ"
      }
    },
    {
      "cell_type": "code",
      "source": [
        "x = \"1,2,3,4,5\"\n",
        "y = x.split(\",\")\n",
        "print(y)"
      ],
      "metadata": {
        "colab": {
          "base_uri": "https://localhost:8080/"
        },
        "id": "3Lj2r4xxF1l5",
        "outputId": "d6ed01bf-3e35-4667-c8e3-ed48e3f8070b"
      },
      "execution_count": null,
      "outputs": [
        {
          "output_type": "stream",
          "name": "stdout",
          "text": [
            "['1', '2', '3', '4', '5']\n"
          ]
        }
      ]
    },
    {
      "cell_type": "markdown",
      "source": [
        "![image.png](data:image/png;base64,iVBORw0KGgoAAAANSUhEUgAAAzUAAAAyCAYAAABlAfXJAAAAAXNSR0IArs4c6QAAAARnQU1BAACxjwv8YQUAAAAJcEhZcwAADsMAAA7DAcdvqGQAAAo6SURBVHhe7d15iFVlGMfxZxZ1VMZtxkxzd1oUtQyRFESSLJfEFmQqaLJI9B/JBBOKTAoF0UQQIZcs0FQUF0xtWsxRKZukmNRU3JccFzSdKfcZrd8z506z3Gtzb07Oge8HDnPe9565556rf5zfvO/znqRbfzMAAAAACKnk4CcAAAAAhBKhBgAAAECo1TjUXLt2LdirTLPXbt68GbSqKykpsRs3bgQts9LSUrt+/XrQAgAAAID/JmZNjcLIoUOHgpbZt99+awMHDgxaZm3atLH09HT78ssvrWPHjlZYWGh79+4NXjXLysqyJ5980rZt22YPPvig3XPPPd6/Z88eO3nypA0aNMjb+/bts0WLFvl+RQ0bNrTJkydbSkpK0AMAAAAA1cUMNRcuXLAlS5bYiBEjvL17927r3r277yuING/e3Edpzp8/7wFFIzAKQhGpqal29OhR++6776xly5bWq1cvDzSnTp2y4uJiDz2PPfaY/fbbb7Zr1y7r0aOH5efnW6dOnTwA7dixw1555RVCDQAAAIDbSpnyt2C/krS0NLvvvvts586ddvbsWSsoKLDk5GTfv/fee+3hhx/2aWfa//777/01BaGioqLyTSM0CjEKJh06dLBu3bp52NGmINSoUSN/vz/++MM6d+7sAad169YegrSvoKP3BQAAAIBYYiaGpKQkr4Vp0KCBbwomkX3VxKit0ZoFCxZYv3797OrVq3b58mUPIxpxuXLlik9JO3LkiNWrV882btxoy5cv99c0/ezTTz/1UZ7GjRvbmTNnbNOmTT6yoxEa7ev99BkAAAAA4HZihhqNwmgaWN++fX3LzMws39c0NIWOVatWeb9GUzRy07t3b+vatavX22i6mUZdNH1N4SU7O9vDjYKStkuXLvlo0Pbt230amwKR3lP9CkQ6Jjc3N/g0AAAAABBdzFCjoKGAoU01LxqBWb16dXmfXn/xxRe9oD+W/fv3248//ui1Nhs2bPDgkpOTY6NGjfLV1BScRo4c6e+jY1q1amVNmzb1qWivvfZa+WICAAAAABDLbaefacQkLy/Pzp07ZxMnTvQRmvXr13udjEZdNNJSkaaVaTGACIUfBRTV0PTp08dDzdatW23Lli1ec6P3X7dunU83U7hp3769PfXUU76a2tq1a23z5s2VFh8AAAAAgKpirn6mQPLDDz/4tDJNMYtQPc1PP/1k7dq1s7Zt23qNjI5RwDl8+LCdOHHCp541adLEj9ciAOrXMVpBLSMjw/uPHz9uPXv29Clnqs0RjQhpcYIWLVr4SJBqcjSFjcUCAAAAAMQSM9QAAAAAQBjEDDWqdwEAAACAukDlMbFWR64WalTroufNEGoAAAAA1BUKNCpbadasWdDzj2qhRqucqbBfB/OcGAAAAAB3myJLcXGxLzSmh/pXVS3UqNBfD8RUsT4AAAAA1AVagOz333+PGmpYVgwAAABAqBFqAAAAAIQaoQYAAABAqBFqAAAAAIQaoQYAAABAqBFqAAAAAIQaoQYAAABAqBFqAAAAAIQaoQYAAABAqCUcat544w175plnbO7cuUGP+RM+33rrLSspKQl6zG7evGkXLlywq1evBj1lli5dagcPHgxa8ZsxY0awV+bSpUt24MABKyws9HNG7N692z744IOgFb9PPvnE8vLyglbZefbu3WvHjh2z69evB71mV65csSlTpgSt+F28eDHq71++fNnOnz8ftMp89NFHtm3btqAVHz2Jdfz48X4+uXXrlp07d87Onj3rm64jYt26dZafnx+0yrz66qs2ePBg++qrr4IeAAAA4O5KONQ0aNDAFi1aZGPHjg16ygLMvn37/EZZdJM8btw4Gz16tG3evNn7IoqLiz0gJOrEiRPBXplp06bZ4cOHbc6cObZs2bKg1+zatWt29OjRoBW/06dPlwcA2b59u505c8Zv+CdOnFh+rUlJSXbkyBHfT0RycnLU33/77bdtzJgxlYKirr1i+IiHPu+uXbvKg59Ck95/48aNlpub62EtQgFIgbSiBQsWeJit+HkAAACAuyllSpXhAYWN+vXrW8OGDYOe6L7++msbMGBApeN0Yy+PPPKI72vr3r27paamWnp6ut1///3+uqivVatW3p+oiu/3+OOPe7tTp062cuVKGzJkiJ8/JSXFGjVqZA899FBwZPw6dOhgmZmZvt+5c2fr2LGjf3YFm+eee87Po1AiXbt29Z/x0ufU+1T8/Q0bNvj3q3+ToUOHlp9DgeSBBx6wZs2aeTseOkdpaan17t3b/w1u3Ljhgea9996zXr16lV+n6PWMjAzfIvQZfv75Z2vSpEml7x8AAACoTZolpT/sR7sHvqM1NboBz8nJKb/5VpjIysry/aoUfFq3bh204qfQUpHOqZv9b775xp544gm/eReFD40sJKp///7VAtHChQtt6tSplp2dXX6t+qmAkygFiIq/rxGSNWvW+GePXEvEoEGDPFglQoFVI2dpaWne1udWsHznnXfs/ffft+PHj3u/dOvWzcMTAAAAUJfd0VBzN2la1RdffOH1Lk8//XTQWztef/11r0tRXVBtTMNSOFOt0vPPP+91SkqkVafb3SkKovPmzbPp06fbo48+6tPLAAAAgDCp9VCjG3QFDm2ROo5YVI+jKV2JWL9+vRevz5o1q3z0JJaioiKbPXu219vEK1JD06VLFw8Et7smHav6nlOnTgU9NaOgpFEuFekrOKmuZ9WqVcGr0W3dutU2bdoUtOITuSZNKdM0OAAAACBMajXUnDx50qdUffbZZx42Jk2aFLwSnVb50speKlCPh8KJRht+/fVXGz58uG9apCAWHb9ixYpKRfE1oZv/yZMn20svveTT7HSeevXqBa9Wp+MLCgr8muKhKWITJkzw1dA0LUx1QhoZuh1dy8cffxy0ak7f+csvv2wvvPCCT3eruPADAAAAEAZJf994l/2ZPqBpTo0bN7YWLVoEPdFp6WbdcDdt2jTo+W8UNFQYr5W53n333X8dbUmURkF27NhhH374oYeAeD+/lqbWSI9GNSoukhCNlpfWamzPPvus9enTJ+i987Q62+LFi/3a3nzzzaC3ZjTSpClu+m+gBQFq8r3Pnz/f2rZt64sXAAAAAP8HDXzovlWLeFWVcHLQqgMKBp9//nnQ899oxEC1I1omubYCjejL+OWXX7zYP5FApgJ7LT7wb4FGdJ5hw4bVaqCRPXv2+MIBenZQvPRda8Wzli1b1uh7nzlzpj/7R6EOAAAAqAsSHqkBAAAAgP9LrYzUAAAAAEBdQKgBAAAAEGqEGgAAAAChRqgBAAAAEGqEGgAAAAChRqgBAAAAEGqEGgAAAAChFvU5NfXr1+c5NQAAAADqjOLiYvvzzz+jPqemWqjRA22KioqsSjcAAAAA3DVJSUmWnp5umZmZQc8/qoUaKS0ttZKSkqAFAAAAAHdXSkqKpaamBq3KooYaAAAAAAgLFgoAAAAAEGqEGgAAAAChRqgBAAAAEGJmfwGJy0bGVcYf8gAAAABJRU5ErkJggg==)"
      ],
      "metadata": {
        "id": "bLYoY_VwGItF"
      }
    },
    {
      "cell_type": "markdown",
      "source": [
        ".splitメソッドを用いることで1行で複数の入力を受け取ることが可能。"
      ],
      "metadata": {
        "id": "dIecrkpUGKtC"
      }
    },
    {
      "cell_type": "code",
      "source": [
        "# 「x y」の形式で入力し、「x + y」の結果を出力するプログラム\n",
        "line = input(\"> \").split(\" \")\n",
        "x = int(line[0])\n",
        "y = int(line[1])\n",
        "print(x + y)"
      ],
      "metadata": {
        "colab": {
          "base_uri": "https://localhost:8080/"
        },
        "id": "ZGdmXItaF_LO",
        "outputId": "9611fc39-20d6-4f6d-8338-8b9262a32123"
      },
      "execution_count": null,
      "outputs": [
        {
          "output_type": "stream",
          "name": "stdout",
          "text": [
            "> 10 5\n",
            "15\n"
          ]
        }
      ]
    },
    {
      "cell_type": "markdown",
      "source": [
        "![image.png](data:image/png;base64,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)"
      ],
      "metadata": {
        "id": "V3DeZn2iGUeJ"
      }
    },
    {
      "cell_type": "markdown",
      "source": [
        "### .join"
      ],
      "metadata": {
        "id": "3cyzXC5DGWWY"
      }
    },
    {
      "cell_type": "markdown",
      "source": [
        ".joinメソットは文字列データで構成されたリストなどの引数を一つ取り、自身の文字列で連結した文字列を返す。"
      ],
      "metadata": {
        "id": "Yd9mGEm5GYn_"
      }
    },
    {
      "cell_type": "code",
      "source": [
        "x = [\"apple\", \"banana\", \"orange\"]\n",
        "y = \" and \".join(x)\n",
        "print(y)"
      ],
      "metadata": {
        "colab": {
          "base_uri": "https://localhost:8080/"
        },
        "id": "N5gJgYZiGNiV",
        "outputId": "91f29de7-1f5a-49e2-ab22-3cab04f4f61a"
      },
      "execution_count": null,
      "outputs": [
        {
          "output_type": "stream",
          "name": "stdout",
          "text": [
            "apple and banana and orange\n"
          ]
        }
      ]
    },
    {
      "cell_type": "markdown",
      "source": [
        "![image.png](data:image/png;base64,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)"
      ],
      "metadata": {
        "id": "OtgosxPLGfCo"
      }
    },
    {
      "cell_type": "markdown",
      "source": [
        "## 3-2. list型のメソッド"
      ],
      "metadata": {
        "id": "behr-UCHGhNT"
      }
    },
    {
      "cell_type": "markdown",
      "source": [
        "### .count"
      ],
      "metadata": {
        "id": "93FtDJgWGl5V"
      }
    },
    {
      "cell_type": "markdown",
      "source": [
        ".countメソッドは引数で指定されたデータの個数を返す。"
      ],
      "metadata": {
        "id": "oKIPHJsjGn6f"
      }
    },
    {
      "cell_type": "code",
      "source": [
        "x = [2, 4, 3, 2, 4, 5, 2]\n",
        "y = x.count(2)\n",
        "print(y)"
      ],
      "metadata": {
        "colab": {
          "base_uri": "https://localhost:8080/"
        },
        "id": "JqDdDNCKGppF",
        "outputId": "c56a406b-65d1-481a-883e-705c5ad80e5a"
      },
      "execution_count": null,
      "outputs": [
        {
          "output_type": "stream",
          "name": "stdout",
          "text": [
            "3\n"
          ]
        }
      ]
    },
    {
      "cell_type": "markdown",
      "source": [
        "![image.png](data:image/png;base64,iVBORw0KGgoAAAANSUhEUgAAAzIAAAAwCAYAAADKFU+7AAAAAXNSR0IArs4c6QAAAARnQU1BAACxjwv8YQUAAAAJcEhZcwAADsMAAA7DAcdvqGQAAAWzSURBVHhe7d3da8/vHwfw14aZezbK3K2WkaLcRCREKUrhgBMHcrJSbpMjJ79/wIkTRU4crOTIXRROSKTcHChyk7Hca8w2sc2+X9fl49u+G+q38p1PPR71bu/rel+f946fva7X9S7566sAAAAoIqWFvwAAAEVDkAEAAIrOT7eWdXV1RWtra2EUcfPmzZg7d25hFDFkyJAYNGhQPHnyJIYOHZrXNzc3F55GjBgxIqqqquLRo0dRXl4eEydOzPPPnj2LpqammDVrVh5/+PAhr+lpwIABeU1JSUlhBgAA4JufBpl3797F/v37o6amJo8/ffqUA0mSni1dujQ/O3LkSOzcuTOHmBRKvhs+fHgON+fOnYvFixdHZ2dnPHjwIF6+fBltbW0xZcqUWL58ebx48SLPpfedPn06h5fq6uo4depUrF+/PgcaAACA7gb876vC/b+UlZXFuHHj4s2bN7kq8vz586ioqIjS0tKora2N2bNnx+3bt2Pt2rVx8uTJWLBgQVRWVuY16UpBZvDgwXHnzp24d+9erFq1KqZOnZrn0rV69eq8Jr3/7t270d7eHg8fPoyOjo54//59NDQ0xLx58/L/AwAA6O6Xp5a9evUqnj59mu8vX74cS5YsyfcjR46MadOm5YrL0aNHY+XKlTmMfP78OT5+/JgrM5MmTYply5bFiRMnYubMmdHY2JgDSnpnqu6kkLRu3bockM6fPx+TJ0/OW8zSfHp/+r+7du1SkQEAAHr5ZbkjBZXvuuedL1++5PGlS5fi8ePHOXikMLNmzZpYtGhRDiWpApO2jKWqSwpBo0ePzlWcFIbS2nSffpfeNWfOnBg7dmzutUnr0n2qxqR3AwAA9PTTIJOqJ8ePH4+rV6/GxYsXc4UkbSFL4wsXLsStW7di/PjxudflZ1LYSQcGpMb/9L4rV67k8JLCytmzZ3P1Jm1HS8EnVXPSQQD379+PYcOG5T6ZFIIAAAB6+mmQSWFj+/btsXnz5nw62d69e2PChAmxYsWK2LZtW66YzJgxo7D6mxRculdx0jayFHa+bw8bOHBgDj7pSj04qfcmhZV0IEAaL1y4MDZu3JjDTOqrSdvMAAAAevplRebw4cM5VGzdujX3vNTV1eVqSX19fQ4aSQo5349Ivn79epw5cyb3zyRp+1i6/97cn6ox6RjnGzduxKhRo3Jjfzq+OYWlFJBS0EnXpk2bYv78+XHt2rV82hkAAEB3v2z2BwAA+BP9MMj03CIGAADQn9IusO6fZukVZFLTfTptLJ0mBgAA8CdIIaaqqiq3rSS9gkw6OSxNjRkzpjADAADQv1IPf+qfT6cbJ72CTPpwZWroT1/nBwAA+BO0tLREU1PTP0Hmlx/EBAAA+BMJMgAAQNERZAAAgKIjyAAAAEVHkAEAAIqOIAMAABQdQQYAACg6ggwAAFB0BBkAAKDo9CnI3Lt3Lw4cOBAHDx6MhoaGwiwAAMB/o09BpqSkJFavXh3Tpk2LHTt2xOfPnwtPAAAAfr8+BZnp06dHTU1N1NbW5lADAADwX+pzj8zu3bujrq4utmzZEmVlZYVZAACA36/PQSb1yNTX18exY8fi7du3hVkAAIDfr09Bpq2tLTo7O6O1tTXa29ujtLTPeQgAAOD/1qcEcujQodiwYUPs27cv9uzZE5WVlYUnAAAAv1/JX18V7rPGxsYYNmxYVFRUFGZ+7PvPNPsDAAC/W0tLSzQ1NUV1dXUe93lPWAowQgwAANAfNLcAAABFR5ABAACKjiADAAAUHUEGAAAoOoIMAABQdAQZAACg6AgyAABA0RFkAACAovPDINPjY/8AAAD9qqurq3D3TcnX0PKv1PL69etoa2uLQYMG+XI/AADQ71Jk6ejoiPLy8qiqqspzvYJMGjY3N0d7e3thBgAAoH+lQsvo0aP/Kbb0CjIAAAB/Os3+AABA0RFkAACAIhPxN5p5+PNCDsDfAAAAAElFTkSuQmCC)"
      ],
      "metadata": {
        "id": "d3-Y-ncVGl21"
      }
    },
    {
      "cell_type": "markdown",
      "source": [
        "### .reverse"
      ],
      "metadata": {
        "id": "ZkgGDyndGxY0"
      }
    },
    {
      "cell_type": "markdown",
      "source": [
        ".reverseメソッドは自身のリストの要素を逆順にする。\n",
        "\n",
        "対象のリスト自体が書き換わる点に注意。"
      ],
      "metadata": {
        "id": "nz-2o6vWGy8S"
      }
    },
    {
      "cell_type": "code",
      "source": [
        "x = [1, 2, 3, 4, 5]\n",
        "x.reverse()\n",
        "print(x)"
      ],
      "metadata": {
        "colab": {
          "base_uri": "https://localhost:8080/"
        },
        "id": "q1g-b6_aGbWM",
        "outputId": "7d264fdf-bdc1-4ff7-a95d-9ed5d8a15f64"
      },
      "execution_count": null,
      "outputs": [
        {
          "output_type": "stream",
          "name": "stdout",
          "text": [
            "[5, 4, 3, 2, 1]\n"
          ]
        }
      ]
    },
    {
      "cell_type": "markdown",
      "source": [
        "![image.png](data:image/png;base64,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)"
      ],
      "metadata": {
        "id": "nTCLOSv0G72d"
      }
    },
    {
      "cell_type": "markdown",
      "source": [
        "### .sort"
      ],
      "metadata": {
        "id": "CSAnnDuSG-TN"
      }
    },
    {
      "cell_type": "markdown",
      "source": [
        ".sortメソッドは自身のリストの要素を昇順や降順に並び替える。\n",
        "\n",
        "対象のリスト自体が書き換わる点に注意。"
      ],
      "metadata": {
        "id": "0-VcBGpZHA6y"
      }
    },
    {
      "cell_type": "code",
      "source": [
        "x = [5, 3, 7, 8, 1, 2]\n",
        "x.sort() # x = sorted(x)\n",
        "print(x)\n",
        "x.sort(reverse=True) # x = sorted(x, reverse=True)\n",
        "print(x)"
      ],
      "metadata": {
        "colab": {
          "base_uri": "https://localhost:8080/"
        },
        "id": "iSJlm9RRG4Bi",
        "outputId": "8d80c975-4b1d-4677-8487-c3c0e3c8c8ae"
      },
      "execution_count": null,
      "outputs": [
        {
          "output_type": "stream",
          "name": "stdout",
          "text": [
            "[1, 2, 3, 5, 7, 8]\n",
            "[8, 7, 5, 3, 2, 1]\n"
          ]
        }
      ]
    },
    {
      "cell_type": "markdown",
      "source": [
        "![image.png](data:image/png;base64,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)"
      ],
      "metadata": {
        "id": "-JSu7WwoHInf"
      }
    },
    {
      "cell_type": "markdown",
      "source": [
        "### 練習問題"
      ],
      "metadata": {
        "id": "8wGAByttHKGy"
      }
    },
    {
      "cell_type": "markdown",
      "source": [
        "3-1.\n",
        "\n",
        "半角スペース区切りでいくつかの英単語を入力、\n",
        "\n",
        "その後1つ英単語を入力し、2回目で入力した英単語が\n",
        "\n",
        "1回目で入力した複数の英単語のうちいくつ一致しているか\n",
        "\n",
        "出力するプログラムを作成せよ。\n",
        "\n",
        "なお、英単語の大文字小文字は区別しないものとする。"
      ],
      "metadata": {
        "id": "iUfNx_UYHSDM"
      }
    },
    {
      "cell_type": "markdown",
      "source": [
        "![image.png](data:image/png;base64,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)"
      ],
      "metadata": {
        "id": "J4ufQ5iLHjCl"
      }
    },
    {
      "cell_type": "markdown",
      "source": [
        "# 4. 繰り返し"
      ],
      "metadata": {
        "id": "BlZ8M9Z6HnRp"
      }
    },
    {
      "cell_type": "markdown",
      "source": [
        "Pythonの繰り返し構文には while と for in が用意されている。\n",
        "\n",
        "for in は多くの言語で採用されているfor文とは勝手が違うため注意が必要。"
      ],
      "metadata": {
        "id": "_yE46cXxJsUT"
      }
    },
    {
      "cell_type": "markdown",
      "source": [
        "## 4-1. while"
      ],
      "metadata": {
        "id": "fPyVIs46JwbQ"
      }
    },
    {
      "cell_type": "markdown",
      "source": [
        "while文は「条件を満たす間繰り返す」という処理が記述できる。\n",
        "\n",
        "構文は下記の通りで、条件式の部分が True であれば処理が実行され続ける。"
      ],
      "metadata": {
        "id": "E15tqwDcJ1LD"
      }
    },
    {
      "cell_type": "markdown",
      "source": [
        "![image.png](data:image/png;base64,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)"
      ],
      "metadata": {
        "id": "cc2dz-0FJ6PQ"
      }
    },
    {
      "cell_type": "markdown",
      "source": [
        "1から10までの数値を表示するプログラムをwhileを使って記述すると下記のようになる。"
      ],
      "metadata": {
        "id": "nE4e3zCFJ84z"
      }
    },
    {
      "cell_type": "code",
      "source": [
        "x = 1\n",
        "while x <= 10:\n",
        "  print(x)\n",
        "  x += 1 # x = x + 1"
      ],
      "metadata": {
        "colab": {
          "base_uri": "https://localhost:8080/"
        },
        "id": "gT2eAiSaHFB5",
        "outputId": "08a2ed7e-fe83-4124-c284-0b6a4bfa5200"
      },
      "execution_count": null,
      "outputs": [
        {
          "output_type": "stream",
          "name": "stdout",
          "text": [
            "1\n",
            "2\n",
            "3\n",
            "4\n",
            "5\n",
            "6\n",
            "7\n",
            "8\n",
            "9\n",
            "10\n"
          ]
        }
      ]
    },
    {
      "cell_type": "markdown",
      "source": [
        "![image.png](data:image/png;base64,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)"
      ],
      "metadata": {
        "id": "wu6M2nI8KEvW"
      }
    },
    {
      "cell_type": "markdown",
      "source": [
        "![image.png](data:image/png;base64,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)"
      ],
      "metadata": {
        "id": "nHYL_9fUKOeC"
      }
    },
    {
      "cell_type": "markdown",
      "source": [
        "## 4-2. for in"
      ],
      "metadata": {
        "id": "Z6e35_bJKRCd"
      }
    },
    {
      "cell_type": "markdown",
      "source": [
        "for in文は、リストの要素や文字列の文字を一つずつ順番に取り出し、全て取り出すまで繰り返す。\n",
        "\n",
        "構文は下記の通り。"
      ],
      "metadata": {
        "id": "c5hFkPEzKWQM"
      }
    },
    {
      "cell_type": "markdown",
      "source": [
        "![image.png](data:image/png;base64,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)"
      ],
      "metadata": {
        "id": "rpkC2K-ZKdeO"
      }
    },
    {
      "cell_type": "markdown",
      "source": [
        "取り出した要素は変数に代入される。\n",
        "\n",
        "リストと文字列の要素を一つずつ取り出して表示するコードを下記に示す。"
      ],
      "metadata": {
        "id": "3HV4zV4aKfm7"
      }
    },
    {
      "cell_type": "code",
      "source": [
        "x = [5, 123, -3]\n",
        "for a in x:\n",
        "  print(a)\n",
        "\n",
        "x = \"Hello\"\n",
        "for a in x:\n",
        "  print(a)"
      ],
      "metadata": {
        "colab": {
          "base_uri": "https://localhost:8080/"
        },
        "id": "ehrfWH5RKA7v",
        "outputId": "3a206f07-1263-4c88-ca07-b97957a1cedc"
      },
      "execution_count": null,
      "outputs": [
        {
          "output_type": "stream",
          "name": "stdout",
          "text": [
            "5\n",
            "123\n",
            "-3\n",
            "H\n",
            "e\n",
            "l\n",
            "l\n",
            "o\n"
          ]
        }
      ]
    },
    {
      "cell_type": "markdown",
      "source": [
        "![image.png](data:image/png;base64,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)"
      ],
      "metadata": {
        "id": "mgSbasYWKriW"
      }
    },
    {
      "cell_type": "markdown",
      "source": [
        "for in文でn回ループを繰り返したい場合などは range() を用いる。"
      ],
      "metadata": {
        "id": "R3YbkWO6KuRC"
      }
    },
    {
      "cell_type": "code",
      "source": [
        "# 0〜4まで表示するプログラム\n",
        "for i in range(5): # [0, 1, 2, 3, 4]のようなデータが生成される。\n",
        "  print(i)"
      ],
      "metadata": {
        "colab": {
          "base_uri": "https://localhost:8080/"
        },
        "id": "TwSj_b5XKsJU",
        "outputId": "37a92110-4615-4971-c232-53f5b86c8b2c"
      },
      "execution_count": null,
      "outputs": [
        {
          "output_type": "stream",
          "name": "stdout",
          "text": [
            "0\n",
            "1\n",
            "2\n",
            "3\n",
            "4\n"
          ]
        }
      ]
    },
    {
      "cell_type": "markdown",
      "source": [
        "![image.png](data:image/png;base64,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)"
      ],
      "metadata": {
        "id": "384PZM9rK1dN"
      }
    },
    {
      "cell_type": "markdown",
      "source": [
        "### range"
      ],
      "metadata": {
        "id": "_PbT1yzPK7ul"
      }
    },
    {
      "cell_type": "markdown",
      "source": [
        "前述では0スタートだったが、\n",
        "\n",
        "range(x, y) のような書き方をすれば、\n",
        "\n",
        "xから始まり、y-1で終わるような繰り返しが記述できる。\n",
        "\n",
        "また、 range(x, y, z) のような書き方をすれば、\n",
        "\n",
        "xから始まり、z刻みでyの手前までといった繰り返しが記述できる。\n",
        "\n",
        "なお、rangeはリストに近いデータを生成するが、\n",
        "\n",
        "rangeで生成したデータは list() で型変換を行えばリストになる。"
      ],
      "metadata": {
        "id": "Ptr7cFutK-j2"
      }
    },
    {
      "cell_type": "code",
      "source": [
        "print(range(10))\n",
        "x = list(range(5, 10))\n",
        "print(x)\n",
        "x = list(range(0, 10, 2))\n",
        "print(x)"
      ],
      "metadata": {
        "colab": {
          "base_uri": "https://localhost:8080/"
        },
        "id": "iC1BXx-3K0T5",
        "outputId": "84ac069b-715c-4396-ec99-f8eb55f65fd4"
      },
      "execution_count": null,
      "outputs": [
        {
          "output_type": "stream",
          "name": "stdout",
          "text": [
            "range(0, 10)\n",
            "[5, 6, 7, 8, 9]\n",
            "[0, 2, 4, 6, 8]\n"
          ]
        }
      ]
    },
    {
      "cell_type": "markdown",
      "source": [
        "![image.png](data:image/png;base64,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)"
      ],
      "metadata": {
        "id": "dtoye5EYLRy0"
      }
    },
    {
      "cell_type": "markdown",
      "source": [
        "## 4-3. break"
      ],
      "metadata": {
        "id": "Eju5KOc4LT_F"
      }
    },
    {
      "cell_type": "markdown",
      "source": [
        "break文はif文などと組み合わせ、繰り返しの途中で処理を中断する場合に記述する。\n",
        "\n",
        "繰り返しの回数が定ってない場合などに利用する。"
      ],
      "metadata": {
        "id": "g1y82W-KLZgl"
      }
    },
    {
      "cell_type": "code",
      "source": [
        "x = input(\"> \")\n",
        "while True: # 無限ループ\n",
        "  print(\"最初に入力した文字列と同じ文字列を入力してください\")\n",
        "  y = input(\"> \")\n",
        "  if x == y:\n",
        "    print(\"一致しました\")\n",
        "    break\n",
        "  else:\n",
        "    print(\"一致しません\")"
      ],
      "metadata": {
        "colab": {
          "base_uri": "https://localhost:8080/"
        },
        "id": "Novjl_sbLNvO",
        "outputId": "8edac514-a018-4e08-f580-7a724309bdfd"
      },
      "execution_count": null,
      "outputs": [
        {
          "output_type": "stream",
          "name": "stdout",
          "text": [
            "> abc\n",
            "最初に入力した文字列と同じ文字列を入力してください\n",
            "> dsa\n",
            "一致しません\n",
            "最初に入力した文字列と同じ文字列を入力してください\n",
            "> abc\n",
            "一致しました\n"
          ]
        }
      ]
    },
    {
      "cell_type": "markdown",
      "source": [
        "![image.png](data:image/png;base64,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)"
      ],
      "metadata": {
        "id": "L7Ll9bHkLs73"
      }
    },
    {
      "cell_type": "markdown",
      "source": [
        "## 4-4. continue"
      ],
      "metadata": {
        "id": "8sgQCBcyLuwM"
      }
    },
    {
      "cell_type": "markdown",
      "source": [
        "continue文はif文などと組み合わせ、\n",
        "\n",
        "continue以降の処理をスキップして先頭に戻りたい場合に利用する。"
      ],
      "metadata": {
        "id": "wzdPxZeyLymS"
      }
    },
    {
      "cell_type": "code",
      "source": [
        "# 0〜9の中で3で割り切れない数値を表示するプログラム\n",
        "for i in range(10):\n",
        "  if i % 3 == 0:\n",
        "    continue\n",
        "  print(i)"
      ],
      "metadata": {
        "colab": {
          "base_uri": "https://localhost:8080/"
        },
        "id": "5Ty2IfWTLl9h",
        "outputId": "3462e243-3f95-41bf-d281-3fbcdfe23e74"
      },
      "execution_count": null,
      "outputs": [
        {
          "output_type": "stream",
          "name": "stdout",
          "text": [
            "1\n",
            "2\n",
            "4\n",
            "5\n",
            "7\n",
            "8\n"
          ]
        }
      ]
    },
    {
      "cell_type": "markdown",
      "source": [
        "![image.png](data:image/png;base64,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)"
      ],
      "metadata": {
        "id": "CbzTyO84L-4M"
      }
    },
    {
      "cell_type": "markdown",
      "source": [
        "## 4-5. 多重ループ"
      ],
      "metadata": {
        "id": "BISL_382MA2h"
      }
    },
    {
      "cell_type": "markdown",
      "source": [
        "if文のネスト同様、繰り返し処理の中に別の繰り返し処理を\n",
        "\n",
        "記述することができ、より複雑な処理を記述できる。\n",
        "\n",
        "繰り返しが2つネストされていると二重ループ、\n",
        "\n",
        "3つネストされていると三重ループと呼び、\n",
        "\n",
        "そのような構造をまとめて多重ループと呼ぶ。"
      ],
      "metadata": {
        "id": "C-s0oRe9MFDr"
      }
    },
    {
      "cell_type": "code",
      "source": [
        "for i in range(3):\n",
        "  for j in range(4):\n",
        "    print(str(i) + \", \" + str(j)) # i, jを表示"
      ],
      "metadata": {
        "colab": {
          "base_uri": "https://localhost:8080/"
        },
        "id": "sTK80F08L_fm",
        "outputId": "0cf32f2d-a01c-4c9a-d407-660182cc774e"
      },
      "execution_count": null,
      "outputs": [
        {
          "output_type": "stream",
          "name": "stdout",
          "text": [
            "0, 0\n",
            "0, 1\n",
            "0, 2\n",
            "0, 3\n",
            "1, 0\n",
            "1, 1\n",
            "1, 2\n",
            "1, 3\n",
            "2, 0\n",
            "2, 1\n",
            "2, 2\n",
            "2, 3\n"
          ]
        }
      ]
    },
    {
      "cell_type": "markdown",
      "source": [
        "![image.png](data:image/png;base64,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)"
      ],
      "metadata": {
        "id": "De3bVA_8MU6t"
      }
    },
    {
      "cell_type": "markdown",
      "source": [
        "## 練習問題"
      ],
      "metadata": {
        "id": "vBMdULM9MW0i"
      }
    },
    {
      "cell_type": "markdown",
      "source": [
        "### 4-1."
      ],
      "metadata": {
        "id": "B4eIuqxAMgIn"
      }
    },
    {
      "cell_type": "markdown",
      "source": [
        "整数を1つ入力し、その値から0までを降順に表示するプログラムを作成せよ。"
      ],
      "metadata": {
        "id": "XmVcIdS3MmGs"
      }
    },
    {
      "cell_type": "markdown",
      "source": [
        "![image.png](data:image/png;base64,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)"
      ],
      "metadata": {
        "id": "fbfsyHiKMuYt"
      }
    },
    {
      "cell_type": "markdown",
      "source": [
        "### 4-2."
      ],
      "metadata": {
        "id": "WTlhkjGpMvuZ"
      }
    },
    {
      "cell_type": "markdown",
      "source": [
        "自然数を1つ入力し、1からその値までの中で奇数のみを昇順に表示するプログラムを作成せよ。"
      ],
      "metadata": {
        "id": "dRB4mMrLMzha"
      }
    },
    {
      "cell_type": "markdown",
      "source": [
        "![image.png](data:image/png;base64,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)"
      ],
      "metadata": {
        "id": "VBZezhwjM5a0"
      }
    },
    {
      "cell_type": "markdown",
      "source": [
        "### 4-3."
      ],
      "metadata": {
        "id": "NtOeJTDHM7Vh"
      }
    },
    {
      "cell_type": "markdown",
      "source": [
        "2つの整数のペアを 個入力し、各ペアの絶対差(差の絶対値)の中で\n",
        "\n",
        "最大となる絶対差を出力するプログラムを作成せよ。\n",
        "\n",
        "入力は1行目に 、2行目以降にN個のペアを入力するものとする。"
      ],
      "metadata": {
        "id": "xubhXUjKM90t"
      }
    },
    {
      "cell_type": "markdown",
      "source": [
        "![image.png](data:image/png;base64,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)"
      ],
      "metadata": {
        "id": "YNzY77S8NKhP"
      }
    },
    {
      "cell_type": "markdown",
      "source": [
        "### 4-4."
      ],
      "metadata": {
        "id": "14VhhUYrNNHC"
      }
    },
    {
      "cell_type": "markdown",
      "source": [
        "文字 + と文字 # で構成された⻑さWの文字列をH行入力し、\n",
        "\n",
        "+と # を反転させた文字列を出力するプログラムを作成せよ。\n",
        "\n",
        "入力は1行目に 、2行目以降に 個の文字列を入力するものとする。"
      ],
      "metadata": {
        "id": "c5xxHoVbNRaR"
      }
    },
    {
      "cell_type": "markdown",
      "source": [
        "![image.png](data:image/png;base64,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)"
      ],
      "metadata": {
        "id": "izyLiljzNh9Z"
      }
    },
    {
      "cell_type": "markdown",
      "source": [
        "### 4-5."
      ],
      "metadata": {
        "id": "kATUZVrWNk1S"
      }
    },
    {
      "cell_type": "markdown",
      "source": [
        "0〜27の整数を1つ入力し、その値と0〜9までの\n",
        "\n",
        "3つの整数の和が等しくなる組み合わせを全て出力するプログラムを作成せよ。"
      ],
      "metadata": {
        "id": "wZ-6Kl23No43"
      }
    },
    {
      "cell_type": "markdown",
      "source": [
        "![image.png](data:image/png;base64,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)"
      ],
      "metadata": {
        "id": "NZRblt5GNw73"
      }
    },
    {
      "cell_type": "markdown",
      "source": [
        "# 5. 課題"
      ],
      "metadata": {
        "id": "FE1uGcmHNz41"
      }
    },
    {
      "cell_type": "markdown",
      "source": [
        "## 課題1."
      ],
      "metadata": {
        "id": "wff8fIURN2j8"
      }
    },
    {
      "cell_type": "markdown",
      "source": [
        "X行Y列からなるスペース区切りの数値データを入力し、\n",
        "\n",
        "各行の最大値と全体の最大を出力するプログラムを作成せよ。"
      ],
      "metadata": {
        "id": "BO_N1Tv3N4OZ"
      }
    },
    {
      "cell_type": "markdown",
      "source": [
        "![image.png](data:image/png;base64,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)"
      ],
      "metadata": {
        "id": "8uLdZ6GPOBAH"
      }
    },
    {
      "cell_type": "markdown",
      "source": [
        "## 課題2."
      ],
      "metadata": {
        "id": "ix959r0cODGA"
      }
    },
    {
      "cell_type": "markdown",
      "source": [
        "X行Y列からなるCSV形式(カンマ区切り)のデータを入力し、\n",
        "\n",
        "各列を合計値を表示するプログラムを作成せよ。\n",
        "\n",
        "ただし、データの1行目はラベル行とし、\n",
        "\n",
        "合計を求める数値データは2行目～X行目とする。\n",
        "\n",
        "また、入力は1行目がX Y、2行目以降がCSV形式データとする。"
      ],
      "metadata": {
        "id": "5XOByUEoOEh7"
      }
    },
    {
      "cell_type": "markdown",
      "source": [
        "![image.png](data:image/png;base64,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)"
      ],
      "metadata": {
        "id": "AZDRLt6vOX6u"
      }
    }
  ]
}